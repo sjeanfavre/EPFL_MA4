{
  "cells": [
    {
      "cell_type": "markdown",
      "metadata": {
        "id": "gOq4bas_ZYfe"
      },
      "source": [
        "# NML'22 tutorial 1: introduction\n"
      ]
    },
    {
      "cell_type": "markdown",
      "metadata": {
        "id": "m5cpUGNmZYfh"
      },
      "source": [
        "## Content\n",
        "\n",
        "1. [Working with colab](#colab)\n",
        "1. [Python](#python)\n",
        "1. [Scientific Python](#scipy)\n",
        "1. [Ressources to improve your Python skills](#improve)"
      ]
    },
    {
      "cell_type": "markdown",
      "source": [
        "<a name='colab'></a>\n",
        "## 1 Working with colab\n",
        "[Jupyter notebooks](https://docs.jupyter.org/en/latest/) allow to mix text, math, code, and results (numerical or figures) in a **single document**. It is intended for interactive computing and is very useful to explore data, teach concepts, create reports. Code can be written in many programming languages, including Python, Julia, R, MATLAB, C++."
      ],
      "metadata": {
        "id": "I6E7UssLdARS"
      }
    },
    {
      "cell_type": "markdown",
      "metadata": {
        "id": "G88FJF33ZYft"
      },
      "source": [
        "### Markdown text (and Latex math)\n",
        "\n",
        "A list:\n",
        "\n",
        "* item\n",
        "* item\n",
        "\n",
        "Text in a paragraph. Text can be *italic*, **bold**, `verbatim`. We can define [hyperlinks](https://moodle.epfl.ch/course/view.php?id=16943#section-1).\n",
        "\n",
        "A numbered list:\n",
        "\n",
        "1. item\n",
        "1. item\n",
        "\n",
        "Some inline math: $x = \\frac12$\n",
        "\n",
        "Some display math:\n",
        "$$ f(x) = \\frac{e^{-x}}{4} $$"
      ]
    },
    {
      "cell_type": "markdown",
      "metadata": {
        "id": "ZP9nFEjXZYft"
      },
      "source": [
        "### Code and results"
      ]
    },
    {
      "cell_type": "code",
      "execution_count": null,
      "metadata": {
        "id": "05k5KS-ZZYft"
      },
      "outputs": [],
      "source": [
        "20 / 100 * 30"
      ]
    },
    {
      "cell_type": "markdown",
      "metadata": {
        "id": "eafbnHLSZYft"
      },
      "source": [
        "### Inline figures"
      ]
    },
    {
      "cell_type": "code",
      "execution_count": null,
      "metadata": {
        "id": "GCwt3A_CZYft"
      },
      "outputs": [],
      "source": [
        "%matplotlib inline\n",
        "\n",
        "import numpy as np\n",
        "import matplotlib.pyplot as plt\n",
        "\n",
        "y = np.random.uniform(size=100)\n",
        "plt.plot(y);"
      ]
    },
    {
      "cell_type": "markdown",
      "source": [
        "### Manage runtime\n",
        "\n",
        "<img src='https://drive.google.com/uc?id=1dDT4eK7VNyRsZAUki9LE1B57zLldgWlX' width=\"600\">\n",
        "\n",
        "\n"
      ],
      "metadata": {
        "id": "EUns1eWRfTD5"
      }
    },
    {
      "cell_type": "markdown",
      "source": [
        "### Installing libraries\n",
        "\n",
        "\n",
        "*   Most of the libraries required for the course are already installed in the colab environment. \n",
        "*   In case needed, we will provide for each tutorial and assignment the code for installing missing libraries on colab\n",
        " \n",
        "\n"
      ],
      "metadata": {
        "id": "wpVjNhX6Xg6G"
      }
    },
    {
      "cell_type": "markdown",
      "source": [
        "### Saving and Submitting assignments\n",
        "\n",
        "\n",
        "*   When uploading a notebook to colab a copy is created in your google drive under the **Colab Notebooks** folder. You can share the notebook for collaborative work. \n",
        "*   When done, download the notebook (.ipynb file) to your local machine and submit it through [Moodle](https://moodle.epfl.ch/course/view.php?id=16943).\n",
        "\n",
        "\n"
      ],
      "metadata": {
        "id": "PS5J9dCipCf3"
      }
    },
    {
      "cell_type": "markdown",
      "metadata": {
        "id": "DA8_zFX6ZYfo"
      },
      "source": [
        "<a name='python'></a>\n",
        "## 2 Python\n",
        "\n",
        "[Python](https://python.org) is one of the main programming languages used by data scientists, along [R](https://www.r-project.org) and [Julia](https://julialang.org). As an open and general purpose language, it is replacing [MATLAB](https://mathworks.com/products/matlab.html) in many scientific and engineering fields. Python is the most popular language used for machine learning.\n",
        "\n",
        "Below are very basic examples of Python code. **Want to learn more?** Look at the [Python Tutorial](https://docs.python.org/3/tutorial/index.html)."
      ]
    },
    {
      "cell_type": "markdown",
      "metadata": {
        "id": "f-IR1JHfZYfo"
      },
      "source": [
        "### Control flow"
      ]
    },
    {
      "cell_type": "code",
      "execution_count": null,
      "metadata": {
        "id": "_CwvfzOkZYfo"
      },
      "outputs": [],
      "source": [
        "if 1 == 1:\n",
        "    print('hello')"
      ]
    },
    {
      "cell_type": "code",
      "execution_count": null,
      "metadata": {
        "id": "yEYxSsRlZYfo"
      },
      "outputs": [],
      "source": [
        "for i in range(5):\n",
        "    print(i)"
      ]
    },
    {
      "cell_type": "code",
      "execution_count": null,
      "metadata": {
        "id": "sDFfWScpZYfp"
      },
      "outputs": [],
      "source": [
        "a = 4\n",
        "while a > 2:\n",
        "    print(a)\n",
        "    a -= 1"
      ]
    },
    {
      "cell_type": "markdown",
      "metadata": {
        "id": "hENJVZauZYfp"
      },
      "source": [
        "### Data structures"
      ]
    },
    {
      "cell_type": "markdown",
      "metadata": {
        "id": "uiA7MqVFZYfp"
      },
      "source": [
        "Lists are mutable, i.e., we can change the objects they store."
      ]
    },
    {
      "cell_type": "code",
      "execution_count": null,
      "metadata": {
        "id": "xnxPkzo-ZYfp"
      },
      "outputs": [],
      "source": [
        "a = [1, 2, 'hello', 3.2]\n",
        "print(a)\n",
        "a[2] = 'world'\n",
        "print(a)"
      ]
    },
    {
      "cell_type": "markdown",
      "metadata": {
        "id": "gDEO4KEHZYfq"
      },
      "source": [
        "Tuples are not mutable."
      ]
    },
    {
      "cell_type": "code",
      "execution_count": null,
      "metadata": {
        "id": "_BHJcK1HZYfq"
      },
      "outputs": [],
      "source": [
        "(1, 2, 'hello')"
      ]
    },
    {
      "cell_type": "markdown",
      "metadata": {
        "id": "yk0kVXuIZYfq"
      },
      "source": [
        "Sets contain unique values."
      ]
    },
    {
      "cell_type": "code",
      "execution_count": null,
      "metadata": {
        "id": "fTpQ6LbYZYfq"
      },
      "outputs": [],
      "source": [
        "a = {1, 2, 3, 3, 4}\n",
        "print(a)\n",
        "print(a.intersection({2, 4, 6}))"
      ]
    },
    {
      "cell_type": "markdown",
      "metadata": {
        "id": "os1fDWnlZYfr"
      },
      "source": [
        "Dictionaries map keys to values."
      ]
    },
    {
      "cell_type": "code",
      "execution_count": null,
      "metadata": {
        "id": "zTr-No4AZYfr"
      },
      "outputs": [],
      "source": [
        "a = {'one': 1, 'two': 2, 'three': 3}\n",
        "a['two']"
      ]
    },
    {
      "cell_type": "markdown",
      "metadata": {
        "id": "TfzJPyaBZYfr"
      },
      "source": [
        "### Functions"
      ]
    },
    {
      "cell_type": "code",
      "execution_count": null,
      "metadata": {
        "id": "Yp9WLdjCZYfr"
      },
      "outputs": [],
      "source": [
        "def add(a, b):\n",
        "    return a + b\n",
        "\n",
        "add(1, 4)"
      ]
    },
    {
      "cell_type": "markdown",
      "metadata": {
        "id": "aCS4yEtBZYfr"
      },
      "source": [
        "### Classes"
      ]
    },
    {
      "cell_type": "code",
      "execution_count": null,
      "metadata": {
        "id": "-FzqWolPZYfr"
      },
      "outputs": [],
      "source": [
        "class A:\n",
        "    d = 10\n",
        "    \n",
        "    def add(self, c):\n",
        "        return self.d + c\n",
        "\n",
        "a = A()\n",
        "a.add(20)"
      ]
    },
    {
      "cell_type": "code",
      "execution_count": null,
      "metadata": {
        "id": "e6frRVGuZYfs"
      },
      "outputs": [],
      "source": [
        "class B(A):\n",
        "    def sub(self, c):\n",
        "        return self.d - c\n",
        "\n",
        "b = B()\n",
        "print(b.add(20))\n",
        "print(b.sub(20))"
      ]
    },
    {
      "cell_type": "markdown",
      "metadata": {
        "id": "Od7QGc3mZYfs"
      },
      "source": [
        "### Dynamic typing"
      ]
    },
    {
      "cell_type": "code",
      "execution_count": null,
      "metadata": {
        "id": "R5Dnof--ZYfs"
      },
      "outputs": [],
      "source": [
        "x = 1\n",
        "x = 'abc'\n",
        "x"
      ]
    },
    {
      "cell_type": "code",
      "execution_count": null,
      "metadata": {
        "id": "kUSuAdXJZYfs"
      },
      "outputs": [],
      "source": [
        "add('hel', 'lo')"
      ]
    },
    {
      "cell_type": "code",
      "execution_count": null,
      "metadata": {
        "id": "1BPZhBymZYfs"
      },
      "outputs": [],
      "source": [
        "add([1, 2], [3, 4, 5])"
      ]
    },
    {
      "cell_type": "code",
      "execution_count": null,
      "metadata": {
        "id": "6RykWLFkZYfs"
      },
      "outputs": [],
      "source": [
        "print(int('120') + 10)\n",
        "print(str(120) + ' items')"
      ]
    },
    {
      "cell_type": "markdown",
      "metadata": {
        "id": "jyfw1Al9ZYfu"
      },
      "source": [
        "<a name='scipy'></a>\n",
        "## 3 Scientific Python\n",
        "\n",
        "Below are the basic packages used for scientific computing and data science.\n",
        "* [NumPy](https://www.numpy.org): N-dimensional arrays\n",
        "* [SciPy](https://scipy.org/): scientific computing\n",
        "* [matplotlib](https://matplotlib.org): powerful visualization\n",
        "* [pandas](https://pandas.pydata.org): data analysis\n",
        "\n",
        "**Want to learn more?** Look at the [Scipy Lecture Notes](https://scipy-lectures.org/).\n",
        "\n",
        "Finally, the below packages will be useful to work with networks and graphs.\n",
        "* [NetworkX](https://networkx.github.io): network science\n",
        "* [graph-tool](https://graph-tool.skewed.de): network science\n",
        "* [scikit-learn](https://scikit-learn.org): graph embedding (dimensionality reduction)\n",
        "* [PyGSP](https://github.com/epfl-lts2/pygsp): graph signal processing\n",
        "* [Deep Graph Library](https://www.dgl.ai): deep learning on graphs with [PyTorch](https://pytorch.org)"
      ]
    },
    {
      "cell_type": "markdown",
      "metadata": {
        "id": "bycRTzRxZYfu"
      },
      "source": [
        "<a name='improve'></a>\n",
        "## 4 Ressources to improve your Python skills (for experienced Python users)\n",
        "\n",
        "We provide a non exhaustive list of tools and concepts that can help you improve your Python coding skills.\n",
        "They are by no means things that you need to master immediately.\n",
        "\n",
        "* Numpy and pytorch indexing and broadcasting rules.\n",
        "  They take some time to understand, but are really essential.\n",
        "  They will help you avoid writing loops, which are considerably slower and sometimes memory inefficient.\n",
        "  * <https://numpy.org/devdocs/user/basics.indexing.html#basics-indexing>\n",
        "  * <https://numpy.org/devdocs/user/basics.broadcasting.html>\n",
        "  * <https://numpy.org/devdocs/user/theory.broadcasting.html>\n",
        "  * <https://pytorch.org/docs/stable/notes/broadcasting.html>\n",
        "\n",
        "\n",
        "* Some common Python built-in functions.\n",
        "  * [`enumerate`](https://docs.python.org/3/library/functions.html#enumerate)\n",
        "  * [`zip`](https://docs.python.org/3/library/functions.html#zip)\n",
        "  * [`itertools.product`](https://docs.python.org/3/library/itertools.html#itertools.product)\n",
        "\n",
        "\n",
        "* Scipy functions.\n",
        "  * `pdist` and `cdist` are considerably faster than loops to compute pairwise distances between objects (e.g., to build a nearest neighbors graph).\n",
        "    * <https://docs.scipy.org/doc/scipy/reference/generated/scipy.spatial.distance.pdist.html>\n",
        "    * <https://docs.scipy.org/doc/scipy/reference/generated/scipy.spatial.distance.cdist.html>\n",
        "\n",
        "\n",
        "* Object-oriented programming.\n",
        "  * Classes.\n",
        "    * <https://towardsdatascience.com/object-oriented-programming-for-data-scientists-build-your-ml-estimator-7da416751f64>\n",
        "    * Read the source code of libraries you commonly use, and try to understand how they organize it. In particular, we advise you to write your methods as in the scikit-learn API.\n",
        "    * <https://docs.python.org/3/tutorial/classes.html>\n",
        "  * Inheritance.\n",
        "    When you implement different models that have the same role (such as different machine learning classifiers), base methods allow you to avoid writing the same code several times.\n",
        "    * <https://docs.python.org/3/tutorial/classes.html>\n",
        "  * Abstract methods.\n",
        "    They allow you to tell which methods subclassses (of the base class) should implement.\n",
        "    * <https://www.geeksforgeeks.org/abstract-classes-in-python>\n",
        "    * <https://docs.python.org/3/library/abc.html>\n",
        "\n",
        "\n",
        "* Google python style guide.\n",
        "  Not essential, but following these rules make things easier when you work in a group.\n",
        "  * <https://github.com/google/styleguide/blob/gh-pages/pyguide.md>\n",
        " \n",
        "\n",
        "* Unit tests.\n",
        "  * <https://medium.com/@keeper6928/how-to-unit-test-machine-learning-code-57cf6fd81765>\n",
        "  * <https://docs.python.org/3/library/unittest.html>"
      ]
    }
  ],
  "metadata": {
    "kernelspec": {
      "display_name": "Python 3",
      "language": "python",
      "name": "python3"
    },
    "language_info": {
      "codemirror_mode": {
        "name": "ipython",
        "version": 3
      },
      "file_extension": ".py",
      "mimetype": "text/x-python",
      "name": "python",
      "nbconvert_exporter": "python",
      "pygments_lexer": "ipython3",
      "version": "3.7.3"
    },
    "colab": {
      "name": "01_introduction.ipynb",
      "provenance": [],
      "collapsed_sections": []
    }
  },
  "nbformat": 4,
  "nbformat_minor": 0
}