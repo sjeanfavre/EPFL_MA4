{
 "cells": [
  {
   "cell_type": "markdown",
   "id": "d5c30375",
   "metadata": {},
   "source": [
    "# Tutorial 2: Tools for spectral graph theory and graph signal processing\n",
    "\n"
   ]
  },
  {
   "cell_type": "markdown",
   "id": "a7dab50d",
   "metadata": {},
   "source": [
    "## Tools\n",
    "\n",
    "#### Basemap installation\n",
    "\n",
    "We will need a package called [basemap](https://basemaptutorial.readthedocs.io/en/latest/) that provides a map of earth. This package can be installed in a conda environment by running:"
   ]
  },
  {
   "cell_type": "code",
   "execution_count": 2,
   "id": "54dfe2a8",
   "metadata": {},
   "outputs": [],
   "source": [
    "#!conda install -c conda-forge basemap"
   ]
  },
  {
   "cell_type": "code",
   "execution_count": 3,
   "id": "255b76a6",
   "metadata": {},
   "outputs": [],
   "source": [
    "# After installing the package, the following lines may be needed\n",
    "\n",
    "import os\n",
    "import conda\n",
    "conda_file_dir = conda.__file__\n",
    "conda_dir = conda_file_dir.split('lib')[0]\n",
    "proj_lib = os.path.join(os.path.join(conda_dir, 'share'), 'proj')\n",
    "os.environ[\"PROJ_LIB\"] = proj_lib"
   ]
  },
  {
   "cell_type": "markdown",
   "id": "9d03267a",
   "metadata": {},
   "source": [
    "We will need other packages as well: try all these imports and install the relevant packages if they fail:"
   ]
  },
  {
   "cell_type": "code",
   "execution_count": 1,
   "id": "d63389e3",
   "metadata": {},
   "outputs": [],
   "source": [
    "import pandas as pd\n",
    "import networkx as nx\n",
    "import numpy as np\n",
    "import matplotlib.pyplot as plt\n",
    "\n",
    "#from mpl_toolkits.basemap import Basemap\n",
    "from sklearn.cluster import KMeans\n",
    "\n",
    "import pygsp\n",
    "from pygsp.graphs import Bunny\n",
    "from mpl_toolkits.mplot3d import Axes3D # as Axes3d\n",
    "\n",
    "import pygsp.graphs\n",
    "import numpy as np\n",
    "import numpy.linalg as LA\n",
    "import numpy.random as npr\n",
    "import matplotlib.pyplot as plt"
   ]
  },
  {
   "cell_type": "markdown",
   "id": "f8f57828",
   "metadata": {},
   "source": [
    "## Python tips\n",
    "\n",
    "#### In place modifications\n",
    "\n",
    "Be careful with in-place changes, there are a major source of bug in numpy/pytorch."
   ]
  },
  {
   "cell_type": "code",
   "execution_count": 2,
   "id": "f9eff96a",
   "metadata": {},
   "outputs": [
    {
     "name": "stdout",
     "output_type": "stream",
     "text": [
      "Case 1\n",
      "x has changed\n",
      "\n",
      "Case 2\n",
      "x has not changed\n",
      "\n",
      "Case 3: this is a very common source of bug with numpy/pytorch.\n",
      "x has not changed\n",
      "\n",
      "Case 4\n",
      "x has changed\n"
     ]
    }
   ],
   "source": [
    "# This cell contains examples for the consequences of in-place array modification\n",
    "\n",
    "class MyClass():\n",
    "    def __init__(self, x):\n",
    "        self.old = x\n",
    "        \n",
    "    def has_changed(self, x):\n",
    "        print(\"x has not changed\" if np.all(self.old == x) else \"x has changed\")\n",
    "            \n",
    "            \n",
    "class MyClassWithCopy():\n",
    "    def __init__(self, x):\n",
    "        self.old = x.copy()\n",
    "        \n",
    "    def has_changed(self, x):\n",
    "        print(\"x has not changed\" if np.all(self.old == x) else \"x has changed\")\n",
    "\n",
    "            \n",
    "print(\"Case 1\")\n",
    "x = np.arange(3)\n",
    "c = MyClass(x)\n",
    "x = x + 1             # x is not changed in place\n",
    "c.has_changed(x)\n",
    "print()\n",
    "\n",
    "print(\"Case 2\")\n",
    "x = np.arange(3)\n",
    "c = MyClass(x)\n",
    "x += 1                # x is changed in place\n",
    "c.has_changed(x)\n",
    "print()\n",
    "\n",
    "print(\"Case 3: this is a very common source of bug with numpy/pytorch.\")\n",
    "x = np.arange(3)\n",
    "c = MyClass(x)\n",
    "mask = np.array([True, False, True], dtype=bool)               \n",
    "x[mask] = 0                                           # masks are in-place modifications as well\n",
    "c.has_changed(x)\n",
    "print()\n",
    "\n",
    "print(\"Case 4\")\n",
    "x = np.arange(3)\n",
    "c = MyClassWithCopy(x)\n",
    "mask = np.array([True, False, True], dtype=bool)               \n",
    "x[mask] = 0                                           # masks are in-place modifications as well\n",
    "c.has_changed(x)"
   ]
  },
  {
   "cell_type": "markdown",
   "id": "dc53d21a",
   "metadata": {},
   "source": [
    "## Eigendecomposition\n",
    "\n",
    "*Oral question 1: Why is eigendecomposition so important?*\n",
    "\n",
    "\n",
    "Eigendecomposition is an expensive operation with $O(n^3)$ complexity. Several solvers exist to compute it.\n",
    "\n",
    "  - np.linalg.eig for general matrices (returns complex numbers)\n",
    "  - np.linalg.eigh for symmetric matrices\n",
    "  - scipy.sparse.linalg.eigsh: only compute a predefined number of eigenvectors. Can be used for sparse matrices."
   ]
  },
  {
   "cell_type": "code",
   "execution_count": 3,
   "id": "d2b91f65",
   "metadata": {},
   "outputs": [],
   "source": [
    "import time\n",
    "import numpy as np\n",
    "import numpy.linalg as LA\n",
    "import scipy.sparse.linalg as sLA\n",
    "import numpy.random as npr"
   ]
  },
  {
   "cell_type": "markdown",
   "id": "232078c3",
   "metadata": {},
   "source": [
    "We start by generating a random graph."
   ]
  },
  {
   "cell_type": "code",
   "execution_count": 4,
   "id": "e58d744f",
   "metadata": {},
   "outputs": [
    {
     "name": "stdout",
     "output_type": "stream",
     "text": [
      "Average degree: 24.8112\n"
     ]
    }
   ],
   "source": [
    "n = 2500\n",
    "A = np.abs(npr.randn(n, n))\n",
    "A = A + A.T                       # Make the adjacency matrix symmetric\n",
    "mask = npr.random((n, n)) < 0.90\n",
    "                  \n",
    "A[mask] = 0\n",
    "A[mask.T] = 0\n",
    "A[np.eye(n, dtype=bool)] = 0\n",
    "\n",
    "print(\"Average degree:\", (A>0).sum() / n)"
   ]
  },
  {
   "cell_type": "code",
   "execution_count": 5,
   "id": "e9b3d810",
   "metadata": {},
   "outputs": [
    {
     "name": "stdout",
     "output_type": "stream",
     "text": [
      "Time for eig 8.68423581123352 s\n",
      "Time for eigh 2.1303601264953613 s\n",
      "Time for eigsh 0.5855216979980469 s\n"
     ]
    }
   ],
   "source": [
    "start = time.time()\n",
    "w, v = LA.eig(A)\n",
    "t = time.time()\n",
    "print(\"Time for eig\", t - start, \"s\")\n",
    "\n",
    "w2, v2 = LA.eigh(A)\n",
    "t2 = time.time()\n",
    "print(\"Time for eigh\", t2 - t, \"s\")\n",
    "\n",
    "\n",
    "w3, v3 = sLA.eigsh(A, k=5)\n",
    "t3 = time.time()\n",
    "print(\"Time for eigsh\", t3 - t2, \"s\")"
   ]
  },
  {
   "cell_type": "markdown",
   "id": "15dbf494",
   "metadata": {},
   "source": [
    "## How to build a good similarity graph?\n",
    "\n",
    "Setting: we would like to apply graph-based methods to a dataset $(x_i)_{i \\leq n}$ of points in $\\mathbb R^d$.\n",
    "\n",
    "*Oral question 2: What could be possible motivations for using graph-based methods when no graph is readily available?*\n",
    "\n",
    "There are two standard methods for building a similarity graph:\n",
    "  - nearest neighbors (mutual or not).\n",
    "  - $\\epsilon$-neighborhood graph.\n",
    "For neighborhood graphs, a radial basis function (=gaussian kernel) is usually applied on the distance between points. There are two parameters to tune: the width of the kernel, and the threshold on the values to make the graph sparse."
   ]
  },
  {
   "cell_type": "code",
   "execution_count": 6,
   "id": "94be8b6d",
   "metadata": {},
   "outputs": [],
   "source": [
    "from pygsp.graphs import TwoMoons\n",
    "import matplotlib.pyplot as plt\n",
    "from scipy.spatial.distance import pdist, squareform\n",
    "import numpy as np"
   ]
  },
  {
   "cell_type": "code",
   "execution_count": 7,
   "id": "1ef1f8bc",
   "metadata": {},
   "outputs": [
    {
     "data": {
      "image/png": "[encoded data removed]",
      "text/plain": [
       "<Figure size 432x288 with 1 Axes>"
      ]
     },
     "metadata": {
      "needs_background": "light"
     },
     "output_type": "display_data"
    }
   ],
   "source": [
    "g = TwoMoons(dim=2, N=500)\n",
    "X = g.coords\n",
    "dist_matrix = squareform(pdist(X))\n",
    "\n",
    "plt.figure()\n",
    "plt.scatter(X[:, 0], X[:, 1])\n",
    "plt.title(\"Two moons\")\n",
    "plt.show()"
   ]
  },
  {
   "cell_type": "code",
   "execution_count": 8,
   "id": "c2fde0c1",
   "metadata": {},
   "outputs": [],
   "source": [
    "def rbf(dist_matrix, sigma=1, epsilon=0):\n",
    "    k = np.exp(- dist_matrix ** 2 / (2 * sigma ** 2))\n",
    "    k[k < epsilon] = 0\n",
    "    return k"
   ]
  },
  {
   "cell_type": "markdown",
   "id": "db2529be",
   "metadata": {},
   "source": [
    "*Oral question 3: how to tune $\\epsilon$ and $\\sigma$?*\n",
    "\n",
    "$\\sigma$ should be tuned starting from a \"typical distance in the graph\".\n",
    "\n",
    "First try:"
   ]
  },
  {
   "cell_type": "code",
   "execution_count": 9,
   "id": "74b8894f",
   "metadata": {},
   "outputs": [
    {
     "name": "stdout",
     "output_type": "stream",
     "text": [
      "0.6087644003718695\n"
     ]
    },
    {
     "data": {
      "image/png": "[encoded data removed]",
      "text/plain": [
       "<Figure size 432x288 with 1 Axes>"
      ]
     },
     "metadata": {
      "needs_background": "light"
     },
     "output_type": "display_data"
    }
   ],
   "source": [
    "sigma = np.mean(dist_matrix)\n",
    "\n",
    "W = rbf(dist_matrix, sigma)\n",
    "\n",
    "flattened = W.flatten()\n",
    "plt.hist(W.flatten(), bins=int(2*np.sqrt(len(flattened))))\n",
    "\n",
    "print(W.mean())"
   ]
  },
  {
   "cell_type": "markdown",
   "id": "46c5cb7e",
   "metadata": {},
   "source": [
    "The average edge weight is way too large, the resulting graph will not be sparse. Instead, we can use as a typical distance the average distance to a $k$-hop neighbor ($k$ needs to be tuned)."
   ]
  },
  {
   "cell_type": "code",
   "execution_count": 10,
   "id": "5640c80b",
   "metadata": {},
   "outputs": [
    {
     "name": "stdout",
     "output_type": "stream",
     "text": [
      "0.6087644003718695\n",
      "[[0.         0.12106056 0.1461562  ... 5.25751357 5.30417723 5.34239718]\n",
      " [0.         0.02446644 0.03251015 ... 4.73341679 4.75191197 4.75195761]\n",
      " [0.         0.01685085 0.0463477  ... 5.22131449 5.22530499 5.29165259]\n",
      " ...\n",
      " [0.         0.09332698 0.13197994 ... 5.00388421 5.02181884 5.2572256 ]\n",
      " [0.         0.03902727 0.0594045  ... 4.34191443 4.42234927 4.62357438]\n",
      " [0.         0.02742077 0.04734576 ... 4.45592888 4.59557098 4.74260789]]\n",
      "1 nearest neighbor 0.8233352613218079\n",
      "2 0.693255619473764\n",
      "5 0.43621094700448737\n",
      "10 0.21814395640343112\n",
      "30 0.01741590056988827\n"
     ]
    }
   ],
   "source": [
    "print(np.mean(W))\n",
    "srted = np.sort(dist_matrix, axis=1)\n",
    "print(srted)\n",
    "ten_neighbor = srted[:, 10]\n",
    "sigma = 0.5 * np.mean(ten_neighbor)      # The 0.5 is tuned afterwards, to have values that we like\n",
    "\n",
    "\n",
    "W = rbf(dist_matrix, sigma)\n",
    "\n",
    "\n",
    "srted = np.sort(W, axis=1)\n",
    "ten_neighbor = srted[:, 10]\n",
    "print(\"1 nearest neighbor\", np.mean(srted[:, -2]))\n",
    "print(\"2\", np.mean(srted[:, -3]))\n",
    "print(\"5\", np.mean(srted[:, -6]))\n",
    "print(\"10\", np.mean(srted[:, -11]))\n",
    "print(\"30\", np.mean(srted[:, -31]))"
   ]
  },
  {
   "cell_type": "markdown",
   "id": "2002f5b8",
   "metadata": {},
   "source": [
    "$\\epsilon$ is simply tuned based on the degree of sparsity that we have in the network:"
   ]
  },
  {
   "cell_type": "code",
   "execution_count": null,
   "id": "91565c42-1a3c-40b6-98c7-89ac95fa6a70",
   "metadata": {},
   "outputs": [],
   "source": []
  }
 ],
 "metadata": {
  "kernelspec": {
   "display_name": "Python 3 (ipykernel)",
   "language": "python",
   "name": "python3"
  },
  "language_info": {
   "codemirror_mode": {
    "name": "ipython",
    "version": 3
   },
   "file_extension": ".py",
   "mimetype": "text/x-python",
   "name": "python",
   "nbconvert_exporter": "python",
   "pygments_lexer": "ipython3",
   "version": "3.8.5"
  }
 },
 "nbformat": 4,
 "nbformat_minor": 5
}
