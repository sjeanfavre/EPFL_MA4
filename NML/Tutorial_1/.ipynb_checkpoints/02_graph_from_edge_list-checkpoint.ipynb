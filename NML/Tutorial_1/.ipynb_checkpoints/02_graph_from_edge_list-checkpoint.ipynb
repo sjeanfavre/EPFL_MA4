{
 "cells": [
  {
   "cell_type": "markdown",
   "metadata": {
    "id": "0QuZxVyDVkD7"
   },
   "source": [
    "# NML'22 tutorial 2: build a graph from an edge list\n",
    "\n",
    "* Dataset: [Open Tree of Life](https://tree.opentreeoflife.org)\n",
    "* Tools: [pandas](https://pandas.pydata.org), [numpy](http://www.numpy.org), [networkx](https://networkx.github.io), [gephi](https://gephi.org/)"
   ]
  },
  {
   "cell_type": "markdown",
   "metadata": {
    "id": "LeSal4cxVkD_"
   },
   "source": [
    "## Tools"
   ]
  },
  {
   "cell_type": "markdown",
   "metadata": {
    "id": "0XL4no3nVkD_"
   },
   "source": [
    "By convention, the first lines of code are always about importing the packages we'll use."
   ]
  },
  {
   "cell_type": "code",
   "execution_count": 1,
   "metadata": {
    "id": "DmuP207tVkEA"
   },
   "outputs": [],
   "source": [
    "import pandas as pd\n",
    "import numpy as np\n",
    "import networkx as nx"
   ]
  },
  {
   "cell_type": "markdown",
   "metadata": {
    "id": "cp92yqZuVkEB"
   },
   "source": [
    "Tutorials on pandas can be found at:\n",
    "* <https://pandas.pydata.org/pandas-docs/stable/10min.html>\n",
    "* <https://pandas.pydata.org/pandas-docs/stable/tutorials.html>\n",
    "\n",
    "Tutorials on numpy can be found at:\n",
    "* <https://docs.scipy.org/doc/numpy/user/quickstart.html>\n",
    "* <http://www.scipy-lectures.org/intro/numpy/index.html>\n",
    "* <http://www.scipy-lectures.org/advanced/advanced_numpy/index.html>\n",
    "\n",
    "A tutorial on networkx can be found at:\n",
    "* <https://networkx.github.io/documentation/stable/tutorial.html>"
   ]
  },
  {
   "cell_type": "markdown",
   "metadata": {
    "id": "uPDwkFVMVkEC"
   },
   "source": [
    "## Import the data\n",
    "\n",
    "We will play with a partial segment of the Tree of Life, that can be found together with this notebook. This dataset is reduced to the first 1000 taxons (starting from the root node). The full version is available here: [Open Tree of Life](https://tree.opentreeoflife.org/about/taxonomy-version/ott3.0).\n",
    "\n",
    "![Public domain, https://en.wikipedia.org/wiki/File:Phylogenetic_tree.svg](https://upload.wikimedia.org/wikipedia/commons/thumb/7/70/Phylogenetic_tree.svg/800px-Phylogenetic_tree.svg.png)"
   ]
  },
  {
   "cell_type": "code",
   "execution_count": 2,
   "metadata": {
    "colab": {
     "base_uri": "https://localhost:8080/"
    },
    "id": "bVilLY23sBVu",
    "outputId": "92a5be18-8919-4d22-ac4d-24a0784541d0"
   },
   "outputs": [
    {
     "name": "stdout",
     "output_type": "stream",
     "text": [
      "Mounted at /content/drive\n"
     ]
    }
   ],
   "source": [
    "from google.colab import drive\n",
    "drive.mount('/content/drive')"
   ]
  },
  {
   "cell_type": "markdown",
   "metadata": {
    "id": "kktMZLLNtNg2"
   },
   "source": [
    "Put the data folder on your Gdrive, in the Colab Notebooks folder"
   ]
  },
  {
   "cell_type": "code",
   "execution_count": 2,
   "metadata": {
    "id": "pE6wNvIkVkEC"
   },
   "outputs": [],
   "source": [
    "tree_of_life = pd.read_csv('./data/taxonomy_small.tsv', sep='\\t\\|\\t?', encoding='utf-8', engine='python')"
   ]
  },
  {
   "cell_type": "markdown",
   "metadata": {
    "id": "H49vyp8_VkED"
   },
   "source": [
    "If you do not remember the details of a function:"
   ]
  },
  {
   "cell_type": "code",
   "execution_count": null,
   "metadata": {
    "id": "Ep8TLbPwVkED"
   },
   "outputs": [],
   "source": [
    "pd.read_csv?"
   ]
  },
  {
   "cell_type": "markdown",
   "metadata": {
    "id": "Gyb1aS5rVkEE"
   },
   "source": [
    "For more info on the separator, see [regex](https://docs.python.org/3.6/library/re.html)."
   ]
  },
  {
   "cell_type": "markdown",
   "metadata": {
    "id": "sasPWDvkVkEE"
   },
   "source": [
    "Now, what is the object `tree_of_life`? It is a Pandas DataFrame."
   ]
  },
  {
   "cell_type": "code",
   "execution_count": 4,
   "metadata": {
    "colab": {
     "base_uri": "https://localhost:8080/",
     "height": 468
    },
    "id": "EgV1R1OwVkEE",
    "outputId": "2efdda6e-e870-4b66-b3c3-1462ba7903eb"
   },
   "outputs": [
    {
     "data": {
      "text/html": [
       "<div>\n",
       "<style scoped>\n",
       "    .dataframe tbody tr th:only-of-type {\n",
       "        vertical-align: middle;\n",
       "    }\n",
       "\n",
       "    .dataframe tbody tr th {\n",
       "        vertical-align: top;\n",
       "    }\n",
       "\n",
       "    .dataframe thead th {\n",
       "        text-align: right;\n",
       "    }\n",
       "</style>\n",
       "<table border=\"1\" class=\"dataframe\">\n",
       "  <thead>\n",
       "    <tr style=\"text-align: right;\">\n",
       "      <th></th>\n",
       "      <th>uid</th>\n",
       "      <th>parent_uid</th>\n",
       "      <th>name</th>\n",
       "      <th>rank</th>\n",
       "      <th>sourceinfo</th>\n",
       "      <th>uniqname</th>\n",
       "      <th>flags</th>\n",
       "      <th>Unnamed: 7</th>\n",
       "    </tr>\n",
       "  </thead>\n",
       "  <tbody>\n",
       "    <tr>\n",
       "      <th>0</th>\n",
       "      <td>805080</td>\n",
       "      <td>NaN</td>\n",
       "      <td>life</td>\n",
       "      <td>no rank</td>\n",
       "      <td>silva:0,ncbi:1,worms:1,gbif:0,irmng:0</td>\n",
       "      <td>NaN</td>\n",
       "      <td>NaN</td>\n",
       "      <td>NaN</td>\n",
       "    </tr>\n",
       "    <tr>\n",
       "      <th>1</th>\n",
       "      <td>93302</td>\n",
       "      <td>805080.0</td>\n",
       "      <td>cellular organisms</td>\n",
       "      <td>no rank</td>\n",
       "      <td>ncbi:131567</td>\n",
       "      <td>NaN</td>\n",
       "      <td>NaN</td>\n",
       "      <td>NaN</td>\n",
       "    </tr>\n",
       "    <tr>\n",
       "      <th>2</th>\n",
       "      <td>996421</td>\n",
       "      <td>93302.0</td>\n",
       "      <td>Archaea</td>\n",
       "      <td>domain</td>\n",
       "      <td>silva:D37982/#1,ncbi:2157,worms:8,gbif:2,irmng:12</td>\n",
       "      <td>Archaea (domain silva:D37982/#1)</td>\n",
       "      <td>NaN</td>\n",
       "      <td>NaN</td>\n",
       "    </tr>\n",
       "    <tr>\n",
       "      <th>3</th>\n",
       "      <td>5246114</td>\n",
       "      <td>996421.0</td>\n",
       "      <td>Marine Hydrothermal Vent Group 1(MHVG-1)</td>\n",
       "      <td>no rank - terminal</td>\n",
       "      <td>silva:AB302039/#2</td>\n",
       "      <td>NaN</td>\n",
       "      <td>NaN</td>\n",
       "      <td>NaN</td>\n",
       "    </tr>\n",
       "    <tr>\n",
       "      <th>4</th>\n",
       "      <td>102415</td>\n",
       "      <td>996421.0</td>\n",
       "      <td>Thaumarchaeota</td>\n",
       "      <td>phylum</td>\n",
       "      <td>silva:D87348/#2,ncbi:651137,worms:559429,irmng...</td>\n",
       "      <td>NaN</td>\n",
       "      <td>NaN</td>\n",
       "      <td>NaN</td>\n",
       "    </tr>\n",
       "  </tbody>\n",
       "</table>\n",
       "</div>"
      ],
      "text/plain": [
       "       uid  parent_uid                                      name  \\\n",
       "0   805080         NaN                                      life   \n",
       "1    93302    805080.0                        cellular organisms   \n",
       "2   996421     93302.0                                   Archaea   \n",
       "3  5246114    996421.0  Marine Hydrothermal Vent Group 1(MHVG-1)   \n",
       "4   102415    996421.0                            Thaumarchaeota   \n",
       "\n",
       "                 rank                                         sourceinfo  \\\n",
       "0             no rank              silva:0,ncbi:1,worms:1,gbif:0,irmng:0   \n",
       "1             no rank                                        ncbi:131567   \n",
       "2              domain  silva:D37982/#1,ncbi:2157,worms:8,gbif:2,irmng:12   \n",
       "3  no rank - terminal                                  silva:AB302039/#2   \n",
       "4              phylum  silva:D87348/#2,ncbi:651137,worms:559429,irmng...   \n",
       "\n",
       "                           uniqname flags  Unnamed: 7  \n",
       "0                               NaN   NaN         NaN  \n",
       "1                               NaN   NaN         NaN  \n",
       "2  Archaea (domain silva:D37982/#1)   NaN         NaN  \n",
       "3                               NaN   NaN         NaN  \n",
       "4                               NaN   NaN         NaN  "
      ]
     },
     "execution_count": 4,
     "metadata": {},
     "output_type": "execute_result"
    }
   ],
   "source": [
    "tree_of_life.head()"
   ]
  },
  {
   "cell_type": "markdown",
   "metadata": {
    "id": "DvjpGM8TVkEF"
   },
   "source": [
    "The description of the entries is given here:\n",
    "https://github.com/OpenTreeOfLife/reference-taxonomy/wiki/Interim-taxonomy-file-format"
   ]
  },
  {
   "cell_type": "markdown",
   "metadata": {
    "id": "WLWYVTuHVkEF"
   },
   "source": [
    "## Explore the table"
   ]
  },
  {
   "cell_type": "code",
   "execution_count": 5,
   "metadata": {
    "colab": {
     "base_uri": "https://localhost:8080/"
    },
    "id": "PdW7tpdzVkEF",
    "outputId": "85481451-ed42-4b01-bc2d-384d55596c14"
   },
   "outputs": [
    {
     "data": {
      "text/plain": [
       "Index(['uid', 'parent_uid', 'name', 'rank', 'sourceinfo', 'uniqname', 'flags',\n",
       "       'Unnamed: 7'],\n",
       "      dtype='object')"
      ]
     },
     "execution_count": 5,
     "metadata": {},
     "output_type": "execute_result"
    }
   ],
   "source": [
    "tree_of_life.columns"
   ]
  },
  {
   "cell_type": "markdown",
   "metadata": {
    "id": "WGDE-cosVkEG"
   },
   "source": [
    "Let us drop some columns."
   ]
  },
  {
   "cell_type": "code",
   "execution_count": 6,
   "metadata": {
    "id": "EmzMqE2yVkEG"
   },
   "outputs": [],
   "source": [
    "tree_of_life = tree_of_life.drop(columns=['sourceinfo', 'uniqname', 'flags','Unnamed: 7'])"
   ]
  },
  {
   "cell_type": "code",
   "execution_count": 7,
   "metadata": {
    "colab": {
     "base_uri": "https://localhost:8080/",
     "height": 206
    },
    "id": "aCVjHRPLVkEG",
    "outputId": "747c06ab-8cb3-41b7-d1ea-e89a9b78ab6d"
   },
   "outputs": [
    {
     "data": {
      "text/html": [
       "<div>\n",
       "<style scoped>\n",
       "    .dataframe tbody tr th:only-of-type {\n",
       "        vertical-align: middle;\n",
       "    }\n",
       "\n",
       "    .dataframe tbody tr th {\n",
       "        vertical-align: top;\n",
       "    }\n",
       "\n",
       "    .dataframe thead th {\n",
       "        text-align: right;\n",
       "    }\n",
       "</style>\n",
       "<table border=\"1\" class=\"dataframe\">\n",
       "  <thead>\n",
       "    <tr style=\"text-align: right;\">\n",
       "      <th></th>\n",
       "      <th>uid</th>\n",
       "      <th>parent_uid</th>\n",
       "      <th>name</th>\n",
       "      <th>rank</th>\n",
       "    </tr>\n",
       "  </thead>\n",
       "  <tbody>\n",
       "    <tr>\n",
       "      <th>0</th>\n",
       "      <td>805080</td>\n",
       "      <td>NaN</td>\n",
       "      <td>life</td>\n",
       "      <td>no rank</td>\n",
       "    </tr>\n",
       "    <tr>\n",
       "      <th>1</th>\n",
       "      <td>93302</td>\n",
       "      <td>805080.0</td>\n",
       "      <td>cellular organisms</td>\n",
       "      <td>no rank</td>\n",
       "    </tr>\n",
       "    <tr>\n",
       "      <th>2</th>\n",
       "      <td>996421</td>\n",
       "      <td>93302.0</td>\n",
       "      <td>Archaea</td>\n",
       "      <td>domain</td>\n",
       "    </tr>\n",
       "    <tr>\n",
       "      <th>3</th>\n",
       "      <td>5246114</td>\n",
       "      <td>996421.0</td>\n",
       "      <td>Marine Hydrothermal Vent Group 1(MHVG-1)</td>\n",
       "      <td>no rank - terminal</td>\n",
       "    </tr>\n",
       "    <tr>\n",
       "      <th>4</th>\n",
       "      <td>102415</td>\n",
       "      <td>996421.0</td>\n",
       "      <td>Thaumarchaeota</td>\n",
       "      <td>phylum</td>\n",
       "    </tr>\n",
       "  </tbody>\n",
       "</table>\n",
       "</div>"
      ],
      "text/plain": [
       "       uid  parent_uid                                      name  \\\n",
       "0   805080         NaN                                      life   \n",
       "1    93302    805080.0                        cellular organisms   \n",
       "2   996421     93302.0                                   Archaea   \n",
       "3  5246114    996421.0  Marine Hydrothermal Vent Group 1(MHVG-1)   \n",
       "4   102415    996421.0                            Thaumarchaeota   \n",
       "\n",
       "                 rank  \n",
       "0             no rank  \n",
       "1             no rank  \n",
       "2              domain  \n",
       "3  no rank - terminal  \n",
       "4              phylum  "
      ]
     },
     "execution_count": 7,
     "metadata": {},
     "output_type": "execute_result"
    }
   ],
   "source": [
    "tree_of_life.head()"
   ]
  },
  {
   "cell_type": "markdown",
   "metadata": {
    "id": "E1SoDkd_VkEG"
   },
   "source": [
    "Pandas infered the type of values inside each column (int, float, string and string). The parent_uid column has float values because there was a missing value, converted to `NaN`"
   ]
  },
  {
   "cell_type": "code",
   "execution_count": 8,
   "metadata": {
    "colab": {
     "base_uri": "https://localhost:8080/"
    },
    "id": "7ROeRG4eVkEH",
    "outputId": "ca1fbb98-fb5c-4f12-bb17-20ad111f45d5"
   },
   "outputs": [
    {
     "name": "stdout",
     "output_type": "stream",
     "text": [
      "int64 float64\n"
     ]
    }
   ],
   "source": [
    "print(tree_of_life['uid'].dtype, tree_of_life.parent_uid.dtype)"
   ]
  },
  {
   "cell_type": "markdown",
   "metadata": {
    "id": "s5JqKq5-VkEH"
   },
   "source": [
    "How to access individual values."
   ]
  },
  {
   "cell_type": "code",
   "execution_count": 15,
   "metadata": {
    "colab": {
     "base_uri": "https://localhost:8080/",
     "height": 35
    },
    "id": "rxTFUgApVkEH",
    "outputId": "c0e3db19-285e-4b0f-8e1c-318c5150e8bb"
   },
   "outputs": [
    {
     "data": {
      "application/vnd.google.colaboratory.intrinsic+json": {
       "type": "string"
      },
      "text/plain": [
       "'life'"
      ]
     },
     "execution_count": 15,
     "metadata": {},
     "output_type": "execute_result"
    }
   ],
   "source": [
    "tree_of_life.iloc[0, 2]"
   ]
  },
  {
   "cell_type": "code",
   "execution_count": 16,
   "metadata": {
    "colab": {
     "base_uri": "https://localhost:8080/",
     "height": 35
    },
    "id": "LP07lCuhVkEH",
    "outputId": "19d961d5-e067-4066-c6e8-233726b004c7"
   },
   "outputs": [
    {
     "data": {
      "application/vnd.google.colaboratory.intrinsic+json": {
       "type": "string"
      },
      "text/plain": [
       "'life'"
      ]
     },
     "execution_count": 16,
     "metadata": {},
     "output_type": "execute_result"
    }
   ],
   "source": [
    "tree_of_life.loc[0, 'name']"
   ]
  },
  {
   "cell_type": "markdown",
   "metadata": {
    "id": "lZ8VawCUVkEI"
   },
   "source": [
    "Ordering the data."
   ]
  },
  {
   "cell_type": "code",
   "execution_count": 17,
   "metadata": {
    "colab": {
     "base_uri": "https://localhost:8080/",
     "height": 206
    },
    "id": "Qkeasl8xVkEI",
    "outputId": "ae642fe5-5661-4098-e840-175a55580697"
   },
   "outputs": [
    {
     "data": {
      "text/html": [
       "\n",
       "  <div id=\"df-b774e9c6-7bf4-455f-b73d-bd907446df59\">\n",
       "    <div class=\"colab-df-container\">\n",
       "      <div>\n",
       "<style scoped>\n",
       "    .dataframe tbody tr th:only-of-type {\n",
       "        vertical-align: middle;\n",
       "    }\n",
       "\n",
       "    .dataframe tbody tr th {\n",
       "        vertical-align: top;\n",
       "    }\n",
       "\n",
       "    .dataframe thead th {\n",
       "        text-align: right;\n",
       "    }\n",
       "</style>\n",
       "<table border=\"1\" class=\"dataframe\">\n",
       "  <thead>\n",
       "    <tr style=\"text-align: right;\">\n",
       "      <th></th>\n",
       "      <th>uid</th>\n",
       "      <th>parent_uid</th>\n",
       "      <th>name</th>\n",
       "      <th>rank</th>\n",
       "    </tr>\n",
       "  </thead>\n",
       "  <tbody>\n",
       "    <tr>\n",
       "      <th>297</th>\n",
       "      <td>5246638</td>\n",
       "      <td>102415.0</td>\n",
       "      <td>AB64A-17</td>\n",
       "      <td>no rank - terminal</td>\n",
       "    </tr>\n",
       "    <tr>\n",
       "      <th>293</th>\n",
       "      <td>5246632</td>\n",
       "      <td>102415.0</td>\n",
       "      <td>AK31</td>\n",
       "      <td>no rank - terminal</td>\n",
       "    </tr>\n",
       "    <tr>\n",
       "      <th>298</th>\n",
       "      <td>5246637</td>\n",
       "      <td>102415.0</td>\n",
       "      <td>AK56</td>\n",
       "      <td>no rank - terminal</td>\n",
       "    </tr>\n",
       "    <tr>\n",
       "      <th>202</th>\n",
       "      <td>5246635</td>\n",
       "      <td>102415.0</td>\n",
       "      <td>AK59</td>\n",
       "      <td>no rank - terminal</td>\n",
       "    </tr>\n",
       "    <tr>\n",
       "      <th>204</th>\n",
       "      <td>5246636</td>\n",
       "      <td>102415.0</td>\n",
       "      <td>AK8</td>\n",
       "      <td>no rank - terminal</td>\n",
       "    </tr>\n",
       "  </tbody>\n",
       "</table>\n",
       "</div>\n",
       "      <button class=\"colab-df-convert\" onclick=\"convertToInteractive('df-b774e9c6-7bf4-455f-b73d-bd907446df59')\"\n",
       "              title=\"Convert this dataframe to an interactive table.\"\n",
       "              style=\"display:none;\">\n",
       "        \n",
       "  <svg xmlns=\"http://www.w3.org/2000/svg\" height=\"24px\"viewBox=\"0 0 24 24\"\n",
       "       width=\"24px\">\n",
       "    <path d=\"M0 0h24v24H0V0z\" fill=\"none\"/>\n",
       "    <path d=\"M18.56 5.44l.94 2.06.94-2.06 2.06-.94-2.06-.94-.94-2.06-.94 2.06-2.06.94zm-11 1L8.5 8.5l.94-2.06 2.06-.94-2.06-.94L8.5 2.5l-.94 2.06-2.06.94zm10 10l.94 2.06.94-2.06 2.06-.94-2.06-.94-.94-2.06-.94 2.06-2.06.94z\"/><path d=\"M17.41 7.96l-1.37-1.37c-.4-.4-.92-.59-1.43-.59-.52 0-1.04.2-1.43.59L10.3 9.45l-7.72 7.72c-.78.78-.78 2.05 0 2.83L4 21.41c.39.39.9.59 1.41.59.51 0 1.02-.2 1.41-.59l7.78-7.78 2.81-2.81c.8-.78.8-2.07 0-2.86zM5.41 20L4 18.59l7.72-7.72 1.47 1.35L5.41 20z\"/>\n",
       "  </svg>\n",
       "      </button>\n",
       "      \n",
       "  <style>\n",
       "    .colab-df-container {\n",
       "      display:flex;\n",
       "      flex-wrap:wrap;\n",
       "      gap: 12px;\n",
       "    }\n",
       "\n",
       "    .colab-df-convert {\n",
       "      background-color: #E8F0FE;\n",
       "      border: none;\n",
       "      border-radius: 50%;\n",
       "      cursor: pointer;\n",
       "      display: none;\n",
       "      fill: #1967D2;\n",
       "      height: 32px;\n",
       "      padding: 0 0 0 0;\n",
       "      width: 32px;\n",
       "    }\n",
       "\n",
       "    .colab-df-convert:hover {\n",
       "      background-color: #E2EBFA;\n",
       "      box-shadow: 0px 1px 2px rgba(60, 64, 67, 0.3), 0px 1px 3px 1px rgba(60, 64, 67, 0.15);\n",
       "      fill: #174EA6;\n",
       "    }\n",
       "\n",
       "    [theme=dark] .colab-df-convert {\n",
       "      background-color: #3B4455;\n",
       "      fill: #D2E3FC;\n",
       "    }\n",
       "\n",
       "    [theme=dark] .colab-df-convert:hover {\n",
       "      background-color: #434B5C;\n",
       "      box-shadow: 0px 1px 3px 1px rgba(0, 0, 0, 0.15);\n",
       "      filter: drop-shadow(0px 1px 2px rgba(0, 0, 0, 0.3));\n",
       "      fill: #FFFFFF;\n",
       "    }\n",
       "  </style>\n",
       "\n",
       "      <script>\n",
       "        const buttonEl =\n",
       "          document.querySelector('#df-b774e9c6-7bf4-455f-b73d-bd907446df59 button.colab-df-convert');\n",
       "        buttonEl.style.display =\n",
       "          google.colab.kernel.accessAllowed ? 'block' : 'none';\n",
       "\n",
       "        async function convertToInteractive(key) {\n",
       "          const element = document.querySelector('#df-b774e9c6-7bf4-455f-b73d-bd907446df59');\n",
       "          const dataTable =\n",
       "            await google.colab.kernel.invokeFunction('convertToInteractive',\n",
       "                                                     [key], {});\n",
       "          if (!dataTable) return;\n",
       "\n",
       "          const docLinkHtml = 'Like what you see? Visit the ' +\n",
       "            '<a target=\"_blank\" href=https://colab.research.google.com/notebooks/data_table.ipynb>data table notebook</a>'\n",
       "            + ' to learn more about interactive tables.';\n",
       "          element.innerHTML = '';\n",
       "          dataTable['output_type'] = 'display_data';\n",
       "          await google.colab.output.renderOutput(dataTable, element);\n",
       "          const docLink = document.createElement('div');\n",
       "          docLink.innerHTML = docLinkHtml;\n",
       "          element.appendChild(docLink);\n",
       "        }\n",
       "      </script>\n",
       "    </div>\n",
       "  </div>\n",
       "  "
      ],
      "text/plain": [
       "         uid  parent_uid      name                rank\n",
       "297  5246638    102415.0  AB64A-17  no rank - terminal\n",
       "293  5246632    102415.0      AK31  no rank - terminal\n",
       "298  5246637    102415.0      AK56  no rank - terminal\n",
       "202  5246635    102415.0      AK59  no rank - terminal\n",
       "204  5246636    102415.0       AK8  no rank - terminal"
      ]
     },
     "execution_count": 17,
     "metadata": {},
     "output_type": "execute_result"
    }
   ],
   "source": [
    "tree_of_life.sort_values(by='name').head()"
   ]
  },
  {
   "cell_type": "markdown",
   "metadata": {
    "id": "I1-VvEh4VkEI"
   },
   "source": [
    " *Remark:* Some functions do not change the dataframe (option `inline=False` by default)."
   ]
  },
  {
   "cell_type": "code",
   "execution_count": 18,
   "metadata": {
    "colab": {
     "base_uri": "https://localhost:8080/",
     "height": 206
    },
    "id": "CkUL9L4VVkEI",
    "outputId": "9f40e27a-69b7-4cc6-b010-f77a6a09424a"
   },
   "outputs": [
    {
     "data": {
      "text/html": [
       "\n",
       "  <div id=\"df-bb27ae99-7507-41e4-ae19-72acd152895c\">\n",
       "    <div class=\"colab-df-container\">\n",
       "      <div>\n",
       "<style scoped>\n",
       "    .dataframe tbody tr th:only-of-type {\n",
       "        vertical-align: middle;\n",
       "    }\n",
       "\n",
       "    .dataframe tbody tr th {\n",
       "        vertical-align: top;\n",
       "    }\n",
       "\n",
       "    .dataframe thead th {\n",
       "        text-align: right;\n",
       "    }\n",
       "</style>\n",
       "<table border=\"1\" class=\"dataframe\">\n",
       "  <thead>\n",
       "    <tr style=\"text-align: right;\">\n",
       "      <th></th>\n",
       "      <th>uid</th>\n",
       "      <th>parent_uid</th>\n",
       "      <th>name</th>\n",
       "      <th>rank</th>\n",
       "    </tr>\n",
       "  </thead>\n",
       "  <tbody>\n",
       "    <tr>\n",
       "      <th>0</th>\n",
       "      <td>805080</td>\n",
       "      <td>NaN</td>\n",
       "      <td>life</td>\n",
       "      <td>no rank</td>\n",
       "    </tr>\n",
       "    <tr>\n",
       "      <th>1</th>\n",
       "      <td>93302</td>\n",
       "      <td>805080.0</td>\n",
       "      <td>cellular organisms</td>\n",
       "      <td>no rank</td>\n",
       "    </tr>\n",
       "    <tr>\n",
       "      <th>2</th>\n",
       "      <td>996421</td>\n",
       "      <td>93302.0</td>\n",
       "      <td>Archaea</td>\n",
       "      <td>domain</td>\n",
       "    </tr>\n",
       "    <tr>\n",
       "      <th>3</th>\n",
       "      <td>5246114</td>\n",
       "      <td>996421.0</td>\n",
       "      <td>Marine Hydrothermal Vent Group 1(MHVG-1)</td>\n",
       "      <td>no rank - terminal</td>\n",
       "    </tr>\n",
       "    <tr>\n",
       "      <th>4</th>\n",
       "      <td>102415</td>\n",
       "      <td>996421.0</td>\n",
       "      <td>Thaumarchaeota</td>\n",
       "      <td>phylum</td>\n",
       "    </tr>\n",
       "  </tbody>\n",
       "</table>\n",
       "</div>\n",
       "      <button class=\"colab-df-convert\" onclick=\"convertToInteractive('df-bb27ae99-7507-41e4-ae19-72acd152895c')\"\n",
       "              title=\"Convert this dataframe to an interactive table.\"\n",
       "              style=\"display:none;\">\n",
       "        \n",
       "  <svg xmlns=\"http://www.w3.org/2000/svg\" height=\"24px\"viewBox=\"0 0 24 24\"\n",
       "       width=\"24px\">\n",
       "    <path d=\"M0 0h24v24H0V0z\" fill=\"none\"/>\n",
       "    <path d=\"M18.56 5.44l.94 2.06.94-2.06 2.06-.94-2.06-.94-.94-2.06-.94 2.06-2.06.94zm-11 1L8.5 8.5l.94-2.06 2.06-.94-2.06-.94L8.5 2.5l-.94 2.06-2.06.94zm10 10l.94 2.06.94-2.06 2.06-.94-2.06-.94-.94-2.06-.94 2.06-2.06.94z\"/><path d=\"M17.41 7.96l-1.37-1.37c-.4-.4-.92-.59-1.43-.59-.52 0-1.04.2-1.43.59L10.3 9.45l-7.72 7.72c-.78.78-.78 2.05 0 2.83L4 21.41c.39.39.9.59 1.41.59.51 0 1.02-.2 1.41-.59l7.78-7.78 2.81-2.81c.8-.78.8-2.07 0-2.86zM5.41 20L4 18.59l7.72-7.72 1.47 1.35L5.41 20z\"/>\n",
       "  </svg>\n",
       "      </button>\n",
       "      \n",
       "  <style>\n",
       "    .colab-df-container {\n",
       "      display:flex;\n",
       "      flex-wrap:wrap;\n",
       "      gap: 12px;\n",
       "    }\n",
       "\n",
       "    .colab-df-convert {\n",
       "      background-color: #E8F0FE;\n",
       "      border: none;\n",
       "      border-radius: 50%;\n",
       "      cursor: pointer;\n",
       "      display: none;\n",
       "      fill: #1967D2;\n",
       "      height: 32px;\n",
       "      padding: 0 0 0 0;\n",
       "      width: 32px;\n",
       "    }\n",
       "\n",
       "    .colab-df-convert:hover {\n",
       "      background-color: #E2EBFA;\n",
       "      box-shadow: 0px 1px 2px rgba(60, 64, 67, 0.3), 0px 1px 3px 1px rgba(60, 64, 67, 0.15);\n",
       "      fill: #174EA6;\n",
       "    }\n",
       "\n",
       "    [theme=dark] .colab-df-convert {\n",
       "      background-color: #3B4455;\n",
       "      fill: #D2E3FC;\n",
       "    }\n",
       "\n",
       "    [theme=dark] .colab-df-convert:hover {\n",
       "      background-color: #434B5C;\n",
       "      box-shadow: 0px 1px 3px 1px rgba(0, 0, 0, 0.15);\n",
       "      filter: drop-shadow(0px 1px 2px rgba(0, 0, 0, 0.3));\n",
       "      fill: #FFFFFF;\n",
       "    }\n",
       "  </style>\n",
       "\n",
       "      <script>\n",
       "        const buttonEl =\n",
       "          document.querySelector('#df-bb27ae99-7507-41e4-ae19-72acd152895c button.colab-df-convert');\n",
       "        buttonEl.style.display =\n",
       "          google.colab.kernel.accessAllowed ? 'block' : 'none';\n",
       "\n",
       "        async function convertToInteractive(key) {\n",
       "          const element = document.querySelector('#df-bb27ae99-7507-41e4-ae19-72acd152895c');\n",
       "          const dataTable =\n",
       "            await google.colab.kernel.invokeFunction('convertToInteractive',\n",
       "                                                     [key], {});\n",
       "          if (!dataTable) return;\n",
       "\n",
       "          const docLinkHtml = 'Like what you see? Visit the ' +\n",
       "            '<a target=\"_blank\" href=https://colab.research.google.com/notebooks/data_table.ipynb>data table notebook</a>'\n",
       "            + ' to learn more about interactive tables.';\n",
       "          element.innerHTML = '';\n",
       "          dataTable['output_type'] = 'display_data';\n",
       "          await google.colab.output.renderOutput(dataTable, element);\n",
       "          const docLink = document.createElement('div');\n",
       "          docLink.innerHTML = docLinkHtml;\n",
       "          element.appendChild(docLink);\n",
       "        }\n",
       "      </script>\n",
       "    </div>\n",
       "  </div>\n",
       "  "
      ],
      "text/plain": [
       "       uid  ...                rank\n",
       "0   805080  ...             no rank\n",
       "1    93302  ...             no rank\n",
       "2   996421  ...              domain\n",
       "3  5246114  ...  no rank - terminal\n",
       "4   102415  ...              phylum\n",
       "\n",
       "[5 rows x 4 columns]"
      ]
     },
     "execution_count": 18,
     "metadata": {},
     "output_type": "execute_result"
    }
   ],
   "source": [
    "tree_of_life.head()"
   ]
  },
  {
   "cell_type": "markdown",
   "metadata": {
    "id": "TG6ND5JrVkEI"
   },
   "source": [
    "## Operation on the columns"
   ]
  },
  {
   "cell_type": "markdown",
   "metadata": {
    "id": "wekwg-XvVkEJ"
   },
   "source": [
    "Unique values, useful for categories:"
   ]
  },
  {
   "cell_type": "code",
   "execution_count": 19,
   "metadata": {
    "colab": {
     "base_uri": "https://localhost:8080/"
    },
    "id": "SjVdB67XVkEJ",
    "outputId": "c13ad129-14ca-49a8-ba2c-8a110d40b956"
   },
   "outputs": [
    {
     "data": {
      "text/plain": [
       "array(['no rank', 'domain', 'no rank - terminal', 'phylum', 'species',\n",
       "       'order', 'family', 'genus', 'class'], dtype=object)"
      ]
     },
     "execution_count": 19,
     "metadata": {},
     "output_type": "execute_result"
    }
   ],
   "source": [
    "tree_of_life['rank'].unique()"
   ]
  },
  {
   "cell_type": "markdown",
   "metadata": {
    "id": "fxgcwMD1VkEJ"
   },
   "source": [
    "Selecting only one category."
   ]
  },
  {
   "cell_type": "code",
   "execution_count": 20,
   "metadata": {
    "colab": {
     "base_uri": "https://localhost:8080/",
     "height": 206
    },
    "id": "9hbGedZCVkEJ",
    "outputId": "7a35db99-e9e8-4de2-8d61-b5931feb4cb6"
   },
   "outputs": [
    {
     "data": {
      "text/html": [
       "\n",
       "  <div id=\"df-3a822c8c-2d19-4d5c-b5a6-0428e4698eab\">\n",
       "    <div class=\"colab-df-container\">\n",
       "      <div>\n",
       "<style scoped>\n",
       "    .dataframe tbody tr th:only-of-type {\n",
       "        vertical-align: middle;\n",
       "    }\n",
       "\n",
       "    .dataframe tbody tr th {\n",
       "        vertical-align: top;\n",
       "    }\n",
       "\n",
       "    .dataframe thead th {\n",
       "        text-align: right;\n",
       "    }\n",
       "</style>\n",
       "<table border=\"1\" class=\"dataframe\">\n",
       "  <thead>\n",
       "    <tr style=\"text-align: right;\">\n",
       "      <th></th>\n",
       "      <th>uid</th>\n",
       "      <th>parent_uid</th>\n",
       "      <th>name</th>\n",
       "      <th>rank</th>\n",
       "    </tr>\n",
       "  </thead>\n",
       "  <tbody>\n",
       "    <tr>\n",
       "      <th>7</th>\n",
       "      <td>5205649</td>\n",
       "      <td>4795965.0</td>\n",
       "      <td>uncultured marine crenarchaeote 'Gulf of Maine'</td>\n",
       "      <td>species</td>\n",
       "    </tr>\n",
       "    <tr>\n",
       "      <th>8</th>\n",
       "      <td>5208050</td>\n",
       "      <td>4795965.0</td>\n",
       "      <td>uncultured marine archaeon DCM858</td>\n",
       "      <td>species</td>\n",
       "    </tr>\n",
       "    <tr>\n",
       "      <th>9</th>\n",
       "      <td>5205092</td>\n",
       "      <td>4795965.0</td>\n",
       "      <td>uncultured marine group I thaumarchaeote</td>\n",
       "      <td>species</td>\n",
       "    </tr>\n",
       "    <tr>\n",
       "      <th>10</th>\n",
       "      <td>5205072</td>\n",
       "      <td>4795965.0</td>\n",
       "      <td>uncultured Nitrosopumilaceae archaeon</td>\n",
       "      <td>species</td>\n",
       "    </tr>\n",
       "    <tr>\n",
       "      <th>11</th>\n",
       "      <td>5208765</td>\n",
       "      <td>4795965.0</td>\n",
       "      <td>uncultured marine archaeon DCM874</td>\n",
       "      <td>species</td>\n",
       "    </tr>\n",
       "  </tbody>\n",
       "</table>\n",
       "</div>\n",
       "      <button class=\"colab-df-convert\" onclick=\"convertToInteractive('df-3a822c8c-2d19-4d5c-b5a6-0428e4698eab')\"\n",
       "              title=\"Convert this dataframe to an interactive table.\"\n",
       "              style=\"display:none;\">\n",
       "        \n",
       "  <svg xmlns=\"http://www.w3.org/2000/svg\" height=\"24px\"viewBox=\"0 0 24 24\"\n",
       "       width=\"24px\">\n",
       "    <path d=\"M0 0h24v24H0V0z\" fill=\"none\"/>\n",
       "    <path d=\"M18.56 5.44l.94 2.06.94-2.06 2.06-.94-2.06-.94-.94-2.06-.94 2.06-2.06.94zm-11 1L8.5 8.5l.94-2.06 2.06-.94-2.06-.94L8.5 2.5l-.94 2.06-2.06.94zm10 10l.94 2.06.94-2.06 2.06-.94-2.06-.94-.94-2.06-.94 2.06-2.06.94z\"/><path d=\"M17.41 7.96l-1.37-1.37c-.4-.4-.92-.59-1.43-.59-.52 0-1.04.2-1.43.59L10.3 9.45l-7.72 7.72c-.78.78-.78 2.05 0 2.83L4 21.41c.39.39.9.59 1.41.59.51 0 1.02-.2 1.41-.59l7.78-7.78 2.81-2.81c.8-.78.8-2.07 0-2.86zM5.41 20L4 18.59l7.72-7.72 1.47 1.35L5.41 20z\"/>\n",
       "  </svg>\n",
       "      </button>\n",
       "      \n",
       "  <style>\n",
       "    .colab-df-container {\n",
       "      display:flex;\n",
       "      flex-wrap:wrap;\n",
       "      gap: 12px;\n",
       "    }\n",
       "\n",
       "    .colab-df-convert {\n",
       "      background-color: #E8F0FE;\n",
       "      border: none;\n",
       "      border-radius: 50%;\n",
       "      cursor: pointer;\n",
       "      display: none;\n",
       "      fill: #1967D2;\n",
       "      height: 32px;\n",
       "      padding: 0 0 0 0;\n",
       "      width: 32px;\n",
       "    }\n",
       "\n",
       "    .colab-df-convert:hover {\n",
       "      background-color: #E2EBFA;\n",
       "      box-shadow: 0px 1px 2px rgba(60, 64, 67, 0.3), 0px 1px 3px 1px rgba(60, 64, 67, 0.15);\n",
       "      fill: #174EA6;\n",
       "    }\n",
       "\n",
       "    [theme=dark] .colab-df-convert {\n",
       "      background-color: #3B4455;\n",
       "      fill: #D2E3FC;\n",
       "    }\n",
       "\n",
       "    [theme=dark] .colab-df-convert:hover {\n",
       "      background-color: #434B5C;\n",
       "      box-shadow: 0px 1px 3px 1px rgba(0, 0, 0, 0.15);\n",
       "      filter: drop-shadow(0px 1px 2px rgba(0, 0, 0, 0.3));\n",
       "      fill: #FFFFFF;\n",
       "    }\n",
       "  </style>\n",
       "\n",
       "      <script>\n",
       "        const buttonEl =\n",
       "          document.querySelector('#df-3a822c8c-2d19-4d5c-b5a6-0428e4698eab button.colab-df-convert');\n",
       "        buttonEl.style.display =\n",
       "          google.colab.kernel.accessAllowed ? 'block' : 'none';\n",
       "\n",
       "        async function convertToInteractive(key) {\n",
       "          const element = document.querySelector('#df-3a822c8c-2d19-4d5c-b5a6-0428e4698eab');\n",
       "          const dataTable =\n",
       "            await google.colab.kernel.invokeFunction('convertToInteractive',\n",
       "                                                     [key], {});\n",
       "          if (!dataTable) return;\n",
       "\n",
       "          const docLinkHtml = 'Like what you see? Visit the ' +\n",
       "            '<a target=\"_blank\" href=https://colab.research.google.com/notebooks/data_table.ipynb>data table notebook</a>'\n",
       "            + ' to learn more about interactive tables.';\n",
       "          element.innerHTML = '';\n",
       "          dataTable['output_type'] = 'display_data';\n",
       "          await google.colab.output.renderOutput(dataTable, element);\n",
       "          const docLink = document.createElement('div');\n",
       "          docLink.innerHTML = docLinkHtml;\n",
       "          element.appendChild(docLink);\n",
       "        }\n",
       "      </script>\n",
       "    </div>\n",
       "  </div>\n",
       "  "
      ],
      "text/plain": [
       "        uid  ...     rank\n",
       "7   5205649  ...  species\n",
       "8   5208050  ...  species\n",
       "9   5205092  ...  species\n",
       "10  5205072  ...  species\n",
       "11  5208765  ...  species\n",
       "\n",
       "[5 rows x 4 columns]"
      ]
     },
     "execution_count": 20,
     "metadata": {},
     "output_type": "execute_result"
    }
   ],
   "source": [
    "tree_of_life[tree_of_life['rank'] == 'species'].head()"
   ]
  },
  {
   "cell_type": "markdown",
   "metadata": {
    "id": "0PCtBu40VkEJ"
   },
   "source": [
    "How many species do we have?"
   ]
  },
  {
   "cell_type": "code",
   "execution_count": 21,
   "metadata": {
    "colab": {
     "base_uri": "https://localhost:8080/"
    },
    "id": "3tiJoasrVkEJ",
    "outputId": "5155bc91-7ed9-45d3-f6f3-f72dc23ffc64"
   },
   "outputs": [
    {
     "data": {
      "text/plain": [
       "912"
      ]
     },
     "execution_count": 21,
     "metadata": {},
     "output_type": "execute_result"
    }
   ],
   "source": [
    "len(tree_of_life[tree_of_life['rank'] == 'species'])"
   ]
  },
  {
   "cell_type": "code",
   "execution_count": 22,
   "metadata": {
    "colab": {
     "base_uri": "https://localhost:8080/"
    },
    "id": "yJPunruNVkEJ",
    "outputId": "9b76f189-5787-497e-b803-dd85ac9e0de6"
   },
   "outputs": [
    {
     "data": {
      "text/plain": [
       "species               912\n",
       "no rank - terminal     58\n",
       "no rank                12\n",
       "genus                   8\n",
       "order                   3\n",
       "family                  3\n",
       "domain                  1\n",
       "phylum                  1\n",
       "class                   1\n",
       "Name: rank, dtype: int64"
      ]
     },
     "execution_count": 22,
     "metadata": {},
     "output_type": "execute_result"
    }
   ],
   "source": [
    "tree_of_life['rank'].value_counts()"
   ]
  },
  {
   "cell_type": "markdown",
   "metadata": {
    "id": "sqKAycaYVkEK"
   },
   "source": [
    "**Exercise:** Display the entry with name 'Archaea', then display the entry of its parent."
   ]
  },
  {
   "cell_type": "code",
   "execution_count": null,
   "metadata": {
    "id": "zDBzyoB_VkEK"
   },
   "outputs": [],
   "source": [
    "# Your code here."
   ]
  },
  {
   "cell_type": "code",
   "execution_count": 19,
   "metadata": {
    "colab": {
     "base_uri": "https://localhost:8080/",
     "height": 81
    },
    "id": "wIzyN-NBtxLy",
    "outputId": "3dde84e5-f81a-4334-e3da-0311e78ea8cf"
   },
   "outputs": [
    {
     "data": {
      "text/html": [
       "\n",
       "  <div id=\"df-ba2838f4-cab9-44f5-b55d-c71d3321ffc0\">\n",
       "    <div class=\"colab-df-container\">\n",
       "      <div>\n",
       "<style scoped>\n",
       "    .dataframe tbody tr th:only-of-type {\n",
       "        vertical-align: middle;\n",
       "    }\n",
       "\n",
       "    .dataframe tbody tr th {\n",
       "        vertical-align: top;\n",
       "    }\n",
       "\n",
       "    .dataframe thead th {\n",
       "        text-align: right;\n",
       "    }\n",
       "</style>\n",
       "<table border=\"1\" class=\"dataframe\">\n",
       "  <thead>\n",
       "    <tr style=\"text-align: right;\">\n",
       "      <th></th>\n",
       "      <th>uid</th>\n",
       "      <th>parent_uid</th>\n",
       "      <th>name</th>\n",
       "      <th>rank</th>\n",
       "    </tr>\n",
       "  </thead>\n",
       "  <tbody>\n",
       "    <tr>\n",
       "      <th>2</th>\n",
       "      <td>996421</td>\n",
       "      <td>93302.0</td>\n",
       "      <td>Archaea</td>\n",
       "      <td>domain</td>\n",
       "    </tr>\n",
       "  </tbody>\n",
       "</table>\n",
       "</div>\n",
       "      <button class=\"colab-df-convert\" onclick=\"convertToInteractive('df-ba2838f4-cab9-44f5-b55d-c71d3321ffc0')\"\n",
       "              title=\"Convert this dataframe to an interactive table.\"\n",
       "              style=\"display:none;\">\n",
       "        \n",
       "  <svg xmlns=\"http://www.w3.org/2000/svg\" height=\"24px\"viewBox=\"0 0 24 24\"\n",
       "       width=\"24px\">\n",
       "    <path d=\"M0 0h24v24H0V0z\" fill=\"none\"/>\n",
       "    <path d=\"M18.56 5.44l.94 2.06.94-2.06 2.06-.94-2.06-.94-.94-2.06-.94 2.06-2.06.94zm-11 1L8.5 8.5l.94-2.06 2.06-.94-2.06-.94L8.5 2.5l-.94 2.06-2.06.94zm10 10l.94 2.06.94-2.06 2.06-.94-2.06-.94-.94-2.06-.94 2.06-2.06.94z\"/><path d=\"M17.41 7.96l-1.37-1.37c-.4-.4-.92-.59-1.43-.59-.52 0-1.04.2-1.43.59L10.3 9.45l-7.72 7.72c-.78.78-.78 2.05 0 2.83L4 21.41c.39.39.9.59 1.41.59.51 0 1.02-.2 1.41-.59l7.78-7.78 2.81-2.81c.8-.78.8-2.07 0-2.86zM5.41 20L4 18.59l7.72-7.72 1.47 1.35L5.41 20z\"/>\n",
       "  </svg>\n",
       "      </button>\n",
       "      \n",
       "  <style>\n",
       "    .colab-df-container {\n",
       "      display:flex;\n",
       "      flex-wrap:wrap;\n",
       "      gap: 12px;\n",
       "    }\n",
       "\n",
       "    .colab-df-convert {\n",
       "      background-color: #E8F0FE;\n",
       "      border: none;\n",
       "      border-radius: 50%;\n",
       "      cursor: pointer;\n",
       "      display: none;\n",
       "      fill: #1967D2;\n",
       "      height: 32px;\n",
       "      padding: 0 0 0 0;\n",
       "      width: 32px;\n",
       "    }\n",
       "\n",
       "    .colab-df-convert:hover {\n",
       "      background-color: #E2EBFA;\n",
       "      box-shadow: 0px 1px 2px rgba(60, 64, 67, 0.3), 0px 1px 3px 1px rgba(60, 64, 67, 0.15);\n",
       "      fill: #174EA6;\n",
       "    }\n",
       "\n",
       "    [theme=dark] .colab-df-convert {\n",
       "      background-color: #3B4455;\n",
       "      fill: #D2E3FC;\n",
       "    }\n",
       "\n",
       "    [theme=dark] .colab-df-convert:hover {\n",
       "      background-color: #434B5C;\n",
       "      box-shadow: 0px 1px 3px 1px rgba(0, 0, 0, 0.15);\n",
       "      filter: drop-shadow(0px 1px 2px rgba(0, 0, 0, 0.3));\n",
       "      fill: #FFFFFF;\n",
       "    }\n",
       "  </style>\n",
       "\n",
       "      <script>\n",
       "        const buttonEl =\n",
       "          document.querySelector('#df-ba2838f4-cab9-44f5-b55d-c71d3321ffc0 button.colab-df-convert');\n",
       "        buttonEl.style.display =\n",
       "          google.colab.kernel.accessAllowed ? 'block' : 'none';\n",
       "\n",
       "        async function convertToInteractive(key) {\n",
       "          const element = document.querySelector('#df-ba2838f4-cab9-44f5-b55d-c71d3321ffc0');\n",
       "          const dataTable =\n",
       "            await google.colab.kernel.invokeFunction('convertToInteractive',\n",
       "                                                     [key], {});\n",
       "          if (!dataTable) return;\n",
       "\n",
       "          const docLinkHtml = 'Like what you see? Visit the ' +\n",
       "            '<a target=\"_blank\" href=https://colab.research.google.com/notebooks/data_table.ipynb>data table notebook</a>'\n",
       "            + ' to learn more about interactive tables.';\n",
       "          element.innerHTML = '';\n",
       "          dataTable['output_type'] = 'display_data';\n",
       "          await google.colab.output.renderOutput(dataTable, element);\n",
       "          const docLink = document.createElement('div');\n",
       "          docLink.innerHTML = docLinkHtml;\n",
       "          element.appendChild(docLink);\n",
       "        }\n",
       "      </script>\n",
       "    </div>\n",
       "  </div>\n",
       "  "
      ],
      "text/plain": [
       "      uid  parent_uid     name    rank\n",
       "2  996421     93302.0  Archaea  domain"
      ]
     },
     "execution_count": 19,
     "metadata": {},
     "output_type": "execute_result"
    }
   ],
   "source": [
    "tree_of_life[tree_of_life['name'] == 'Archaea']"
   ]
  },
  {
   "cell_type": "markdown",
   "metadata": {
    "id": "MLJ7nIjFVkEK"
   },
   "source": [
    "## Building the graph"
   ]
  },
  {
   "cell_type": "markdown",
   "metadata": {
    "id": "YHzhLgNPVkEK"
   },
   "source": [
    "Let us build the adjacency matrix of the graph. For that we need to reorganize the data. First we separate the nodes and their properties from the edges."
   ]
  },
  {
   "cell_type": "code",
   "execution_count": 26,
   "metadata": {
    "id": "awcliExvVkEK"
   },
   "outputs": [],
   "source": [
    "nodes = tree_of_life[['uid', 'name','rank']]\n",
    "edges = tree_of_life[['uid', 'parent_uid']]"
   ]
  },
  {
   "cell_type": "markdown",
   "metadata": {
    "id": "hTOhYhJsVkEK"
   },
   "source": [
    "When using an adjacency matrix, nodes are indexed by their row or column number and not by a `uid`. Let us create a new index for the nodes."
   ]
  },
  {
   "cell_type": "code",
   "execution_count": 24,
   "metadata": {
    "colab": {
     "base_uri": "https://localhost:8080/",
     "height": 206
    },
    "id": "JVD0-cauw0fo",
    "outputId": "d5adea48-f9cc-4290-f3ff-ec321cf27fee"
   },
   "outputs": [
    {
     "data": {
      "text/html": [
       "\n",
       "  <div id=\"df-e31d5667-aacd-4d88-b57b-26a678b51582\">\n",
       "    <div class=\"colab-df-container\">\n",
       "      <div>\n",
       "<style scoped>\n",
       "    .dataframe tbody tr th:only-of-type {\n",
       "        vertical-align: middle;\n",
       "    }\n",
       "\n",
       "    .dataframe tbody tr th {\n",
       "        vertical-align: top;\n",
       "    }\n",
       "\n",
       "    .dataframe thead th {\n",
       "        text-align: right;\n",
       "    }\n",
       "</style>\n",
       "<table border=\"1\" class=\"dataframe\">\n",
       "  <thead>\n",
       "    <tr style=\"text-align: right;\">\n",
       "      <th></th>\n",
       "      <th>uid</th>\n",
       "      <th>name</th>\n",
       "      <th>rank</th>\n",
       "    </tr>\n",
       "  </thead>\n",
       "  <tbody>\n",
       "    <tr>\n",
       "      <th>0</th>\n",
       "      <td>805080</td>\n",
       "      <td>life</td>\n",
       "      <td>no rank</td>\n",
       "    </tr>\n",
       "    <tr>\n",
       "      <th>1</th>\n",
       "      <td>93302</td>\n",
       "      <td>cellular organisms</td>\n",
       "      <td>no rank</td>\n",
       "    </tr>\n",
       "    <tr>\n",
       "      <th>2</th>\n",
       "      <td>996421</td>\n",
       "      <td>Archaea</td>\n",
       "      <td>domain</td>\n",
       "    </tr>\n",
       "    <tr>\n",
       "      <th>3</th>\n",
       "      <td>5246114</td>\n",
       "      <td>Marine Hydrothermal Vent Group 1(MHVG-1)</td>\n",
       "      <td>no rank - terminal</td>\n",
       "    </tr>\n",
       "    <tr>\n",
       "      <th>4</th>\n",
       "      <td>102415</td>\n",
       "      <td>Thaumarchaeota</td>\n",
       "      <td>phylum</td>\n",
       "    </tr>\n",
       "  </tbody>\n",
       "</table>\n",
       "</div>\n",
       "      <button class=\"colab-df-convert\" onclick=\"convertToInteractive('df-e31d5667-aacd-4d88-b57b-26a678b51582')\"\n",
       "              title=\"Convert this dataframe to an interactive table.\"\n",
       "              style=\"display:none;\">\n",
       "        \n",
       "  <svg xmlns=\"http://www.w3.org/2000/svg\" height=\"24px\"viewBox=\"0 0 24 24\"\n",
       "       width=\"24px\">\n",
       "    <path d=\"M0 0h24v24H0V0z\" fill=\"none\"/>\n",
       "    <path d=\"M18.56 5.44l.94 2.06.94-2.06 2.06-.94-2.06-.94-.94-2.06-.94 2.06-2.06.94zm-11 1L8.5 8.5l.94-2.06 2.06-.94-2.06-.94L8.5 2.5l-.94 2.06-2.06.94zm10 10l.94 2.06.94-2.06 2.06-.94-2.06-.94-.94-2.06-.94 2.06-2.06.94z\"/><path d=\"M17.41 7.96l-1.37-1.37c-.4-.4-.92-.59-1.43-.59-.52 0-1.04.2-1.43.59L10.3 9.45l-7.72 7.72c-.78.78-.78 2.05 0 2.83L4 21.41c.39.39.9.59 1.41.59.51 0 1.02-.2 1.41-.59l7.78-7.78 2.81-2.81c.8-.78.8-2.07 0-2.86zM5.41 20L4 18.59l7.72-7.72 1.47 1.35L5.41 20z\"/>\n",
       "  </svg>\n",
       "      </button>\n",
       "      \n",
       "  <style>\n",
       "    .colab-df-container {\n",
       "      display:flex;\n",
       "      flex-wrap:wrap;\n",
       "      gap: 12px;\n",
       "    }\n",
       "\n",
       "    .colab-df-convert {\n",
       "      background-color: #E8F0FE;\n",
       "      border: none;\n",
       "      border-radius: 50%;\n",
       "      cursor: pointer;\n",
       "      display: none;\n",
       "      fill: #1967D2;\n",
       "      height: 32px;\n",
       "      padding: 0 0 0 0;\n",
       "      width: 32px;\n",
       "    }\n",
       "\n",
       "    .colab-df-convert:hover {\n",
       "      background-color: #E2EBFA;\n",
       "      box-shadow: 0px 1px 2px rgba(60, 64, 67, 0.3), 0px 1px 3px 1px rgba(60, 64, 67, 0.15);\n",
       "      fill: #174EA6;\n",
       "    }\n",
       "\n",
       "    [theme=dark] .colab-df-convert {\n",
       "      background-color: #3B4455;\n",
       "      fill: #D2E3FC;\n",
       "    }\n",
       "\n",
       "    [theme=dark] .colab-df-convert:hover {\n",
       "      background-color: #434B5C;\n",
       "      box-shadow: 0px 1px 3px 1px rgba(0, 0, 0, 0.15);\n",
       "      filter: drop-shadow(0px 1px 2px rgba(0, 0, 0, 0.3));\n",
       "      fill: #FFFFFF;\n",
       "    }\n",
       "  </style>\n",
       "\n",
       "      <script>\n",
       "        const buttonEl =\n",
       "          document.querySelector('#df-e31d5667-aacd-4d88-b57b-26a678b51582 button.colab-df-convert');\n",
       "        buttonEl.style.display =\n",
       "          google.colab.kernel.accessAllowed ? 'block' : 'none';\n",
       "\n",
       "        async function convertToInteractive(key) {\n",
       "          const element = document.querySelector('#df-e31d5667-aacd-4d88-b57b-26a678b51582');\n",
       "          const dataTable =\n",
       "            await google.colab.kernel.invokeFunction('convertToInteractive',\n",
       "                                                     [key], {});\n",
       "          if (!dataTable) return;\n",
       "\n",
       "          const docLinkHtml = 'Like what you see? Visit the ' +\n",
       "            '<a target=\"_blank\" href=https://colab.research.google.com/notebooks/data_table.ipynb>data table notebook</a>'\n",
       "            + ' to learn more about interactive tables.';\n",
       "          element.innerHTML = '';\n",
       "          dataTable['output_type'] = 'display_data';\n",
       "          await google.colab.output.renderOutput(dataTable, element);\n",
       "          const docLink = document.createElement('div');\n",
       "          docLink.innerHTML = docLinkHtml;\n",
       "          element.appendChild(docLink);\n",
       "        }\n",
       "      </script>\n",
       "    </div>\n",
       "  </div>\n",
       "  "
      ],
      "text/plain": [
       "       uid                                      name                rank\n",
       "0   805080                                      life             no rank\n",
       "1    93302                        cellular organisms             no rank\n",
       "2   996421                                   Archaea              domain\n",
       "3  5246114  Marine Hydrothermal Vent Group 1(MHVG-1)  no rank - terminal\n",
       "4   102415                            Thaumarchaeota              phylum"
      ]
     },
     "execution_count": 24,
     "metadata": {},
     "output_type": "execute_result"
    }
   ],
   "source": [
    "nodes.head()"
   ]
  },
  {
   "cell_type": "code",
   "execution_count": 27,
   "metadata": {
    "colab": {
     "base_uri": "https://localhost:8080/",
     "height": 206
    },
    "id": "j1QSvanxVkEK",
    "outputId": "c5131395-e8ea-474c-dfec-53d2929529e5"
   },
   "outputs": [
    {
     "data": {
      "text/html": [
       "\n",
       "  <div id=\"df-fb4b0460-7415-4955-aa7f-cd1a24ac0fcd\">\n",
       "    <div class=\"colab-df-container\">\n",
       "      <div>\n",
       "<style scoped>\n",
       "    .dataframe tbody tr th:only-of-type {\n",
       "        vertical-align: middle;\n",
       "    }\n",
       "\n",
       "    .dataframe tbody tr th {\n",
       "        vertical-align: top;\n",
       "    }\n",
       "\n",
       "    .dataframe thead th {\n",
       "        text-align: right;\n",
       "    }\n",
       "</style>\n",
       "<table border=\"1\" class=\"dataframe\">\n",
       "  <thead>\n",
       "    <tr style=\"text-align: right;\">\n",
       "      <th></th>\n",
       "      <th>node_idx</th>\n",
       "      <th>uid</th>\n",
       "      <th>name</th>\n",
       "      <th>rank</th>\n",
       "    </tr>\n",
       "  </thead>\n",
       "  <tbody>\n",
       "    <tr>\n",
       "      <th>0</th>\n",
       "      <td>0</td>\n",
       "      <td>805080</td>\n",
       "      <td>life</td>\n",
       "      <td>no rank</td>\n",
       "    </tr>\n",
       "    <tr>\n",
       "      <th>1</th>\n",
       "      <td>1</td>\n",
       "      <td>93302</td>\n",
       "      <td>cellular organisms</td>\n",
       "      <td>no rank</td>\n",
       "    </tr>\n",
       "    <tr>\n",
       "      <th>2</th>\n",
       "      <td>2</td>\n",
       "      <td>996421</td>\n",
       "      <td>Archaea</td>\n",
       "      <td>domain</td>\n",
       "    </tr>\n",
       "    <tr>\n",
       "      <th>3</th>\n",
       "      <td>3</td>\n",
       "      <td>5246114</td>\n",
       "      <td>Marine Hydrothermal Vent Group 1(MHVG-1)</td>\n",
       "      <td>no rank - terminal</td>\n",
       "    </tr>\n",
       "    <tr>\n",
       "      <th>4</th>\n",
       "      <td>4</td>\n",
       "      <td>102415</td>\n",
       "      <td>Thaumarchaeota</td>\n",
       "      <td>phylum</td>\n",
       "    </tr>\n",
       "  </tbody>\n",
       "</table>\n",
       "</div>\n",
       "      <button class=\"colab-df-convert\" onclick=\"convertToInteractive('df-fb4b0460-7415-4955-aa7f-cd1a24ac0fcd')\"\n",
       "              title=\"Convert this dataframe to an interactive table.\"\n",
       "              style=\"display:none;\">\n",
       "        \n",
       "  <svg xmlns=\"http://www.w3.org/2000/svg\" height=\"24px\"viewBox=\"0 0 24 24\"\n",
       "       width=\"24px\">\n",
       "    <path d=\"M0 0h24v24H0V0z\" fill=\"none\"/>\n",
       "    <path d=\"M18.56 5.44l.94 2.06.94-2.06 2.06-.94-2.06-.94-.94-2.06-.94 2.06-2.06.94zm-11 1L8.5 8.5l.94-2.06 2.06-.94-2.06-.94L8.5 2.5l-.94 2.06-2.06.94zm10 10l.94 2.06.94-2.06 2.06-.94-2.06-.94-.94-2.06-.94 2.06-2.06.94z\"/><path d=\"M17.41 7.96l-1.37-1.37c-.4-.4-.92-.59-1.43-.59-.52 0-1.04.2-1.43.59L10.3 9.45l-7.72 7.72c-.78.78-.78 2.05 0 2.83L4 21.41c.39.39.9.59 1.41.59.51 0 1.02-.2 1.41-.59l7.78-7.78 2.81-2.81c.8-.78.8-2.07 0-2.86zM5.41 20L4 18.59l7.72-7.72 1.47 1.35L5.41 20z\"/>\n",
       "  </svg>\n",
       "      </button>\n",
       "      \n",
       "  <style>\n",
       "    .colab-df-container {\n",
       "      display:flex;\n",
       "      flex-wrap:wrap;\n",
       "      gap: 12px;\n",
       "    }\n",
       "\n",
       "    .colab-df-convert {\n",
       "      background-color: #E8F0FE;\n",
       "      border: none;\n",
       "      border-radius: 50%;\n",
       "      cursor: pointer;\n",
       "      display: none;\n",
       "      fill: #1967D2;\n",
       "      height: 32px;\n",
       "      padding: 0 0 0 0;\n",
       "      width: 32px;\n",
       "    }\n",
       "\n",
       "    .colab-df-convert:hover {\n",
       "      background-color: #E2EBFA;\n",
       "      box-shadow: 0px 1px 2px rgba(60, 64, 67, 0.3), 0px 1px 3px 1px rgba(60, 64, 67, 0.15);\n",
       "      fill: #174EA6;\n",
       "    }\n",
       "\n",
       "    [theme=dark] .colab-df-convert {\n",
       "      background-color: #3B4455;\n",
       "      fill: #D2E3FC;\n",
       "    }\n",
       "\n",
       "    [theme=dark] .colab-df-convert:hover {\n",
       "      background-color: #434B5C;\n",
       "      box-shadow: 0px 1px 3px 1px rgba(0, 0, 0, 0.15);\n",
       "      filter: drop-shadow(0px 1px 2px rgba(0, 0, 0, 0.3));\n",
       "      fill: #FFFFFF;\n",
       "    }\n",
       "  </style>\n",
       "\n",
       "      <script>\n",
       "        const buttonEl =\n",
       "          document.querySelector('#df-fb4b0460-7415-4955-aa7f-cd1a24ac0fcd button.colab-df-convert');\n",
       "        buttonEl.style.display =\n",
       "          google.colab.kernel.accessAllowed ? 'block' : 'none';\n",
       "\n",
       "        async function convertToInteractive(key) {\n",
       "          const element = document.querySelector('#df-fb4b0460-7415-4955-aa7f-cd1a24ac0fcd');\n",
       "          const dataTable =\n",
       "            await google.colab.kernel.invokeFunction('convertToInteractive',\n",
       "                                                     [key], {});\n",
       "          if (!dataTable) return;\n",
       "\n",
       "          const docLinkHtml = 'Like what you see? Visit the ' +\n",
       "            '<a target=\"_blank\" href=https://colab.research.google.com/notebooks/data_table.ipynb>data table notebook</a>'\n",
       "            + ' to learn more about interactive tables.';\n",
       "          element.innerHTML = '';\n",
       "          dataTable['output_type'] = 'display_data';\n",
       "          await google.colab.output.renderOutput(dataTable, element);\n",
       "          const docLink = document.createElement('div');\n",
       "          docLink.innerHTML = docLinkHtml;\n",
       "          element.appendChild(docLink);\n",
       "        }\n",
       "      </script>\n",
       "    </div>\n",
       "  </div>\n",
       "  "
      ],
      "text/plain": [
       "   node_idx  ...                rank\n",
       "0         0  ...             no rank\n",
       "1         1  ...             no rank\n",
       "2         2  ...              domain\n",
       "3         3  ...  no rank - terminal\n",
       "4         4  ...              phylum\n",
       "\n",
       "[5 rows x 4 columns]"
      ]
     },
     "execution_count": 27,
     "metadata": {},
     "output_type": "execute_result"
    }
   ],
   "source": [
    "# Create a column for node index.\n",
    "nodes.reset_index(level=0, inplace=True)\n",
    "nodes = nodes.rename(columns={'index':'node_idx'})\n",
    "nodes.head()"
   ]
  },
  {
   "cell_type": "code",
   "execution_count": 32,
   "metadata": {
    "colab": {
     "base_uri": "https://localhost:8080/",
     "height": 238
    },
    "id": "Yt1mPfZRVkEK",
    "outputId": "06e0760d-b7d2-4a6f-b6ab-09b20bae2c36"
   },
   "outputs": [
    {
     "data": {
      "text/html": [
       "\n",
       "  <div id=\"df-fd134282-ec4b-4d1a-8b5f-e133e12f8e37\">\n",
       "    <div class=\"colab-df-container\">\n",
       "      <div>\n",
       "<style scoped>\n",
       "    .dataframe tbody tr th:only-of-type {\n",
       "        vertical-align: middle;\n",
       "    }\n",
       "\n",
       "    .dataframe tbody tr th {\n",
       "        vertical-align: top;\n",
       "    }\n",
       "\n",
       "    .dataframe thead th {\n",
       "        text-align: right;\n",
       "    }\n",
       "</style>\n",
       "<table border=\"1\" class=\"dataframe\">\n",
       "  <thead>\n",
       "    <tr style=\"text-align: right;\">\n",
       "      <th></th>\n",
       "      <th>node_idx</th>\n",
       "    </tr>\n",
       "    <tr>\n",
       "      <th>uid</th>\n",
       "      <th></th>\n",
       "    </tr>\n",
       "  </thead>\n",
       "  <tbody>\n",
       "    <tr>\n",
       "      <th>805080</th>\n",
       "      <td>0</td>\n",
       "    </tr>\n",
       "    <tr>\n",
       "      <th>93302</th>\n",
       "      <td>1</td>\n",
       "    </tr>\n",
       "    <tr>\n",
       "      <th>996421</th>\n",
       "      <td>2</td>\n",
       "    </tr>\n",
       "    <tr>\n",
       "      <th>5246114</th>\n",
       "      <td>3</td>\n",
       "    </tr>\n",
       "    <tr>\n",
       "      <th>102415</th>\n",
       "      <td>4</td>\n",
       "    </tr>\n",
       "  </tbody>\n",
       "</table>\n",
       "</div>\n",
       "      <button class=\"colab-df-convert\" onclick=\"convertToInteractive('df-fd134282-ec4b-4d1a-8b5f-e133e12f8e37')\"\n",
       "              title=\"Convert this dataframe to an interactive table.\"\n",
       "              style=\"display:none;\">\n",
       "        \n",
       "  <svg xmlns=\"http://www.w3.org/2000/svg\" height=\"24px\"viewBox=\"0 0 24 24\"\n",
       "       width=\"24px\">\n",
       "    <path d=\"M0 0h24v24H0V0z\" fill=\"none\"/>\n",
       "    <path d=\"M18.56 5.44l.94 2.06.94-2.06 2.06-.94-2.06-.94-.94-2.06-.94 2.06-2.06.94zm-11 1L8.5 8.5l.94-2.06 2.06-.94-2.06-.94L8.5 2.5l-.94 2.06-2.06.94zm10 10l.94 2.06.94-2.06 2.06-.94-2.06-.94-.94-2.06-.94 2.06-2.06.94z\"/><path d=\"M17.41 7.96l-1.37-1.37c-.4-.4-.92-.59-1.43-.59-.52 0-1.04.2-1.43.59L10.3 9.45l-7.72 7.72c-.78.78-.78 2.05 0 2.83L4 21.41c.39.39.9.59 1.41.59.51 0 1.02-.2 1.41-.59l7.78-7.78 2.81-2.81c.8-.78.8-2.07 0-2.86zM5.41 20L4 18.59l7.72-7.72 1.47 1.35L5.41 20z\"/>\n",
       "  </svg>\n",
       "      </button>\n",
       "      \n",
       "  <style>\n",
       "    .colab-df-container {\n",
       "      display:flex;\n",
       "      flex-wrap:wrap;\n",
       "      gap: 12px;\n",
       "    }\n",
       "\n",
       "    .colab-df-convert {\n",
       "      background-color: #E8F0FE;\n",
       "      border: none;\n",
       "      border-radius: 50%;\n",
       "      cursor: pointer;\n",
       "      display: none;\n",
       "      fill: #1967D2;\n",
       "      height: 32px;\n",
       "      padding: 0 0 0 0;\n",
       "      width: 32px;\n",
       "    }\n",
       "\n",
       "    .colab-df-convert:hover {\n",
       "      background-color: #E2EBFA;\n",
       "      box-shadow: 0px 1px 2px rgba(60, 64, 67, 0.3), 0px 1px 3px 1px rgba(60, 64, 67, 0.15);\n",
       "      fill: #174EA6;\n",
       "    }\n",
       "\n",
       "    [theme=dark] .colab-df-convert {\n",
       "      background-color: #3B4455;\n",
       "      fill: #D2E3FC;\n",
       "    }\n",
       "\n",
       "    [theme=dark] .colab-df-convert:hover {\n",
       "      background-color: #434B5C;\n",
       "      box-shadow: 0px 1px 3px 1px rgba(0, 0, 0, 0.15);\n",
       "      filter: drop-shadow(0px 1px 2px rgba(0, 0, 0, 0.3));\n",
       "      fill: #FFFFFF;\n",
       "    }\n",
       "  </style>\n",
       "\n",
       "      <script>\n",
       "        const buttonEl =\n",
       "          document.querySelector('#df-fd134282-ec4b-4d1a-8b5f-e133e12f8e37 button.colab-df-convert');\n",
       "        buttonEl.style.display =\n",
       "          google.colab.kernel.accessAllowed ? 'block' : 'none';\n",
       "\n",
       "        async function convertToInteractive(key) {\n",
       "          const element = document.querySelector('#df-fd134282-ec4b-4d1a-8b5f-e133e12f8e37');\n",
       "          const dataTable =\n",
       "            await google.colab.kernel.invokeFunction('convertToInteractive',\n",
       "                                                     [key], {});\n",
       "          if (!dataTable) return;\n",
       "\n",
       "          const docLinkHtml = 'Like what you see? Visit the ' +\n",
       "            '<a target=\"_blank\" href=https://colab.research.google.com/notebooks/data_table.ipynb>data table notebook</a>'\n",
       "            + ' to learn more about interactive tables.';\n",
       "          element.innerHTML = '';\n",
       "          dataTable['output_type'] = 'display_data';\n",
       "          await google.colab.output.renderOutput(dataTable, element);\n",
       "          const docLink = document.createElement('div');\n",
       "          docLink.innerHTML = docLinkHtml;\n",
       "          element.appendChild(docLink);\n",
       "        }\n",
       "      </script>\n",
       "    </div>\n",
       "  </div>\n",
       "  "
      ],
      "text/plain": [
       "         node_idx\n",
       "uid              \n",
       "805080          0\n",
       "93302           1\n",
       "996421          2\n",
       "5246114         3\n",
       "102415          4"
      ]
     },
     "execution_count": 32,
     "metadata": {},
     "output_type": "execute_result"
    }
   ],
   "source": [
    "# Create a conversion table from uid to node index.\n",
    "uid2idx = nodes[['node_idx', 'uid']]\n",
    "uid2idx = uid2idx.set_index('uid')\n",
    "uid2idx.head()"
   ]
  },
  {
   "cell_type": "code",
   "execution_count": 33,
   "metadata": {
    "colab": {
     "base_uri": "https://localhost:8080/",
     "height": 206
    },
    "id": "CCNe2g3pVkEL",
    "outputId": "6ab10699-d331-4c78-c7fb-e2fc3c481efd"
   },
   "outputs": [
    {
     "data": {
      "text/html": [
       "\n",
       "  <div id=\"df-df790e9a-5219-47eb-9d0c-a5bcd296a1c5\">\n",
       "    <div class=\"colab-df-container\">\n",
       "      <div>\n",
       "<style scoped>\n",
       "    .dataframe tbody tr th:only-of-type {\n",
       "        vertical-align: middle;\n",
       "    }\n",
       "\n",
       "    .dataframe tbody tr th {\n",
       "        vertical-align: top;\n",
       "    }\n",
       "\n",
       "    .dataframe thead th {\n",
       "        text-align: right;\n",
       "    }\n",
       "</style>\n",
       "<table border=\"1\" class=\"dataframe\">\n",
       "  <thead>\n",
       "    <tr style=\"text-align: right;\">\n",
       "      <th></th>\n",
       "      <th>uid</th>\n",
       "      <th>parent_uid</th>\n",
       "    </tr>\n",
       "  </thead>\n",
       "  <tbody>\n",
       "    <tr>\n",
       "      <th>0</th>\n",
       "      <td>805080</td>\n",
       "      <td>NaN</td>\n",
       "    </tr>\n",
       "    <tr>\n",
       "      <th>1</th>\n",
       "      <td>93302</td>\n",
       "      <td>805080.0</td>\n",
       "    </tr>\n",
       "    <tr>\n",
       "      <th>2</th>\n",
       "      <td>996421</td>\n",
       "      <td>93302.0</td>\n",
       "    </tr>\n",
       "    <tr>\n",
       "      <th>3</th>\n",
       "      <td>5246114</td>\n",
       "      <td>996421.0</td>\n",
       "    </tr>\n",
       "    <tr>\n",
       "      <th>4</th>\n",
       "      <td>102415</td>\n",
       "      <td>996421.0</td>\n",
       "    </tr>\n",
       "  </tbody>\n",
       "</table>\n",
       "</div>\n",
       "      <button class=\"colab-df-convert\" onclick=\"convertToInteractive('df-df790e9a-5219-47eb-9d0c-a5bcd296a1c5')\"\n",
       "              title=\"Convert this dataframe to an interactive table.\"\n",
       "              style=\"display:none;\">\n",
       "        \n",
       "  <svg xmlns=\"http://www.w3.org/2000/svg\" height=\"24px\"viewBox=\"0 0 24 24\"\n",
       "       width=\"24px\">\n",
       "    <path d=\"M0 0h24v24H0V0z\" fill=\"none\"/>\n",
       "    <path d=\"M18.56 5.44l.94 2.06.94-2.06 2.06-.94-2.06-.94-.94-2.06-.94 2.06-2.06.94zm-11 1L8.5 8.5l.94-2.06 2.06-.94-2.06-.94L8.5 2.5l-.94 2.06-2.06.94zm10 10l.94 2.06.94-2.06 2.06-.94-2.06-.94-.94-2.06-.94 2.06-2.06.94z\"/><path d=\"M17.41 7.96l-1.37-1.37c-.4-.4-.92-.59-1.43-.59-.52 0-1.04.2-1.43.59L10.3 9.45l-7.72 7.72c-.78.78-.78 2.05 0 2.83L4 21.41c.39.39.9.59 1.41.59.51 0 1.02-.2 1.41-.59l7.78-7.78 2.81-2.81c.8-.78.8-2.07 0-2.86zM5.41 20L4 18.59l7.72-7.72 1.47 1.35L5.41 20z\"/>\n",
       "  </svg>\n",
       "      </button>\n",
       "      \n",
       "  <style>\n",
       "    .colab-df-container {\n",
       "      display:flex;\n",
       "      flex-wrap:wrap;\n",
       "      gap: 12px;\n",
       "    }\n",
       "\n",
       "    .colab-df-convert {\n",
       "      background-color: #E8F0FE;\n",
       "      border: none;\n",
       "      border-radius: 50%;\n",
       "      cursor: pointer;\n",
       "      display: none;\n",
       "      fill: #1967D2;\n",
       "      height: 32px;\n",
       "      padding: 0 0 0 0;\n",
       "      width: 32px;\n",
       "    }\n",
       "\n",
       "    .colab-df-convert:hover {\n",
       "      background-color: #E2EBFA;\n",
       "      box-shadow: 0px 1px 2px rgba(60, 64, 67, 0.3), 0px 1px 3px 1px rgba(60, 64, 67, 0.15);\n",
       "      fill: #174EA6;\n",
       "    }\n",
       "\n",
       "    [theme=dark] .colab-df-convert {\n",
       "      background-color: #3B4455;\n",
       "      fill: #D2E3FC;\n",
       "    }\n",
       "\n",
       "    [theme=dark] .colab-df-convert:hover {\n",
       "      background-color: #434B5C;\n",
       "      box-shadow: 0px 1px 3px 1px rgba(0, 0, 0, 0.15);\n",
       "      filter: drop-shadow(0px 1px 2px rgba(0, 0, 0, 0.3));\n",
       "      fill: #FFFFFF;\n",
       "    }\n",
       "  </style>\n",
       "\n",
       "      <script>\n",
       "        const buttonEl =\n",
       "          document.querySelector('#df-df790e9a-5219-47eb-9d0c-a5bcd296a1c5 button.colab-df-convert');\n",
       "        buttonEl.style.display =\n",
       "          google.colab.kernel.accessAllowed ? 'block' : 'none';\n",
       "\n",
       "        async function convertToInteractive(key) {\n",
       "          const element = document.querySelector('#df-df790e9a-5219-47eb-9d0c-a5bcd296a1c5');\n",
       "          const dataTable =\n",
       "            await google.colab.kernel.invokeFunction('convertToInteractive',\n",
       "                                                     [key], {});\n",
       "          if (!dataTable) return;\n",
       "\n",
       "          const docLinkHtml = 'Like what you see? Visit the ' +\n",
       "            '<a target=\"_blank\" href=https://colab.research.google.com/notebooks/data_table.ipynb>data table notebook</a>'\n",
       "            + ' to learn more about interactive tables.';\n",
       "          element.innerHTML = '';\n",
       "          dataTable['output_type'] = 'display_data';\n",
       "          await google.colab.output.renderOutput(dataTable, element);\n",
       "          const docLink = document.createElement('div');\n",
       "          docLink.innerHTML = docLinkHtml;\n",
       "          element.appendChild(docLink);\n",
       "        }\n",
       "      </script>\n",
       "    </div>\n",
       "  </div>\n",
       "  "
      ],
      "text/plain": [
       "       uid  parent_uid\n",
       "0   805080         NaN\n",
       "1    93302    805080.0\n",
       "2   996421     93302.0\n",
       "3  5246114    996421.0\n",
       "4   102415    996421.0"
      ]
     },
     "execution_count": 33,
     "metadata": {},
     "output_type": "execute_result"
    }
   ],
   "source": [
    "edges.head()"
   ]
  },
  {
   "cell_type": "markdown",
   "metadata": {
    "id": "9sKW5fdsVkEL"
   },
   "source": [
    "Now we are ready to use yet another powerful function of Pandas: the `join` function."
   ]
  },
  {
   "cell_type": "code",
   "execution_count": 34,
   "metadata": {
    "id": "aWWenmfsVkEL"
   },
   "outputs": [],
   "source": [
    "# Add a new column, matching the uid with the node_idx.\n",
    "edges = edges.join(uid2idx, on='uid')"
   ]
  },
  {
   "cell_type": "code",
   "execution_count": 35,
   "metadata": {
    "id": "eOR91_6uVkEL"
   },
   "outputs": [],
   "source": [
    "# Do the same with the parent_uid.\n",
    "edges = edges.join(uid2idx, on='parent_uid', rsuffix='_parent')"
   ]
  },
  {
   "cell_type": "code",
   "execution_count": 36,
   "metadata": {
    "id": "34GKL0Y4VkEL"
   },
   "outputs": [],
   "source": [
    "# Drop the uids.\n",
    "edges_renumbered = edges.drop(columns=['uid','parent_uid'])"
   ]
  },
  {
   "cell_type": "markdown",
   "metadata": {
    "id": "8OHHqEfuVkEL"
   },
   "source": [
    "The `edges_renumbered` table is a list of renumbered edges connecting each node to its parent."
   ]
  },
  {
   "cell_type": "code",
   "execution_count": 37,
   "metadata": {
    "colab": {
     "base_uri": "https://localhost:8080/",
     "height": 206
    },
    "id": "uwt2pTcvVkEL",
    "outputId": "bf9837a2-1087-4eb2-feed-ad1a47c92c62"
   },
   "outputs": [
    {
     "data": {
      "text/html": [
       "\n",
       "  <div id=\"df-dc54d5e3-2aee-4745-8dc6-728cbbcd0d88\">\n",
       "    <div class=\"colab-df-container\">\n",
       "      <div>\n",
       "<style scoped>\n",
       "    .dataframe tbody tr th:only-of-type {\n",
       "        vertical-align: middle;\n",
       "    }\n",
       "\n",
       "    .dataframe tbody tr th {\n",
       "        vertical-align: top;\n",
       "    }\n",
       "\n",
       "    .dataframe thead th {\n",
       "        text-align: right;\n",
       "    }\n",
       "</style>\n",
       "<table border=\"1\" class=\"dataframe\">\n",
       "  <thead>\n",
       "    <tr style=\"text-align: right;\">\n",
       "      <th></th>\n",
       "      <th>node_idx</th>\n",
       "      <th>node_idx_parent</th>\n",
       "    </tr>\n",
       "  </thead>\n",
       "  <tbody>\n",
       "    <tr>\n",
       "      <th>0</th>\n",
       "      <td>0</td>\n",
       "      <td>NaN</td>\n",
       "    </tr>\n",
       "    <tr>\n",
       "      <th>1</th>\n",
       "      <td>1</td>\n",
       "      <td>0.0</td>\n",
       "    </tr>\n",
       "    <tr>\n",
       "      <th>2</th>\n",
       "      <td>2</td>\n",
       "      <td>1.0</td>\n",
       "    </tr>\n",
       "    <tr>\n",
       "      <th>3</th>\n",
       "      <td>3</td>\n",
       "      <td>2.0</td>\n",
       "    </tr>\n",
       "    <tr>\n",
       "      <th>4</th>\n",
       "      <td>4</td>\n",
       "      <td>2.0</td>\n",
       "    </tr>\n",
       "  </tbody>\n",
       "</table>\n",
       "</div>\n",
       "      <button class=\"colab-df-convert\" onclick=\"convertToInteractive('df-dc54d5e3-2aee-4745-8dc6-728cbbcd0d88')\"\n",
       "              title=\"Convert this dataframe to an interactive table.\"\n",
       "              style=\"display:none;\">\n",
       "        \n",
       "  <svg xmlns=\"http://www.w3.org/2000/svg\" height=\"24px\"viewBox=\"0 0 24 24\"\n",
       "       width=\"24px\">\n",
       "    <path d=\"M0 0h24v24H0V0z\" fill=\"none\"/>\n",
       "    <path d=\"M18.56 5.44l.94 2.06.94-2.06 2.06-.94-2.06-.94-.94-2.06-.94 2.06-2.06.94zm-11 1L8.5 8.5l.94-2.06 2.06-.94-2.06-.94L8.5 2.5l-.94 2.06-2.06.94zm10 10l.94 2.06.94-2.06 2.06-.94-2.06-.94-.94-2.06-.94 2.06-2.06.94z\"/><path d=\"M17.41 7.96l-1.37-1.37c-.4-.4-.92-.59-1.43-.59-.52 0-1.04.2-1.43.59L10.3 9.45l-7.72 7.72c-.78.78-.78 2.05 0 2.83L4 21.41c.39.39.9.59 1.41.59.51 0 1.02-.2 1.41-.59l7.78-7.78 2.81-2.81c.8-.78.8-2.07 0-2.86zM5.41 20L4 18.59l7.72-7.72 1.47 1.35L5.41 20z\"/>\n",
       "  </svg>\n",
       "      </button>\n",
       "      \n",
       "  <style>\n",
       "    .colab-df-container {\n",
       "      display:flex;\n",
       "      flex-wrap:wrap;\n",
       "      gap: 12px;\n",
       "    }\n",
       "\n",
       "    .colab-df-convert {\n",
       "      background-color: #E8F0FE;\n",
       "      border: none;\n",
       "      border-radius: 50%;\n",
       "      cursor: pointer;\n",
       "      display: none;\n",
       "      fill: #1967D2;\n",
       "      height: 32px;\n",
       "      padding: 0 0 0 0;\n",
       "      width: 32px;\n",
       "    }\n",
       "\n",
       "    .colab-df-convert:hover {\n",
       "      background-color: #E2EBFA;\n",
       "      box-shadow: 0px 1px 2px rgba(60, 64, 67, 0.3), 0px 1px 3px 1px rgba(60, 64, 67, 0.15);\n",
       "      fill: #174EA6;\n",
       "    }\n",
       "\n",
       "    [theme=dark] .colab-df-convert {\n",
       "      background-color: #3B4455;\n",
       "      fill: #D2E3FC;\n",
       "    }\n",
       "\n",
       "    [theme=dark] .colab-df-convert:hover {\n",
       "      background-color: #434B5C;\n",
       "      box-shadow: 0px 1px 3px 1px rgba(0, 0, 0, 0.15);\n",
       "      filter: drop-shadow(0px 1px 2px rgba(0, 0, 0, 0.3));\n",
       "      fill: #FFFFFF;\n",
       "    }\n",
       "  </style>\n",
       "\n",
       "      <script>\n",
       "        const buttonEl =\n",
       "          document.querySelector('#df-dc54d5e3-2aee-4745-8dc6-728cbbcd0d88 button.colab-df-convert');\n",
       "        buttonEl.style.display =\n",
       "          google.colab.kernel.accessAllowed ? 'block' : 'none';\n",
       "\n",
       "        async function convertToInteractive(key) {\n",
       "          const element = document.querySelector('#df-dc54d5e3-2aee-4745-8dc6-728cbbcd0d88');\n",
       "          const dataTable =\n",
       "            await google.colab.kernel.invokeFunction('convertToInteractive',\n",
       "                                                     [key], {});\n",
       "          if (!dataTable) return;\n",
       "\n",
       "          const docLinkHtml = 'Like what you see? Visit the ' +\n",
       "            '<a target=\"_blank\" href=https://colab.research.google.com/notebooks/data_table.ipynb>data table notebook</a>'\n",
       "            + ' to learn more about interactive tables.';\n",
       "          element.innerHTML = '';\n",
       "          dataTable['output_type'] = 'display_data';\n",
       "          await google.colab.output.renderOutput(dataTable, element);\n",
       "          const docLink = document.createElement('div');\n",
       "          docLink.innerHTML = docLinkHtml;\n",
       "          element.appendChild(docLink);\n",
       "        }\n",
       "      </script>\n",
       "    </div>\n",
       "  </div>\n",
       "  "
      ],
      "text/plain": [
       "   node_idx  node_idx_parent\n",
       "0         0              NaN\n",
       "1         1              0.0\n",
       "2         2              1.0\n",
       "3         3              2.0\n",
       "4         4              2.0"
      ]
     },
     "execution_count": 37,
     "metadata": {},
     "output_type": "execute_result"
    }
   ],
   "source": [
    "edges_renumbered.head()"
   ]
  },
  {
   "cell_type": "markdown",
   "metadata": {
    "id": "7SmlvzyuVkEM"
   },
   "source": [
    "## Building the (unweighted and undirected) adjacency matrix\n",
    "\n",
    "We will use numpy to build this matrix. Note that we don't have edge weights here, so our graph is going to be unweighted."
   ]
  },
  {
   "cell_type": "code",
   "execution_count": 41,
   "metadata": {
    "id": "JIg_5ybfVkEM"
   },
   "outputs": [],
   "source": [
    "n_nodes = len(nodes)\n",
    "adjacency = np.zeros((n_nodes, n_nodes), dtype=int)"
   ]
  },
  {
   "cell_type": "code",
   "execution_count": 42,
   "metadata": {
    "id": "bmnuRKSdVkEM"
   },
   "outputs": [],
   "source": [
    "for idx, row in edges.iterrows():\n",
    "    if np.isnan(row.node_idx_parent):\n",
    "        continue\n",
    "    i, j = int(row.node_idx), int(row.node_idx_parent)\n",
    "    adjacency[i, j] = 1  # weight\n",
    "    adjacency[j, i] = 1  # weight to obtain an undirected network, can you think about an alternative way?"
   ]
  },
  {
   "cell_type": "code",
   "execution_count": 40,
   "metadata": {
    "colab": {
     "base_uri": "https://localhost:8080/"
    },
    "id": "fEreVd53VkEM",
    "outputId": "c8535a8a-fed6-4e4f-ac10-a7e8afa58739"
   },
   "outputs": [
    {
     "data": {
      "text/plain": [
       "array([[0, 1, 0, 0, 0, 0, 0, 0, 0, 0, 0, 0, 0, 0, 0],\n",
       "       [1, 0, 1, 0, 0, 0, 0, 0, 0, 0, 0, 0, 0, 0, 0],\n",
       "       [0, 1, 0, 1, 1, 0, 0, 0, 0, 0, 0, 0, 0, 0, 0],\n",
       "       [0, 0, 1, 0, 0, 0, 0, 0, 0, 0, 0, 0, 0, 0, 0],\n",
       "       [0, 0, 1, 0, 0, 1, 1, 0, 0, 0, 0, 0, 0, 0, 0],\n",
       "       [0, 0, 0, 0, 1, 0, 0, 0, 0, 0, 0, 0, 0, 0, 0],\n",
       "       [0, 0, 0, 0, 1, 0, 0, 1, 1, 1, 1, 1, 1, 0, 0],\n",
       "       [0, 0, 0, 0, 0, 0, 1, 0, 0, 0, 0, 0, 0, 0, 0],\n",
       "       [0, 0, 0, 0, 0, 0, 1, 0, 0, 0, 0, 0, 0, 0, 0],\n",
       "       [0, 0, 0, 0, 0, 0, 1, 0, 0, 0, 0, 0, 0, 0, 0],\n",
       "       [0, 0, 0, 0, 0, 0, 1, 0, 0, 0, 0, 0, 0, 0, 0],\n",
       "       [0, 0, 0, 0, 0, 0, 1, 0, 0, 0, 0, 0, 0, 0, 0],\n",
       "       [0, 0, 0, 0, 0, 0, 1, 0, 0, 0, 0, 0, 0, 1, 0],\n",
       "       [0, 0, 0, 0, 0, 0, 0, 0, 0, 0, 0, 0, 1, 0, 1],\n",
       "       [0, 0, 0, 0, 0, 0, 0, 0, 0, 0, 0, 0, 0, 1, 0]])"
      ]
     },
     "execution_count": 40,
     "metadata": {},
     "output_type": "execute_result"
    }
   ],
   "source": [
    "adjacency[:15, :15]"
   ]
  },
  {
   "cell_type": "markdown",
   "metadata": {
    "id": "nrtMJRreVkEM"
   },
   "source": [
    "Congratulations, you have built the adjacency matrix!"
   ]
  },
  {
   "cell_type": "markdown",
   "metadata": {
    "id": "dw8FDPhsVkEM"
   },
   "source": [
    "## The graph\n",
    "\n",
    "Using NetworkX"
   ]
  },
  {
   "cell_type": "code",
   "execution_count": 47,
   "metadata": {
    "id": "yc3g2TAoVkEM"
   },
   "outputs": [],
   "source": [
    "# A simple command to create the graph from the adjacency matrix.\n",
    "graph = nx.from_numpy_array(adjacency)"
   ]
  },
  {
   "cell_type": "markdown",
   "metadata": {
    "id": "YhSUXKfTVkEM"
   },
   "source": [
    "In addition, let us add some attributes to the nodes:"
   ]
  },
  {
   "cell_type": "code",
   "execution_count": 48,
   "metadata": {
    "id": "g_0sYOTBVkEN"
   },
   "outputs": [],
   "source": [
    "node_props = nodes.to_dict()"
   ]
  },
  {
   "cell_type": "code",
   "execution_count": 52,
   "metadata": {
    "colab": {
     "base_uri": "https://localhost:8080/"
    },
    "id": "yEoXYT2MVkEN",
    "outputId": "b42aaf71-4a65-406b-b955-6723d2dc1641"
   },
   "outputs": [
    {
     "name": "stdout",
     "output_type": "stream",
     "text": [
      "node_idx {0: 0, 1: 1, 2: 2, 3: 3, 4: 4, 5: 5, 6: 6, 7: 7, 8: 8, 9: 9, 10: 10, 11: 11, 12: 12, 13: 13, 14: 14, 15: 15, 16: 16, 17: 17, 18: 18, 19: 19, 20: 20, 21: 21, 22: 22, 23: 23, 24: 24, 25: 25, 26: 26, 27: 27, 28: 28, 29: 29, 30: 30, 31: 31, 32: 32, 33: 33, 34: 34, 35: 35, 36: 36, 37: 37, 38: 38, 39: 39, 40: 40, 41: 41, 42: 42, 43: 43, 44: 44, 45: 45, 46: 46, 47: 47, 48: 48, 49: 49, 50: 50, 51: 51, 52: 52, 53: 53, 54: 54, 55: 55, 56: 56, 57: 57, 58: 58, 59: 59, 60: 60, 61: 61, 62: 62, 63: 63, 64: 64, 65: 65, 66: 66, 67: 67, 68: 68, 69: 69, 70: 70, 71: 71, 72: 72, 73: 73, 74: 74, 75: 75, 76: 76, 77: 77, 78: 78, 79: 79, 80: 80, 81: 81, 82: 82, 83: 83, 84: 84, 85: 85, 86: 86, 87: 87, 88: 88, 89: 89, 90: 90, 91: 91, 92: 92, 93: 93, 94: 94, 95: 95, 96: 96, 97: 97, 98: 98, 99: 99, 100: 100, 101: 101, 102: 102, 103: 103, 104: 104, 105: 105, 106: 106, 107: 107, 108: 108, 109: 109, 110: 110, 111: 111, 112: 112, 113: 113, 114: 114, 115: 115, 116: 116, 117: 117, 118: 118, 119: 119, 120: 120, 121: 121, 122: 122, 123: 123, 124: 124, 125: 125, 126: 126, 127: 127, 128: 128, 129: 129, 130: 130, 131: 131, 132: 132, 133: 133, 134: 134, 135: 135, 136: 136, 137: 137, 138: 138, 139: 139, 140: 140, 141: 141, 142: 142, 143: 143, 144: 144, 145: 145, 146: 146, 147: 147, 148: 148, 149: 149, 150: 150, 151: 151, 152: 152, 153: 153, 154: 154, 155: 155, 156: 156, 157: 157, 158: 158, 159: 159, 160: 160, 161: 161, 162: 162, 163: 163, 164: 164, 165: 165, 166: 166, 167: 167, 168: 168, 169: 169, 170: 170, 171: 171, 172: 172, 173: 173, 174: 174, 175: 175, 176: 176, 177: 177, 178: 178, 179: 179, 180: 180, 181: 181, 182: 182, 183: 183, 184: 184, 185: 185, 186: 186, 187: 187, 188: 188, 189: 189, 190: 190, 191: 191, 192: 192, 193: 193, 194: 194, 195: 195, 196: 196, 197: 197, 198: 198, 199: 199, 200: 200, 201: 201, 202: 202, 203: 203, 204: 204, 205: 205, 206: 206, 207: 207, 208: 208, 209: 209, 210: 210, 211: 211, 212: 212, 213: 213, 214: 214, 215: 215, 216: 216, 217: 217, 218: 218, 219: 219, 220: 220, 221: 221, 222: 222, 223: 223, 224: 224, 225: 225, 226: 226, 227: 227, 228: 228, 229: 229, 230: 230, 231: 231, 232: 232, 233: 233, 234: 234, 235: 235, 236: 236, 237: 237, 238: 238, 239: 239, 240: 240, 241: 241, 242: 242, 243: 243, 244: 244, 245: 245, 246: 246, 247: 247, 248: 248, 249: 249, 250: 250, 251: 251, 252: 252, 253: 253, 254: 254, 255: 255, 256: 256, 257: 257, 258: 258, 259: 259, 260: 260, 261: 261, 262: 262, 263: 263, 264: 264, 265: 265, 266: 266, 267: 267, 268: 268, 269: 269, 270: 270, 271: 271, 272: 272, 273: 273, 274: 274, 275: 275, 276: 276, 277: 277, 278: 278, 279: 279, 280: 280, 281: 281, 282: 282, 283: 283, 284: 284, 285: 285, 286: 286, 287: 287, 288: 288, 289: 289, 290: 290, 291: 291, 292: 292, 293: 293, 294: 294, 295: 295, 296: 296, 297: 297, 298: 298, 299: 299, 300: 300, 301: 301, 302: 302, 303: 303, 304: 304, 305: 305, 306: 306, 307: 307, 308: 308, 309: 309, 310: 310, 311: 311, 312: 312, 313: 313, 314: 314, 315: 315, 316: 316, 317: 317, 318: 318, 319: 319, 320: 320, 321: 321, 322: 322, 323: 323, 324: 324, 325: 325, 326: 326, 327: 327, 328: 328, 329: 329, 330: 330, 331: 331, 332: 332, 333: 333, 334: 334, 335: 335, 336: 336, 337: 337, 338: 338, 339: 339, 340: 340, 341: 341, 342: 342, 343: 343, 344: 344, 345: 345, 346: 346, 347: 347, 348: 348, 349: 349, 350: 350, 351: 351, 352: 352, 353: 353, 354: 354, 355: 355, 356: 356, 357: 357, 358: 358, 359: 359, 360: 360, 361: 361, 362: 362, 363: 363, 364: 364, 365: 365, 366: 366, 367: 367, 368: 368, 369: 369, 370: 370, 371: 371, 372: 372, 373: 373, 374: 374, 375: 375, 376: 376, 377: 377, 378: 378, 379: 379, 380: 380, 381: 381, 382: 382, 383: 383, 384: 384, 385: 385, 386: 386, 387: 387, 388: 388, 389: 389, 390: 390, 391: 391, 392: 392, 393: 393, 394: 394, 395: 395, 396: 396, 397: 397, 398: 398, 399: 399, 400: 400, 401: 401, 402: 402, 403: 403, 404: 404, 405: 405, 406: 406, 407: 407, 408: 408, 409: 409, 410: 410, 411: 411, 412: 412, 413: 413, 414: 414, 415: 415, 416: 416, 417: 417, 418: 418, 419: 419, 420: 420, 421: 421, 422: 422, 423: 423, 424: 424, 425: 425, 426: 426, 427: 427, 428: 428, 429: 429, 430: 430, 431: 431, 432: 432, 433: 433, 434: 434, 435: 435, 436: 436, 437: 437, 438: 438, 439: 439, 440: 440, 441: 441, 442: 442, 443: 443, 444: 444, 445: 445, 446: 446, 447: 447, 448: 448, 449: 449, 450: 450, 451: 451, 452: 452, 453: 453, 454: 454, 455: 455, 456: 456, 457: 457, 458: 458, 459: 459, 460: 460, 461: 461, 462: 462, 463: 463, 464: 464, 465: 465, 466: 466, 467: 467, 468: 468, 469: 469, 470: 470, 471: 471, 472: 472, 473: 473, 474: 474, 475: 475, 476: 476, 477: 477, 478: 478, 479: 479, 480: 480, 481: 481, 482: 482, 483: 483, 484: 484, 485: 485, 486: 486, 487: 487, 488: 488, 489: 489, 490: 490, 491: 491, 492: 492, 493: 493, 494: 494, 495: 495, 496: 496, 497: 497, 498: 498, 499: 499, 500: 500, 501: 501, 502: 502, 503: 503, 504: 504, 505: 505, 506: 506, 507: 507, 508: 508, 509: 509, 510: 510, 511: 511, 512: 512, 513: 513, 514: 514, 515: 515, 516: 516, 517: 517, 518: 518, 519: 519, 520: 520, 521: 521, 522: 522, 523: 523, 524: 524, 525: 525, 526: 526, 527: 527, 528: 528, 529: 529, 530: 530, 531: 531, 532: 532, 533: 533, 534: 534, 535: 535, 536: 536, 537: 537, 538: 538, 539: 539, 540: 540, 541: 541, 542: 542, 543: 543, 544: 544, 545: 545, 546: 546, 547: 547, 548: 548, 549: 549, 550: 550, 551: 551, 552: 552, 553: 553, 554: 554, 555: 555, 556: 556, 557: 557, 558: 558, 559: 559, 560: 560, 561: 561, 562: 562, 563: 563, 564: 564, 565: 565, 566: 566, 567: 567, 568: 568, 569: 569, 570: 570, 571: 571, 572: 572, 573: 573, 574: 574, 575: 575, 576: 576, 577: 577, 578: 578, 579: 579, 580: 580, 581: 581, 582: 582, 583: 583, 584: 584, 585: 585, 586: 586, 587: 587, 588: 588, 589: 589, 590: 590, 591: 591, 592: 592, 593: 593, 594: 594, 595: 595, 596: 596, 597: 597, 598: 598, 599: 599, 600: 600, 601: 601, 602: 602, 603: 603, 604: 604, 605: 605, 606: 606, 607: 607, 608: 608, 609: 609, 610: 610, 611: 611, 612: 612, 613: 613, 614: 614, 615: 615, 616: 616, 617: 617, 618: 618, 619: 619, 620: 620, 621: 621, 622: 622, 623: 623, 624: 624, 625: 625, 626: 626, 627: 627, 628: 628, 629: 629, 630: 630, 631: 631, 632: 632, 633: 633, 634: 634, 635: 635, 636: 636, 637: 637, 638: 638, 639: 639, 640: 640, 641: 641, 642: 642, 643: 643, 644: 644, 645: 645, 646: 646, 647: 647, 648: 648, 649: 649, 650: 650, 651: 651, 652: 652, 653: 653, 654: 654, 655: 655, 656: 656, 657: 657, 658: 658, 659: 659, 660: 660, 661: 661, 662: 662, 663: 663, 664: 664, 665: 665, 666: 666, 667: 667, 668: 668, 669: 669, 670: 670, 671: 671, 672: 672, 673: 673, 674: 674, 675: 675, 676: 676, 677: 677, 678: 678, 679: 679, 680: 680, 681: 681, 682: 682, 683: 683, 684: 684, 685: 685, 686: 686, 687: 687, 688: 688, 689: 689, 690: 690, 691: 691, 692: 692, 693: 693, 694: 694, 695: 695, 696: 696, 697: 697, 698: 698, 699: 699, 700: 700, 701: 701, 702: 702, 703: 703, 704: 704, 705: 705, 706: 706, 707: 707, 708: 708, 709: 709, 710: 710, 711: 711, 712: 712, 713: 713, 714: 714, 715: 715, 716: 716, 717: 717, 718: 718, 719: 719, 720: 720, 721: 721, 722: 722, 723: 723, 724: 724, 725: 725, 726: 726, 727: 727, 728: 728, 729: 729, 730: 730, 731: 731, 732: 732, 733: 733, 734: 734, 735: 735, 736: 736, 737: 737, 738: 738, 739: 739, 740: 740, 741: 741, 742: 742, 743: 743, 744: 744, 745: 745, 746: 746, 747: 747, 748: 748, 749: 749, 750: 750, 751: 751, 752: 752, 753: 753, 754: 754, 755: 755, 756: 756, 757: 757, 758: 758, 759: 759, 760: 760, 761: 761, 762: 762, 763: 763, 764: 764, 765: 765, 766: 766, 767: 767, 768: 768, 769: 769, 770: 770, 771: 771, 772: 772, 773: 773, 774: 774, 775: 775, 776: 776, 777: 777, 778: 778, 779: 779, 780: 780, 781: 781, 782: 782, 783: 783, 784: 784, 785: 785, 786: 786, 787: 787, 788: 788, 789: 789, 790: 790, 791: 791, 792: 792, 793: 793, 794: 794, 795: 795, 796: 796, 797: 797, 798: 798, 799: 799, 800: 800, 801: 801, 802: 802, 803: 803, 804: 804, 805: 805, 806: 806, 807: 807, 808: 808, 809: 809, 810: 810, 811: 811, 812: 812, 813: 813, 814: 814, 815: 815, 816: 816, 817: 817, 818: 818, 819: 819, 820: 820, 821: 821, 822: 822, 823: 823, 824: 824, 825: 825, 826: 826, 827: 827, 828: 828, 829: 829, 830: 830, 831: 831, 832: 832, 833: 833, 834: 834, 835: 835, 836: 836, 837: 837, 838: 838, 839: 839, 840: 840, 841: 841, 842: 842, 843: 843, 844: 844, 845: 845, 846: 846, 847: 847, 848: 848, 849: 849, 850: 850, 851: 851, 852: 852, 853: 853, 854: 854, 855: 855, 856: 856, 857: 857, 858: 858, 859: 859, 860: 860, 861: 861, 862: 862, 863: 863, 864: 864, 865: 865, 866: 866, 867: 867, 868: 868, 869: 869, 870: 870, 871: 871, 872: 872, 873: 873, 874: 874, 875: 875, 876: 876, 877: 877, 878: 878, 879: 879, 880: 880, 881: 881, 882: 882, 883: 883, 884: 884, 885: 885, 886: 886, 887: 887, 888: 888, 889: 889, 890: 890, 891: 891, 892: 892, 893: 893, 894: 894, 895: 895, 896: 896, 897: 897, 898: 898, 899: 899, 900: 900, 901: 901, 902: 902, 903: 903, 904: 904, 905: 905, 906: 906, 907: 907, 908: 908, 909: 909, 910: 910, 911: 911, 912: 912, 913: 913, 914: 914, 915: 915, 916: 916, 917: 917, 918: 918, 919: 919, 920: 920, 921: 921, 922: 922, 923: 923, 924: 924, 925: 925, 926: 926, 927: 927, 928: 928, 929: 929, 930: 930, 931: 931, 932: 932, 933: 933, 934: 934, 935: 935, 936: 936, 937: 937, 938: 938, 939: 939, 940: 940, 941: 941, 942: 942, 943: 943, 944: 944, 945: 945, 946: 946, 947: 947, 948: 948, 949: 949, 950: 950, 951: 951, 952: 952, 953: 953, 954: 954, 955: 955, 956: 956, 957: 957, 958: 958, 959: 959, 960: 960, 961: 961, 962: 962, 963: 963, 964: 964, 965: 965, 966: 966, 967: 967, 968: 968, 969: 969, 970: 970, 971: 971, 972: 972, 973: 973, 974: 974, 975: 975, 976: 976, 977: 977, 978: 978, 979: 979, 980: 980, 981: 981, 982: 982, 983: 983, 984: 984, 985: 985, 986: 986, 987: 987, 988: 988, 989: 989, 990: 990, 991: 991, 992: 992, 993: 993, 994: 994, 995: 995, 996: 996, 997: 997, 998: 998}\n",
      "uid {0: 805080, 1: 93302, 2: 996421, 3: 5246114, 4: 102415, 5: 5246628, 6: 4795965, 7: 5205649, 8: 5208050, 9: 5205092, 10: 5205072, 11: 5208765, 12: 179705, 13: 189165, 14: 888219, 15: 5207306, 16: 376618, 17: 4796244, 18: 4796252, 19: 5204995, 20: 363497, 21: 376617, 22: 5204996, 23: 5204994, 24: 5204998, 25: 5204999, 26: 5205398, 27: 5205625, 28: 5205019, 29: 5205058, 30: 5205057, 31: 5204997, 32: 5205427, 33: 5208046, 34: 5208240, 35: 5208589, 36: 5208762, 37: 770080, 38: 5574944, 39: 5207875, 40: 5208594, 41: 5208200, 42: 5207749, 43: 5208047, 44: 5274697, 45: 5208100, 46: 5208763, 47: 5207771, 48: 5205628, 49: 5207867, 50: 5205035, 51: 5207868, 52: 5205615, 53: 5207852, 54: 5205022, 55: 5205191, 56: 5205356, 57: 5208043, 58: 5208198, 59: 5205627, 60: 5208099, 61: 5207670, 62: 5208170, 63: 5208767, 64: 5574945, 65: 1018283, 66: 5208590, 67: 5205691, 68: 1018291, 69: 177954, 70: 889858, 71: 59398, 72: 784590, 73: 5580298, 74: 5580299, 75: 5205071, 76: 933985, 77: 5205000, 78: 5205049, 79: 5205038, 80: 5205026, 81: 5205067, 82: 5205042, 83: 5205014, 84: 5205025, 85: 5205068, 86: 5205024, 87: 5205060, 88: 5205047, 89: 5205046, 90: 5205013, 91: 5205045, 92: 5205006, 93: 5205016, 94: 5205003, 95: 5205018, 96: 5205061, 97: 5205044, 98: 5205056, 99: 5205005, 100: 5205063, 101: 5205040, 102: 5205012, 103: 5205051, 104: 5205069, 105: 5205008, 106: 5205027, 107: 5205055, 108: 5205004, 109: 5205034, 110: 5205066, 111: 5205053, 112: 5205070, 113: 5205028, 114: 5205009, 115: 5205021, 116: 5205062, 117: 5205007, 118: 5205002, 119: 5205033, 120: 5205015, 121: 5205032, 122: 5205020, 123: 5205037, 124: 5205030, 125: 5205052, 126: 5205010, 127: 5205064, 128: 5205065, 129: 5205041, 130: 5205031, 131: 5205001, 132: 5205043, 133: 5205036, 134: 5205029, 135: 5205017, 136: 5205011, 137: 5205050, 138: 5205048, 139: 5205054, 140: 5205039, 141: 701766, 142: 5574946, 143: 5574952, 144: 5574953, 145: 5247438, 146: 5574947, 147: 5574950, 148: 5205089, 149: 5205093, 150: 5574951, 151: 5574949, 152: 5205088, 153: 5205087, 154: 5574948, 155: 5205090, 156: 5205091, 157: 933987, 158: 5205074, 159: 5208197, 160: 5205358, 161: 5207873, 162: 5205360, 163: 5205382, 164: 5208115, 165: 604494, 166: 922836, 167: 5205357, 168: 5205629, 169: 5207855, 170: 5205365, 171: 5208257, 172: 5207871, 173: 5580292, 174: 5878051, 175: 5580295, 176: 5878048, 177: 5878053, 178: 5361995, 179: 770081, 180: 297988, 181: 136362, 182: 5580296, 183: 5205073, 184: 5878049, 185: 5878052, 186: 465781, 187: 5878047, 188: 5878050, 189: 5580293, 190: 5361994, 191: 933975, 192: 922115, 193: 5580294, 194: 5246629, 195: 5205059, 196: 5205648, 197: 5207853, 198: 5205558, 199: 5205171, 200: 5207748, 201: 5207149, 202: 5246635, 203: 5246643, 204: 5246636, 205: 5246651, 206: 5246633, 207: 5205909, 208: 5246634, 209: 5246649, 210: 5208593, 211: 5246625, 212: 5205620, 213: 5207854, 214: 5208511, 215: 5208020, 216: 5208563, 217: 5208749, 218: 5205910, 219: 5205948, 220: 5207698, 221: 5205908, 222: 5208426, 223: 5208806, 224: 5205385, 225: 5205314, 226: 5207905, 227: 5208057, 228: 5207787, 229: 5878054, 230: 5207788, 231: 5207804, 232: 5246630, 233: 5205086, 234: 5208097, 235: 5274699, 236: 5207913, 237: 5207909, 238: 5208622, 239: 5208623, 240: 5207910, 241: 5208598, 242: 4917978, 243: 5574954, 244: 4795961, 245: 5246646, 246: 5246627, 247: 5205313, 248: 5205368, 249: 5205475, 250: 5205395, 251: 5205480, 252: 5205295, 253: 5205481, 254: 5205477, 255: 5205566, 256: 5274698, 257: 5205695, 258: 5208322, 259: 5205297, 260: 5205479, 261: 5205593, 262: 5205286, 263: 5247440, 264: 5205476, 265: 5208787, 266: 5574957, 267: 378065, 268: 378062, 269: 5205408, 270: 5205562, 271: 5208591, 272: 811534, 273: 5207940, 274: 5205257, 275: 5205644, 276: 5208592, 277: 5205474, 278: 5205256, 279: 5580300, 280: 118845, 281: 5878060, 282: 400100, 283: 750289, 284: 5580302, 285: 5585661, 286: 5878061, 287: 5580301, 288: 5580303, 289: 5246647, 290: 5205023, 291: 5246652, 292: 5246644, 293: 5246632, 294: 5246640, 295: 5246639, 296: 5205892, 297: 5246638, 298: 5246637, 299: 5246648, 300: 5246642, 301: 5246641, 302: 5246645, 303: 5246631, 304: 5207933, 305: 5205954, 306: 5208822, 307: 5208823, 308: 5274700, 309: 5574955, 310: 4795963, 311: 5205311, 312: 5207939, 313: 5361996, 314: 4795964, 315: 5878063, 316: 5878064, 317: 5246626, 318: 5207849, 319: 5207568, 320: 5205935, 321: 5205316, 322: 5205619, 323: 5208729, 324: 5205622, 325: 5246650, 326: 5571543, 327: 5571544, 328: 4796256, 329: 4796257, 330: 4796258, 331: 5205891, 332: 5205094, 333: 4795960, 334: 5571545, 335: 686295, 336: 5878058, 337: 686307, 338: 5878055, 339: 5245645, 340: 5878057, 341: 5878056, 342: 5878059, 343: 5571817, 344: 5572076, 345: 5572081, 346: 5205134, 347: 5571608, 348: 5572091, 349: 5571913, 350: 5571779, 351: 5205232, 352: 5205205, 353: 5571764, 354: 5572010, 355: 5205133, 356: 5205165, 357: 5205209, 358: 5571753, 359: 5571554, 360: 5205196, 361: 5572070, 362: 5571846, 363: 5205252, 364: 5571835, 365: 5571625, 366: 5205168, 367: 5571811, 368: 5571635, 369: 5205189, 370: 5571866, 371: 5571795, 372: 5571963, 373: 5571758, 374: 5571906, 375: 5571581, 376: 5571949, 377: 5571887, 378: 5571964, 379: 5572029, 380: 5205164, 381: 5205154, 382: 5572037, 383: 5205180, 384: 5572014, 385: 5571995, 386: 5571785, 387: 5572009, 388: 5571907, 389: 5572043, 390: 5571725, 391: 5571703, 392: 5571886, 393: 5571609, 394: 5571599, 395: 5572038, 396: 5571904, 397: 5571917, 398: 5571843, 399: 5571920, 400: 5205229, 401: 5571885, 402: 5205136, 403: 5571601, 404: 5205238, 405: 5571654, 406: 5571799, 407: 5571600, 408: 5571937, 409: 5571877, 410: 5571570, 411: 5205216, 412: 5571911, 413: 5571822, 414: 5571681, 415: 5571783, 416: 5571759, 417: 5571677, 418: 5571711, 419: 5571693, 420: 5571766, 421: 5205167, 422: 5571586, 423: 5571925, 424: 5571710, 425: 5571585, 426: 5571837, 427: 5571592, 428: 5571567, 429: 5571560, 430: 5205127, 431: 5571615, 432: 5571928, 433: 5571952, 434: 5205178, 435: 5571798, 436: 5571992, 437: 5571744, 438: 5205193, 439: 5205104, 440: 5205249, 441: 5205117, 442: 5571648, 443: 5571563, 444: 5571856, 445: 5571734, 446: 5571809, 447: 5205101, 448: 5571980, 449: 5571714, 450: 5205241, 451: 5571660, 452: 5572093, 453: 5571722, 454: 5571924, 455: 5571602, 456: 5571639, 457: 5205224, 458: 5571627, 459: 5571595, 460: 5571851, 461: 5571808, 462: 5571998, 463: 5571884, 464: 5571634, 465: 5571664, 466: 5571978, 467: 5571938, 468: 5571671, 469: 5571854, 470: 5571985, 471: 5571981, 472: 5572024, 473: 5571721, 474: 5571598, 475: 5571643, 476: 5571742, 477: 5571919, 478: 5571966, 479: 5205144, 480: 5205114, 481: 5571984, 482: 5571745, 483: 5572054, 484: 5571673, 485: 5571967, 486: 5571596, 487: 5205125, 488: 5205179, 489: 5571613, 490: 5571584, 491: 5572074, 492: 5571786, 493: 5205246, 494: 5571804, 495: 5571773, 496: 5205146, 497: 5205187, 498: 5572068, 499: 5572078, 500: 5571990, 501: 5572025, 502: 5571999, 503: 5205230, 504: 5571894, 505: 5571674, 506: 5572072, 507: 5205143, 508: 5572031, 509: 5205152, 510: 5205158, 511: 5572089, 512: 5571872, 513: 5571922, 514: 5571876, 515: 5571750, 516: 5571571, 517: 5571629, 518: 5571988, 519: 5205124, 520: 5571797, 521: 5571882, 522: 5571604, 523: 5205113, 524: 5572059, 525: 5571781, 526: 5571736, 527: 5571676, 528: 5205110, 529: 5571723, 530: 5571620, 531: 5571945, 532: 5571640, 533: 5205151, 534: 5571819, 535: 5572087, 536: 5571796, 537: 5572019, 538: 5571842, 539: 5205176, 540: 5571829, 541: 5572047, 542: 5205116, 543: 5571898, 544: 5205185, 545: 5571942, 546: 5571977, 547: 5205111, 548: 5571617, 549: 5571713, 550: 5205121, 551: 5572062, 552: 5572064, 553: 5571761, 554: 5571860, 555: 5205115, 556: 5571770, 557: 5571719, 558: 5572053, 559: 5571918, 560: 5571915, 561: 5572033, 562: 5571874, 563: 5205129, 564: 5571838, 565: 5205217, 566: 5205244, 567: 5205099, 568: 5571557, 569: 5571960, 570: 5571688, 571: 5572039, 572: 5571566, 573: 5205157, 574: 5572058, 575: 5571982, 576: 5571923, 577: 5572060, 578: 5205095, 579: 5572083, 580: 5205255, 581: 5571547, 582: 5572088, 583: 5571852, 584: 5571864, 585: 5572018, 586: 5205126, 587: 5571805, 588: 5571606, 589: 5571767, 590: 5571661, 591: 5571612, 592: 5205097, 593: 5571950, 594: 5205221, 595: 5571827, 596: 5571587, 597: 5205096, 598: 5571769, 599: 5571791, 600: 5572001, 601: 5571562, 602: 5571593, 603: 5571971, 604: 5571706, 605: 5205199, 606: 5571738, 607: 5571741, 608: 5572084, 609: 5571863, 610: 5571631, 611: 5205132, 612: 5572005, 613: 5571792, 614: 5571855, 615: 5205233, 616: 5205109, 617: 5571979, 618: 5571836, 619: 5205135, 620: 5571832, 621: 5571968, 622: 5571707, 623: 5205141, 624: 5205140, 625: 5572013, 626: 5572008, 627: 5572021, 628: 5572077, 629: 5571987, 630: 5571729, 631: 5205182, 632: 5571825, 633: 5205198, 634: 5572046, 635: 5205142, 636: 5571954, 637: 5572073, 638: 5205254, 639: 5571972, 640: 5205212, 641: 5571733, 642: 5205240, 643: 5571776, 644: 5571644, 645: 5571623, 646: 5572000, 647: 5571555, 648: 5572004, 649: 5571908, 650: 5571572, 651: 5571970, 652: 5572027, 653: 5205211, 654: 5205169, 655: 5571873, 656: 5571642, 657: 5571868, 658: 5571989, 659: 5572030, 660: 5572028, 661: 5571774, 662: 5572049, 663: 5572063, 664: 5205106, 665: 5571965, 666: 5571892, 667: 5205202, 668: 5571605, 669: 5205156, 670: 5571951, 671: 5205155, 672: 5205215, 673: 5571579, 674: 5571561, 675: 5571958, 676: 5571726, 677: 5205181, 678: 5205105, 679: 5205197, 680: 5571901, 681: 5572022, 682: 5571879, 683: 5205138, 684: 5571755, 685: 5205145, 686: 5571683, 687: 5571633, 688: 5571793, 689: 5572055, 690: 5572092, 691: 5571784, 692: 5571651, 693: 5571883, 694: 5571941, 695: 5571765, 696: 5571802, 697: 5571902, 698: 5571824, 699: 5572002, 700: 5205128, 701: 5571686, 702: 5205108, 703: 5571929, 704: 5571875, 705: 5571859, 706: 5572045, 707: 5571789, 708: 5571659, 709: 5571749, 710: 5571820, 711: 5571751, 712: 5571662, 713: 5205194, 714: 5571903, 715: 5571912, 716: 5205137, 717: 5571763, 718: 5571833, 719: 5571947, 720: 5571752, 721: 5571632, 722: 5571705, 723: 5571694, 724: 5571657, 725: 5571893, 726: 5572090, 727: 5571698, 728: 5572036, 729: 5571718, 730: 5571708, 731: 5205174, 732: 5571840, 733: 5571896, 734: 5205206, 735: 5571994, 736: 5571739, 737: 5571610, 738: 5205207, 739: 5571996, 740: 5205223, 741: 5571858, 742: 5571910, 743: 5571818, 744: 5571588, 745: 5571826, 746: 5571546, 747: 5572044, 748: 5571720, 749: 5571934, 750: 5205247, 751: 5571780, 752: 5571927, 753: 5571658, 754: 5571641, 755: 5571895, 756: 5571700, 757: 5572048, 758: 5571699, 759: 5205234, 760: 5571897, 761: 5571946, 762: 5205218, 763: 5571582, 764: 5205237, 765: 5571653, 766: 5571881, 767: 5205201, 768: 5571583, 769: 5572015, 770: 5571930, 771: 5571841, 772: 5205118, 773: 5571800, 774: 5571689, 775: 5205227, 776: 5571916, 777: 5571787, 778: 5571944, 779: 5571771, 780: 5205102, 781: 5571624, 782: 5571955, 783: 5205173, 784: 5205162, 785: 5571899, 786: 5571943, 787: 5571790, 788: 5572082, 789: 5571680, 790: 5571724, 791: 5571691, 792: 5571578, 793: 5571735, 794: 5205098, 795: 5571716, 796: 5571556, 797: 5572026, 798: 5205119, 799: 5571867, 800: 5571652, 801: 5571656, 802: 5571909, 803: 5571813, 804: 5571806, 805: 5572051, 806: 5571590, 807: 5571936, 808: 5571939, 809: 5571621, 810: 5571717, 811: 5571715, 812: 5205172, 813: 5205153, 814: 5571997, 815: 5571577, 816: 5571709, 817: 5571692, 818: 5572075, 819: 5571948, 820: 5572069, 821: 5572011, 822: 5571630, 823: 5571889, 824: 5205236, 825: 5571728, 826: 5572007, 827: 5571914, 828: 5205159, 829: 5571933, 830: 5571768, 831: 5205250, 832: 5571580, 833: 5205242, 834: 5571839, 835: 5571782, 836: 5572061, 837: 5571568, 838: 5572020, 839: 5571616, 840: 5572086, 841: 5571845, 842: 5571757, 843: 5205190, 844: 5571638, 845: 5571668, 846: 5571737, 847: 5571569, 848: 5572080, 849: 5205219, 850: 5572066, 851: 5572079, 852: 5205200, 853: 5571849, 854: 5571690, 855: 5571574, 856: 5205160, 857: 5571857, 858: 5572071, 859: 5571551, 860: 5205203, 861: 5571682, 862: 5571731, 863: 5205148, 864: 5571746, 865: 5571637, 866: 5571760, 867: 5205213, 868: 5205243, 869: 5571861, 870: 5205107, 871: 5571975, 872: 5571810, 873: 5571669, 874: 5571704, 875: 5205228, 876: 5571678, 877: 5571666, 878: 5205184, 879: 5572057, 880: 5571932, 881: 5571812, 882: 5205100, 883: 5571976, 884: 5571549, 885: 5571622, 886: 5571801, 887: 5205188, 888: 5205112, 889: 5571695, 890: 5205161, 891: 5571816, 892: 5571777, 893: 5571684, 894: 5571589, 895: 5205204, 896: 5571553, 897: 5571628, 898: 5571552, 899: 5571665, 900: 5572067, 901: 5205149, 902: 5205248, 903: 5571575, 904: 5572012, 905: 5571645, 906: 5571953, 907: 5571576, 908: 5571828, 909: 5571626, 910: 5572035, 911: 5571732, 912: 5571772, 913: 5571548, 914: 5571821, 915: 5571803, 916: 5571670, 917: 5571619, 918: 5571986, 919: 5571647, 920: 5571573, 921: 5571878, 922: 5205139, 923: 5571559, 924: 5571687, 925: 5571597, 926: 5571959, 927: 5571788, 928: 5205147, 929: 5571974, 930: 5572034, 931: 5571880, 932: 5571685, 933: 5571675, 934: 5571957, 935: 5571603, 936: 5205186, 937: 5572042, 938: 5205195, 939: 5205226, 940: 5571931, 941: 5571565, 942: 5205231, 943: 5572003, 944: 5572056, 945: 5571871, 946: 5571853, 947: 5571727, 948: 5205210, 949: 5205120, 950: 5571991, 951: 5205208, 952: 5571636, 953: 5205214, 954: 5572065, 955: 5205253, 956: 5205103, 957: 5205170, 958: 5571672, 959: 5571702, 960: 5572085, 961: 5571848, 962: 5571993, 963: 5205163, 964: 5571730, 965: 5571663, 966: 5572017, 967: 5571778, 968: 5205177, 969: 5205123, 970: 5205150, 971: 5571747, 972: 5571649, 973: 5572006, 974: 5205251, 975: 5571794, 976: 5571869, 977: 5571712, 978: 5571961, 979: 5571926, 980: 5205222, 981: 5571900, 982: 5205166, 983: 5571740, 984: 5205235, 985: 5571679, 986: 5571865, 987: 5571850, 988: 5571611, 989: 5572016, 990: 5571969, 991: 5571667, 992: 5571890, 993: 5571807, 994: 5571591, 995: 5571756, 996: 5571888, 997: 5205131, 998: 5572032}\n",
      "name {0: 'life', 1: 'cellular organisms', 2: 'Archaea', 3: 'Marine Hydrothermal Vent Group 1(MHVG-1)', 4: 'Thaumarchaeota', 5: 'terrestrial group', 6: 'Marine Group I', 7: \"uncultured marine crenarchaeote 'Gulf of Maine'\", 8: 'uncultured marine archaeon DCM858', 9: 'uncultured marine group I thaumarchaeote', 10: 'uncultured Nitrosopumilaceae archaeon', 11: 'uncultured marine archaeon DCM874', 12: 'Cenarchaeales', 13: 'Cenarchaeaceae', 14: 'Cenarchaeum', 15: 'Thermoplasmatales archaeon Gpl', 16: 'Cenarchaeum symbiosum A', 17: 'crenarchaeote symbiont of Axinella sp.', 18: 'crenarchaeote symbiont of Axinella verrucosa', 19: 'uncultured Cenarchaeaceae thaumarchaeote', 20: 'Cenarchaeum symbiosum', 21: 'Cenarchaeum symbiosum B', 22: 'Cenarchaeum environmental samples', 23: 'Cenarchaeaceae environmental samples', 24: 'Cenarchaeales environmental samples', 25: 'uncultured Cenarchaeales thaumarchaeote', 26: 'uncultured crenarchaeote ODPB-A18', 27: 'uncultured crenarchaeote ODPB-A3', 28: 'uncultured marine crenarchaeote KM3-86-C1', 29: 'uncultured Nitrosopumilales archaeon', 30: 'uncultured crenarchaeote 4B7', 31: 'uncultured Cenarchaeum sp.', 32: 'uncultured crenarchaeote DeepAnt-EC39', 33: 'uncultured marine archaeon DCM74161', 34: 'archaeon enrichment culture clone CN25', 35: 'uncultured archaeon SAGMA-3', 36: 'uncultured marine archaeon DCM867', 37: 'Candidatus Nitrosopumilus koreensis AR1', 38: 'cluster HP459251', 39: 'uncultured archaeon 19a-19', 40: 'uncultured archaeon SAGMA-8', 41: 'uncultured archaeon CRA8-11cm', 42: 'uncultured archaeon W4-93a', 43: 'uncultured marine archaeon DCM74159', 44: 'Order Incertae Sedis', 45: 'uncultured archaeon CRA20-0cm', 46: 'uncultured marine archaeon DCM862', 47: 'uncultured marine archaeon TS235C310', 48: 'uncultured crenarchaeote ODPB-A9', 49: 'uncultured archaeon 19b-52', 50: 'uncultured marine crenarchaeote AD1000-56-E4', 51: 'uncultured archaeon 19a-1', 52: 'unidentified hydrothermal vent archaeon PVA_OTU_2', 53: 'uncultured archaeon APA1-0cm', 54: 'uncultured marine crenarchaeote AD1000-207-H3', 55: 'uncultured thaumarchaeote', 56: 'unidentified archaeon PM7', 57: 'uncultured marine archaeon DCM861', 58: 'uncultured archaeon CRA7-0cm', 59: 'uncultured crenarchaeote ODPB-A7', 60: 'uncultured archaeon APA3-0cm', 61: 'uncultured sponge symbiont PAAR8', 62: 'unidentified hydrothermal vent archaeon PVA_OTU_3', 63: 'uncultured marine archaeon DCM871', 64: 'Family Incertae Sedis', 65: 'Candidatus Nitrosoarchaeum', 66: 'uncultured archaeon SAGMA-1', 67: 'uncultured Green Bay ferromanganous micronodule archaeon ARA7', 68: 'Candidatus Nitrosoarchaeum limnia', 69: 'Candidatus Nitrosoarchaeum limnia SFB1', 70: 'Candidatus Nitrosoarchaeum limnia BG20', 71: 'Candidatus Nitrosoarchaeum koreensis', 72: 'Candidatus Nitrosoarchaeum koreensis MY1', 73: 'Candidatus Nitrosoarchaeum environmental samples', 74: 'uncultured Candidatus Nitrosoarchaeum sp.', 75: 'Nitrosopumilaceae environmental samples', 76: 'Nitrosopumilaceae', 77: 'Nitrosopumilales environmental samples', 78: 'uncultured marine crenarchaeote HF4000_APKG10L15', 79: 'uncultured marine crenarchaeote HF4000_APKG8D6', 80: 'uncultured marine crenarchaeote HF4000_ANIW133O4', 81: 'uncultured marine crenarchaeote KM3-47-D6', 82: 'uncultured marine crenarchaeote HF4000_APKG8I13', 83: 'uncultured marine crenarchaeote HF4000_APKG5C13', 84: 'uncultured marine crenarchaeote HF4000_ANIW133M9', 85: 'uncultured marine crenarchaeote SAT1000-21-C11', 86: 'uncultured marine crenarchaeote HF4000_ANIW133K13', 87: 'uncultured marine crenarchaeote HF4000_APKG3K8', 88: 'uncultured marine crenarchaeote HF4000_APKG10F15', 89: 'uncultured marine crenarchaeote HF4000_APKG9M20', 90: 'uncultured marine crenarchaeote HF4000_APKG5B22', 91: 'uncultured marine crenarchaeote HF4000_APKG8G15', 92: 'uncultured marine crenarchaeote HF4000_APKG3E18', 93: 'uncultured marine crenarchaeote HF4000_APKG6D9', 94: 'uncultured marine crenarchaeote HF4000_APKG5N21', 95: 'uncultured marine crenarchaeote HF4000_APKG6C9', 96: 'uncultured marine crenarchaeote HF4000_ANIW141O9', 97: 'uncultured marine crenarchaeote HF4000_APKG8G2', 98: 'uncultured marine crenarchaeote HF4000_ANIW97M7', 99: 'uncultured marine crenarchaeote HF4000_ANIW141N1', 100: 'uncultured marine crenarchaeote HF4000_APKG2O16', 101: 'uncultured marine crenarchaeote HF4000_APKG7F11', 102: 'uncultured marine crenarchaeote HF4000_APKG5E24', 103: 'uncultured marine crenarchaeote HF4000_ANIW97J3', 104: 'uncultured marine crenarchaeote HF4000_ANIW133C7', 105: 'uncultured marine crenarchaeote HF4000_ANIW141M12', 106: 'uncultured marine crenarchaeote HF4000_ANIW137N13', 107: 'uncultured marine crenarchaeote HF4000_ANIW93E5', 108: 'uncultured marine crenarchaeote HF4000_APKG4H17', 109: 'uncultured crenarchaeote 83A10', 110: 'uncultured crenarchaeote 74A4', 111: 'uncultured marine crenarchaeote HF4000_ANIW93I24', 112: 'uncultured marine crenarchaeote HF4000_ANIW133I6', 113: 'uncultured marine crenarchaeote HF4000_ANIW137N18', 114: 'uncultured marine crenarchaeote HF4000_ANIW141M18', 115: 'uncultured marine crenarchaeote AD1000-202-A2', 116: 'uncultured marine crenarchaeote HF4000_APKG3B16', 117: 'uncultured marine crenarchaeote HF4000_APKG3D24', 118: 'uncultured marine crenarchaeote SAT1000-49-D2', 119: 'uncultured crenarchaeote 31B02', 120: 'uncultured marine crenarchaeote HF4000_APKG6D3', 121: 'uncultured crenarchaeote 19H08', 122: 'uncultured marine crenarchaeote HF4000_ANIW97P9', 123: 'uncultured marine crenarchaeote HF4000_APKG9P22', 124: 'uncultured marine crenarchaeote HF4000_APKG3J11', 125: 'uncultured marine crenarchaeote HF4000_ANIW93J19', 126: 'uncultured marine crenarchaeote HF4000_APKG6J21', 127: 'uncultured marine crenarchaeote HF4000_APKG3H9', 128: 'uncultured marine crenarchaeote KM3-34-D9', 129: 'uncultured marine crenarchaeote HF4000_APKG7F19', 130: 'uncultured crenarchaeote 15G10', 131: 'uncultured marine crenarchaeote SAT1000-23-F7', 132: 'uncultured marine crenarchaeote HF4000_APKG8O8', 133: 'uncultured marine crenarchaeote AD1000-325-A12', 134: 'uncultured marine crenarchaeote HF4000_ANIW141J13', 135: 'uncultured marine crenarchaeote HF4000_APKG6B14', 136: 'uncultured marine crenarchaeote HF4000_APKG6N3', 137: 'uncultured marine crenarchaeote HF4000_APKG10I20', 138: 'uncultured marine crenarchaeote HF4000_APKG10D8', 139: 'uncultured marine crenarchaeote HF4000_ANIW93H17', 140: 'uncultured marine crenarchaeote HF4000_APKG8D22', 141: 'Nitrosopumilales', 142: 'Marine Group I thaumarchaeote SCGC AAA799-D11', 143: 'Marine Group I thaumarchaeote SCGC AAA799-E16', 144: 'Marine Group I thaumarchaeote SCGC AAA799-N04', 145: 'Marine Group I thaumarchaeote SCGC AAA160-J20', 146: 'Marine Group I thaumarchaeote SCGC AAA799-P11', 147: 'Marine Group I thaumarchaeote SCGC AAA799-B03', 148: 'Marine Group I environmental samples', 149: 'Thaumarchaeota archaeon SCGC AAA007-O23', 150: 'Marine Group I thaumarchaeote SCGC AAA799-D07', 151: 'Marine Group I thaumarchaeote SCGC RSA3', 152: 'Marine Group I thaumarchaeote SCGC AB-629-I23', 153: 'Marine Group I thaumarchaeote SCGC AB-629-A13', 154: 'Marine Group I thaumarchaeote SCGC AAA799-O18', 155: 'archaeon enrichment culture clone AR', 156: 'archaeon enrichment culture clone SJ', 157: 'Candidatus Nitrosopumilus', 158: 'uncultured Candidatus Nitrosopumilus sp.', 159: 'uncultured archaeon CRA7-11cm', 160: 'unidentified archaeon C6', 161: 'uncultured archaeon 19a-4', 162: 'unidentified archaeon C46', 163: 'unculturable Mariana archaeon no. 1', 164: 'uncultured sediment archaeon', 165: 'Nitrosopumilus sp. SJ', 166: 'Candidatus Nitrosopumilus sp. NM25', 167: 'unidentified archaeon PM8', 168: 'uncultured crenarchaeote ODPB-A12', 169: 'uncultured archaeon CRA36-0cm', 170: 'unidentified archaeon C20', 171: 'archaeon enrichment culture clone CN150', 172: 'uncultured archaeon 19a-14', 173: 'Candidatus Nitrosopumilus koreensis', 174: 'Nitrosopumilus sp. LS_AOA', 175: 'Candidatus Nitrosopumilus adriaticus', 176: 'Nitrosopumilus sp. BACL13 MAG-120910-bin56', 177: 'Nitrosopumilus sp. SW', 178: 'Candidatus Nitrosopumilus sp. PS0', 179: 'Candidatus Nitrosopumilus sp. AR2', 180: 'Candidatus Nitrosopumilus salaria', 181: 'Candidatus Nitrosopumilus salaria BD31', 182: 'Candidatus Nitrosopumilus piranensis', 183: 'Nitrosopumilus environmental samples', 184: 'Nitrosopumilus sp. BACL13 MAG-121220-bin23', 185: 'Nitrosopumilus sp. Nsub', 186: 'Nitrosopumilus sp. AR', 187: 'Candidatus Nitrosopumilus sp. DDS1', 188: 'Nitrosopumilus sp. DDS1', 189: 'Nitrosopumilus sp. PRT-SC01', 190: 'Candidatus Nitrosopumilus sp. HCA1', 191: 'Nitrosopumilus maritimus', 192: 'Nitrosopumilus maritimus SCM1', 193: 'Nitrosopumilus sp. RSA3', 194: 'Marine Benthic Group A', 195: 'uncultured marine crenarchaeote KM3-153-F8', 196: 'uncultured marine crenarchaeote', 197: 'uncultured archaeon APA2-17cm', 198: 'uncultured crenarchaeote', 199: 'uncultured marine thaumarchaeote', 200: 'uncultured archaeon W5-61a', 201: 'uncultured marine benthic group A euryarchaeote', 202: 'AK59', 203: 'OPPD003', 204: 'AK8', 205: 'pMC2A209', 206: 'Group C3', 207: 'uncultured marine crenarchaeote E6-3G', 208: 'Class Incertae Sedis', 209: 'Z273FA48', 210: 'uncultured archaeon SAGMA-Z', 211: 'Miscellaneous Crenarchaeotic Group', 212: 'uncultured crenarchaeote pBRKC135', 213: 'uncultured archaeon CRA9-27cm', 214: 'uncultured archaeon 19c-51', 215: 'uncultured archaeon Arc.171', 216: 'uncultured archaeon Arc.118', 217: 'uncultured archaeon 19b-17', 218: 'uncultured marine crenarchaeote E37-7F', 219: 'uncultured Desulfurococcales archaeon', 220: 'uncultured archaeon Arc.212', 221: 'uncultured marine crenarchaeote E48-1C', 222: 'uncultured archaeon 19a-29', 223: 'uncultured archaeon 19b-39', 224: 'uncultured crenarchaeote MCG', 225: 'uncultured crenarchaeote pBRKC88', 226: 'uncultured archaeon Arc.119', 227: 'archaeon enrichment culture clone C4-6C-A', 228: 'uncultured thermal soil archaeon', 229: 'hot springs metagenome', 230: 'archaeon enrichment culture clone C4-32C-A', 231: 'archaeon enrichment culture clone C3-1C-A', 232: 'Terrestrial Hot Spring Gp(THSCG)', 233: 'Candidatus Caldiarchaeum subterraneum', 234: 'uncultured archaeon 20c-54', 235: 'Order Incertae Sedis', 236: 'uncultured archaeon 20a-28', 237: 'uncultured archaeon 20a-12', 238: 'uncultured archaeon 20a-6', 239: 'uncultured archaeon 20a-7', 240: 'uncultured archaeon 20b-7', 241: 'uncultured archaeon 20b-27', 242: 'uncultured marine microorganism HF4000_APKG10H11', 243: 'Family Incertae Sedis', 244: 'Candidatus Caldiarchaeum', 245: 'Sc-EA05', 246: 'Soil Crenarchaeotic Group(SCG)', 247: 'Crenarchaeote enrichment culture clone OREC-R1073', 248: 'unidentified archaeon SCA1150', 249: 'unidentified archaeon SCA1158', 250: 'Crenarchaeote enrichment culture clone OREC-R104', 251: 'unidentified archaeon SCA1170', 252: 'uncultured crenarchaeote TRC132-9', 253: 'unidentified archaeon SCA1166', 254: 'unidentified archaeon SCA1151', 255: 'Crenarchaeote enrichment culture clone OREC-B1081', 256: 'Order Incertae Sedis', 257: 'Crenarchaeote enrichment culture clone OREC-R1342', 258: 'uncultured ammonia-oxidizing archaeon', 259: 'uncultured crenarchaeote TREC89-44', 260: 'unidentified archaeon SCA1173', 261: 'uncultured crenarchaeote TREC89-34', 262: 'Crenarchaeote enrichment culture clone OREC-B1021', 263: 'cluster CQ786497', 264: 'unidentified archaeon SCA1154', 265: 'uncultured soil archaeon', 266: 'Family Incertae Sedis', 267: 'Candidatus Nitrososphaera', 268: 'Candidatus Nitrososphaera gargensis', 269: 'Crenarchaeote enrichment culture clone OREC-B1045', 270: 'Crenarchaeote enrichment culture clone OREC-R1390', 271: 'uncultured archaeon SAGMA-2', 272: 'Candidatus Nitrososphaera gargensis Ga9.2', 273: 'uncultured archaeon SAGMA-W', 274: 'uncultured Nitrososphaera sp.', 275: 'Crenarchaeote enrichment culture clone OREC-R1050', 276: 'uncultured archaeon SAGMA-Y', 277: 'unidentified archaeon SCA11', 278: 'Nitrososphaera environmental samples', 279: 'Candidatus Nitrososphaera sp. N89-12', 280: 'Nitrososphaera sp. JG1', 281: 'Candidatus Nitrososphaera sp. 13_1_40CM_48_12', 282: 'Nitrososphaera viennensis', 283: 'Nitrososphaera viennensis EN76', 284: 'Candidatus Nitrososphaera evergladensis', 285: 'Candidatus Nitrososphaera evergladensis SR1', 286: 'Nitrososphaera sp. 13_1_20CM_3_36_3', 287: 'Candidatus Nitrososphaera sp. THUAOA', 288: 'Nitrososphaera sp. enrichment culture', 289: 'pSL12', 290: 'uncultured marine crenarchaeote AD1000-23-H12', 291: 'HDBA-SITS389', 292: 'FS243A-60', 293: 'AK31', 294: 'F9P122000-Arc-2-E02', 295: 'D-F10', 296: 'uncultured Candidatus Nitrosocaldus sp.', 297: 'AB64A-17', 298: 'AK56', 299: 'ArcC-u-cD06', 300: 'AS48', 301: 'Papm3A43', 302: 'TOTO-A6-15', 303: 'South African Gold Mine Gp 1(SAGMCG-1)', 304: 'uncultured archaeon SAGMA-V', 305: 'uncultured Thermoprotei archaeon', 306: 'uncultured archaeon SAGMA-11', 307: 'uncultured archaeon SAGMA-10', 308: 'Order Incertae Sedis', 309: 'Family Incertae Sedis', 310: 'Candidatus Nitrosotalea', 311: 'Crenarchaeote enrichment culture clone OREC-R1076', 312: 'uncultured archaeon SAGMA-X', 313: 'Nitrosotalea sp. Nd2', 314: 'Candidatus Nitrosotalea devanaterra', 315: 'Candidatus Nitrosotalea environmental samples', 316: 'uncultured Candidatus Nitrosotalea sp.', 317: 'Marine Benthic Group B', 318: 'uncultured archaeon APA3-11cm', 319: 'uncultured archaeon pPACMA-Y', 320: 'uncultured Desulfurococcus sp.', 321: 'uncultured crenarchaeote pBRKC86', 322: 'uncultured crenarchaeote pBRKC129', 323: 'uncultured archaeon VC2.1 Arc31', 324: 'uncultured crenarchaeote pBRKC108', 325: 'HDBA-SITS413', 326: 'Order Incertae Sedis', 327: 'Family Incertae Sedis', 328: 'Candidatus Nitrosocaldus', 329: 'Candidatus Nitrosocaldus yellowstonii', 330: 'Candidatus Nitrosocaldus yellowstonii HL72', 331: 'Candidatus Nitrosocaldus environmental samples', 332: 'Thaumarchaeota environmental samples', 333: 'unclassified Thaumarchaeota', 334: 'Nitrososphaeria', 335: 'Nitrososphaerales', 336: 'Nitrososphaerales environmental samples', 337: 'Nitrososphaeraceae', 338: 'Candidatus Nitrosocosmicus', 339: 'Thaumarchaeota archaeon MY3', 340: 'Candidatus Nitrosocosmicus sp. G61', 341: 'Candidatus Nitrosocosmicus franklandus', 342: 'uncultured Nitrososphaerales archaeon', 343: 'uncultured marine thaumarchaeote KM3_170_G11', 344: 'uncultured marine thaumarchaeote SAT1000_25_G12', 345: 'uncultured marine thaumarchaeote SAT1000_27_B10', 346: 'thaumarchaeote enrichment culture clone Ec.FBa1b4-08', 347: 'uncultured marine thaumarchaeote KM3_25_B05', 348: 'uncultured marine thaumarchaeote AD1000_21_H05', 349: 'uncultured marine thaumarchaeote KM3_169_D08', 350: 'uncultured marine thaumarchaeote SAT1000_45_H05', 351: 'thaumarchaeote enrichment culture clone Ec.MTa2b4-20', 352: 'thaumarchaeote enrichment culture clone Ec.MTa2b4-19', 353: 'uncultured marine thaumarchaeote KM3_86_D01', 354: 'uncultured marine thaumarchaeote KM3_34_C02', 355: 'thaumarchaeote enrichment culture clone Ec.FBa1b4-16', 356: 'thaumarchaeote enrichment culture clone Ec.MTa2b1-13', 357: 'thaumarchaeote enrichment culture clone Ec.FBa1b4-03', 358: 'uncultured marine thaumarchaeote KM3_28_B05', 359: 'uncultured marine thaumarchaeote KM3_77_H05', 360: 'thaumarchaeote enrichment culture clone Ec.FBa1b9-08', 361: 'uncultured marine thaumarchaeote KM3_01_C08', 362: 'uncultured marine thaumarchaeote KM3_82_G09', 363: 'thaumarchaeote enrichment culture clone Ec.FBa-T16S-01', 364: 'uncultured marine thaumarchaeote KM3_02_H10', 365: 'uncultured marine thaumarchaeote KM3_17_G07', 366: 'thaumarchaeote enrichment culture clone Ec.FBb-T16S-04', 367: 'uncultured marine thaumarchaeote KM3_160_B06', 368: 'uncultured marine thaumarchaeote KM3_70_D07', 369: 'thaumarchaeote enrichment culture clone Ec.FBb-T16S-02', 370: 'uncultured marine thaumarchaeote KM3_130_H01', 371: 'uncultured marine thaumarchaeote KM3_100_D10', 372: 'uncultured marine thaumarchaeote KM3_71_H11', 373: 'uncultured marine thaumarchaeote KM3_65_D11', 374: 'uncultured marine thaumarchaeote SAT1000_40_A08', 375: 'uncultured marine thaumarchaeote AD1000_66_F10', 376: 'uncultured marine thaumarchaeote KM3_59_E10', 377: 'uncultured marine thaumarchaeote KM3_94_B01', 378: 'uncultured marine thaumarchaeote KM3_182_G12', 379: 'uncultured marine thaumarchaeote KM3_153_E08', 380: 'thaumarchaeote enrichment culture clone Ec.MTa2b1-12', 381: 'thaumarchaeote enrichment culture clone Ec.MTa2b1-23', 382: 'uncultured marine thaumarchaeote KM3_64_A03', 383: 'thaumarchaeote enrichment culture clone Ec.FBa-TamoA-18', 384: 'uncultured marine thaumarchaeote KM3_145_B06', 385: 'uncultured marine thaumarchaeote AD1000_70_C10', 386: 'uncultured marine thaumarchaeote SAT1000_24_E05', 387: 'uncultured marine thaumarchaeote KM3_03_B05', 388: 'uncultured marine thaumarchaeote KM3_130_G11', 389: 'uncultured marine thaumarchaeote KM3_41_D10', 390: 'uncultured marine thaumarchaeote KM3_186_G04', 391: 'uncultured marine thaumarchaeote KM3_33_G02', 392: 'uncultured marine thaumarchaeote KM3_76_G12', 393: 'uncultured marine thaumarchaeote KM3_140_D09', 394: 'uncultured marine thaumarchaeote KM3_56_B06', 395: 'uncultured marine thaumarchaeote SAT1000_09_C08', 396: 'uncultured marine thaumarchaeote KM3_03_H02', 397: 'uncultured marine thaumarchaeote AD1000_40_H03', 398: 'uncultured marine thaumarchaeote KM3_35_E05', 399: 'uncultured marine thaumarchaeote KM3_87_A02', 400: 'thaumarchaeote enrichment culture clone Ec.FBa2b1-08', 401: 'uncultured marine thaumarchaeote KM3_18_D11', 402: 'thaumarchaeote enrichment culture clone Ec.FBa1b4-10', 403: 'uncultured marine thaumarchaeote KM3_15_C08', 404: 'thaumarchaeote enrichment culture clone Ec.MTa2b4-14', 405: 'uncultured marine thaumarchaeote KM3_44_G08', 406: 'uncultured thaumarchaeote Rifle_16ft_4_minimus_1872', 407: 'uncultured marine thaumarchaeote SAT1000_44_H06', 408: 'uncultured marine thaumarchaeote KM3_79_H02', 409: 'uncultured marine thaumarchaeote KM3_46_G12', 410: 'uncultured marine thaumarchaeote SAT1000_06_B02', 411: 'thaumarchaeote enrichment culture clone Ec.FBa-T16S-04', 412: 'uncultured marine thaumarchaeote KM3_170_F12', 413: 'uncultured marine thaumarchaeote KM3_53_F06', 414: 'uncultured marine thaumarchaeote KM3_53_E01', 415: 'uncultured marine thaumarchaeote KM3_187_A08', 416: 'uncultured marine thaumarchaeote AD1000_31_F12', 417: 'uncultured marine thaumarchaeote SAT1000_06_A02', 418: 'uncultured marine thaumarchaeote KM3_36_B08', 419: 'uncultured marine thaumarchaeote KM3_85_A07', 420: 'uncultured marine thaumarchaeote KM3_76_B07', 421: 'thaumarchaeote enrichment culture clone Ec.FBb-TamoA-03', 422: 'uncultured marine thaumarchaeote KM3_153_F09', 423: 'uncultured marine thaumarchaeote KM3_39_A11', 424: 'uncultured marine thaumarchaeote KM3_01_G08', 425: 'uncultured marine thaumarchaeote KM3_175_E11', 426: 'uncultured marine thaumarchaeote KM3_204_F10', 427: 'uncultured marine thaumarchaeote KM3_90_H07', 428: 'uncultured marine thaumarchaeote AD1000_38_A02', 429: 'uncultured marine thaumarchaeote AD1000_18_B11', 430: 'thaumarchaeote enrichment culture clone Ec.FBa-TamoA-10', 431: 'uncultured marine thaumarchaeote AD1000_07_E11', 432: 'uncultured marine thaumarchaeote KM3_62_H05', 433: 'uncultured marine thaumarchaeote AD1000_31_G03', 434: 'thaumarchaeote enrichment culture clone Ec.FBa-TamoA-12', 435: 'uncultured marine thaumarchaeote KM3_42_G11', 436: 'uncultured marine thaumarchaeote AD1000_69_E02', 437: 'uncultured marine thaumarchaeote KM3_156_B03', 438: 'thaumarchaeote enrichment culture clone Ec.FBa2b1-02', 439: 'thaumarchaeote enrichment culture clone Ec.FBb-TamoA-05', 440: 'thaumarchaeote enrichment culture clone Ec.FBb-TamoA-24', 441: 'thaumarchaeote enrichment culture clone Ec.FBb-T16S-01', 442: 'uncultured marine thaumarchaeote KM3_75_C09', 443: 'uncultured marine thaumarchaeote KM3_72_A09', 444: 'uncultured marine thaumarchaeote KM3_72_D04', 445: 'uncultured marine thaumarchaeote AD1000_71_D06', 446: 'uncultured marine thaumarchaeote KM3_45_E05', 447: 'thaumarchaeote enrichment culture clone Ec.FBa1b9-02', 448: 'uncultured marine thaumarchaeote KM3_201_G04', 449: 'uncultured marine thaumarchaeote SAT1000_04_B06', 450: 'thaumarchaeote enrichment culture clone Ec.FBa2b1-18', 451: 'uncultured marine thaumarchaeote KM3_176_H06', 452: 'uncultured marine thaumarchaeote KM3_178_G06', 453: 'uncultured marine thaumarchaeote KM3_66_A07', 454: 'uncultured marine thaumarchaeote KM3_67_E09', 455: 'uncultured marine thaumarchaeote KM3_40_F03', 456: 'uncultured marine thaumarchaeote SAT1000_09_H09', 457: 'thaumarchaeote enrichment culture clone Ec.MTa2b4-01', 458: 'uncultured marine thaumarchaeote KM3_61_F01', 459: 'uncultured marine thaumarchaeote KM3_23_F10', 460: 'uncultured marine thaumarchaeote KM3_52_H04', 461: 'uncultured marine thaumarchaeote KM3_135_A07', 462: 'uncultured marine thaumarchaeote KM3_168_C12', 463: 'uncultured marine thaumarchaeote KM3_05_F10', 464: 'uncultured marine thaumarchaeote KM3_88_E12', 465: 'uncultured marine thaumarchaeote KM3_84_A09', 466: 'uncultured marine thaumarchaeote KM3_04_H11', 467: 'uncultured marine thaumarchaeote KM3_25_D06', 468: 'uncultured marine thaumarchaeote KM3_85_H09', 469: 'uncultured marine thaumarchaeote SAT1000_06_F08', 470: 'uncultured marine thaumarchaeote KM3_90_E04', 471: 'uncultured marine thaumarchaeote KM3_04_E09', 472: 'uncultured marine thaumarchaeote KM3_162_C12', 473: 'uncultured marine thaumarchaeote SAT1000_50_F07', 474: 'uncultured marine thaumarchaeote SAT1000_12_D12', 475: 'uncultured marine thaumarchaeote KM3_67_B10', 476: 'uncultured marine thaumarchaeote KM3_01_F02', 477: 'uncultured marine thaumarchaeote KM3_73_B11', 478: 'uncultured marine thaumarchaeote KM3_191_D11', 479: 'thaumarchaeote enrichment culture clone Ec.MTa2b4-04', 480: 'thaumarchaeote enrichment culture clone Ec.FBa2b1-15', 481: 'uncultured marine thaumarchaeote KM3_48_E01', 482: 'uncultured marine thaumarchaeote KM3_198_G09', 483: 'uncultured marine thaumarchaeote AD1000_45_G09', 484: 'uncultured marine thaumarchaeote KM3_73_E02', 485: 'uncultured marine thaumarchaeote KM3_136_D12', 486: 'uncultured marine thaumarchaeote KM3_34_B07', 487: 'thaumarchaeote enrichment culture clone Ec.FBa1b9-19', 488: 'thaumarchaeote enrichment culture clone Ec.FBa-TamoA-13', 489: 'uncultured marine thaumarchaeote KM3_161_D03', 490: 'uncultured marine thaumarchaeote KM3_86_F11', 491: 'uncultured marine thaumarchaeote KM3_199_E03', 492: 'uncultured marine thaumarchaeote KM3_05_H01', 493: 'thaumarchaeote enrichment culture clone Ec.FBb-TamoA-17', 494: 'uncultured marine thaumarchaeote SAT1000_48_C08', 495: 'uncultured marine thaumarchaeote AD1000_14_H02', 496: 'thaumarchaeote enrichment culture clone Ec.MTa2b4-06', 497: 'thaumarchaeote enrichment culture clone Ec.FBb-TamoA-01', 498: 'uncultured marine thaumarchaeote KM3_32_G12', 499: 'uncultured marine thaumarchaeote KM3_162_H04', 500: 'uncultured marine thaumarchaeote SAT1000_05_A05', 501: 'uncultured marine thaumarchaeote AD1000_41_B03', 502: 'uncultured marine thaumarchaeote KM3_195_B01', 503: 'thaumarchaeote enrichment culture clone Ec.FBa1b9-20', 504: 'uncultured marine thaumarchaeote KM3_53_C08', 505: 'uncultured marine thaumarchaeote KM3_103_A05', 506: 'uncultured marine thaumarchaeote AD1000_14_F02', 507: 'thaumarchaeote enrichment culture clone Ec.MTa2b4-05', 508: 'uncultured marine thaumarchaeote KM3_84_E02', 509: 'thaumarchaeote enrichment culture clone Ec.FBa-TamoA-17', 510: 'thaumarchaeote enrichment culture clone Ec.MTa2b1-10', 511: 'uncultured marine thaumarchaeote KM3_54_C03', 512: 'uncultured marine thaumarchaeote KM3_08_B06', 513: 'uncultured marine thaumarchaeote KM3_16_C10', 514: 'uncultured marine thaumarchaeote KM3_12_C10', 515: 'uncultured marine thaumarchaeote KM3_55_A12', 516: 'uncultured marine thaumarchaeote SAT1000_09_B07', 517: 'uncultured marine thaumarchaeote AD1000_69_B10', 518: 'uncultured marine thaumarchaeote KM3_196_E01', 519: 'thaumarchaeote enrichment culture clone Ec.FBa1b9-18', 520: 'uncultured marine thaumarchaeote AD1000_36_B08', 521: 'uncultured marine thaumarchaeote KM3_26_F01', 522: 'uncultured marine thaumarchaeote KM3_56_C06', 523: 'thaumarchaeote enrichment culture clone Ec.FBa2b1-14', 524: 'uncultured marine thaumarchaeote SAT1000_15_E07', 525: 'uncultured marine thaumarchaeote KM3_53_E03', 526: 'uncultured marine thaumarchaeote KM3_41_D11', 527: 'uncultured marine thaumarchaeote KM3_128_G11', 528: 'thaumarchaeote enrichment culture clone Ec.FBa2b1-11', 529: 'uncultured marine thaumarchaeote KM3_188_F10', 530: 'uncultured marine thaumarchaeote AD1000_54_F06', 531: 'uncultured marine thaumarchaeote KM3_26_G04', 532: 'uncultured marine thaumarchaeote KM3_175_G11', 533: 'thaumarchaeote enrichment culture clone Ec.FBa-T16S-08', 534: 'uncultured marine thaumarchaeote KM3_15_F02', 535: 'uncultured marine thaumarchaeote KM3_51_F10', 536: 'uncultured marine thaumarchaeote KM3_195_B03', 537: 'uncultured marine thaumarchaeote AD1000_39_D02', 538: 'uncultured marine thaumarchaeote KM3_88_D06', 539: 'thaumarchaeote enrichment culture clone Ec.FBa-TamoA-14', 540: 'uncultured marine thaumarchaeote KM3_57_F01', 541: 'uncultured marine thaumarchaeote KM3_31_F03', 542: 'thaumarchaeote enrichment culture clone Ec.FBa2b1-19', 543: 'uncultured marine thaumarchaeote KM3_03_H03', 544: 'thaumarchaeote enrichment culture clone Ec.FBb-T16S-06', 545: 'uncultured marine thaumarchaeote KM3_85_C11', 546: 'uncultured marine thaumarchaeote KM3_47_F06', 547: 'thaumarchaeote enrichment culture clone Ec.FBa2b1-10', 548: 'uncultured marine thaumarchaeote AD1000_106_A06', 549: 'uncultured marine thaumarchaeote SAT1000_06_A07', 550: 'thaumarchaeote enrichment culture clone Ec.FBa1b9-13', 551: 'uncultured marine thaumarchaeote KM3_06_C02', 552: 'uncultured marine thaumarchaeote KM3_33_B12', 553: 'uncultured marine thaumarchaeote KM3_15_A07', 554: 'uncultured marine thaumarchaeote KM3_11_E10', 555: 'thaumarchaeote enrichment culture clone Ec.FBa2b1-17', 556: 'uncultured marine thaumarchaeote KM3_89_A10', 557: 'uncultured marine thaumarchaeote KM3_38_E04', 558: 'uncultured marine thaumarchaeote KM3_82_D11', 559: 'uncultured marine thaumarchaeote KM3_24_H04', 560: 'uncultured marine thaumarchaeote KM3_73_F02', 561: 'uncultured marine thaumarchaeote KM3_87_C09', 562: 'uncultured marine thaumarchaeote KM3_105_E03', 563: 'thaumarchaeote enrichment culture clone Ec.FBa1b4-18', 564: 'uncultured marine thaumarchaeote AD1000_46_F05', 565: 'thaumarchaeote enrichment culture clone Ec.FBa-T16S-02', 566: 'thaumarchaeote enrichment culture clone Ec.FBb-TamoA-21', 567: 'thaumarchaeote enrichment culture clone Ec.FBa-TamoA-04', 568: 'uncultured marine thaumarchaeote KM3_71_H03', 569: 'uncultured marine thaumarchaeote AD1000_80_D11', 570: 'uncultured marine thaumarchaeote KM3_73_E01', 571: 'uncultured marine thaumarchaeote KM3_53_F08', 572: 'uncultured marine thaumarchaeote KM3_70_E10', 573: 'thaumarchaeote enrichment culture clone Ec.MTa2b1-06', 574: 'uncultured marine thaumarchaeote KM3_16_E08', 575: 'uncultured marine thaumarchaeote AD1000_100_C06', 576: 'uncultured marine thaumarchaeote AD1000_70_G10', 577: 'uncultured marine thaumarchaeote KM3_168_C06', 578: 'thaumarchaeote enrichment culture clone Ec.FBa-TamoA-02', 579: 'uncultured marine thaumarchaeote SAT1000_22_C02', 580: 'thaumarchaeote enrichment culture clone Ec.FBa-TamoA-22', 581: 'uncultured marine thaumarchaeote KM3_70_F07', 582: 'uncultured marine thaumarchaeote KM3_06_B11', 583: 'uncultured marine thaumarchaeote AD1000_19_G07', 584: 'uncultured marine thaumarchaeote KM3_45_A02', 585: 'uncultured marine thaumarchaeote KM3_74_C01', 586: 'thaumarchaeote enrichment culture clone Ec.FBa1b4-17', 587: 'uncultured marine thaumarchaeote KM3_179_B04', 588: 'uncultured marine thaumarchaeote KM3_200_B02', 589: 'uncultured marine thaumarchaeote AD1000_06_F06', 590: 'uncultured marine thaumarchaeote KM3_79_H09', 591: 'uncultured marine thaumarchaeote KM3_95_D02', 592: 'thaumarchaeote enrichment culture clone Ec.FBa-TamoA-08', 593: 'uncultured marine thaumarchaeote AD1000_79_B02', 594: 'thaumarchaeote enrichment culture clone Ec.MTa2b1-18', 595: 'uncultured marine thaumarchaeote SAT1000_27_H05', 596: 'uncultured marine thaumarchaeote KM3_65_A09', 597: 'thaumarchaeote enrichment culture clone Ec.FBa-T16S-13', 598: 'uncultured marine thaumarchaeote KM3_55_G04', 599: 'uncultured marine thaumarchaeote KM3_29_F10', 600: 'uncultured marine thaumarchaeote KM3_46_G10', 601: 'uncultured marine thaumarchaeote AD1000_44_B05', 602: 'uncultured marine thaumarchaeote KM3_115_A11', 603: 'uncultured marine thaumarchaeote KM3_201_G07', 604: 'uncultured marine thaumarchaeote KM3_79_E03', 605: 'thaumarchaeote enrichment culture clone Ec.FBa1b4-19', 606: 'uncultured marine thaumarchaeote KM3_197_B03', 607: 'uncultured marine thaumarchaeote KM3_156_A10', 608: 'uncultured marine thaumarchaeote KM3_70_B05', 609: 'uncultured marine thaumarchaeote KM3_29_B12', 610: 'uncultured marine thaumarchaeote KM3_43_G12', 611: 'thaumarchaeote enrichment culture clone Ec.FBa1b4-15', 612: 'uncultured marine thaumarchaeote KM3_30_B02', 613: 'uncultured marine thaumarchaeote KM3_172_D05', 614: 'uncultured marine thaumarchaeote KM3_74_G04', 615: 'thaumarchaeote enrichment culture clone Ec.MTa2b4-16', 616: 'thaumarchaeote enrichment culture clone Ec.FBb-TamoA-11', 617: 'uncultured marine thaumarchaeote SAT1000_23_E11', 618: 'uncultured marine thaumarchaeote KM3_67_E02', 619: 'thaumarchaeote enrichment culture clone Ec.FBa1b4-09', 620: 'uncultured marine thaumarchaeote KM3_04_H06', 621: 'uncultured marine thaumarchaeote KM3_86_B06', 622: 'uncultured marine thaumarchaeote KM3_197_F10', 623: 'thaumarchaeote enrichment culture clone Ec.MTa2b4-03', 624: 'thaumarchaeote enrichment culture clone Ec.MTa2b4-10', 625: 'uncultured marine thaumarchaeote SAT1000_17_H05', 626: 'uncultured marine thaumarchaeote KM3_10_C07', 627: 'uncultured marine thaumarchaeote KM3_62_H02', 628: 'uncultured marine thaumarchaeote KM3_64_C01', 629: 'uncultured marine thaumarchaeote SAT1000_51_C10', 630: 'uncultured marine thaumarchaeote KM3_151_D03', 631: 'thaumarchaeote enrichment culture clone Ec.FBa-TamoA-20', 632: 'uncultured marine thaumarchaeote SAT1000_25_G11', 633: 'thaumarchaeote enrichment culture clone Ec.FBa1b4-20', 634: 'uncultured marine thaumarchaeote KM3_53_D03', 635: 'thaumarchaeote enrichment culture clone Ec.MTa2b4-02', 636: 'uncultured marine thaumarchaeote KM3_190_B07', 637: 'uncultured marine thaumarchaeote KM3_40_C06', 638: 'thaumarchaeote enrichment culture clone Ec.FBa-TamoA-11', 639: 'uncultured marine thaumarchaeote KM3_106_G11', 640: 'thaumarchaeote enrichment culture clone Ec.FBa-TamoA-24', 641: 'uncultured marine thaumarchaeote KM3_87_C05', 642: 'thaumarchaeote enrichment culture clone Ec.FBa1b9-16', 643: 'uncultured marine thaumarchaeote KM3_163_G06', 644: 'uncultured marine thaumarchaeote KM3_54_F04', 645: 'uncultured marine thaumarchaeote AD1000_98_C07', 646: 'uncultured marine thaumarchaeote KM3_81_E07', 647: 'uncultured marine thaumarchaeote SAT1000_07_E02', 648: 'uncultured marine thaumarchaeote AD1000_46_C12', 649: 'uncultured marine thaumarchaeote KM3_31_F07', 650: 'uncultured marine thaumarchaeote KM3_12_B11', 651: 'uncultured marine thaumarchaeote KM3_40_A11', 652: 'uncultured marine thaumarchaeote KM3_54_G11', 653: 'thaumarchaeote enrichment culture clone Ec.FBa1b4-01', 654: 'thaumarchaeote enrichment culture clone Ec.MTa2b1-22', 655: 'uncultured marine thaumarchaeote KM3_167_H09', 656: 'uncultured marine thaumarchaeote KM3_87_F05', 657: 'uncultured marine thaumarchaeote KM3_61_F08', 658: 'uncultured marine thaumarchaeote KM3_86_G02', 659: 'uncultured marine thaumarchaeote SAT1000_07_E05', 660: 'uncultured marine thaumarchaeote KM3_75_F03', 661: 'uncultured marine thaumarchaeote AD1000_17_C04', 662: 'uncultured marine thaumarchaeote KM3_46_D02', 663: 'uncultured marine thaumarchaeote SAT1000_41_C02', 664: 'thaumarchaeote enrichment culture clone Ec.FBb-TamoA-12', 665: 'uncultured marine thaumarchaeote KM3_90_C11', 666: 'uncultured marine thaumarchaeote KM3_32_D07', 667: 'thaumarchaeote enrichment culture clone Ec.FBa1b9-03', 668: 'uncultured marine thaumarchaeote SAT1000_53_A12', 669: 'thaumarchaeote enrichment culture clone Ec.FBb-TamoA-15', 670: 'uncultured marine thaumarchaeote AD1000_06_A03', 671: 'thaumarchaeote enrichment culture clone Ec.MTa2b1-15', 672: 'thaumarchaeote enrichment culture clone Ec.FBa-T16S-03', 673: 'uncultured marine thaumarchaeote KM3_54_A10', 674: 'uncultured marine thaumarchaeote KM3_87_E01', 675: 'uncultured marine thaumarchaeote SAT1000_09_A04', 676: 'uncultured marine thaumarchaeote KM3_01_F07', 677: 'thaumarchaeote enrichment culture clone Ec.FBa-TamoA-19', 678: 'thaumarchaeote enrichment culture clone Ec.FBb-TamoA-06', 679: 'thaumarchaeote enrichment culture clone Ec.FBa1b9-07', 680: 'uncultured marine thaumarchaeote SAT1000_10_H08', 681: 'uncultured marine thaumarchaeote KM3_70_D05', 682: 'uncultured marine thaumarchaeote KM3_106_B12', 683: 'thaumarchaeote enrichment culture clone Ec.MTa2b1-09', 684: 'uncultured marine thaumarchaeote KM3_137_A09', 685: 'thaumarchaeote enrichment culture clone Ec.MTa2b4-07', 686: 'uncultured marine thaumarchaeote AD1000_12_H07', 687: 'uncultured marine thaumarchaeote KM3_146_F08', 688: 'uncultured marine thaumarchaeote KM3_13_C11', 689: 'uncultured marine thaumarchaeote KM3_18_F10', 690: 'uncultured marine thaumarchaeote KM3_35_A11', 691: 'uncultured marine thaumarchaeote SAT1000_13_B06', 692: 'uncultured marine thaumarchaeote KM3_55_A11', 693: 'uncultured marine thaumarchaeote AD1000_02_C08', 694: 'uncultured marine thaumarchaeote SAT1000_35_E09', 695: 'uncultured marine thaumarchaeote KM3_88_G03', 696: 'uncultured marine thaumarchaeote KM3_157_H08', 697: 'uncultured marine thaumarchaeote AD1000_30_G09', 698: 'uncultured marine thaumarchaeote KM3_31_D02', 699: 'uncultured marine thaumarchaeote KM3_181_D10', 700: 'thaumarchaeote enrichment culture clone Ec.FBa-TamoA-09', 701: 'uncultured marine thaumarchaeote KM3_88_B06', 702: 'thaumarchaeote enrichment culture clone Ec.FBb-TamoA-10', 703: 'uncultured marine thaumarchaeote SAT1000_22_D06', 704: 'uncultured marine thaumarchaeote KM3_47_A04', 705: 'uncultured marine thaumarchaeote KM3_74_H09', 706: 'uncultured marine thaumarchaeote KM3_79_D07', 707: 'uncultured marine thaumarchaeote KM3_16_G02', 708: 'uncultured marine thaumarchaeote KM3_74_F07', 709: 'uncultured marine thaumarchaeote AD1000_49_H01', 710: 'uncultured marine thaumarchaeote KM3_67_A06', 711: 'uncultured marine thaumarchaeote AD1000_88_E07', 712: 'uncultured marine thaumarchaeote SAT1000_05_B05', 713: 'thaumarchaeote enrichment culture clone Ec.FBa2b1-01', 714: 'uncultured marine thaumarchaeote KM3_27_D09', 715: 'uncultured marine thaumarchaeote KM3_67_A04', 716: 'thaumarchaeote enrichment culture clone Ec.FBa1b4-11', 717: 'uncultured marine thaumarchaeote SAT1000_15_B11', 718: 'uncultured marine thaumarchaeote SAT1000_37_C08', 719: 'uncultured marine thaumarchaeote KM3_05_G02', 720: 'uncultured marine thaumarchaeote KM3_177_A10', 721: 'uncultured marine thaumarchaeote KM3_83_E04', 722: 'uncultured marine thaumarchaeote KM3_25_G08', 723: 'uncultured marine thaumarchaeote KM3_72_F07', 724: 'uncultured marine thaumarchaeote KM3_125_A06', 725: 'uncultured marine thaumarchaeote SAT1000_12_G09', 726: 'uncultured marine thaumarchaeote SAT1000_39_F02', 727: 'uncultured marine thaumarchaeote AD1000_65_A02', 728: 'uncultured marine thaumarchaeote AD1000_39_D08', 729: 'uncultured marine thaumarchaeote KM3_78_D07', 730: 'uncultured marine thaumarchaeote KM3_74_E11', 731: 'thaumarchaeote enrichment culture clone Ec.FBa1b9-12', 732: 'uncultured marine thaumarchaeote KM3_11_F08', 733: 'uncultured marine thaumarchaeote SAT1000_12_G12', 734: 'thaumarchaeote enrichment culture clone Ec.FBa1b4-07', 735: 'uncultured marine thaumarchaeote KM3_97_B07', 736: 'uncultured marine thaumarchaeote KM3_33_G01', 737: 'uncultured marine thaumarchaeote KM3_203_A01', 738: 'thaumarchaeote enrichment culture clone Ec.FBa1b4-05', 739: 'uncultured marine thaumarchaeote SAT1000_05_G10', 740: 'thaumarchaeote enrichment culture clone Ec.MTa2b1-25', 741: 'uncultured marine thaumarchaeote KM3_38_E02', 742: 'uncultured marine thaumarchaeote KM3_175_E04', 743: 'uncultured marine thaumarchaeote AD1000_82_B05', 744: 'uncultured marine thaumarchaeote KM3_76_B05', 745: 'uncultured marine thaumarchaeote KM3_78_A04', 746: 'uncultured marine thaumarchaeote KM3_65_H02', 747: 'uncultured marine thaumarchaeote KM3_72_H08', 748: 'uncultured marine thaumarchaeote KM3_183_D02', 749: 'uncultured marine thaumarchaeote AD1000_33_B07', 750: 'thaumarchaeote enrichment culture clone Ec.FBb-TamoA-16', 751: 'uncultured marine thaumarchaeote KM3_44_H07', 752: 'uncultured marine thaumarchaeote KM3_78_E10', 753: 'uncultured marine thaumarchaeote SAT1000_26_E12', 754: 'uncultured marine thaumarchaeote KM3_03_F11', 755: 'uncultured marine thaumarchaeote KM3_177_D01', 756: 'uncultured marine thaumarchaeote KM3_196_F10', 757: 'uncultured marine thaumarchaeote KM3_82_C03', 758: 'uncultured marine thaumarchaeote SAT1000_08_G06', 759: 'thaumarchaeote enrichment culture clone Ec.MTa2b4-17', 760: 'uncultured marine thaumarchaeote AD1000_118_C08', 761: 'uncultured marine thaumarchaeote KM3_99_A02', 762: 'thaumarchaeote enrichment culture clone Ec.FBb-TamoA-14', 763: 'uncultured marine thaumarchaeote SAT1000_09_B08', 764: 'thaumarchaeote enrichment culture clone Ec.MTa2b4-13', 765: 'uncultured marine thaumarchaeote AD1000_96_F07', 766: 'uncultured marine thaumarchaeote KM3_42_C02', 767: 'thaumarchaeote enrichment culture clone Ec.FBa1b9-04', 768: 'uncultured marine thaumarchaeote KM3_67_E04', 769: 'uncultured marine thaumarchaeote KM3_74_C10', 770: 'uncultured marine thaumarchaeote KM3_153_B11', 771: 'uncultured marine thaumarchaeote AD1000_80_F03', 772: 'thaumarchaeote enrichment culture clone Ec.FBa-T16S-12', 773: 'uncultured marine thaumarchaeote KM3_70_D04', 774: 'uncultured marine thaumarchaeote KM3_55_F05', 775: 'thaumarchaeote enrichment culture clone Ec.FBa2b1-05', 776: 'uncultured marine thaumarchaeote KM3_76_D06', 777: 'uncultured marine thaumarchaeote KM3_51_A05', 778: 'uncultured marine thaumarchaeote KM3_126_D02', 779: 'uncultured marine thaumarchaeote AD1000_04_C02', 780: 'thaumarchaeote enrichment culture clone Ec.FBb-TamoA-07', 781: 'uncultured marine thaumarchaeote KM3_168_H11', 782: 'uncultured marine thaumarchaeote KM3_51_E02', 783: 'thaumarchaeote enrichment culture clone Ec.FBa1b9-15', 784: 'thaumarchaeote enrichment culture clone Ec.MTa2b1-04', 785: 'uncultured marine thaumarchaeote AD1000_71_A04', 786: 'uncultured marine thaumarchaeote SAT1000_52_D06', 787: 'uncultured marine thaumarchaeote SAT1000_15_H02', 788: 'uncultured marine thaumarchaeote KM3_57_F02', 789: 'uncultured marine thaumarchaeote KM3_90_G11', 790: 'uncultured marine thaumarchaeote KM3_68_B04', 791: 'uncultured marine thaumarchaeote KM3_164_C03', 792: 'uncultured marine thaumarchaeote KM3_52_B01', 793: 'uncultured marine thaumarchaeote AD1000_54_E04', 794: 'thaumarchaeote enrichment culture clone Ec.FBa-TamoA-07', 795: 'uncultured marine thaumarchaeote SAT1000_47_G01', 796: 'uncultured marine thaumarchaeote KM3_08_A11', 797: 'uncultured marine thaumarchaeote KM3_69_B11', 798: 'thaumarchaeote enrichment culture clone Ec.FBa-T16S-11', 799: 'uncultured marine thaumarchaeote KM3_77_E10', 800: 'uncultured marine thaumarchaeote KM3_47_G11', 801: 'uncultured marine thaumarchaeote KM3_84_F11', 802: 'uncultured marine thaumarchaeote KM3_182_G05', 803: 'uncultured marine thaumarchaeote KM3_67_B11', 804: 'uncultured marine thaumarchaeote AD1000_21_E03', 805: 'uncultured marine thaumarchaeote KM3_50_F11', 806: 'uncultured marine thaumarchaeote KM3_46_H07', 807: 'uncultured marine thaumarchaeote KM3_15_E09', 808: 'uncultured marine thaumarchaeote KM3_89_H08', 809: 'uncultured marine thaumarchaeote KM3_26_A01', 810: 'uncultured marine thaumarchaeote KM3_70_B04', 811: 'uncultured marine thaumarchaeote KM3_49_A08', 812: 'thaumarchaeote enrichment culture clone Ec.FBa1b9-17', 813: 'thaumarchaeote enrichment culture clone Ec.FBa-TamoA-25', 814: 'uncultured marine thaumarchaeote KM3_98_C03', 815: 'uncultured marine thaumarchaeote KM3_30_B03', 816: 'uncultured marine thaumarchaeote KM3_35_D03', 817: 'uncultured marine thaumarchaeote KM3_60_F11', 818: 'uncultured marine thaumarchaeote SAT1000_14_E04', 819: 'uncultured marine thaumarchaeote KM3_15_E05', 820: 'uncultured marine thaumarchaeote KM3_03_B08', 821: 'uncultured marine thaumarchaeote KM3_183_D03', 822: 'uncultured marine thaumarchaeote KM3_57_B01', 823: 'uncultured marine thaumarchaeote KM3_54_H01', 824: 'thaumarchaeote enrichment culture clone Ec.MTa2b4-12', 825: 'uncultured marine thaumarchaeote KM3_173_E01', 826: 'uncultured marine thaumarchaeote KM3_24_H11', 827: 'uncultured marine thaumarchaeote KM3_75_C11', 828: 'thaumarchaeote enrichment culture clone Ec.MTa2b1-11', 829: 'uncultured marine thaumarchaeote KM3_70_D01', 830: 'uncultured marine thaumarchaeote KM3_149_F07', 831: 'thaumarchaeote enrichment culture clone Ec.FBa-T16S-09', 832: 'uncultured marine thaumarchaeote KM3_35_D07', 833: 'thaumarchaeote enrichment culture clone Ec.FBb-TamoA-23', 834: 'uncultured marine thaumarchaeote KM3_05_H05', 835: 'uncultured marine thaumarchaeote KM3_59_C01', 836: 'uncultured marine thaumarchaeote KM3_57_D03', 837: 'uncultured marine thaumarchaeote SAT1000_51_A06', 838: 'uncultured marine thaumarchaeote KM3_84_F03', 839: 'uncultured marine thaumarchaeote AD1000_63_F07', 840: 'uncultured marine thaumarchaeote SAT1000_18_D03', 841: 'uncultured marine thaumarchaeote SAT1000_20_C01', 842: 'uncultured marine thaumarchaeote KM3_85_E11', 843: 'thaumarchaeote enrichment culture clone Ec.FBa2b1-16', 844: 'uncultured marine thaumarchaeote AD1000_89_F09', 845: 'uncultured marine thaumarchaeote KM3_74_F11', 846: 'uncultured marine thaumarchaeote KM3_107_D09', 847: 'uncultured marine thaumarchaeote KM3_13_H10', 848: 'uncultured marine thaumarchaeote KM3_77_D12', 849: 'thaumarchaeote enrichment culture clone Ec.MTa2b1-20', 850: 'uncultured marine thaumarchaeote KM3_55_D03', 851: 'uncultured marine thaumarchaeote AD1000_04_G03', 852: 'thaumarchaeote enrichment culture clone Ec.FBa1b9-01', 853: 'uncultured marine thaumarchaeote KM3_95_H05', 854: 'uncultured marine thaumarchaeote KM3_31_G08', 855: 'uncultured marine thaumarchaeote KM3_88_C09', 856: 'thaumarchaeote enrichment culture clone Ec.MTa2b1-01', 857: 'uncultured marine thaumarchaeote KM3_82_B03', 858: 'uncultured marine thaumarchaeote KM3_66_E12', 859: 'uncultured marine thaumarchaeote KM3_89_C12', 860: 'thaumarchaeote enrichment culture clone Ec.FBa1b9-06', 861: 'uncultured marine thaumarchaeote KM3_36_H05', 862: 'uncultured marine thaumarchaeote SAT1000_10_G09', 863: 'thaumarchaeote enrichment culture clone Ec.MTa2b4-08', 864: 'uncultured marine thaumarchaeote SAT1000_16_E04', 865: 'uncultured marine thaumarchaeote KM3_82_A11', 866: 'uncultured marine thaumarchaeote KM3_63_D09', 867: 'thaumarchaeote enrichment culture clone Ec.FBa-TamoA-23', 868: 'thaumarchaeote enrichment culture clone Ec.FBb-TamoA-22', 869: 'uncultured marine thaumarchaeote KM3_89_G03', 870: 'thaumarchaeote enrichment culture clone Ec.FBb-TamoA-13', 871: 'uncultured marine thaumarchaeote KM3_67_H03', 872: 'uncultured marine thaumarchaeote KM3_98_B07', 873: 'uncultured thaumarchaeote Rifle_16ft_4_minimus_11813', 874: 'uncultured marine thaumarchaeote KM3_70_D10', 875: 'thaumarchaeote enrichment culture clone Ec.FBa2b1-04', 876: 'uncultured marine thaumarchaeote SAT1000_04_F07', 877: 'uncultured marine thaumarchaeote KM3_79_C04', 878: 'thaumarchaeote enrichment culture clone Ec.FBb-T16S-08', 879: 'uncultured marine thaumarchaeote SAT1000_29_H07', 880: 'uncultured marine thaumarchaeote KM3_56_D04', 881: 'uncultured marine thaumarchaeote KM3_78_D03', 882: 'thaumarchaeote enrichment culture clone Ec.FBa-TamoA-03', 883: 'uncultured marine thaumarchaeote KM3_37_D10', 884: 'uncultured marine thaumarchaeote KM3_02_B09', 885: 'uncultured marine thaumarchaeote KM3_79_B12', 886: 'uncultured marine thaumarchaeote KM3_14_C04', 887: 'thaumarchaeote enrichment culture clone Ec.FBb-T16S-03', 888: 'thaumarchaeote enrichment culture clone Ec.FBa2b1-13', 889: 'uncultured marine thaumarchaeote AD1000_25_B10', 890: 'thaumarchaeote enrichment culture clone Ec.MTa2b1-02', 891: 'uncultured marine thaumarchaeote KM3_66_E06', 892: 'uncultured marine thaumarchaeote KM3_110_B01', 893: 'uncultured marine thaumarchaeote KM3_68_A08', 894: 'uncultured marine thaumarchaeote KM3_57_E08', 895: 'thaumarchaeote enrichment culture clone Ec.FBa1b9-05', 896: 'uncultured marine thaumarchaeote KM3_43_D05', 897: 'uncultured marine thaumarchaeote KM3_55_H11', 898: 'uncultured marine thaumarchaeote KM3_76_A03', 899: 'uncultured marine thaumarchaeote SAT1000_11_C10', 900: 'uncultured marine thaumarchaeote KM3_28_C05', 901: 'thaumarchaeote enrichment culture clone Ec.FBa-T16S-05', 902: 'thaumarchaeote enrichment culture clone Ec.MTa1b9-01', 903: 'uncultured marine thaumarchaeote KM3_61_H06', 904: 'uncultured marine thaumarchaeote KM3_87_G04', 905: 'uncultured marine thaumarchaeote KM3_03_G08', 906: 'uncultured marine thaumarchaeote KM3_79_H05', 907: 'uncultured marine thaumarchaeote AD1000_20_B03', 908: 'uncultured marine thaumarchaeote KM3_47_A03', 909: 'uncultured marine thaumarchaeote KM3_47_C08', 910: 'uncultured marine thaumarchaeote KM3_181_G03', 911: 'uncultured marine thaumarchaeote KM3_54_B03', 912: 'uncultured marine thaumarchaeote SAT1000_18_G08', 913: 'uncultured marine thaumarchaeote KM3_74_G09', 914: 'uncultured marine thaumarchaeote SAT1000_10_F12', 915: 'uncultured marine thaumarchaeote KM3_45_G08', 916: 'uncultured marine thaumarchaeote KM3_87_H02', 917: 'uncultured marine thaumarchaeote KM3_126_H01', 918: 'uncultured marine thaumarchaeote SAT1000_48_G08', 919: 'uncultured marine thaumarchaeote SAT1000_13_G01', 920: 'uncultured marine thaumarchaeote KM3_88_D08', 921: 'uncultured marine thaumarchaeote KM3_70_B03', 922: 'thaumarchaeote enrichment culture clone Ec.MTa2b4-11', 923: 'uncultured marine thaumarchaeote KM3_26_B10', 924: 'uncultured marine thaumarchaeote KM3_04_D06', 925: 'uncultured marine thaumarchaeote SAT1000_16_A03', 926: 'uncultured marine thaumarchaeote KM3_83_D12', 927: 'uncultured marine thaumarchaeote KM3_173_D12', 928: 'thaumarchaeote enrichment culture clone Ec.MTa2b4-09', 929: 'uncultured marine thaumarchaeote KM3_199_C08', 930: 'uncultured marine thaumarchaeote KM3_154_A05', 931: 'thaumarchaeote enrichment culture', 932: 'uncultured marine thaumarchaeote KM3_03_D08', 933: 'uncultured marine thaumarchaeote KM3_199_D03', 934: 'uncultured marine thaumarchaeote KM3_16_C11', 935: 'uncultured marine thaumarchaeote KM3_69_H10', 936: 'thaumarchaeote enrichment culture clone Ec.FBb-TamoA-02', 937: 'uncultured marine thaumarchaeote KM3_46_F12', 938: 'thaumarchaeote enrichment culture clone Ec.FBa2b1-09', 939: 'thaumarchaeote enrichment culture clone Ec.FBa2b1-06', 940: 'uncultured marine thaumarchaeote KM3_56_F06', 941: 'uncultured marine thaumarchaeote AD1000_16_B05', 942: 'thaumarchaeote enrichment culture clone Ec.FBb-TamoA-19', 943: 'uncultured marine thaumarchaeote KM3_187_A01', 944: 'uncultured marine thaumarchaeote KM3_12_F11', 945: 'uncultured marine thaumarchaeote KM3_97_A02', 946: 'uncultured marine thaumarchaeote KM3_68_E02', 947: 'uncultured marine thaumarchaeote KM3_42_E08', 948: 'thaumarchaeote enrichment culture clone Ec.FBa1b4-02', 949: 'thaumarchaeote enrichment culture clone Ec.FBa1b9-14', 950: 'uncultured marine thaumarchaeote KM3_47_A07', 951: 'thaumarchaeote enrichment culture clone Ec.FBa1b4-04', 952: 'uncultured marine thaumarchaeote KM3_32_A02', 953: 'thaumarchaeote enrichment culture clone Ec.FBa-T16S-07', 954: 'uncultured marine thaumarchaeote KM3_115_G03', 955: 'thaumarchaeote enrichment culture clone Ec.FBb-TamoA-18', 956: 'thaumarchaeote enrichment culture clone Ec.FBb-TamoA-09', 957: 'thaumarchaeote enrichment culture clone Ec.MTa2b1-19', 958: 'uncultured marine thaumarchaeote KM3_11_C04', 959: 'uncultured marine thaumarchaeote KM3_54_G03', 960: 'uncultured marine thaumarchaeote AD1000_11_E10', 961: 'uncultured marine thaumarchaeote KM3_86_E11', 962: 'uncultured marine thaumarchaeote AD1000_88_A06', 963: 'thaumarchaeote enrichment culture clone Ec.MTa2b1-05', 964: 'uncultured marine thaumarchaeote SAT1000_31_A02', 965: 'uncultured marine thaumarchaeote KM3_169_G08', 966: 'uncultured marine thaumarchaeote SAT1000_43_E07', 967: 'uncultured marine thaumarchaeote AD1000_77_H06', 968: 'thaumarchaeote enrichment culture clone Ec.FBa1b4-06', 969: 'thaumarchaeote enrichment culture clone Ec.FBa1b9-11', 970: 'thaumarchaeote enrichment culture clone Ec.FBa-T16S-06', 971: 'uncultured marine thaumarchaeote KM3_158_B05', 972: 'uncultured marine thaumarchaeote KM3_84_D12', 973: 'uncultured marine thaumarchaeote AD1000_60_A11', 974: 'thaumarchaeote enrichment culture clone Ec.FBa-T16S-10', 975: 'uncultured marine thaumarchaeote KM3_201_H03', 976: 'uncultured marine thaumarchaeote KM3_82_D05', 977: 'uncultured marine thaumarchaeote AD1000_24_H07', 978: 'uncultured marine thaumarchaeote KM3_75_F06', 979: 'uncultured marine thaumarchaeote KM3_71_E12', 980: 'thaumarchaeote enrichment culture clone Ec.MTa2b1-14', 981: 'uncultured marine thaumarchaeote KM3_06_B06', 982: 'thaumarchaeote enrichment culture clone Ec.FBb-TamoA-04', 983: 'uncultured marine thaumarchaeote KM3_193_A03', 984: 'thaumarchaeote enrichment culture clone Ec.MTa2b4-18', 985: 'uncultured marine thaumarchaeote KM3_23_E01', 986: 'uncultured marine thaumarchaeote SAT1000_48_A08', 987: 'uncultured marine thaumarchaeote SAT1000_10_G06', 988: 'uncultured marine thaumarchaeote AD1000_26_G12', 989: 'uncultured marine thaumarchaeote KM3_65_D04', 990: 'uncultured marine thaumarchaeote KM3_186_C08', 991: 'uncultured marine thaumarchaeote KM3_41_H02', 992: 'uncultured marine thaumarchaeote KM3_52_F05', 993: 'uncultured marine thaumarchaeote AD1000_54_F09', 994: 'uncultured marine thaumarchaeote KM3_175_A05', 995: 'uncultured marine thaumarchaeote KM3_46_E07', 996: 'uncultured marine thaumarchaeote KM3_02_A10', 997: 'thaumarchaeote enrichment culture clone Ec.FBa1b4-14', 998: 'uncultured marine thaumarchaeote KM3_53_B02'}\n",
      "rank {0: 'no rank', 1: 'no rank', 2: 'domain', 3: 'no rank - terminal', 4: 'phylum', 5: 'no rank - terminal', 6: 'no rank', 7: 'species', 8: 'species', 9: 'species', 10: 'species', 11: 'species', 12: 'order', 13: 'family', 14: 'genus', 15: 'species', 16: 'no rank - terminal', 17: 'species', 18: 'species', 19: 'species', 20: 'species', 21: 'no rank - terminal', 22: 'no rank - terminal', 23: 'no rank - terminal', 24: 'no rank - terminal', 25: 'species', 26: 'species', 27: 'species', 28: 'species', 29: 'species', 30: 'species', 31: 'species', 32: 'species', 33: 'species', 34: 'species', 35: 'species', 36: 'species', 37: 'no rank - terminal', 38: 'no rank - terminal', 39: 'species', 40: 'species', 41: 'species', 42: 'species', 43: 'species', 44: 'no rank - terminal', 45: 'species', 46: 'species', 47: 'species', 48: 'species', 49: 'species', 50: 'species', 51: 'species', 52: 'species', 53: 'species', 54: 'species', 55: 'species', 56: 'species', 57: 'species', 58: 'species', 59: 'species', 60: 'species', 61: 'species', 62: 'species', 63: 'species', 64: 'no rank - terminal', 65: 'genus', 66: 'species', 67: 'species', 68: 'species', 69: 'no rank - terminal', 70: 'no rank - terminal', 71: 'species', 72: 'no rank - terminal', 73: 'no rank - terminal', 74: 'species', 75: 'no rank - terminal', 76: 'family', 77: 'no rank - terminal', 78: 'species', 79: 'species', 80: 'species', 81: 'species', 82: 'species', 83: 'species', 84: 'species', 85: 'species', 86: 'species', 87: 'species', 88: 'species', 89: 'species', 90: 'species', 91: 'species', 92: 'species', 93: 'species', 94: 'species', 95: 'species', 96: 'species', 97: 'species', 98: 'species', 99: 'species', 100: 'species', 101: 'species', 102: 'species', 103: 'species', 104: 'species', 105: 'species', 106: 'species', 107: 'species', 108: 'species', 109: 'species', 110: 'species', 111: 'species', 112: 'species', 113: 'species', 114: 'species', 115: 'species', 116: 'species', 117: 'species', 118: 'species', 119: 'species', 120: 'species', 121: 'species', 122: 'species', 123: 'species', 124: 'species', 125: 'species', 126: 'species', 127: 'species', 128: 'species', 129: 'species', 130: 'species', 131: 'species', 132: 'species', 133: 'species', 134: 'species', 135: 'species', 136: 'species', 137: 'species', 138: 'species', 139: 'species', 140: 'species', 141: 'order', 142: 'species', 143: 'species', 144: 'species', 145: 'species', 146: 'species', 147: 'species', 148: 'no rank - terminal', 149: 'species', 150: 'species', 151: 'species', 152: 'species', 153: 'species', 154: 'species', 155: 'species', 156: 'species', 157: 'genus', 158: 'species', 159: 'species', 160: 'species', 161: 'species', 162: 'species', 163: 'species', 164: 'species', 165: 'species', 166: 'species', 167: 'species', 168: 'species', 169: 'species', 170: 'species', 171: 'species', 172: 'species', 173: 'species', 174: 'species', 175: 'species', 176: 'species', 177: 'species', 178: 'species', 179: 'species', 180: 'species', 181: 'no rank - terminal', 182: 'species', 183: 'no rank - terminal', 184: 'species', 185: 'species', 186: 'species', 187: 'species', 188: 'species', 189: 'species', 190: 'species', 191: 'species', 192: 'no rank - terminal', 193: 'species', 194: 'no rank', 195: 'species', 196: 'species', 197: 'species', 198: 'species', 199: 'species', 200: 'species', 201: 'species', 202: 'no rank - terminal', 203: 'no rank - terminal', 204: 'no rank - terminal', 205: 'no rank - terminal', 206: 'no rank', 207: 'species', 208: 'no rank - terminal', 209: 'no rank - terminal', 210: 'species', 211: 'no rank', 212: 'species', 213: 'species', 214: 'species', 215: 'species', 216: 'species', 217: 'species', 218: 'species', 219: 'species', 220: 'species', 221: 'species', 222: 'species', 223: 'species', 224: 'species', 225: 'species', 226: 'species', 227: 'species', 228: 'species', 229: 'species', 230: 'species', 231: 'species', 232: 'no rank', 233: 'species', 234: 'species', 235: 'no rank - terminal', 236: 'species', 237: 'species', 238: 'species', 239: 'species', 240: 'species', 241: 'species', 242: 'species', 243: 'no rank - terminal', 244: 'genus', 245: 'no rank - terminal', 246: 'no rank', 247: 'species', 248: 'species', 249: 'species', 250: 'species', 251: 'species', 252: 'species', 253: 'species', 254: 'species', 255: 'species', 256: 'no rank - terminal', 257: 'species', 258: 'species', 259: 'species', 260: 'species', 261: 'species', 262: 'species', 263: 'no rank - terminal', 264: 'species', 265: 'species', 266: 'no rank - terminal', 267: 'genus', 268: 'species', 269: 'species', 270: 'species', 271: 'species', 272: 'no rank - terminal', 273: 'species', 274: 'species', 275: 'species', 276: 'species', 277: 'species', 278: 'no rank - terminal', 279: 'species', 280: 'species', 281: 'species', 282: 'species', 283: 'no rank - terminal', 284: 'species', 285: 'no rank - terminal', 286: 'species', 287: 'species', 288: 'species', 289: 'no rank', 290: 'species', 291: 'no rank - terminal', 292: 'no rank - terminal', 293: 'no rank - terminal', 294: 'no rank - terminal', 295: 'no rank', 296: 'species', 297: 'no rank - terminal', 298: 'no rank - terminal', 299: 'no rank - terminal', 300: 'no rank - terminal', 301: 'no rank - terminal', 302: 'no rank - terminal', 303: 'no rank', 304: 'species', 305: 'species', 306: 'species', 307: 'species', 308: 'no rank - terminal', 309: 'no rank - terminal', 310: 'genus', 311: 'species', 312: 'species', 313: 'species', 314: 'species', 315: 'no rank - terminal', 316: 'species', 317: 'no rank', 318: 'species', 319: 'species', 320: 'species', 321: 'species', 322: 'species', 323: 'species', 324: 'species', 325: 'no rank - terminal', 326: 'no rank - terminal', 327: 'no rank - terminal', 328: 'genus', 329: 'species', 330: 'no rank - terminal', 331: 'no rank - terminal', 332: 'no rank - terminal', 333: 'no rank - terminal', 334: 'class', 335: 'order', 336: 'no rank - terminal', 337: 'family', 338: 'genus', 339: 'species', 340: 'species', 341: 'species', 342: 'species', 343: 'species', 344: 'species', 345: 'species', 346: 'species', 347: 'species', 348: 'species', 349: 'species', 350: 'species', 351: 'species', 352: 'species', 353: 'species', 354: 'species', 355: 'species', 356: 'species', 357: 'species', 358: 'species', 359: 'species', 360: 'species', 361: 'species', 362: 'species', 363: 'species', 364: 'species', 365: 'species', 366: 'species', 367: 'species', 368: 'species', 369: 'species', 370: 'species', 371: 'species', 372: 'species', 373: 'species', 374: 'species', 375: 'species', 376: 'species', 377: 'species', 378: 'species', 379: 'species', 380: 'species', 381: 'species', 382: 'species', 383: 'species', 384: 'species', 385: 'species', 386: 'species', 387: 'species', 388: 'species', 389: 'species', 390: 'species', 391: 'species', 392: 'species', 393: 'species', 394: 'species', 395: 'species', 396: 'species', 397: 'species', 398: 'species', 399: 'species', 400: 'species', 401: 'species', 402: 'species', 403: 'species', 404: 'species', 405: 'species', 406: 'species', 407: 'species', 408: 'species', 409: 'species', 410: 'species', 411: 'species', 412: 'species', 413: 'species', 414: 'species', 415: 'species', 416: 'species', 417: 'species', 418: 'species', 419: 'species', 420: 'species', 421: 'species', 422: 'species', 423: 'species', 424: 'species', 425: 'species', 426: 'species', 427: 'species', 428: 'species', 429: 'species', 430: 'species', 431: 'species', 432: 'species', 433: 'species', 434: 'species', 435: 'species', 436: 'species', 437: 'species', 438: 'species', 439: 'species', 440: 'species', 441: 'species', 442: 'species', 443: 'species', 444: 'species', 445: 'species', 446: 'species', 447: 'species', 448: 'species', 449: 'species', 450: 'species', 451: 'species', 452: 'species', 453: 'species', 454: 'species', 455: 'species', 456: 'species', 457: 'species', 458: 'species', 459: 'species', 460: 'species', 461: 'species', 462: 'species', 463: 'species', 464: 'species', 465: 'species', 466: 'species', 467: 'species', 468: 'species', 469: 'species', 470: 'species', 471: 'species', 472: 'species', 473: 'species', 474: 'species', 475: 'species', 476: 'species', 477: 'species', 478: 'species', 479: 'species', 480: 'species', 481: 'species', 482: 'species', 483: 'species', 484: 'species', 485: 'species', 486: 'species', 487: 'species', 488: 'species', 489: 'species', 490: 'species', 491: 'species', 492: 'species', 493: 'species', 494: 'species', 495: 'species', 496: 'species', 497: 'species', 498: 'species', 499: 'species', 500: 'species', 501: 'species', 502: 'species', 503: 'species', 504: 'species', 505: 'species', 506: 'species', 507: 'species', 508: 'species', 509: 'species', 510: 'species', 511: 'species', 512: 'species', 513: 'species', 514: 'species', 515: 'species', 516: 'species', 517: 'species', 518: 'species', 519: 'species', 520: 'species', 521: 'species', 522: 'species', 523: 'species', 524: 'species', 525: 'species', 526: 'species', 527: 'species', 528: 'species', 529: 'species', 530: 'species', 531: 'species', 532: 'species', 533: 'species', 534: 'species', 535: 'species', 536: 'species', 537: 'species', 538: 'species', 539: 'species', 540: 'species', 541: 'species', 542: 'species', 543: 'species', 544: 'species', 545: 'species', 546: 'species', 547: 'species', 548: 'species', 549: 'species', 550: 'species', 551: 'species', 552: 'species', 553: 'species', 554: 'species', 555: 'species', 556: 'species', 557: 'species', 558: 'species', 559: 'species', 560: 'species', 561: 'species', 562: 'species', 563: 'species', 564: 'species', 565: 'species', 566: 'species', 567: 'species', 568: 'species', 569: 'species', 570: 'species', 571: 'species', 572: 'species', 573: 'species', 574: 'species', 575: 'species', 576: 'species', 577: 'species', 578: 'species', 579: 'species', 580: 'species', 581: 'species', 582: 'species', 583: 'species', 584: 'species', 585: 'species', 586: 'species', 587: 'species', 588: 'species', 589: 'species', 590: 'species', 591: 'species', 592: 'species', 593: 'species', 594: 'species', 595: 'species', 596: 'species', 597: 'species', 598: 'species', 599: 'species', 600: 'species', 601: 'species', 602: 'species', 603: 'species', 604: 'species', 605: 'species', 606: 'species', 607: 'species', 608: 'species', 609: 'species', 610: 'species', 611: 'species', 612: 'species', 613: 'species', 614: 'species', 615: 'species', 616: 'species', 617: 'species', 618: 'species', 619: 'species', 620: 'species', 621: 'species', 622: 'species', 623: 'species', 624: 'species', 625: 'species', 626: 'species', 627: 'species', 628: 'species', 629: 'species', 630: 'species', 631: 'species', 632: 'species', 633: 'species', 634: 'species', 635: 'species', 636: 'species', 637: 'species', 638: 'species', 639: 'species', 640: 'species', 641: 'species', 642: 'species', 643: 'species', 644: 'species', 645: 'species', 646: 'species', 647: 'species', 648: 'species', 649: 'species', 650: 'species', 651: 'species', 652: 'species', 653: 'species', 654: 'species', 655: 'species', 656: 'species', 657: 'species', 658: 'species', 659: 'species', 660: 'species', 661: 'species', 662: 'species', 663: 'species', 664: 'species', 665: 'species', 666: 'species', 667: 'species', 668: 'species', 669: 'species', 670: 'species', 671: 'species', 672: 'species', 673: 'species', 674: 'species', 675: 'species', 676: 'species', 677: 'species', 678: 'species', 679: 'species', 680: 'species', 681: 'species', 682: 'species', 683: 'species', 684: 'species', 685: 'species', 686: 'species', 687: 'species', 688: 'species', 689: 'species', 690: 'species', 691: 'species', 692: 'species', 693: 'species', 694: 'species', 695: 'species', 696: 'species', 697: 'species', 698: 'species', 699: 'species', 700: 'species', 701: 'species', 702: 'species', 703: 'species', 704: 'species', 705: 'species', 706: 'species', 707: 'species', 708: 'species', 709: 'species', 710: 'species', 711: 'species', 712: 'species', 713: 'species', 714: 'species', 715: 'species', 716: 'species', 717: 'species', 718: 'species', 719: 'species', 720: 'species', 721: 'species', 722: 'species', 723: 'species', 724: 'species', 725: 'species', 726: 'species', 727: 'species', 728: 'species', 729: 'species', 730: 'species', 731: 'species', 732: 'species', 733: 'species', 734: 'species', 735: 'species', 736: 'species', 737: 'species', 738: 'species', 739: 'species', 740: 'species', 741: 'species', 742: 'species', 743: 'species', 744: 'species', 745: 'species', 746: 'species', 747: 'species', 748: 'species', 749: 'species', 750: 'species', 751: 'species', 752: 'species', 753: 'species', 754: 'species', 755: 'species', 756: 'species', 757: 'species', 758: 'species', 759: 'species', 760: 'species', 761: 'species', 762: 'species', 763: 'species', 764: 'species', 765: 'species', 766: 'species', 767: 'species', 768: 'species', 769: 'species', 770: 'species', 771: 'species', 772: 'species', 773: 'species', 774: 'species', 775: 'species', 776: 'species', 777: 'species', 778: 'species', 779: 'species', 780: 'species', 781: 'species', 782: 'species', 783: 'species', 784: 'species', 785: 'species', 786: 'species', 787: 'species', 788: 'species', 789: 'species', 790: 'species', 791: 'species', 792: 'species', 793: 'species', 794: 'species', 795: 'species', 796: 'species', 797: 'species', 798: 'species', 799: 'species', 800: 'species', 801: 'species', 802: 'species', 803: 'species', 804: 'species', 805: 'species', 806: 'species', 807: 'species', 808: 'species', 809: 'species', 810: 'species', 811: 'species', 812: 'species', 813: 'species', 814: 'species', 815: 'species', 816: 'species', 817: 'species', 818: 'species', 819: 'species', 820: 'species', 821: 'species', 822: 'species', 823: 'species', 824: 'species', 825: 'species', 826: 'species', 827: 'species', 828: 'species', 829: 'species', 830: 'species', 831: 'species', 832: 'species', 833: 'species', 834: 'species', 835: 'species', 836: 'species', 837: 'species', 838: 'species', 839: 'species', 840: 'species', 841: 'species', 842: 'species', 843: 'species', 844: 'species', 845: 'species', 846: 'species', 847: 'species', 848: 'species', 849: 'species', 850: 'species', 851: 'species', 852: 'species', 853: 'species', 854: 'species', 855: 'species', 856: 'species', 857: 'species', 858: 'species', 859: 'species', 860: 'species', 861: 'species', 862: 'species', 863: 'species', 864: 'species', 865: 'species', 866: 'species', 867: 'species', 868: 'species', 869: 'species', 870: 'species', 871: 'species', 872: 'species', 873: 'species', 874: 'species', 875: 'species', 876: 'species', 877: 'species', 878: 'species', 879: 'species', 880: 'species', 881: 'species', 882: 'species', 883: 'species', 884: 'species', 885: 'species', 886: 'species', 887: 'species', 888: 'species', 889: 'species', 890: 'species', 891: 'species', 892: 'species', 893: 'species', 894: 'species', 895: 'species', 896: 'species', 897: 'species', 898: 'species', 899: 'species', 900: 'species', 901: 'species', 902: 'species', 903: 'species', 904: 'species', 905: 'species', 906: 'species', 907: 'species', 908: 'species', 909: 'species', 910: 'species', 911: 'species', 912: 'species', 913: 'species', 914: 'species', 915: 'species', 916: 'species', 917: 'species', 918: 'species', 919: 'species', 920: 'species', 921: 'species', 922: 'species', 923: 'species', 924: 'species', 925: 'species', 926: 'species', 927: 'species', 928: 'species', 929: 'species', 930: 'species', 931: 'species', 932: 'species', 933: 'species', 934: 'species', 935: 'species', 936: 'species', 937: 'species', 938: 'species', 939: 'species', 940: 'species', 941: 'species', 942: 'species', 943: 'species', 944: 'species', 945: 'species', 946: 'species', 947: 'species', 948: 'species', 949: 'species', 950: 'species', 951: 'species', 952: 'species', 953: 'species', 954: 'species', 955: 'species', 956: 'species', 957: 'species', 958: 'species', 959: 'species', 960: 'species', 961: 'species', 962: 'species', 963: 'species', 964: 'species', 965: 'species', 966: 'species', 967: 'species', 968: 'species', 969: 'species', 970: 'species', 971: 'species', 972: 'species', 973: 'species', 974: 'species', 975: 'species', 976: 'species', 977: 'species', 978: 'species', 979: 'species', 980: 'species', 981: 'species', 982: 'species', 983: 'species', 984: 'species', 985: 'species', 986: 'species', 987: 'species', 988: 'species', 989: 'species', 990: 'species', 991: 'species', 992: 'species', 993: 'species', 994: 'species', 995: 'species', 996: 'species', 997: 'species', 998: 'species'}\n"
     ]
    }
   ],
   "source": [
    "for key in node_props:\n",
    "    print(key, node_props[key])\n",
    "    nx.set_node_attributes(graph, node_props[key], key)"
   ]
  },
  {
   "cell_type": "markdown",
   "metadata": {
    "id": "KgI0hTPJVkEN"
   },
   "source": [
    "Let us check if it is correctly recorded:"
   ]
  },
  {
   "cell_type": "code",
   "execution_count": 60,
   "metadata": {
    "colab": {
     "base_uri": "https://localhost:8080/"
    },
    "id": "H16rVuaq26TA",
    "outputId": "8b61c804-9ad7-49e3-b162-aff76dccefa1"
   },
   "outputs": [
    {
     "data": {
      "text/plain": [
       "{'name': 'Marine Hydrothermal Vent Group 1(MHVG-1)',\n",
       " 'node_idx': 3,\n",
       " 'rank': 'no rank - terminal',\n",
       " 'uid': 5246114}"
      ]
     },
     "execution_count": 60,
     "metadata": {},
     "output_type": "execute_result"
    }
   ],
   "source": [
    "graph.nodes[3]"
   ]
  },
  {
   "cell_type": "markdown",
   "metadata": {
    "id": "lYpXNITQVkEN"
   },
   "source": [
    "**Exercise 1:**\n",
    "Build the graph directly from the `edges` table (without using the adjacency matrix)."
   ]
  },
  {
   "cell_type": "code",
   "execution_count": null,
   "metadata": {
    "id": "wNyaQWbYVkEN"
   },
   "outputs": [],
   "source": [
    "# Your code here."
   ]
  },
  {
   "cell_type": "markdown",
   "metadata": {
    "id": "E35RCfuVVkEN"
   },
   "source": [
    "**Exercise 2:**\n",
    "Build the graph from the initial `tree_of_life` table by directly iterating over the rows of this table (without building the adjacency matrix)."
   ]
  },
  {
   "cell_type": "code",
   "execution_count": null,
   "metadata": {
    "id": "XpFlu3pWVkEN"
   },
   "outputs": [],
   "source": [
    "# Your code here."
   ]
  },
  {
   "cell_type": "markdown",
   "metadata": {
    "id": "TDT4xdiEVkEN"
   },
   "source": [
    "**Exercise 3:**\n",
    "Get the adjacency matrix with `nx.adjacency_matrix(graph)` and compare it with what we obtained previously."
   ]
  },
  {
   "cell_type": "code",
   "execution_count": null,
   "metadata": {
    "id": "GlhW9r3LVkEN"
   },
   "outputs": [],
   "source": [
    "# Your code here."
   ]
  },
  {
   "cell_type": "markdown",
   "metadata": {
    "id": "2DDX9Py2VkEO"
   },
   "source": [
    "## Graph visualization\n",
    "\n",
    "To conclude, let us visualize the graph. We will use the python module networkx."
   ]
  },
  {
   "cell_type": "markdown",
   "metadata": {
    "id": "8cHAksqbVkEO"
   },
   "source": [
    "The following line is a [magic command](https://ipython.readthedocs.io/en/stable/interactive/magics.html). It enables plotting inside the notebook."
   ]
  },
  {
   "cell_type": "code",
   "execution_count": 93,
   "metadata": {
    "id": "t9YAwGxuVkEO"
   },
   "outputs": [],
   "source": [
    "%matplotlib inline"
   ]
  },
  {
   "cell_type": "markdown",
   "metadata": {
    "id": "jbxBWh5kVkEO"
   },
   "source": [
    "You may also try `%matplotlib notebook` for a zoomable version of plots."
   ]
  },
  {
   "cell_type": "markdown",
   "metadata": {
    "id": "qEy8KIwwVkEO"
   },
   "source": [
    "Draw the graph with two different [layout algorithms](https://en.wikipedia.org/wiki/Graph_drawing#Layout_methods)."
   ]
  },
  {
   "cell_type": "code",
   "execution_count": 94,
   "metadata": {
    "colab": {
     "base_uri": "https://localhost:8080/",
     "height": 319
    },
    "id": "ibpMIpX9VkEO",
    "outputId": "59eea28a-d39a-4a79-80bd-2b8fa73761d7"
   },
   "outputs": [
    {
     "data": {
      "image/png": "[encoded data removed]",
      "text/plain": [
       "<Figure size 432x288 with 1 Axes>"
      ]
     },
     "metadata": {},
     "output_type": "display_data"
    }
   ],
   "source": [
    "nx.draw_spectral(graph)"
   ]
  },
  {
   "cell_type": "code",
   "execution_count": 95,
   "metadata": {
    "colab": {
     "base_uri": "https://localhost:8080/",
     "height": 319
    },
    "id": "z9mhgukcVkEO",
    "outputId": "ba43659b-31c2-48b9-e29f-8dfe7839e1e2"
   },
   "outputs": [
    {
     "data": {
      "image/png": "[encoded data removed]",
      "text/plain": [
       "<Figure size 432x288 with 1 Axes>"
      ]
     },
     "metadata": {},
     "output_type": "display_data"
    }
   ],
   "source": [
    "nx.draw_spring(graph)"
   ]
  },
  {
   "cell_type": "markdown",
   "metadata": {
    "id": "DdYCLtbgVkEO"
   },
   "source": [
    "Save the graph to disk in the `gexf` format, readable by gephi and other tools that manipulate graphs. You may now explore the graph using [gephi](https://gephi.org/) and compare the visualizations."
   ]
  },
  {
   "cell_type": "code",
   "execution_count": 96,
   "metadata": {
    "id": "d1t43RtTVkEO"
   },
   "outputs": [],
   "source": [
    "nx.write_gexf(graph, '/content/drive/MyDrive/Colab Notebooks/tree_of_life.gexf')"
   ]
  }
 ],
 "metadata": {
  "colab": {
   "name": "02_graph_from_edge_list.ipynb",
   "provenance": []
  },
  "kernelspec": {
   "display_name": "Python 3 (ipykernel)",
   "language": "python",
   "name": "python3"
  },
  "language_info": {
   "codemirror_mode": {
    "name": "ipython",
    "version": 3
   },
   "file_extension": ".py",
   "mimetype": "text/x-python",
   "name": "python",
   "nbconvert_exporter": "python",
   "pygments_lexer": "ipython3",
   "version": "3.8.8"
  }
 },
 "nbformat": 4,
 "nbformat_minor": 4
}
