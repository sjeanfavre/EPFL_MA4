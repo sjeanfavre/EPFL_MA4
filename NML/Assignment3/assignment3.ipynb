{
 "cells": [
  {
   "cell_type": "markdown",
   "metadata": {
    "id": "DTcLQuuiX5Xs"
   },
   "source": [
    "# Assignment 3: Graph features & unsupervised node embedding\n",
    "\n",
    "Ortal Senouf (ortal.senouf@epfl.ch), Ping Hu (ping.hu@epfl.ch)"
   ]
  },
  {
   "cell_type": "code",
   "execution_count": 85,
   "metadata": {
    "id": "yeqdIsbI3YS0"
   },
   "outputs": [
    {
     "name": "stdout",
     "output_type": "stream",
     "text": [
      "Requirement already satisfied: numpy>=1.14 in c:\\users\\sjean\\miniconda3\\envs\\nml\\lib\\site-packages (from stellargraph) (1.21.5)\n",
      "Requirement already satisfied: gensim>=3.4.0 in c:\\users\\sjean\\miniconda3\\envs\\nml\\lib\\site-packages (from stellargraph) (4.1.2)\n",
      "Requirement already satisfied: tensorflow>=2.1.0 in c:\\users\\sjean\\miniconda3\\envs\\nml\\lib\\site-packages (from stellargraph) (2.8.0)\n",
      "Requirement already satisfied: scikit-learn>=0.20 in c:\\users\\sjean\\miniconda3\\envs\\nml\\lib\\site-packages (from stellargraph) (1.0.2)\n",
      "Requirement already satisfied: scipy>=1.1.0 in c:\\users\\sjean\\miniconda3\\envs\\nml\\lib\\site-packages (from stellargraph) (1.8.0)\n",
      "Requirement already satisfied: matplotlib>=2.2 in c:\\users\\sjean\\miniconda3\\envs\\nml\\lib\\site-packages (from stellargraph) (3.5.1)\n",
      "Requirement already satisfied: smart-open>=1.8.1 in c:\\users\\sjean\\miniconda3\\envs\\nml\\lib\\site-packages (from gensim>=3.4.0->stellargraph) (6.0.0)\n",
      "Requirement already satisfied: packaging>=20.0 in c:\\users\\sjean\\miniconda3\\envs\\nml\\lib\\site-packages (from matplotlib>=2.2->stellargraph) (21.3)\n",
      "Requirement already satisfied: cycler>=0.10 in c:\\users\\sjean\\miniconda3\\envs\\nml\\lib\\site-packages (from matplotlib>=2.2->stellargraph) (0.11.0)"
     ]
    },
    {
     "name": "stderr",
     "output_type": "stream",
     "text": [
      "\n"
     ]
    },
    {
     "name": "stdout",
     "output_type": "stream",
     "text": [
      "\n",
      "Requirement already satisfied: kiwisolver>=1.0.1 in c:\\users\\sjean\\miniconda3\\envs\\nml\\lib\\site-packages (from matplotlib>=2.2->stellargraph) (1.4.2)\n",
      "Requirement already satisfied: python-dateutil>=2.7 in c:\\users\\sjean\\miniconda3\\envs\\nml\\lib\\site-packages (from matplotlib>=2.2->stellargraph) (2.8.2)\n",
      "Requirement already satisfied: pillow>=6.2.0 in c:\\users\\sjean\\miniconda3\\envs\\nml\\lib\\site-packages (from matplotlib>=2.2->stellargraph) (9.1.0)\n",
      "Requirement already satisfied: pyparsing>=2.2.1 in c:\\users\\sjean\\miniconda3\\envs\\nml\\lib\\site-packages (from matplotlib>=2.2->stellargraph) (3.0.4)\n",
      "Requirement already satisfied: fonttools>=4.22.0 in c:\\users\\sjean\\miniconda3\\envs\\nml\\lib\\site-packages (from matplotlib>=2.2->stellargraph) (4.33.3)\n",
      "Requirement already satisfied: pytz>=2020.1 in c:\\users\\sjean\\miniconda3\\envs\\nml\\lib\\site-packages (from pandas>=0.24->stellargraph) (2021.3)\n",
      "Requirement already satisfied: joblib>=0.11 in c:\\users\\sjean\\appdata\\roaming\\python\\python38\\site-packages (from scikit-learn>=0.20->stellargraph) (1.1.0)\n",
      "Requirement already satisfied: threadpoolctl>=2.0.0 in c:\\users\\sjean\\miniconda3\\envs\\nml\\lib\\site-packages (from scikit-learn>=0.20->stellargraph) (3.1.0)\n",
      "Requirement already satisfied: typing-extensions>=3.6.6 in c:\\users\\sjean\\miniconda3\\envs\\nml\\lib\\site-packages (from tensorflow>=2.1.0->stellargraph) (4.1.1)\n",
      "Requirement already satisfied: google-pasta>=0.1.1 in c:\\users\\sjean\\miniconda3\\envs\\nml\\lib\\site-packages (from tensorflow>=2.1.0->stellargraph) (0.2.0)\n",
      "Requirement already satisfied: protobuf>=3.9.2 in c:\\users\\sjean\\miniconda3\\envs\\nml\\lib\\site-packages (from tensorflow>=2.1.0->stellargraph) (3.20.1)\n",
      "Requirement already satisfied: grpcio<2.0,>=1.24.3 in c:\\users\\sjean\\miniconda3\\envs\\nml\\lib\\site-packages (from tensorflow>=2.1.0->stellargraph) (1.44.0)\n",
      "Requirement already satisfied: termcolor>=1.1.0 in c:\\users\\sjean\\miniconda3\\envs\\nml\\lib\\site-packages (from tensorflow>=2.1.0->stellargraph) (1.1.0)\n",
      "Requirement already satisfied: h5py>=2.9.0 in c:\\users\\sjean\\miniconda3\\envs\\nml\\lib\\site-packages (from tensorflow>=2.1.0->stellargraph) (3.6.0)\n",
      "Requirement already satisfied: absl-py>=0.4.0 in c:\\users\\sjean\\miniconda3\\envs\\nml\\lib\\site-packages (from tensorflow>=2.1.0->stellargraph) (1.0.0)\n",
      "Requirement already satisfied: libclang>=9.0.1 in c:\\users\\sjean\\miniconda3\\envs\\nml\\lib\\site-packages (from tensorflow>=2.1.0->stellargraph) (14.0.1)\n",
      "Requirement already satisfied: tensorflow-io-gcs-filesystem>=0.23.1 in c:\\users\\sjean\\miniconda3\\envs\\nml\\lib\\site-packages (from tensorflow>=2.1.0->stellargraph) (0.25.0)\n",
      "Requirement already satisfied: opt-einsum>=2.3.2 in c:\\users\\sjean\\miniconda3\\envs\\nml\\lib\\site-packages (from tensorflow>=2.1.0->stellargraph) (3.3.0)\n",
      "Requirement already satisfied: wrapt>=1.11.0 in c:\\users\\sjean\\miniconda3\\envs\\nml\\lib\\site-packages (from tensorflow>=2.1.0->stellargraph) (1.14.0)\n",
      "Requirement already satisfied: gast>=0.2.1 in c:\\users\\sjean\\appdata\\roaming\\python\\python38\\site-packages (from tensorflow>=2.1.0->stellargraph) (0.3.3)\n",
      "Requirement already satisfied: tensorboard<2.9,>=2.8 in c:\\users\\sjean\\miniconda3\\envs\\nml\\lib\\site-packages (from tensorflow>=2.1.0->stellargraph) (2.8.0)\n",
      "Requirement already satisfied: keras<2.9,>=2.8.0rc0 in c:\\users\\sjean\\miniconda3\\envs\\nml\\lib\\site-packages (from tensorflow>=2.1.0->stellargraph) (2.8.0)\n",
      "Requirement already satisfied: keras-preprocessing>=1.1.1 in c:\\users\\sjean\\miniconda3\\envs\\nml\\lib\\site-packages (from tensorflow>=2.1.0->stellargraph) (1.1.2)\n",
      "Requirement already satisfied: flatbuffers>=1.12 in c:\\users\\sjean\\miniconda3\\envs\\nml\\lib\\site-packages (from tensorflow>=2.1.0->stellargraph) (2.0)\n",
      "Requirement already satisfied: six>=1.12.0 in c:\\users\\sjean\\miniconda3\\envs\\nml\\lib\\site-packages (from tensorflow>=2.1.0->stellargraph) (1.16.0)\n",
      "Requirement already satisfied: astunparse>=1.6.0 in c:\\users\\sjean\\miniconda3\\envs\\nml\\lib\\site-packages (from tensorflow>=2.1.0->stellargraph) (1.6.3)\n",
      "Requirement already satisfied: setuptools in c:\\users\\sjean\\miniconda3\\envs\\nml\\lib\\site-packages (from tensorflow>=2.1.0->stellargraph) (61.2.0)\n",
      "Requirement already satisfied: tf-estimator-nightly==2.8.0.dev2021122109 in c:\\users\\sjean\\miniconda3\\envs\\nml\\lib\\site-packages (from tensorflow>=2.1.0->stellargraph) (2.8.0.dev2021122109)\n",
      "Requirement already satisfied: wheel<1.0,>=0.23.0 in c:\\users\\sjean\\miniconda3\\envs\\nml\\lib\\site-packages (from astunparse>=1.6.0->tensorflow>=2.1.0->stellargraph) (0.37.1)\n",
      "Requirement already satisfied: google-auth<3,>=1.6.3 in c:\\users\\sjean\\miniconda3\\envs\\nml\\lib\\site-packages (from tensorboard<2.9,>=2.8->tensorflow>=2.1.0->stellargraph) (2.6.6)\n",
      "Requirement already satisfied: requests<3,>=2.21.0 in c:\\users\\sjean\\miniconda3\\envs\\nml\\lib\\site-packages (from tensorboard<2.9,>=2.8->tensorflow>=2.1.0->stellargraph) (2.27.1)\n",
      "Requirement already satisfied: werkzeug>=0.11.15 in c:\\users\\sjean\\miniconda3\\envs\\nml\\lib\\site-packages (from tensorboard<2.9,>=2.8->tensorflow>=2.1.0->stellargraph) (2.1.1)\n",
      "Requirement already satisfied: tensorboard-data-server<0.7.0,>=0.6.0 in c:\\users\\sjean\\miniconda3\\envs\\nml\\lib\\site-packages (from tensorboard<2.9,>=2.8->tensorflow>=2.1.0->stellargraph) (0.6.1)\n",
      "Requirement already satisfied: tensorboard-plugin-wit>=1.6.0 in c:\\users\\sjean\\miniconda3\\envs\\nml\\lib\\site-packages (from tensorboard<2.9,>=2.8->tensorflow>=2.1.0->stellargraph) (1.8.1)\n",
      "Requirement already satisfied: google-auth-oauthlib<0.5,>=0.4.1 in c:\\users\\sjean\\miniconda3\\envs\\nml\\lib\\site-packages (from tensorboard<2.9,>=2.8->tensorflow>=2.1.0->stellargraph) (0.4.6)\n",
      "Requirement already satisfied: markdown>=2.6.8 in c:\\users\\sjean\\miniconda3\\envs\\nml\\lib\\site-packages (from tensorboard<2.9,>=2.8->tensorflow>=2.1.0->stellargraph) (3.3.6)\n",
      "Requirement already satisfied: pyasn1-modules>=0.2.1 in c:\\users\\sjean\\miniconda3\\envs\\nml\\lib\\site-packages (from google-auth<3,>=1.6.3->tensorboard<2.9,>=2.8->tensorflow>=2.1.0->stellargraph) (0.2.8)\n",
      "Requirement already satisfied: cachetools<6.0,>=2.0.0 in c:\\users\\sjean\\miniconda3\\envs\\nml\\lib\\site-packages (from google-auth<3,>=1.6.3->tensorboard<2.9,>=2.8->tensorflow>=2.1.0->stellargraph) (5.0.0)\n",
      "Requirement already satisfied: rsa<5,>=3.1.4 in c:\\users\\sjean\\miniconda3\\envs\\nml\\lib\\site-packages (from google-auth<3,>=1.6.3->tensorboard<2.9,>=2.8->tensorflow>=2.1.0->stellargraph) (4.8)\n",
      "Requirement already satisfied: requests-oauthlib>=0.7.0 in c:\\users\\sjean\\miniconda3\\envs\\nml\\lib\\site-packages (from google-auth-oauthlib<0.5,>=0.4.1->tensorboard<2.9,>=2.8->tensorflow>=2.1.0->stellargraph) (1.3.1)\n",
      "Requirement already satisfied: importlib-metadata>=4.4 in c:\\users\\sjean\\miniconda3\\envs\\nml\\lib\\site-packages (from markdown>=2.6.8->tensorboard<2.9,>=2.8->tensorflow>=2.1.0->stellargraph) (4.11.3)\n",
      "Requirement already satisfied: urllib3<1.27,>=1.21.1 in c:\\users\\sjean\\miniconda3\\envs\\nml\\lib\\site-packages (from requests<3,>=2.21.0->tensorboard<2.9,>=2.8->tensorflow>=2.1.0->stellargraph) (1.26.9)\n",
      "Requirement already satisfied: charset-normalizer~=2.0.0 in c:\\users\\sjean\\miniconda3\\envs\\nml\\lib\\site-packages (from requests<3,>=2.21.0->tensorboard<2.9,>=2.8->tensorflow>=2.1.0->stellargraph) (2.0.4)\n",
      "Requirement already satisfied: certifi>=2017.4.17 in c:\\users\\sjean\\miniconda3\\envs\\nml\\lib\\site-packages (from requests<3,>=2.21.0->tensorboard<2.9,>=2.8->tensorflow>=2.1.0->stellargraph) (2021.10.8)\n",
      "Requirement already satisfied: idna<4,>=2.5 in c:\\users\\sjean\\miniconda3\\envs\\nml\\lib\\site-packages (from requests<3,>=2.21.0->tensorboard<2.9,>=2.8->tensorflow>=2.1.0->stellargraph) (3.3)\n",
      "Requirement already satisfied: zipp>=0.5 in c:\\users\\sjean\\miniconda3\\envs\\nml\\lib\\site-packages (from importlib-metadata>=4.4->markdown>=2.6.8->tensorboard<2.9,>=2.8->tensorflow>=2.1.0->stellargraph) (3.7.0)\n",
      "Requirement already satisfied: pyasn1<0.5.0,>=0.4.6 in c:\\users\\sjean\\miniconda3\\envs\\nml\\lib\\site-packages (from pyasn1-modules>=0.2.1->google-auth<3,>=1.6.3->tensorboard<2.9,>=2.8->tensorflow>=2.1.0->stellargraph) (0.4.8)\n",
      "Requirement already satisfied: oauthlib>=3.0.0 in c:\\users\\sjean\\miniconda3\\envs\\nml\\lib\\site-packages (from requests-oauthlib>=0.7.0->google-auth-oauthlib<0.5,>=0.4.1->tensorboard<2.9,>=2.8->tensorflow>=2.1.0->stellargraph) (3.2.0)\n"
     ]
    }
   ],
   "source": [
    "import networkx as nx\n",
    "import matplotlib.pyplot as plt\n",
    "%matplotlib inline\n",
    "%env PYTHONHASHSEED=0\n",
    "import numpy as np\n",
    "!pip install stellargraph\n",
    "from gensim.models import Word2Vec\n",
    "from stellargraph.data import BiasedRandomWalk\n",
    "from stellargraph import StellarGraph\n",
    "from IPython.display import clear_output \n",
    "import pandas as pd\n",
    "clear_output()\n"
   ]
  },
  {
   "cell_type": "markdown",
   "metadata": {
    "id": "e779e012"
   },
   "source": [
    "## Data loading and visualization\n",
    "We will use the PolBooks dataset consisting of 105 nodes and 441 edges.  \n",
    "Nodes represent books about US politics sold by the online bookseller\n",
    "Amazon.com.  Edges represent frequent co-purchasing of books by the same buyers, as indicated by the \"customers who bought this book also bought these other books\" feature on Amazon.\n",
    "\n",
    "Nodes have been given values \"l\", \"n\", or \"c\" to indicate whether they are \"liberal\", \"neutral\", or \"conservative\"."
   ]
  },
  {
   "cell_type": "code",
   "execution_count": 70,
   "metadata": {
    "id": "jJnloTorhe7E"
   },
   "outputs": [],
   "source": [
    "user = \"rabbanyk\"\n",
    "repo = \"CommunityEvaluation\"\n",
    "src_dir = \"Datasets/classics\"\n",
    "pyfile = \"polbooks.gml\"\n",
    "\n",
    "url = f\"https://raw.githubusercontent.com/{user}/{repo}/master/{src_dir}/{pyfile}\"\n",
    "!wget --no-cache --backups=1 {url}\n",
    "G = nx.read_gml('polbooks.gml')\n",
    "\n",
    "clear_output()"
   ]
  },
  {
   "cell_type": "code",
   "execution_count": 71,
   "metadata": {
    "id": "c024bf5b"
   },
   "outputs": [
    {
     "name": "stdout",
     "output_type": "stream",
     "text": [
      "105\n",
      "441\n"
     ]
    }
   ],
   "source": [
    "# Name the graph\n",
    "G.graph[\"name\"] = 'Polbooks'\n",
    "\n",
    "# The size of the graph\n",
    "number_of_nodes = G.number_of_nodes()\n",
    "print(number_of_nodes)\n",
    "number_of_edges = G.number_of_edges()\n",
    "print(number_of_edges)"
   ]
  },
  {
   "cell_type": "code",
   "execution_count": 72,
   "metadata": {
    "id": "5fbba893"
   },
   "outputs": [],
   "source": [
    "# Get the node lists for each label\n",
    "values = nx.get_node_attributes(G, \"value\")\n",
    "node_list_l = [k for k, v in values.items() if v == 'l']\n",
    "node_list_n = [k for k, v in values.items() if v == 'n']\n",
    "node_list_c = [k for k, v in values.items() if v == 'c']"
   ]
  },
  {
   "cell_type": "code",
   "execution_count": 73,
   "metadata": {
    "id": "f27bb3fc"
   },
   "outputs": [],
   "source": [
    "# Get edges connecting nodes with the same values and with distinct values\n",
    "edge_list_l = [(k, v) for (k, v) in G.edges() if k in node_list_l and v in node_list_l] \n",
    "edge_list_n = [(k, v) for (k, v) in G.edges() if k in node_list_n and v in node_list_n] \n",
    "edge_list_c = [(k, v) for (k, v) in G.edges() if k in node_list_c and v in node_list_c] \n",
    "edge_list_between = [(k, v) for (k, v) in G.edges() if (k, v) not in (edge_list_l + edge_list_n + edge_list_c)]"
   ]
  },
  {
   "cell_type": "markdown",
   "metadata": {
    "id": "92WJ8CU0DrLD"
   },
   "source": [
    "Let's visualize the Polbooks network with nodes and edges colored by class: red for liberal nodes and edges connecting liberal nodes, blue for conservative and green for neutral."
   ]
  },
  {
   "cell_type": "code",
   "execution_count": 74,
   "metadata": {
    "id": "35e21cae"
   },
   "outputs": [
    {
     "data": {
      "image/png": "[encoded data removed]",
      "text/plain": [
       "<Figure size 432x288 with 1 Axes>"
      ]
     },
     "metadata": {},
     "output_type": "display_data"
    }
   ],
   "source": [
    "# Plot the graph structure with colors\n",
    "pos = nx.spring_layout(G, seed=0)\n",
    "\n",
    "# nodes\n",
    "options = {\"edgecolors\": \"tab:gray\", \"node_size\": 200, \"alpha\": 0.9}\n",
    "nx.draw_networkx_nodes(G, pos, nodelist= node_list_l, node_color=\"tab:red\", **options)\n",
    "nx.draw_networkx_nodes(G, pos, nodelist= node_list_n, node_color=\"tab:green\", **options)\n",
    "nx.draw_networkx_nodes(G, pos, nodelist= node_list_c, node_color=\"tab:blue\", **options)\n",
    "# edges\n",
    "nx.draw_networkx_edges(G, pos, edgelist = edge_list_l, width=1.0, alpha=0.5, edge_color=\"tab:red\")\n",
    "nx.draw_networkx_edges(G, pos, edgelist = edge_list_n, width=1.0, alpha=0.5, edge_color=\"tab:green\")\n",
    "nx.draw_networkx_edges(G, pos, edgelist = edge_list_c, width=1.0, alpha=0.5, edge_color=\"tab:blue\")\n",
    "nx.draw_networkx_edges(G, pos, edgelist = edge_list_between, width=1.0, alpha=0.5)\n",
    "plt.tight_layout()"
   ]
  },
  {
   "cell_type": "markdown",
   "metadata": {
    "id": "67571434"
   },
   "source": [
    "## Part I: Traditional Methods for ML on Graphs\n",
    "####In this part you will extract some of the known node features and train a classifier for the task of node classification."
   ]
  },
  {
   "cell_type": "markdown",
   "metadata": {
    "id": "---gx7Q1XLy1"
   },
   "source": [
    "**Exercise 1**: Think of the various node features learned in class and select the two you expect to be the most meaningful in our node classification task. Explain. \n",
    "\n",
    "\n",
    "---\n",
    "In our opinion, the most important feature would be the centrality because it measures if a node is well connected and is between other nodes. This information could be useful as we notice that the classes form a few major and separable clusters. Therefore if a node is well connected or between nodes of another class then it would be more likely to represent that class.\n",
    "\n",
    "The second feature could be ..................\n",
    " \n",
    "---\n",
    "\n"
   ]
  },
  {
   "cell_type": "markdown",
   "metadata": {
    "id": "be4b8008"
   },
   "source": [
    "**Exercise 2:** write a function that takes a graph object as an input and returns a matrix of size Nxd, where N is the number of nodes and d is the number of features. In this exercise you will extract the following features:degree, 3 node centrality measures, clustering coefficient. You may use NetworkX implementations for extracting these features.    "
   ]
  },
  {
   "cell_type": "code",
   "execution_count": 75,
   "metadata": {
    "id": "Ts3QTnM8Sgg5"
   },
   "outputs": [],
   "source": [
    "def extract_features(G):\n",
    "    degrees = [val for (node, val) in G.degree()]\n",
    "    between_centrality = list(nx.betweenness_centrality(G).values()) \n",
    "    close_centrality = list(nx.closeness_centrality(G).values())     #normalised compared to course formula\n",
    "    eigen_centrality = list(nx.eigenvector_centrality(G,1000).values())\n",
    "    clustering_coef = list(nx.clustering(G).values())\n",
    "    Features = np.array([degrees,between_centrality,close_centrality,eigen_centrality,clustering_coef]).T\n",
    "\n",
    "    return Features"
   ]
  },
  {
   "cell_type": "code",
   "execution_count": 76,
   "metadata": {
    "id": "a740b9ee"
   },
   "outputs": [
    {
     "name": "stdout",
     "output_type": "stream",
     "text": [
      "(105, 5)\n"
     ]
    }
   ],
   "source": [
    "# Get the nodes features and labels \n",
    "features_graph = extract_features(G)\n",
    "print(features_graph.shape)\n",
    "targets = [nx.get_node_attributes(G, \"value\")[node] for node in G.nodes()]"
   ]
  },
  {
   "cell_type": "markdown",
   "metadata": {
    "id": "DMzOlewzlQmz"
   },
   "source": [
    "**Exercise 3**: \n",
    "\n",
    "Write a function that: \n",
    "1.   Split the data into train and test sets, test should be 25% of the data. Use the random seed given in the code block. Make sure the data partition is stratified. **This part has already been done for you.**\n",
    "2.   Train an SVM classifier on the train samples. Make sure to normalize the features and use the given random seed to define the `random_state` \n",
    ". Implement a feature selection preprocessing step before training to use the k highest scored features for the classification task. You may use the SelectKBest model together with the f_classif function from the `sklearn.feature_selection` library. \n",
    "3. Predict the labels of the test samples\n",
    "4. Display the confusion matrix to evaluate the performance\n",
    "\n",
    "You may use the `sklearn` library.\n",
    "\n"
   ]
  },
  {
   "cell_type": "code",
   "execution_count": 77,
   "metadata": {
    "id": "5662c0a6"
   },
   "outputs": [],
   "source": [
    "from sklearn.model_selection import train_test_split\n",
    "# additional imports are necessary\n",
    "from sklearn.svm import SVC\n",
    "from sklearn.preprocessing import StandardScaler\n",
    "from sklearn.feature_selection import SelectKBest\n",
    "from sklearn.metrics import confusion_matrix\n",
    "from sklearn.feature_selection import f_classif\n",
    "\n",
    "def train_classifier(features, targets, feature_selection = False):\n",
    "  ''' INPUT:\n",
    "     features: Nxd features matrix\n",
    "     targets: node labels\n",
    "     feature_selection: a flag for weather to use feature selction, default is False. \n",
    "                        If an integer number is given then it is used as the number of \n",
    "                        highest ranked features to use.\n",
    "     OUTPUT:\n",
    "     confmat: confusion matrix\n",
    "     scores: feature ranking scores'''\n",
    "\n",
    "  seed = 0 #Don't change this\n",
    "  # split the data into training and testing sets\n",
    "\n",
    "  X_train, X_test, y_train, y_test = train_test_split(features, targets, stratify=targets, test_size=0.25, random_state = seed)\n",
    "\n",
    "\n",
    "  # build and train the ML model\n",
    "    # Your code here   \n",
    "  scaler = StandardScaler()\n",
    "  normalized_train = scaler.fit_transform(X_train)\n",
    "  normalized_test = scaler.fit_transform(X_test)      #jsp si on doit faire ça pour test\n",
    "\n",
    "  if feature_selection:\n",
    "      k = feature_selection\n",
    "      kbest = SelectKBest(f_classif, k=k)\n",
    "      normalized_train = kbest.fit_transform(normalized_train, y_train)\n",
    "      scores = kbest.scores_\n",
    "      k_index = scores.argsort()[-3:][::-1]  \n",
    "      normalized_test = normalized_test[:,np.sort(k_index)]\n",
    "\n",
    "\n",
    "    #     clf = make_pipeline(StandardScaler(), SVC(gamma='auto'))\n",
    "  clf = SVC()\n",
    "  clf.fit(normalized_train, y_train)\n",
    "\n",
    "    # use the model to predict the labels of the test data\n",
    "    # Your code here\n",
    "\n",
    "  y_preds = clf.predict(normalized_test)\n",
    "\n",
    "  confmat = confusion_matrix(y_test, y_preds)\n",
    "\n",
    "  # Display the confusion matrix\n",
    "  # Your code here\n",
    "  print(\"confusion matrix: \\n {}\".format(confmat))\n",
    "  if feature_selection:\n",
    "    return confmat, scores\n",
    "  else:\n",
    "    return confmat"
   ]
  },
  {
   "cell_type": "markdown",
   "metadata": {
    "id": "9yPJoQjBhh44"
   },
   "source": [
    "Run the `train_classifier` function with the feature selection module with feature_selection=3 (number of highest ranked features to use)"
   ]
  },
  {
   "cell_type": "code",
   "execution_count": 78,
   "metadata": {
    "id": "1OUh0bRYhlqM"
   },
   "outputs": [
    {
     "name": "stdout",
     "output_type": "stream",
     "text": [
      "confusion matrix: \n",
      " [[13  0  0]\n",
      " [ 3  8  0]\n",
      " [ 2  1  0]]\n"
     ]
    }
   ],
   "source": [
    "# your code here\n",
    "confmat, scores = train_classifier(features_graph, targets, feature_selection = 3)   "
   ]
  },
  {
   "cell_type": "markdown",
   "metadata": {
    "id": "ZIhgEN3teTQU"
   },
   "source": [
    "Now run the `train_classifier` function without feature selection and observe if there's a diffrence in the performance."
   ]
  },
  {
   "cell_type": "code",
   "execution_count": 79,
   "metadata": {
    "id": "ZOfM57eld7hM"
   },
   "outputs": [
    {
     "name": "stdout",
     "output_type": "stream",
     "text": [
      "confusion matrix: \n",
      " [[13  0  0]\n",
      " [ 3  8  0]\n",
      " [ 2  1  0]]\n"
     ]
    }
   ],
   "source": [
    "# your code here\n",
    "confmat_no_feat_selec = train_classifier(features_graph, targets, feature_selection = False)"
   ]
  },
  {
   "cell_type": "markdown",
   "metadata": {
    "id": "SZ71Z1Bfhtb4"
   },
   "source": [
    "**Exercise 4:**\n",
    "From the result of feature selection, which feature is the most important one for the classification task? Does it match your expectation in the first question? Explain.\n",
    "\n",
    "---\n",
    "The most important feature is the eigenvector centrality. As predicted before, it is a centrality feature that would matter the most as it indicates if a node is well connected, and well connected nodes usually have nieghbors that are similar to their class.\n",
    " \n",
    "---\n"
   ]
  },
  {
   "cell_type": "markdown",
   "metadata": {
    "id": "vwpZJ5cQWre0"
   },
   "source": [
    "**Exercise 5:**\n",
    "In this part, we considered five classical node features that are easy to get from the networkx library. There are many other node features that can be employed for the node classification task. Recall the the lecture: what does the clustering coefficient measure? By which other more flexible feature can you replace it?\n",
    "\n",
    "---\n",
    " <font color='blue'>[YOUR ANSWER HERE]</font> \n",
    " \n",
    "---\n",
    "   "
   ]
  },
  {
   "cell_type": "markdown",
   "metadata": {
    "id": "ZjhWzz1aCU-m"
   },
   "source": [
    "### Part II: Node Embedding\n",
    "\n",
    "In this part you will practice and analyze the unsupervised node embedding learning approach for the task of node classification. "
   ]
  },
  {
   "cell_type": "markdown",
   "metadata": {
    "id": "Q94e8vLrTHsg"
   },
   "source": [
    "**Exercise 6**: What are the two steps of which the node2vec methods are built upon? \n",
    "\n",
    "\n",
    "---\n",
    "\n",
    "\n",
    " <font color='blue'>[YOUR ANSWER HERE]</font> \n",
    " \n",
    "The first step is a biased random walk controlled by the return parameter $p$ and the in-out parameter $q$. \n",
    "\n",
    "The second step consists in giving the sampled random walks as input to an encoder which generates the low dimension nodes embeddings in the latent vector space.\n",
    "\n",
    "---\n",
    "\n"
   ]
  },
  {
   "cell_type": "markdown",
   "metadata": {
    "id": "o5HOOXtQfLfj"
   },
   "source": [
    "**Exercise 7**: Implement node2vec considering the two steps mentioned before. You may use the `gensim` and `stellargraph` libraries already installed and imported to this notebook. <br> \n",
    "**Complete** the explanation of p,q in the code documentation, i.e what they stand for and what values should be parsed to them <br>\n",
    "**Make sure** to parse the given random seed whenever possible for reproducibility of results.  "
   ]
  },
  {
   "cell_type": "code",
   "execution_count": 86,
   "metadata": {
    "id": "88cplgOfOGKa"
   },
   "outputs": [],
   "source": [
    "def Node2Vec(G, dimensions, walk_length, num_walks, p=1.0, q=10.0):\n",
    "    '''G: NetworkX graph object\n",
    "    dimensions: embedding dimensions\n",
    "        walk_length: maximum length of each random walk\n",
    "        num_walks: total number of random walks per root node\n",
    "        p,q: the return parameter p controls the probability \n",
    "             of staying in the neighborhood of the previously \n",
    "             visited node whereas q defines the exploration \n",
    "             rate, i.e. how fast the random walk is moving away \n",
    "             from the the neighborhood of the starting point. '''\n",
    "    \n",
    "    seed = 0\n",
    "    #Your code here\n",
    "\n",
    "    rw = BiasedRandomWalk(G)\n",
    "    \n",
    "    walks = rw.run(nodes=list(G.nodes()), length=walk_length, n=num_walks, p=p, q=q)\n",
    "    \n",
    "    str_walks = [[str(n) for n in walk] for walk in walks]\n",
    "    \n",
    "    model = Word2Vec(sentences=str_walks, vector_size=dimensions, window=walk_length, min_count=0, sg=1, workers=4)\n",
    "\n",
    "    return model"
   ]
  },
  {
   "cell_type": "code",
   "execution_count": 87,
   "metadata": {
    "id": "NDdfw3JSXh8M"
   },
   "outputs": [],
   "source": [
    "# Train the embedding\n",
    "model = Node2Vec(StellarGraph.from_networkx(G), dimensions=3, walk_length=10, num_walks=50, p=1.0, q=10.0)"
   ]
  },
  {
   "cell_type": "code",
   "execution_count": 88,
   "metadata": {
    "id": "ep4NyrOV0vST"
   },
   "outputs": [
    {
     "data": {
      "text/plain": [
       "array([1.9303244, 1.5551523, 0.8384374], dtype=float32)"
      ]
     },
     "execution_count": 88,
     "metadata": {},
     "output_type": "execute_result"
    }
   ],
   "source": [
    "# Display the embedding vector of one node\n",
    "model.wv.get_vector('1000 Years for Revenge')"
   ]
  },
  {
   "cell_type": "markdown",
   "metadata": {
    "id": "kXs30gdc74qv"
   },
   "source": [
    "**Exercise 8**: similarly to the first part of the assignment, train an SVM classifier, this time with the embedding features. <br>\n",
    "Use the `train_classifier` function you have implemented before. <br>\n",
    "**Make sure** to stack the embedding vectors in the feature matrix in the same order as in Part I, i.e the order of the nodes in the row dimension (N) is maintained the same as in the feature matix of Part I. This will allow an identical split of the data into train and test sets and by that, allow the comparison to the previous experiment with classical node features.  "
   ]
  },
  {
   "cell_type": "code",
   "execution_count": 89,
   "metadata": {},
   "outputs": [
    {
     "data": {
      "text/plain": [
       "(105, 3)"
      ]
     },
     "execution_count": 89,
     "metadata": {},
     "output_type": "execute_result"
    }
   ],
   "source": [
    "model.wv.vectors.shape"
   ]
  },
  {
   "cell_type": "code",
   "execution_count": 90,
   "metadata": {
    "id": "EmvZdwqU8Mhj"
   },
   "outputs": [
    {
     "name": "stdout",
     "output_type": "stream",
     "text": [
      "confusion matrix: \n",
      " [[4 9 0]\n",
      " [4 7 0]\n",
      " [3 0 0]]\n"
     ]
    }
   ],
   "source": [
    "# stack the embedding features into a Nxd matrix (N: number of nodes, d: number of features)\n",
    "features_n2v1 = model.wv.vectors #your code here\n",
    "_ = train_classifier(features_n2v1, targets)"
   ]
  },
  {
   "cell_type": "markdown",
   "metadata": {
    "id": "iePGdauSYZ4y"
   },
   "source": [
    "**Exercise 9**: The previous embedding is trained with paramteres p=1.0,q=10.0. For the task of node classification on the Polbooks network which set of parameters whould you choose: <br>\n",
    "[p=1.0, q=0.1] or [p=1.0, q=100.0] ? <br>\n",
    "**Explain**.\n",
    "\n",
    "\n",
    "---\n",
    " <font color='blue'>[YOUR ANSWER HERE]</font> \n",
    "\n",
    "Since books with common labels are strongly connected between them, we want the probability to stay in the neighborhood ($\\propto$1/p) to be larger than the probability to go away from the initial node ($\\propto$1/q) so that the sequences generated by the random walk are similar for nodes of the same class. Therefore, q has to be larger that p. As a result, we would choose [p=1.0, q=100.0].\n",
    "\n",
    "---\n",
    "\n"
   ]
  },
  {
   "cell_type": "markdown",
   "metadata": {
    "id": "P6I66915aQwA"
   },
   "source": [
    "**Exercise 10**: repeat the experiment with the chosen p,q (train the embedding and the classifier). Keep the other parameters the same."
   ]
  },
  {
   "cell_type": "code",
   "execution_count": 82,
   "metadata": {
    "id": "2lLqR1nyZVPw"
   },
   "outputs": [
    {
     "name": "stdout",
     "output_type": "stream",
     "text": [
      "Number of random walks: 5250\n",
      "confusion matrix: \n",
      " [[8 5 0]\n",
      " [9 2 0]\n",
      " [3 0 0]]\n"
     ]
    }
   ],
   "source": [
    "model = Node2Vec(StellarGraph.from_networkx(G), dimensions=3, walk_length=10, num_walks=50, p=1., q=100.)\n",
    "features_n2v2=model.wv.vectors #you code here\n",
    "_ = train_classifier(features_n2v2,targets)"
   ]
  },
  {
   "cell_type": "markdown",
   "metadata": {
    "id": "zpNFBJRLem_W"
   },
   "source": [
    "**Exercise 11**: Display 3D scatter plots of each type of embedding: top3 ranked classical features and the two node2vec embeddings. Make sure the color of each node corresponds with its class (\"c\":blue, \"l\": red, \"n\":green). What do you observe?\n",
    "\n",
    "\n",
    "---\n",
    "\n",
    "<font color='blue'>[YOUR ANSWER HERE]</font> \n",
    "\n",
    "\n",
    "---\n",
    "\n"
   ]
  },
  {
   "cell_type": "code",
   "execution_count": null,
   "metadata": {
    "id": "Lrc16fCJRi_B"
   },
   "outputs": [],
   "source": [
    "# Your code here\n",
    "top3 = None #use the top 3 classical node features"
   ]
  },
  {
   "cell_type": "markdown",
   "metadata": {
    "id": "dZW1FlZOe1N4"
   },
   "source": [
    "**Exercise 12**: Amazon has expanded the PolBooks network and new books nodes are added to the graph. They ask you as their machine learning researcher to discover their category (liberal, conservative or neutral). What should you do? \n",
    "\n",
    "\n",
    "---\n",
    "\n",
    " <font color='blue'>[YOUR ANSWER HERE]</font> \n",
    "\n",
    "\n",
    "---\n"
   ]
  }
 ],
 "metadata": {
  "colab": {
   "collapsed_sections": [],
   "name": "assignment3.ipynb",
   "provenance": []
  },
  "kernelspec": {
   "display_name": "Python 3 (ipykernel)",
   "language": "python",
   "name": "python3"
  },
  "language_info": {
   "codemirror_mode": {
    "name": "ipython",
    "version": 3
   },
   "file_extension": ".py",
   "mimetype": "text/x-python",
   "name": "python",
   "nbconvert_exporter": "python",
   "pygments_lexer": "ipython3",
   "version": "3.8.13"
  }
 },
 "nbformat": 4,
 "nbformat_minor": 4
}
