{
 "cells": [
  {
   "cell_type": "markdown",
   "metadata": {
    "id": "NSuQFWPvMPvG"
   },
   "source": [
    "# NML'22 tutorial 4: Manipulating graphs with NetworkX\n"
   ]
  },
  {
   "cell_type": "markdown",
   "metadata": {
    "id": "q9J81ahBMPvI"
   },
   "source": [
    "After getting familiarized with defining a graph object with NetworkX (from edges or features), in this session we will explore some of the most common network models, look at their basic properties and compare them."
   ]
  },
  {
   "cell_type": "markdown",
   "metadata": {
    "id": "DKE19LhDMPvI"
   },
   "source": [
    "## 1 Creating graphs using network models"
   ]
  },
  {
   "cell_type": "code",
   "execution_count": null,
   "metadata": {
    "id": "PGSofzoLMPvJ"
   },
   "outputs": [],
   "source": [
    "%matplotlib inline\n",
    "import collections\n",
    "\n",
    "import numpy as np\n",
    "from scipy import spatial\n",
    "from matplotlib import pyplot as plt\n",
    "import networkx as nx"
   ]
  },
  {
   "cell_type": "markdown",
   "metadata": {
    "id": "Vx8WwpfVMPvK"
   },
   "source": [
    "Create an Erdős-Rényi graph with $N=100$ vertices, and a probability of connecting each pair of vertices equal to $p=0.15$."
   ]
  },
  {
   "cell_type": "code",
   "execution_count": null,
   "metadata": {
    "id": "DA5WdQZ1MPvT"
   },
   "outputs": [],
   "source": [
    "N = 100  # number of nodes\n",
    "p = 0.15  # probability of connection\n",
    "er = nx.erdos_renyi_graph(N, p)"
   ]
  },
  {
   "cell_type": "markdown",
   "metadata": {
    "id": "Hg7fgfiWMPvT"
   },
   "source": [
    "You can retrieve the adjacency matrix of the graph, from the `Graph` object `er` as follows:"
   ]
  },
  {
   "cell_type": "code",
   "execution_count": null,
   "metadata": {
    "id": "v0DeMkj4MPvT"
   },
   "outputs": [],
   "source": [
    "er_adj = nx.adjacency_matrix(er, range(N))\n",
    "er_adj = er_adj.todense()"
   ]
  },
  {
   "cell_type": "markdown",
   "metadata": {
    "id": "ij1rT-vZMPvU"
   },
   "source": [
    "You can now visualise the adjacency matrix:"
   ]
  },
  {
   "cell_type": "code",
   "execution_count": null,
   "metadata": {
    "id": "nlDdJuPHMPvU"
   },
   "outputs": [],
   "source": [
    "plt.spy(er_adj);"
   ]
  },
  {
   "cell_type": "markdown",
   "metadata": {
    "id": "69oC7ELjMPvU"
   },
   "source": [
    "## 2 Plotting graphs\n",
    "\n",
    "With NetworkX and Matplotlib we can also plot a graph. For example, we can plot the Erdős-Rényi graph that we created before as follows:"
   ]
  },
  {
   "cell_type": "code",
   "execution_count": null,
   "metadata": {
    "id": "ZO3lTxUYMPvU"
   },
   "outputs": [],
   "source": [
    "nx.draw(er)"
   ]
  },
  {
   "cell_type": "markdown",
   "metadata": {
    "id": "xKYF_hTcMPvV"
   },
   "source": [
    "### 2.1 Exercise\n",
    "\n",
    "Create a Watts-Strogatz graph and plot it."
   ]
  },
  {
   "cell_type": "code",
   "execution_count": null,
   "metadata": {
    "id": "EsHj1Qv2MPvV"
   },
   "outputs": [],
   "source": [
    "# Create a Watts-Strogartz graph.\n",
    "# your code here\n",
    "#ws =  "
   ]
  },
  {
   "cell_type": "code",
   "execution_count": null,
   "metadata": {
    "id": "5kSk50kAlbIF"
   },
   "outputs": [],
   "source": [
    "N=100\n",
    "k = 10 # Regularity (number of nearest neighbors)\n",
    "p = 0.2 # randomness (rewiring probabilty)\n",
    "ws = nx.watts_strogatz_graph(N, k, p)\n",
    "nx.draw(ws)"
   ]
  },
  {
   "cell_type": "markdown",
   "metadata": {
    "id": "mI0ggoSIMPvV"
   },
   "source": [
    "## 3 Modifying graphs\n",
    "\n",
    "It's easy to add or remove edges, but also nodes. If we add an edge between nodes that don't yet exist, they will be automatically created."
   ]
  },
  {
   "cell_type": "code",
   "execution_count": null,
   "metadata": {
    "id": "jGHmtzfxMPvW"
   },
   "outputs": [],
   "source": [
    "er.add_node(100)"
   ]
  },
  {
   "cell_type": "code",
   "execution_count": null,
   "metadata": {
    "id": "2z2r2vU8MPvW"
   },
   "outputs": [],
   "source": [
    "er.nodes()"
   ]
  },
  {
   "cell_type": "markdown",
   "metadata": {
    "id": "GAUo8NO4MPvW"
   },
   "source": [
    "Similarly, you can add and remove a collection of nodes or edges, and add and remove one node or edge:\n",
    "* Adding nodes with:\n",
    "    * `G.add_node`: One node at a time\n",
    "    * `G.add_nodes_from`: A container of nodes\n",
    "* Adding edges with:\n",
    "    * `G.add_edge`: One edge at a time\n",
    "    * `G.add_edges_from`: A container of edges\n",
    "* Removing nodes with:\n",
    "    * `G.remove_node`: One node at a time\n",
    "    * `G.remove_nodes_from`: A container of nodes\n",
    "* Removing edges with:\n",
    "    * `G.remove_edge`: One edge at a time\n",
    "    * `G.remove_edges_from`: A container of edges\n",
    "\n",
    "You can get the number of edges with `G.size()`."
   ]
  },
  {
   "cell_type": "markdown",
   "metadata": {
    "id": "gXbtaruoMPvW"
   },
   "source": [
    "Add an edge between two non-existant vertices. Remove all nodes up to node 50. Draw the graph after each change."
   ]
  },
  {
   "cell_type": "code",
   "execution_count": null,
   "metadata": {
    "id": "Qny4SojHMPvX"
   },
   "outputs": [],
   "source": [
    "er.add_edge(101, 102)\n",
    "nx.draw(er)"
   ]
  },
  {
   "cell_type": "code",
   "execution_count": null,
   "metadata": {
    "id": "9Qw4cHAGqlS8"
   },
   "outputs": [],
   "source": [
    "er.size()"
   ]
  },
  {
   "cell_type": "code",
   "execution_count": null,
   "metadata": {
    "id": "bbsGYD0CMPvX"
   },
   "outputs": [],
   "source": [
    "er.remove_nodes_from(range(50))\n",
    "nx.draw(er)\n",
    "er.nodes()"
   ]
  },
  {
   "cell_type": "code",
   "execution_count": null,
   "metadata": {
    "id": "a3IGI479MPvX"
   },
   "outputs": [],
   "source": [
    "er.size() # returns number of edges"
   ]
  },
  {
   "cell_type": "markdown",
   "metadata": {
    "id": "LTy7HgmKMPvY"
   },
   "source": [
    "## 4 Degree distribution"
   ]
  },
  {
   "cell_type": "markdown",
   "metadata": {
    "id": "a15zMVmbMPvY"
   },
   "source": [
    "`G.degree()` returns a ``DegreeView`` object with pairs of nodes and their degree.\n",
    "If we specify a node, `G.degree(node)` will return the degree of that node."
   ]
  },
  {
   "cell_type": "markdown",
   "metadata": {
    "id": "NAupprAJMPvY"
   },
   "source": [
    "Create an Erdős-Rényi network and plot a histogram of node degrees.  "
   ]
  },
  {
   "cell_type": "code",
   "execution_count": null,
   "metadata": {
    "id": "OzcCxcQvMPvY"
   },
   "outputs": [],
   "source": [
    "N = 100  # number of nodes\n",
    "p = 0.15  # probability of connection\n",
    "er = nx.erdos_renyi_graph(N, p)"
   ]
  },
  {
   "cell_type": "code",
   "execution_count": null,
   "metadata": {
    "id": "j-vbAXfkMPvY"
   },
   "outputs": [],
   "source": [
    "d = er.degree()\n",
    "print(d)"
   ]
  },
  {
   "cell_type": "code",
   "execution_count": null,
   "metadata": {
    "id": "3ryYQXaFMPvZ"
   },
   "outputs": [],
   "source": [
    "# Erdős-Rényi node degree histogram.\n",
    "degree_sequence = sorted([d for n, d in er.degree()], reverse=True)  # degree sequence: creating a sorted list\n",
    "degreeCount = collections.Counter(degree_sequence)\n",
    "deg, count = zip(*degreeCount.items())\n",
    "\n",
    "fig, ax = plt.subplots()\n",
    "ax.bar(deg, count)\n",
    "ax.set_title(\"Degree Histogram\")\n",
    "ax.set_ylabel(\"Count\")\n",
    "ax.set_xlabel(\"Degree\");"
   ]
  },
  {
   "cell_type": "markdown",
   "metadata": {
    "id": "_j9E5mTRMPvZ"
   },
   "source": [
    "### 4.1 Fitting a distribution\n",
    "\n",
    "Try to fit a Poisson distribution."
   ]
  },
  {
   "cell_type": "code",
   "execution_count": null,
   "metadata": {
    "id": "C5R6UgHsMPvZ"
   },
   "outputs": [],
   "source": [
    "# Poisson distribution.\n",
    "def poisson(mu, k):\n",
    "    return np.exp(-mu) * mu**k * (np.math.factorial(k)**-1)"
   ]
  },
  {
   "cell_type": "code",
   "execution_count": null,
   "metadata": {
    "id": "w68pNWUaCmqI"
   },
   "outputs": [],
   "source": [
    "fig, ax = plt.subplots()\n",
    "ax.bar(deg, count, label='Histogram')\n",
    "\n",
    "# Poisson distribution\n",
    "# your code here\n",
    "\n",
    "ax.legend()\n",
    "ax.set_title(\"Degree Histogram\")\n",
    "ax.set_ylabel(\"Count\")\n",
    "ax.set_xlabel(\"Degree\");"
   ]
  },
  {
   "cell_type": "code",
   "execution_count": null,
   "metadata": {
    "id": "9l7Flh8iMPvZ"
   },
   "outputs": [],
   "source": [
    "fig, ax = plt.subplots()\n",
    "ax.bar(deg, count, label='Histogram')\n",
    "\n",
    "# Poisson distribution\n",
    "mu = 2 * er.size() / N #average degree\n",
    "k = np.arange(1, np.max(deg)+1)\n",
    "deg = [100 * poisson(mu, i) for i in k]\n",
    "ax.plot(k, deg, color='r', label='Poisson distribution')\n",
    "\n",
    "ax.legend()\n",
    "ax.set_title(\"Degree Histogram\")\n",
    "ax.set_ylabel(\"Count\")\n",
    "ax.set_xlabel(\"Degree\");"
   ]
  },
  {
   "cell_type": "code",
   "execution_count": null,
   "metadata": {
    "id": "czaAtjCN5QnE"
   },
   "outputs": [],
   "source": [
    "print('average degree={}'.format(2*er.size()/N))"
   ]
  },
  {
   "cell_type": "markdown",
   "metadata": {
    "id": "PpfWPMcS5T31"
   },
   "source": [
    "We observe that $ \\langle k \\rangle <\\!\\!< N $. Poisson distribution is a good approximation.  "
   ]
  },
  {
   "cell_type": "markdown",
   "metadata": {
    "id": "t1-XEHU0-Do9"
   },
   "source": [
    "Let's try with a higher probability of connection"
   ]
  },
  {
   "cell_type": "code",
   "execution_count": null,
   "metadata": {
    "id": "dM0CQdt691lA"
   },
   "outputs": [],
   "source": [
    "N = 100  # number of nodes\n",
    "p = 0.75  # probability of connection\n",
    "er = nx.erdos_renyi_graph(N, p)\n",
    "d = er.degree()\n",
    "degree_sequence = sorted([d for n, d in er.degree()], reverse=True)  # degree sequence: creating a sorted list\n",
    "degreeCount = collections.Counter(degree_sequence)\n",
    "deg, count = zip(*degreeCount.items())"
   ]
  },
  {
   "cell_type": "markdown",
   "metadata": {
    "id": "MaM2JIMY-0NZ"
   },
   "source": [
    "When the average degree increases and is no longer significantly smaller than the number of nodes the Poisson distribution is not a good fit.  "
   ]
  },
  {
   "cell_type": "markdown",
   "metadata": {
    "id": "ZVh5wLioMPva"
   },
   "source": [
    "### 4.2 Exercise\n",
    "\n",
    "Let's go back to the Watts-Strogatz network."
   ]
  },
  {
   "cell_type": "code",
   "execution_count": null,
   "metadata": {
    "id": "-6I-xkkdGDZ5"
   },
   "outputs": [],
   "source": [
    "N=100\n",
    "k = 10 # Regularity (number of nearest neighbors)\n",
    "p = 0.2 # randomness (rewiring probabilty)\n",
    "ws = nx.watts_strogatz_graph(N, k, p)"
   ]
  },
  {
   "cell_type": "markdown",
   "metadata": {
    "id": "YjqNYEJ8GNIF"
   },
   "source": [
    "Calculate the averge distance $\\langle d \\rangle$ (average shortest path length) of the graph"
   ]
  },
  {
   "cell_type": "code",
   "execution_count": null,
   "metadata": {
    "id": "8PTB8rBAMPva"
   },
   "outputs": [],
   "source": [
    "# your code here"
   ]
  },
  {
   "cell_type": "code",
   "execution_count": null,
   "metadata": {
    "id": "XuS3PVU1HOl8"
   },
   "outputs": [],
   "source": [
    "dAvg = nx.average_shortest_path_length(ws)\n",
    "print(dAvg)"
   ]
  },
  {
   "cell_type": "markdown",
   "metadata": {
    "id": "nHVWRDKfHg6d"
   },
   "source": [
    "Now evaluate it through the small world property.  "
   ]
  },
  {
   "cell_type": "code",
   "execution_count": null,
   "metadata": {
    "id": "k8Nx72G1Hq5B"
   },
   "outputs": [],
   "source": [
    "# your code here"
   ]
  },
  {
   "cell_type": "code",
   "execution_count": null,
   "metadata": {
    "id": "mBkuXqtzHuvy"
   },
   "outputs": [],
   "source": [
    "avg_degree = 2*ws.size()/N \n",
    "dAvg_small_world = np.log(N)/np.log(avg_degree)\n",
    "print(dAvg_small_world)"
   ]
  },
  {
   "cell_type": "markdown",
   "metadata": {
    "id": "hddbRfsFIxEq"
   },
   "source": [
    "Plot the absolute error of the small world estimation of $\\langle d \\rangle$ with respect to randomness $p$"
   ]
  },
  {
   "cell_type": "code",
   "execution_count": null,
   "metadata": {
    "id": "rVsdpt9PJYL1"
   },
   "outputs": [],
   "source": [
    "probs = np.linspace(0,1,50)\n",
    "err = np.zeros(probs.shape)\n",
    "for idx,p in enumerate(probs):\n",
    "  ws = nx.watts_strogatz_graph(N, k, p)\n",
    "  dAvg = nx.average_shortest_path_length(ws)\n",
    "  err[idx] = np.abs(dAvg-dAvg_small_world)\n",
    "\n",
    "fig, ax = plt.subplots()\n",
    "ax.plot(probs, err, label='small world error')\n",
    "ax.set_title(\"small world error\")\n",
    "ax.set_xlabel(\"randomness\")\n",
    "ax.set_ylabel(\"<d> estimation error\");\n"
   ]
  },
  {
   "cell_type": "markdown",
   "metadata": {
    "id": "P86FonAhcAKe"
   },
   "source": [
    "Calculating the average clustering coefficient ($C$) of the WS graph with NetworkX:"
   ]
  },
  {
   "cell_type": "code",
   "execution_count": null,
   "metadata": {
    "id": "UdCpYeEPLfUx"
   },
   "outputs": [],
   "source": [
    "N=100\n",
    "k = 10 # Regularity (number of nearest neighbors)\n",
    "p = 0.2 # randomness (rewiring probabilty)\n",
    "ws = nx.watts_strogatz_graph(N, k, p)\n",
    "C = nx.average_clustering(ws)\n",
    "print(C)"
   ]
  },
  {
   "cell_type": "markdown",
   "metadata": {
    "id": "ixANdYUjW4IA"
   },
   "source": [
    "Estimating it using the random network model $C=\\frac{\\langle k \\rangle}{N}$:"
   ]
  },
  {
   "cell_type": "code",
   "execution_count": null,
   "metadata": {
    "id": "O3JhkLgyQCrF"
   },
   "outputs": [],
   "source": [
    "avg_degree = 2*ws.size()/N\n",
    "C_est = avg_degree/N \n",
    "print(C_est)"
   ]
  },
  {
   "cell_type": "markdown",
   "metadata": {
    "id": "-HqOD0sua8xS"
   },
   "source": [
    "Try to gradually increase the number of nodes $N$ and notice what happens. "
   ]
  }
 ],
 "metadata": {
  "colab": {
   "collapsed_sections": [],
   "name": "04_random_graph_models_NetworkX_wSol.ipynb",
   "provenance": []
  },
  "kernelspec": {
   "display_name": "Python 3 (ipykernel)",
   "language": "python",
   "name": "python3"
  },
  "language_info": {
   "codemirror_mode": {
    "name": "ipython",
    "version": 3
   },
   "file_extension": ".py",
   "mimetype": "text/x-python",
   "name": "python",
   "nbconvert_exporter": "python",
   "pygments_lexer": "ipython3",
   "version": "3.8.8"
  }
 },
 "nbformat": 4,
 "nbformat_minor": 4
}
