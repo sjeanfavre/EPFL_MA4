{
 "cells": [
  {
   "cell_type": "markdown",
   "metadata": {
    "id": "8S5mo9I3pA2Q"
   },
   "source": [
    "# [NML'22] assignment 1: Graph theory basics\n",
    "\n",
    "[Ping Hu, EPFL, ASL](https://people.epfl.ch/ping.hu?lang=en) and [Arun Venkitaraman, EPFL, LTS4.](https://people.epfl.ch/arun.venkitaraman/)"
   ]
  },
  {
   "cell_type": "markdown",
   "metadata": {
    "id": "5fKV_i9ZpA2U"
   },
   "source": [
    "## Students\n",
    "\n",
    "* Team: `3`\n",
    "* Students: `Joe Najm, Sébastien Jeanfavre`"
   ]
  },
  {
   "cell_type": "markdown",
   "metadata": {
    "id": "FR-x5fizpA2U"
   },
   "source": [
    "## Rules\n",
    "\n",
    "Grading:\n",
    "* All team members will receive the same grade based on the team solution.\n",
    "* Collaboration between team members is encouraged. No collaboration between teams is allowed.\n",
    "\n",
    "Submission:\n",
    "* Textual answers shall be short. Typically one to two sentences.\n",
    "* Code has to be clean.\n",
    "* You cannot import any other library than we imported.\n",
    "  Note that Networkx is imported in the second section and cannot be used in the first except for the Question 4 of Section 1 (at the indicated portion only).\n",
    "* When submitting, the notebook is executed and the results are stored. I.e., if you open the notebook again it should show numerical results and plots. We won't be able to execute your notebooks.\n",
    "* The notebook is re-executed from a blank state before submission. That is to be sure it is reproducible. You can click \"Kernel\" then \"Restart Kernel and Run All Cells\" in Jupyter."
   ]
  },
  {
   "cell_type": "markdown",
   "metadata": {
    "id": "cmp4-YzspA2V"
   },
   "source": [
    "## Objective\n",
    "\n",
    "The purpose of this assignment is to explore a given dataset, represent it by network by constructing different graphs. In the first section, you will analyze the network properties. In the second section, you will explore various network models and find out the network model fitting the ones you construct from the dataset."
   ]
  },
  {
   "cell_type": "markdown",
   "metadata": {
    "id": "6UrAgd4QpA2W"
   },
   "source": [
    "## Cora Dataset\n",
    "\n",
    "The [Cora dataset](https://linqs.soe.ucsc.edu/node/236) consists of scientific publications classified into one of seven research fields. \n",
    "\n",
    "* **Citation graph:** the citation network can be constructed from the connections given in the `cora.cites` file.\n",
    "* **Feature graph:** each publication in the dataset is described by a 0/1-valued word vector indicating the absence/presence of the corresponding word from the dictionary and its research field, given in the `cora.content` file. The dictionary consists of 1433 unique words. A feature graph can be constructed using the Euclidean distance between the feature vector of the publications.\n",
    "\n",
    "The [`README`](data/cora/README) provides details about the content of [`cora.cites`](data/cora/cora.cites) and [`cora.content`](data/cora/cora.content).\n",
    "\n",
    "Let us first download the cora dataset:"
   ]
  },
  {
   "cell_type": "code",
   "execution_count": 1,
   "metadata": {
    "id": "cve__kFpKJPB",
    "outputId": "02f776b1-a0a8-4470-cb6d-924a677383ee"
   },
   "outputs": [],
   "source": [
    "#!wget https://linqs-data.soe.ucsc.edu/public/lbc/cora.tgz\n",
    "#!tar -xvf cora.tgz"
   ]
  },
  {
   "cell_type": "markdown",
   "metadata": {
    "id": "p-klVToLpA2W"
   },
   "source": [
    "## Section 1: Network Properties"
   ]
  },
  {
   "cell_type": "code",
   "execution_count": 2,
   "metadata": {
    "id": "D36pWRXdpA2X"
   },
   "outputs": [],
   "source": [
    "import numpy as np\n",
    "import pandas as pd\n",
    "from matplotlib import pyplot as plt\n",
    "\n",
    "%matplotlib inline"
   ]
  },
  {
   "cell_type": "markdown",
   "metadata": {
    "id": "Bi0LL266pA2Y"
   },
   "source": [
    "### Question 1: Construct a Citation Graph and a Feature Graph"
   ]
  },
  {
   "cell_type": "markdown",
   "metadata": {
    "id": "8b60gJqCpA2Z"
   },
   "source": [
    "Read the `cora.content` file into a Pandas DataFrame by setting a header for the column names. Check the `README` file."
   ]
  },
  {
   "cell_type": "markdown",
   "metadata": {
    "id": "o2H8uoc6pA2a"
   },
   "source": [
    "Print out the number of papers contained in each of the reasearch fields.\n",
    "\n",
    "**Hint:** You can use the `value_counts()` function."
   ]
  },
  {
   "cell_type": "code",
   "execution_count": 3,
   "metadata": {
    "id": "iKhgUHzqpA2a",
    "outputId": "abbc9389-5b17-42b9-bd4d-2966eca34d00",
    "tags": []
   },
   "outputs": [
    {
     "data": {
      "text/html": [
       "<div>\n",
       "<style scoped>\n",
       "    .dataframe tbody tr th:only-of-type {\n",
       "        vertical-align: middle;\n",
       "    }\n",
       "\n",
       "    .dataframe tbody tr th {\n",
       "        vertical-align: top;\n",
       "    }\n",
       "\n",
       "    .dataframe thead th {\n",
       "        text-align: right;\n",
       "    }\n",
       "</style>\n",
       "<table border=\"1\" class=\"dataframe\">\n",
       "  <thead>\n",
       "    <tr style=\"text-align: right;\">\n",
       "      <th></th>\n",
       "      <th>0</th>\n",
       "      <th>1</th>\n",
       "      <th>2</th>\n",
       "      <th>3</th>\n",
       "      <th>4</th>\n",
       "      <th>5</th>\n",
       "      <th>6</th>\n",
       "      <th>7</th>\n",
       "      <th>8</th>\n",
       "      <th>9</th>\n",
       "      <th>...</th>\n",
       "      <th>1424</th>\n",
       "      <th>1425</th>\n",
       "      <th>1426</th>\n",
       "      <th>1427</th>\n",
       "      <th>1428</th>\n",
       "      <th>1429</th>\n",
       "      <th>1430</th>\n",
       "      <th>1431</th>\n",
       "      <th>1432</th>\n",
       "      <th>label</th>\n",
       "    </tr>\n",
       "  </thead>\n",
       "  <tbody>\n",
       "    <tr>\n",
       "      <th>31336</th>\n",
       "      <td>0</td>\n",
       "      <td>0</td>\n",
       "      <td>0</td>\n",
       "      <td>0</td>\n",
       "      <td>0</td>\n",
       "      <td>0</td>\n",
       "      <td>0</td>\n",
       "      <td>0</td>\n",
       "      <td>0</td>\n",
       "      <td>0</td>\n",
       "      <td>...</td>\n",
       "      <td>0</td>\n",
       "      <td>0</td>\n",
       "      <td>1</td>\n",
       "      <td>0</td>\n",
       "      <td>0</td>\n",
       "      <td>0</td>\n",
       "      <td>0</td>\n",
       "      <td>0</td>\n",
       "      <td>0</td>\n",
       "      <td>Neural_Networks</td>\n",
       "    </tr>\n",
       "    <tr>\n",
       "      <th>1061127</th>\n",
       "      <td>0</td>\n",
       "      <td>0</td>\n",
       "      <td>0</td>\n",
       "      <td>0</td>\n",
       "      <td>0</td>\n",
       "      <td>0</td>\n",
       "      <td>0</td>\n",
       "      <td>0</td>\n",
       "      <td>0</td>\n",
       "      <td>0</td>\n",
       "      <td>...</td>\n",
       "      <td>0</td>\n",
       "      <td>1</td>\n",
       "      <td>0</td>\n",
       "      <td>0</td>\n",
       "      <td>0</td>\n",
       "      <td>0</td>\n",
       "      <td>0</td>\n",
       "      <td>0</td>\n",
       "      <td>0</td>\n",
       "      <td>Rule_Learning</td>\n",
       "    </tr>\n",
       "    <tr>\n",
       "      <th>1106406</th>\n",
       "      <td>0</td>\n",
       "      <td>0</td>\n",
       "      <td>0</td>\n",
       "      <td>0</td>\n",
       "      <td>0</td>\n",
       "      <td>0</td>\n",
       "      <td>0</td>\n",
       "      <td>0</td>\n",
       "      <td>0</td>\n",
       "      <td>0</td>\n",
       "      <td>...</td>\n",
       "      <td>0</td>\n",
       "      <td>0</td>\n",
       "      <td>0</td>\n",
       "      <td>0</td>\n",
       "      <td>0</td>\n",
       "      <td>0</td>\n",
       "      <td>0</td>\n",
       "      <td>0</td>\n",
       "      <td>0</td>\n",
       "      <td>Reinforcement_Learning</td>\n",
       "    </tr>\n",
       "    <tr>\n",
       "      <th>13195</th>\n",
       "      <td>0</td>\n",
       "      <td>0</td>\n",
       "      <td>0</td>\n",
       "      <td>0</td>\n",
       "      <td>0</td>\n",
       "      <td>0</td>\n",
       "      <td>0</td>\n",
       "      <td>0</td>\n",
       "      <td>0</td>\n",
       "      <td>0</td>\n",
       "      <td>...</td>\n",
       "      <td>0</td>\n",
       "      <td>0</td>\n",
       "      <td>0</td>\n",
       "      <td>0</td>\n",
       "      <td>0</td>\n",
       "      <td>0</td>\n",
       "      <td>0</td>\n",
       "      <td>0</td>\n",
       "      <td>0</td>\n",
       "      <td>Reinforcement_Learning</td>\n",
       "    </tr>\n",
       "    <tr>\n",
       "      <th>37879</th>\n",
       "      <td>0</td>\n",
       "      <td>0</td>\n",
       "      <td>0</td>\n",
       "      <td>0</td>\n",
       "      <td>0</td>\n",
       "      <td>0</td>\n",
       "      <td>0</td>\n",
       "      <td>0</td>\n",
       "      <td>0</td>\n",
       "      <td>0</td>\n",
       "      <td>...</td>\n",
       "      <td>0</td>\n",
       "      <td>0</td>\n",
       "      <td>0</td>\n",
       "      <td>0</td>\n",
       "      <td>0</td>\n",
       "      <td>0</td>\n",
       "      <td>0</td>\n",
       "      <td>0</td>\n",
       "      <td>0</td>\n",
       "      <td>Probabilistic_Methods</td>\n",
       "    </tr>\n",
       "  </tbody>\n",
       "</table>\n",
       "<p>5 rows × 1434 columns</p>\n",
       "</div>"
      ],
      "text/plain": [
       "         0  1  2  3  4  5  6  7  8  9  ...  1424  1425  1426  1427  1428  \\\n",
       "31336    0  0  0  0  0  0  0  0  0  0  ...     0     0     1     0     0   \n",
       "1061127  0  0  0  0  0  0  0  0  0  0  ...     0     1     0     0     0   \n",
       "1106406  0  0  0  0  0  0  0  0  0  0  ...     0     0     0     0     0   \n",
       "13195    0  0  0  0  0  0  0  0  0  0  ...     0     0     0     0     0   \n",
       "37879    0  0  0  0  0  0  0  0  0  0  ...     0     0     0     0     0   \n",
       "\n",
       "         1429  1430  1431  1432                   label  \n",
       "31336       0     0     0     0         Neural_Networks  \n",
       "1061127     0     0     0     0           Rule_Learning  \n",
       "1106406     0     0     0     0  Reinforcement_Learning  \n",
       "13195       0     0     0     0  Reinforcement_Learning  \n",
       "37879       0     0     0     0   Probabilistic_Methods  \n",
       "\n",
       "[5 rows x 1434 columns]"
      ]
     },
     "execution_count": 3,
     "metadata": {},
     "output_type": "execute_result"
    }
   ],
   "source": [
    "df = pd.read_csv('./cora/cora.content', sep='\\t', header=None, index_col=0)\n",
    "df.index.name = None\n",
    "df.columns = range(df.shape[1])\n",
    "df = df.rename(columns={1433: 'label'})\n",
    "df.head()"
   ]
  },
  {
   "cell_type": "code",
   "execution_count": 4,
   "metadata": {
    "id": "GpUHW7B17Ln6",
    "outputId": "fb247413-47c3-4f59-cf60-2fa0e9f72577"
   },
   "outputs": [
    {
     "data": {
      "text/plain": [
       "Neural_Networks           818\n",
       "Probabilistic_Methods     426\n",
       "Genetic_Algorithms        418\n",
       "Theory                    351\n",
       "Case_Based                298\n",
       "Reinforcement_Learning    217\n",
       "Rule_Learning             180\n",
       "Name: label, dtype: int64"
      ]
     },
     "execution_count": 4,
     "metadata": {},
     "output_type": "execute_result"
    }
   ],
   "source": [
    "df.loc[:,'label'].value_counts()"
   ]
  },
  {
   "cell_type": "markdown",
   "metadata": {
    "id": "ccwo_y06pA2b"
   },
   "source": [
    "Select all papers from a field of your choice and store their feature vectors into a NumPy array.\n",
    "Check its shape."
   ]
  },
  {
   "cell_type": "code",
   "execution_count": 5,
   "metadata": {
    "id": "mVz-uLHBpA2b",
    "outputId": "a907c4cc-d3ca-4069-beba-334d07d58a27"
   },
   "outputs": [
    {
     "data": {
      "text/plain": [
       "(217, 1433)"
      ]
     },
     "execution_count": 5,
     "metadata": {},
     "output_type": "execute_result"
    }
   ],
   "source": [
    "my_field = 'Reinforcement_Learning'\n",
    "features = df[df['label']==my_field].drop(columns='label').to_numpy()\n",
    "features.shape"
   ]
  },
  {
   "cell_type": "markdown",
   "metadata": {
    "id": "vbl8pl59pA2b"
   },
   "source": [
    "Let $D$ be the Euclidean distance matrix whose $(i,j)$ entry corresponds to the Euclidean distance between feature vectors $i$ and $j$.\n",
    "Using the feature vectors of the papers from the field which you have selected, construct $D$ as a Numpy array. (Needs to modify!!!)"
   ]
  },
  {
   "cell_type": "code",
   "execution_count": 6,
   "metadata": {
    "id": "kOCfPA5fpA2c",
    "outputId": "9897f786-e597-4e4f-9952-b4787672bb8e"
   },
   "outputs": [
    {
     "data": {
      "text/plain": [
       "(217, 217)"
      ]
     },
     "execution_count": 6,
     "metadata": {},
     "output_type": "execute_result"
    }
   ],
   "source": [
    "distance = np.zeros((features.shape[0],features.shape[0]))\n",
    "\n",
    "for i in range(features.shape[0]):\n",
    "    for j in range(features.shape[0]):\n",
    "        distance[i,j] = np.linalg.norm(features[i,:] - features[j,:])\n",
    "\n",
    "distance.shape"
   ]
  },
  {
   "cell_type": "markdown",
   "metadata": {
    "id": "pnXOCKyfpA2c"
   },
   "source": [
    "Check the mean pairwise distance $\\mathbb{E}[D]$."
   ]
  },
  {
   "cell_type": "code",
   "execution_count": 7,
   "metadata": {
    "id": "tOT3aX0apA2c",
    "outputId": "558375f3-6cfb-4680-eb51-f1e87728fb4b"
   },
   "outputs": [
    {
     "data": {
      "text/plain": [
       "5.781074820974051"
      ]
     },
     "execution_count": 7,
     "metadata": {},
     "output_type": "execute_result"
    }
   ],
   "source": [
    "mean_distance = distance.mean()\n",
    "mean_distance"
   ]
  },
  {
   "cell_type": "markdown",
   "metadata": {
    "id": "j64EM0FPpA2c"
   },
   "source": [
    "Plot an histogram of the euclidean distances."
   ]
  },
  {
   "cell_type": "code",
   "execution_count": 10,
   "metadata": {
    "id": "smoYOJdlpA2c",
    "outputId": "5d9505a2-9c2d-40bc-e4d2-948a6234df9c"
   },
   "outputs": [
    {
     "data": {
      "image/png": "[encoded data removed]",
      "text/plain": [
       "<Figure size 576x288 with 1 Axes>"
      ]
     },
     "metadata": {
      "needs_background": "light"
     },
     "output_type": "display_data"
    }
   ],
   "source": [
    "plt.figure(1, figsize=(8, 4))\n",
    "plt.title(\"Histogram of Euclidean distances between papers\")\n",
    "plt.hist(distance.flatten(), bins=30);"
   ]
  },
  {
   "cell_type": "markdown",
   "metadata": {
    "id": "CSJ72nWYpA2d"
   },
   "source": [
    "Now create an adjacency matrix for the papers by thresholding the Euclidean distance matrix.\n",
    "The resulting (unweighted) adjacency matrix should have entries\n",
    "$$ A_{ij} = \\begin{cases} 1, \\; \\text{if} \\; d(i,j)< \\mathbb{E}[D], \\; i \\neq j, \\\\ 0, \\; \\text{otherwise.} \\end{cases} $$\n",
    "\n",
    "First, let us choose the mean distance as the threshold.\n",
    "\n",
    "Remember that we are going to use adjacency without self-loops"
   ]
  },
  {
   "cell_type": "code",
   "execution_count": 11,
   "metadata": {
    "id": "d35fo9IlpA2d"
   },
   "outputs": [],
   "source": [
    "threshold = mean_distance\n",
    "A_feature = distance.copy()\n",
    "A_feature[distance>=threshold] = 0\n",
    "A_feature[distance<threshold] = 1\n",
    "A_feature -= np.eye(A_feature.shape[0]) # remove self loops"
   ]
  },
  {
   "cell_type": "markdown",
   "metadata": {
    "id": "MteCG9NOpA2d"
   },
   "source": [
    "Now read the `cora.cites` file and construct the citation graph by converting the given citation connections into an adjacency matrix."
   ]
  },
  {
   "cell_type": "code",
   "execution_count": 12,
   "metadata": {
    "id": "QAGhbQtEpA2d",
    "outputId": "994cc6f1-951d-44a5-c53b-8ed364307d56"
   },
   "outputs": [
    {
     "data": {
      "text/html": [
       "<div>\n",
       "<style scoped>\n",
       "    .dataframe tbody tr th:only-of-type {\n",
       "        vertical-align: middle;\n",
       "    }\n",
       "\n",
       "    .dataframe tbody tr th {\n",
       "        vertical-align: top;\n",
       "    }\n",
       "\n",
       "    .dataframe thead th {\n",
       "        text-align: right;\n",
       "    }\n",
       "</style>\n",
       "<table border=\"1\" class=\"dataframe\">\n",
       "  <thead>\n",
       "    <tr style=\"text-align: right;\">\n",
       "      <th></th>\n",
       "      <th>cited</th>\n",
       "      <th>citing</th>\n",
       "    </tr>\n",
       "  </thead>\n",
       "  <tbody>\n",
       "    <tr>\n",
       "      <th>0</th>\n",
       "      <td>35</td>\n",
       "      <td>1033</td>\n",
       "    </tr>\n",
       "    <tr>\n",
       "      <th>1</th>\n",
       "      <td>35</td>\n",
       "      <td>103482</td>\n",
       "    </tr>\n",
       "    <tr>\n",
       "      <th>2</th>\n",
       "      <td>35</td>\n",
       "      <td>103515</td>\n",
       "    </tr>\n",
       "    <tr>\n",
       "      <th>3</th>\n",
       "      <td>35</td>\n",
       "      <td>1050679</td>\n",
       "    </tr>\n",
       "    <tr>\n",
       "      <th>4</th>\n",
       "      <td>35</td>\n",
       "      <td>1103960</td>\n",
       "    </tr>\n",
       "  </tbody>\n",
       "</table>\n",
       "</div>"
      ],
      "text/plain": [
       "   cited   citing\n",
       "0     35     1033\n",
       "1     35   103482\n",
       "2     35   103515\n",
       "3     35  1050679\n",
       "4     35  1103960"
      ]
     },
     "execution_count": 12,
     "metadata": {},
     "output_type": "execute_result"
    }
   ],
   "source": [
    "cora_cites = np.genfromtxt('cora/cora.cites', delimiter='\\t').astype(int)\n",
    "# get graph edges and flatten them for processing\n",
    "\n",
    "cites = pd.DataFrame(cora_cites).astype(int)\n",
    "cites.columns = ['cited', 'citing']\n",
    "cites.head()"
   ]
  },
  {
   "cell_type": "code",
   "execution_count": 13,
   "metadata": {
    "id": "zrc5dcD17LoA",
    "outputId": "f7c57b12-fab9-44ff-b6a6-da9d2a4e5167"
   },
   "outputs": [
    {
     "data": {
      "text/plain": [
       "(2708, 2708)"
      ]
     },
     "execution_count": 13,
     "metadata": {},
     "output_type": "execute_result"
    }
   ],
   "source": [
    "nb_papers = df.shape[0]\n",
    "\n",
    "adj = pd.DataFrame(np.zeros((nb_papers,nb_papers))).astype(int)\n",
    "adj.index = df.index\n",
    "adj.columns = df.index\n",
    "\n",
    "for i in range(cora_cites.shape[0]):\n",
    "    adj.loc[cora_cites[i,1], cora_cites[i,0]] = 1\n",
    "\n",
    "# adj is the adjacency matrix. Citing paper on rows and cited papers on columns\n",
    "adj.shape"
   ]
  },
  {
   "cell_type": "code",
   "execution_count": 14,
   "metadata": {
    "id": "UnXAeTXs7LoA",
    "outputId": "4d7f795f-b25d-4fa4-d0f3-03538aadfb35"
   },
   "outputs": [
    {
     "data": {
      "text/plain": [
       "(2708, 2708)"
      ]
     },
     "execution_count": 14,
     "metadata": {},
     "output_type": "execute_result"
    }
   ],
   "source": [
    "# caution, we will first use the directed citation graph\n",
    "A_citation = adj.to_numpy()\n",
    "A_citation.shape"
   ]
  },
  {
   "cell_type": "markdown",
   "metadata": {
    "id": "Kf0vts9ZpA2e"
   },
   "source": [
    "Get the adjacency matrix of the citation graph for the field that you chose.\n",
    "You have to appropriately reduce the adjacency matrix of the citation graph."
   ]
  },
  {
   "cell_type": "code",
   "execution_count": 15,
   "metadata": {
    "id": "No5GFdqK7LoB"
   },
   "outputs": [
    {
     "data": {
      "text/plain": [
       "(217, 217)"
      ]
     },
     "execution_count": 15,
     "metadata": {},
     "output_type": "execute_result"
    }
   ],
   "source": [
    "adj_RL = adj.loc[adj.index.isin(df[df['label']==my_field].index)]\n",
    "adj_RL = adj_RL[df[df['label']==my_field].index]\n",
    "adj_RL = adj_RL.sort_index(axis=0).sort_index(axis=1)\n",
    "adj_RL_np = adj_RL.to_numpy()\n",
    "adj_RL_np.shape"
   ]
  },
  {
   "cell_type": "markdown",
   "metadata": {
    "id": "cbx0kjhNpA2e"
   },
   "source": [
    "Is the citation graph directed or undirected? In other words, is your adjacency matrix is symmetric or asymmetric? "
   ]
  },
  {
   "cell_type": "code",
   "execution_count": 16,
   "metadata": {
    "id": "BU2lSdsE7LoC"
   },
   "outputs": [
    {
     "data": {
      "text/plain": [
       "True"
      ]
     },
     "execution_count": 16,
     "metadata": {},
     "output_type": "execute_result"
    }
   ],
   "source": [
    "(adj_RL_np-adj_RL_np.T).any() # is there any non-zero element?"
   ]
  },
  {
   "cell_type": "markdown",
   "metadata": {
    "id": "-AV6daZb7LoD"
   },
   "source": [
    "Since the adjacency matrix substracted by its transpose is not zero everywhere, it is not symmetric and hence the citation graph is directed."
   ]
  },
  {
   "cell_type": "markdown",
   "metadata": {
    "id": "OOw4gmxLpA2e"
   },
   "source": [
    "### Question 2: Degree Distribution and Moments"
   ]
  },
  {
   "cell_type": "markdown",
   "metadata": {
    "id": "SZ2b-5LupA2e"
   },
   "source": [
    "What is the total number of edges in each graph?"
   ]
  },
  {
   "cell_type": "code",
   "execution_count": 17,
   "metadata": {
    "id": "IbrqF06lpA2e",
    "outputId": "51b2f677-9c52-4b85-847c-93d362361f8f"
   },
   "outputs": [
    {
     "name": "stdout",
     "output_type": "stream",
     "text": [
      "Number of edges in the feature graph: 8945.0\n",
      "Number of edges in the citation graph: 414\n"
     ]
    }
   ],
   "source": [
    "num_edges_feature = np.sum(A_feature)/2 # bidirectional edges are counted as one undirected edge\n",
    "num_edges_citation = np.sum(adj_RL_np) # directed edges\n",
    "print(f\"Number of edges in the feature graph: {num_edges_feature}\")\n",
    "print(f\"Number of edges in the citation graph: {num_edges_citation}\")"
   ]
  },
  {
   "cell_type": "markdown",
   "metadata": {
    "id": "nhWDPS0fpA2f"
   },
   "source": [
    "Plot the degree distribution histogram for each of the graphs.\n",
    "If your graph is undirected, plot both in-degree and out-degree distributions."
   ]
  },
  {
   "cell_type": "code",
   "execution_count": 18,
   "metadata": {
    "id": "VW9NV8D3pA2f",
    "outputId": "292245e0-50c3-4866-879a-bb95bd10b254"
   },
   "outputs": [
    {
     "data": {
      "image/png": "[encoded data removed]",
      "text/plain": [
       "<Figure size 1152x288 with 3 Axes>"
      ]
     },
     "metadata": {
      "needs_background": "light"
     },
     "output_type": "display_data"
    }
   ],
   "source": [
    "degrees_feature = np.sum(A_feature, axis=1)\n",
    "degrees_citation_in = np.sum(adj_RL_np, axis=0)\n",
    "degrees_citation_out = np.sum(adj_RL_np, axis=1)\n",
    "\n",
    "deg_hist_normalization = np.ones(degrees_citation_in.shape[0]) / degrees_citation_in.shape[0]\n",
    "fig, axes = plt.subplots(1, 3, figsize=(16, 4))\n",
    "axes[0].set_title('Citation graph in-degree distribution')\n",
    "axes[0].hist(degrees_citation_in, weights=deg_hist_normalization, bins=20);\n",
    "axes[1].set_title('Citation graph out-degree distribution')\n",
    "axes[1].hist(degrees_citation_out, weights=deg_hist_normalization, bins=20);\n",
    "axes[2].set_title('Feature graph degree distribution')\n",
    "axes[2].hist(degrees_feature, weights=deg_hist_normalization, bins=20);"
   ]
  },
  {
   "cell_type": "markdown",
   "metadata": {
    "id": "tg7ttVP8M6x7"
   },
   "source": [
    "From here onwards, we will conisider only undirected graphs.\n",
    "Make the adjacency matrix symmetric for the citation graph and compute the degree distribution of the undirected citation graph."
   ]
  },
  {
   "cell_type": "code",
   "execution_count": 19,
   "metadata": {
    "id": "oLiSTB6jM5tD",
    "outputId": "63682265-fbc8-47b0-d131-f57deca293e2"
   },
   "outputs": [
    {
     "data": {
      "image/png": "[encoded data removed]",
      "text/plain": [
       "<Figure size 432x288 with 1 Axes>"
      ]
     },
     "metadata": {
      "needs_background": "light"
     },
     "output_type": "display_data"
    }
   ],
   "source": [
    "A_citation = np.maximum(adj_RL_np, adj_RL_np.T)\n",
    "degrees_citation = np.sum(A_citation, axis=1)\n",
    "plt.hist(degrees_citation, weights=deg_hist_normalization, bins=20)\n",
    "plt.title('Symmetric citation graph degree distribution');\n"
   ]
  },
  {
   "cell_type": "markdown",
   "metadata": {
    "id": "frDhu4aQpA2f"
   },
   "source": [
    " Calculate the first and second moments of the degree distribution of each graph."
   ]
  },
  {
   "cell_type": "code",
   "execution_count": 20,
   "metadata": {
    "id": "6XT2TaV5pA2f",
    "outputId": "1bc1d9d2-d04b-4795-b0ff-d19873b35eaf"
   },
   "outputs": [
    {
     "name": "stdout",
     "output_type": "stream",
     "text": [
      "1st moment of citation graph: 3.769585253456221\n",
      "2nd moment of citation graph: 48.516129032258064\n",
      "1st moment of feature graph: 82.44239631336406\n",
      "2nd moment of feature graph: 10071.456221198157\n"
     ]
    }
   ],
   "source": [
    "cit_moment_1 = 1/A_citation.shape[0] * np.sum(np.sum(A_citation, axis=0)) # np.sum(A_citation, axis=0) is the degree of each node\n",
    "cit_moment_2 = 1/A_citation.shape[0] * np.sum(np.sum(A_citation, axis=0)**2)\n",
    "\n",
    "feat_moment_1 = 1/A_feature.shape[0] * np.sum(np.sum(A_feature, axis=0))\n",
    "feat_moment_2 = 1/A_feature.shape[0] * np.sum(np.sum(A_feature, axis=0)**2)\n",
    "\n",
    "print(f\"1st moment of citation graph: {cit_moment_1}\")\n",
    "print(f\"2nd moment of citation graph: {cit_moment_2}\")\n",
    "print(f\"1st moment of feature graph: {feat_moment_1}\")\n",
    "print(f\"2nd moment of feature graph: {feat_moment_2}\")"
   ]
  },
  {
   "cell_type": "markdown",
   "metadata": {
    "id": "F4DneNxEpA2f"
   },
   "source": [
    "What information do the moments provide you about the graphs?\n",
    "Explain the differences in moments between graphs by comparing their degree distributions."
   ]
  },
  {
   "cell_type": "markdown",
   "metadata": {
    "id": "UvR1k4Y0pA2f"
   },
   "source": [
    "**Your answer here:** The first moment gives us the mean degree of the graph. The second moment gives us information about the variance of the degree since by definition the variance is the second moment substracted by the squared mean. The results we obtaind are consistent as we can observe that the degree distribution of the feature graph has a much higher variance and spreads from zero to above 200 whereas the degree distribution of the citation graph concentrates towards zero and has only few degrees higher than 10.\n"
   ]
  },
  {
   "cell_type": "markdown",
   "metadata": {
    "id": "YZMRp0DLpA2g"
   },
   "source": [
    "Select the 20 largest hubs for each of the graphs and remove them. Observe the sparsity pattern of the adjacency matrices of the citation and feature graphs before and after such a reduction."
   ]
  },
  {
   "cell_type": "code",
   "execution_count": 21,
   "metadata": {
    "id": "mzggzZ79pA2g",
    "outputId": "1aec6bbd-8d42-4969-8055-2354b70bc29e"
   },
   "outputs": [
    {
     "data": {
      "image/png": "[encoded data removed]",
      "text/plain": [
       "<Figure size 1152x1152 with 4 Axes>"
      ]
     },
     "metadata": {
      "needs_background": "light"
     },
     "output_type": "display_data"
    }
   ],
   "source": [
    "# get degrees of the new unordered one\n",
    "\n",
    "sorted_deg_feature = (-degrees_feature).argsort()[:20]\n",
    "del_feature = np.delete(A_feature,sorted_deg_feature,0)\n",
    "reduced_A_feature = np.delete(del_feature,sorted_deg_feature,1)\n",
    "\n",
    "sorted_deg_citation = (-degrees_citation).argsort()[:20]\n",
    "del_citation = np.delete(A_citation,sorted_deg_citation,0)\n",
    "reduced_A_citation = np.delete(del_citation,sorted_deg_citation,1)\n",
    "\n",
    "fig, axes = plt.subplots(2, 2, figsize=(16, 16))\n",
    "axes[0, 0].set_title('Feature graph: adjacency matrix sparsity pattern')\n",
    "axes[0, 0].spy(A_feature);\n",
    "axes[0, 1].set_title('Feature graph without top 20 hubs: adjacency matrix sparsity pattern')\n",
    "axes[0, 1].spy(reduced_A_feature);\n",
    "axes[1, 0].set_title('Citation graph: adjacency matrix sparsity pattern')\n",
    "axes[1, 0].spy(A_citation);\n",
    "axes[1, 1].set_title('Citation graph without top 20 hubs: adjacency matrix sparsity pattern')\n",
    "axes[1, 1].spy(reduced_A_citation);\n"
   ]
  },
  {
   "cell_type": "markdown",
   "metadata": {
    "id": "71DYW-kjpA2g"
   },
   "source": [
    "Plot the new degree distribution histograms."
   ]
  },
  {
   "cell_type": "code",
   "execution_count": 22,
   "metadata": {
    "id": "-Jg7fH-RpA2g",
    "outputId": "2025b2e4-aba5-47b9-9d3a-ff2f8875ecf1"
   },
   "outputs": [
    {
     "data": {
      "image/png": "[encoded data removed]",
      "text/plain": [
       "<Figure size 1152x288 with 2 Axes>"
      ]
     },
     "metadata": {
      "needs_background": "light"
     },
     "output_type": "display_data"
    }
   ],
   "source": [
    "reduced_degrees_feat = np.sum(reduced_A_feature, axis=1)\n",
    "reduced_degrees_cit = np.sum(reduced_A_citation, axis=1)\n",
    "\n",
    "deg_hist_normalization = np.ones(reduced_degrees_feat.shape[0]) / reduced_degrees_feat.shape[0]\n",
    "\n",
    "fig, axes = plt.subplots(1, 2, figsize=(16, 4))\n",
    "axes[0].set_title('Citation graph degree distribution')\n",
    "axes[0].hist(reduced_degrees_cit, weights=deg_hist_normalization, bins=20);\n",
    "axes[1].set_title('Feature graph degree distribution')\n",
    "axes[1].hist(reduced_degrees_feat, weights=deg_hist_normalization, bins=20);"
   ]
  },
  {
   "cell_type": "markdown",
   "metadata": {
    "id": "chqcaWv6pA2g"
   },
   "source": [
    "Compute the first and second moments for the new graphs."
   ]
  },
  {
   "cell_type": "code",
   "execution_count": 23,
   "metadata": {
    "id": "pYFLFVcepA2g",
    "outputId": "3a882b4a-e691-4483-83f7-8a07c4e3b88e"
   },
   "outputs": [
    {
     "name": "stdout",
     "output_type": "stream",
     "text": [
      "Citation graph first moment: 1.532994923857868\n",
      "Citation graph second moment: 3.9390862944162435\n",
      "Feature graph first moment:  49.157360406091364\n",
      "Feature graph second moment:  4056.1015228426395\n"
     ]
    }
   ],
   "source": [
    "reduced_cit_moment_1 = 1/reduced_A_citation.shape[0] * np.sum(np.sum(reduced_A_citation, axis=0)) \n",
    "reduced_cit_moment_2 = 1/reduced_A_citation.shape[0] * np.sum(np.sum(reduced_A_citation, axis=0)**2)\n",
    "\n",
    "reduced_feat_moment_1 = 1/reduced_A_feature.shape[0] * np.sum(np.sum(reduced_A_feature, axis=0))\n",
    "reduced_feat_moment_2 = 1/reduced_A_feature.shape[0] * np.sum(np.sum(reduced_A_feature, axis=0)**2)\n",
    "\n",
    "print(\"Citation graph first moment:\", reduced_cit_moment_1)\n",
    "print(\"Citation graph second moment:\", reduced_cit_moment_2)\n",
    "print(\"Feature graph first moment: \", reduced_feat_moment_1)\n",
    "print(\"Feature graph second moment: \", reduced_feat_moment_2)"
   ]
  },
  {
   "cell_type": "markdown",
   "metadata": {
    "id": "eE970zUMpA2g"
   },
   "source": [
    "Print the number of edges in the reduced graphs."
   ]
  },
  {
   "cell_type": "code",
   "execution_count": 24,
   "metadata": {
    "id": "Xfkyt_OhpA2g",
    "outputId": "71b68b71-a15a-4430-dfc9-fb6bb92dffa9"
   },
   "outputs": [
    {
     "name": "stdout",
     "output_type": "stream",
     "text": [
      "Citation graph number of edges: 151.0\n",
      "Feature graph number of edges: 4842.0\n"
     ]
    }
   ],
   "source": [
    "nb_edges_cit = np.sum(reduced_A_citation)/2\n",
    "nb_edges_feat = np.sum(reduced_A_feature)/2\n",
    "print(\"Citation graph number of edges:\", nb_edges_cit)\n",
    "print(\"Feature graph number of edges:\", nb_edges_feat)"
   ]
  },
  {
   "cell_type": "markdown",
   "metadata": {
    "id": "WB8GTvkopA2h"
   },
   "source": [
    "Is the effect of removing the hubs the same for both networks? Look at the percentage changes for each moment. Which of the moments is affected the most and in which graph? Explain why.  \n",
    "\n",
    "**Hint:** Examine the degree distributions."
   ]
  },
  {
   "cell_type": "code",
   "execution_count": 25,
   "metadata": {},
   "outputs": [
    {
     "name": "stdout",
     "output_type": "stream",
     "text": [
      "1st moment percentage change of citation graph: -59.33 %\n",
      "2nd moment percentage change of citation graph: -91.88 %\n",
      "1st moment percentage change of feature graph: -40.37 %\n",
      "2nd moment percentage change of feature graph: -59.73 %\n"
     ]
    }
   ],
   "source": [
    "print(\"1st moment percentage change of citation graph: {:.2f} %\".format(-(1-reduced_cit_moment_1/cit_moment_1)*100))\n",
    "print(\"2nd moment percentage change of citation graph: {:.2f} %\".format(-(1-reduced_cit_moment_2/cit_moment_2)*100))\n",
    "print(\"1st moment percentage change of feature graph: {:.2f} %\".format(-(1-reduced_feat_moment_1/feat_moment_1)*100))\n",
    "print(\"2nd moment percentage change of feature graph: {:.2f} %\".format(-(1-reduced_feat_moment_2/feat_moment_2)*100))\n"
   ]
  },
  {
   "cell_type": "markdown",
   "metadata": {
    "id": "zcdH4cDJpA2h"
   },
   "source": [
    "**Your answer here:** The most affected moment is the second moment of the citation graph. It removed all hubs of the citation graph, i.e. all nodes with a large degree (>10) such that its variance is reduce of 91.88%. Since there are more hubs in the feature graph, not all of them have been removed and hence the effect is much less important (-59.73%)."
   ]
  },
  {
   "cell_type": "markdown",
   "metadata": {
    "id": "kS2Da0d6pA2h"
   },
   "source": [
    "### Question 3: Pruning, sparsity, paths"
   ]
  },
  {
   "cell_type": "markdown",
   "metadata": {
    "id": "a_GR0hJmpA2h"
   },
   "source": [
    "By adjusting the threshold of the euclidean distance matrix, prune the feature graph so that its number of edges is roughly close (within a hundred edges) to the number of edges in the citation graph."
   ]
  },
  {
   "cell_type": "code",
   "execution_count": 26,
   "metadata": {
    "id": "DK9TUUIOpA2h"
   },
   "outputs": [
    {
     "name": "stdout",
     "output_type": "stream",
     "text": [
      "Number of edges in the feature graph: 8945.0\n",
      "Number of edges in the feature graph after pruning: 461.0\n",
      "Number of edges in the citation graph: 414\n"
     ]
    }
   ],
   "source": [
    "threshold = 4.246\n",
    "\n",
    "A_feature_pruned = distance.copy()\n",
    "A_feature_pruned[distance>=threshold] = 0\n",
    "A_feature_pruned[distance<threshold] = 1\n",
    "A_feature_pruned -= np.eye(A_feature_pruned.shape[0])\n",
    "num_edges_feature_pruned = np.sum(A_feature_pruned)/2\n",
    "\n",
    "print(f\"Number of edges in the feature graph: {num_edges_feature}\")\n",
    "print(f\"Number of edges in the feature graph after pruning: {num_edges_feature_pruned}\")\n",
    "print(f\"Number of edges in the citation graph: {num_edges_citation}\")"
   ]
  },
  {
   "cell_type": "markdown",
   "metadata": {
    "id": "BQIEJAsJpA2h"
   },
   "source": [
    "Check your results by comparing the sparsity patterns and total number of edges between the graphs."
   ]
  },
  {
   "cell_type": "code",
   "execution_count": 27,
   "metadata": {
    "id": "urkjuDimpA2h"
   },
   "outputs": [
    {
     "data": {
      "image/png": "[encoded data removed]",
      "text/plain": [
       "<Figure size 864x432 with 2 Axes>"
      ]
     },
     "metadata": {
      "needs_background": "light"
     },
     "output_type": "display_data"
    }
   ],
   "source": [
    "fig, axes = plt.subplots(1, 2, figsize=(12, 6))\n",
    "axes[0].set_title('Citation graph sparsity')\n",
    "axes[0].spy(A_citation);\n",
    "axes[1].set_title('Feature graph sparsity')\n",
    "axes[1].spy(A_feature_pruned);"
   ]
  },
  {
   "cell_type": "markdown",
   "metadata": {
    "id": "2KYNw1cupA2h"
   },
   "source": [
    "Let $C_{k}(i,j)$ denote the number of paths of length $k$ from node $i$ to node $j$. \n",
    "\n",
    "We define the path matrix $P$, with entries\n",
    "$ P_{ij} = \\displaystyle\\sum_{k=0}^{N}C_{k}(i,j). $"
   ]
  },
  {
   "cell_type": "markdown",
   "metadata": {
    "id": "EoOwMmDspA2h"
   },
   "source": [
    "Calculate the path matrices for both the citation and the unpruned feature graphs for $N =10$.  \n",
    "\n",
    "**Hint:** Use [powers of the adjacency matrix](https://en.wikipedia.org/wiki/Adjacency_matrix#Matrix_powers)."
   ]
  },
  {
   "cell_type": "code",
   "execution_count": 28,
   "metadata": {
    "id": "wn6DdZ8KpA2h"
   },
   "outputs": [],
   "source": [
    "path_matrix_citation = np.zeros(A_citation.shape)\n",
    "path_matrix_feature = np.zeros(A_feature.shape)\n",
    "\n",
    "for i in range(10):\n",
    "    path_matrix_citation += np.linalg.matrix_power(A_citation, i+1)\n",
    "    path_matrix_feature += np.linalg.matrix_power(A_feature, i+1)"
   ]
  },
  {
   "cell_type": "markdown",
   "metadata": {
    "id": "9wUBT7jppA2h"
   },
   "source": [
    "Check the sparsity pattern for both of path matrices."
   ]
  },
  {
   "cell_type": "code",
   "execution_count": 29,
   "metadata": {
    "id": "451MukqSpA2i"
   },
   "outputs": [
    {
     "data": {
      "image/png": "[encoded data removed]",
      "text/plain": [
       "<Figure size 1152x648 with 2 Axes>"
      ]
     },
     "metadata": {
      "needs_background": "light"
     },
     "output_type": "display_data"
    }
   ],
   "source": [
    "fig, axes = plt.subplots(1, 2, figsize=(16, 9))\n",
    "axes[0].set_title('Citation Path matrix sparsity')\n",
    "axes[0].spy(path_matrix_citation)\n",
    "axes[1].set_title('Feature Path matrix sparsity')\n",
    "axes[1].spy(path_matrix_feature);"
   ]
  },
  {
   "cell_type": "markdown",
   "metadata": {
    "id": "MJxrbQojpA2i"
   },
   "source": [
    "Now calculate the path matrix of the pruned feature graph for $N=10$. Plot the corresponding sparsity pattern. Is there any difference?"
   ]
  },
  {
   "cell_type": "code",
   "execution_count": 30,
   "metadata": {
    "id": "jpT6ez3ypA2i"
   },
   "outputs": [
    {
     "data": {
      "image/png": "[encoded data removed]",
      "text/plain": [
       "<Figure size 864x432 with 1 Axes>"
      ]
     },
     "metadata": {
      "needs_background": "light"
     },
     "output_type": "display_data"
    }
   ],
   "source": [
    "path_matrix_pruned = np.zeros(A_feature_pruned.shape)\n",
    "\n",
    "for i in range(11):\n",
    "    path_matrix_pruned += np.linalg.matrix_power(A_feature_pruned, i+1)\n",
    "    \n",
    "plt.figure(figsize=(12, 6))\n",
    "plt.title('Feature Path matrix sparsity')\n",
    "plt.spy(path_matrix_pruned);"
   ]
  },
  {
   "cell_type": "markdown",
   "metadata": {
    "id": "v9UlGOlGpA2i"
   },
   "source": [
    "**Your answer here:** The pruned matrix is much sparser which makes sense since many edges have been removed. Before pruning, it was possible to go from one node to any other node in a maximum of 10 hops since the path matrix for N=10 has only non-zero entries. It is not the case anymore after pruning and some nodes are not reachable anymore within 10 hops or less.\n"
   ]
  },
  {
   "cell_type": "markdown",
   "metadata": {
    "id": "UAZYqiSNpA2i"
   },
   "source": [
    "Describe how you can use the above process of counting paths to determine whether a graph is connected or not. Is the original (unpruned) feature graph connected?"
   ]
  },
  {
   "cell_type": "markdown",
   "metadata": {
    "id": "_F6UQ-AfpA2i"
   },
   "source": [
    "**Your answer here:** A graph is connected iff for N=number of nodes the path matrix has only non-zero entries. This means that any node can be reached from any other nodes in a maximum of N hops. The unpruned feature graph is connected since:"
   ]
  },
  {
   "cell_type": "code",
   "execution_count": 31,
   "metadata": {},
   "outputs": [
    {
     "data": {
      "text/plain": [
       "False"
      ]
     },
     "execution_count": 31,
     "metadata": {},
     "output_type": "execute_result"
    }
   ],
   "source": [
    "np.any(path_matrix_feature==0) # check is path_matrix_feature has zero-entries"
   ]
  },
  {
   "cell_type": "markdown",
   "metadata": {
    "id": "8y0YME35pA2i"
   },
   "source": [
    "If the graph is connected, how can you guess its diameter using the path matrix?"
   ]
  },
  {
   "cell_type": "markdown",
   "metadata": {
    "id": "Y85oLgVxpA2i"
   },
   "source": [
    "**Your answer here:** The diameter is the smallest N for which the path matrix is non-zero."
   ]
  },
  {
   "cell_type": "markdown",
   "metadata": {
    "id": "BM8hsuY6pA2i"
   },
   "source": [
    "If any of your graphs is connected, calculate the diameter using that process."
   ]
  },
  {
   "cell_type": "code",
   "execution_count": 32,
   "metadata": {
    "id": "BsMCLo4kpA2i",
    "tags": []
   },
   "outputs": [
    {
     "name": "stdout",
     "output_type": "stream",
     "text": [
      "The diameter is: 2\n"
     ]
    }
   ],
   "source": [
    "path_matrix = np.zeros(A_feature.shape)\n",
    "\n",
    "for i in range(A_feature.shape[0]):\n",
    "    \n",
    "    path_matrix += np.linalg.matrix_power(A_feature, i+1)\n",
    "    \n",
    "    if not np.any(path_matrix==0):\n",
    "        diameter = i+1\n",
    "        break\n",
    "\n",
    "print(f\"The diameter is: {diameter}\")"
   ]
  },
  {
   "cell_type": "markdown",
   "metadata": {
    "id": "_GFKkTx6QRh_"
   },
   "source": [
    "### Question 4: Shortest path"
   ]
  },
  {
   "cell_type": "markdown",
   "metadata": {
    "id": "_1yMVlVhpA2i"
   },
   "source": [
    " Finding the shortest paths between agents"
   ]
  },
  {
   "cell_type": "markdown",
   "metadata": {
    "id": "qZ7PgQrgpA2i"
   },
   "source": [
    "Here, we calculate the shortest path from a source node to a target node. A classic method for finding the shortest path on unweighted networks is Breadth-First Search (BFS) method. Check the BFS steps in the Lecture 'Graph Theory Basis'."
   ]
  },
  {
   "cell_type": "markdown",
   "metadata": {
    "id": "ZDXS8m0ppA2i"
   },
   "source": [
    "To this end, we first define a function for finding the neighboring nodes of a specified node x. "
   ]
  },
  {
   "cell_type": "code",
   "execution_count": 33,
   "metadata": {
    "id": "uQpEv_qLpA2j"
   },
   "outputs": [],
   "source": [
    "### Get the neighboring set of node x\n",
    "def find_neighbors(x):\n",
    "    return [i for i in range(A_feature.shape[0]) if A_feature[x][i]>0]"
   ]
  },
  {
   "cell_type": "markdown",
   "metadata": {
    "id": "P2mKlYSXpA2j"
   },
   "source": [
    "Calculate the path length from the source node to the target node by filling the missing code in the algorithm: "
   ]
  },
  {
   "cell_type": "code",
   "execution_count": 34,
   "metadata": {
    "id": "DeE1KQ9epA2j"
   },
   "outputs": [
    {
     "name": "stdout",
     "output_type": "stream",
     "text": [
      "The shortest path length from node 0 to node 10 is: 2\n",
      "One shortest path is: [2, 0, 10]\n"
     ]
    }
   ],
   "source": [
    "### Find the shortest path from the source node to the target node:\n",
    "source_node, target_node, path_length = 0, 10, 0\n",
    "source_set = [source_node]\n",
    "path = []\n",
    "stop_finding = 0\n",
    "iteration_number = A_feature.shape[0]\n",
    "i = 0\n",
    "if source_node==target_node:\n",
    "    stop_finding = 1\n",
    "    path.append([source_node,target_node,path_length])\n",
    "while stop_finding == 0 and i < iteration_number:\n",
    "    source_set_new = []\n",
    "    for n in source_set:\n",
    "        neighbors = find_neighbors(n)\n",
    "        if target_node in neighbors:\n",
    "             # Code to be filled\n",
    "            path.append([source_node,target_node,path_length])\n",
    "            stop_finding = 1\n",
    "            break\n",
    "        else:\n",
    "            for nn in neighbors:\n",
    "                # Code to be filled\n",
    "                path.append([nn,n,i])\n",
    "            source_set_new += neighbors\n",
    "    path_length += 1\n",
    "    source_set = source_set_new.copy()\n",
    "    i += 1\n",
    "if stop_finding == 0:\n",
    "    path_length = ['Infinity']\n",
    "    shortest_path = ['None']\n",
    "else:\n",
    "    child_node = target_node\n",
    "    shortest_path = [target_node]\n",
    "    for i in range(path_length-1,-1,-1):\n",
    "        parent_node = [x for [x, y, z] in path if y==child_node and z==i]\n",
    "        shortest_path.append(parent_node[0])\n",
    "        child_node = parent_node[0] #Select one of the parent nodes as the child node in previous round\n",
    "    shortest_path.reverse()\n",
    "\n",
    "print(f\"The shortest path length from node {source_node} to node {target_node} is: {path_length}\")\n",
    "print(f\"One shortest path is: {shortest_path}\")"
   ]
  },
  {
   "cell_type": "markdown",
   "metadata": {
    "id": "N-YHblhBpA2j"
   },
   "source": [
    "Get all edges visited by BFS starting from a source node by filling the missing lines in the following code: "
   ]
  },
  {
   "cell_type": "code",
   "execution_count": 35,
   "metadata": {
    "id": "OmgJLVvDpA2j"
   },
   "outputs": [
    {
     "name": "stdout",
     "output_type": "stream",
     "text": [
      "Edges visited by Breadth-First Search method starting from node 0:\n"
     ]
    },
    {
     "data": {
      "text/plain": [
       "[(0, 2),\n",
       " (0, 3),\n",
       " (0, 4),\n",
       " (0, 14),\n",
       " (0, 15),\n",
       " (0, 20),\n",
       " (0, 21),\n",
       " (0, 33),\n",
       " (0, 35),\n",
       " (0, 37),\n",
       " (0, 39),\n",
       " (0, 47),\n",
       " (0, 49),\n",
       " (0, 50),\n",
       " (0, 51),\n",
       " (0, 57),\n",
       " (0, 58),\n",
       " (0, 70),\n",
       " (0, 77),\n",
       " (0, 83),\n",
       " (0, 84),\n",
       " (0, 88),\n",
       " (0, 91),\n",
       " (0, 94),\n",
       " (0, 98),\n",
       " (0, 99),\n",
       " (0, 102),\n",
       " (0, 108),\n",
       " (0, 110),\n",
       " (0, 111),\n",
       " (0, 112),\n",
       " (0, 113),\n",
       " (0, 119),\n",
       " (0, 125),\n",
       " (0, 128),\n",
       " (0, 131),\n",
       " (0, 133),\n",
       " (0, 135),\n",
       " (0, 137),\n",
       " (0, 139),\n",
       " (0, 141),\n",
       " (0, 142),\n",
       " (0, 154),\n",
       " (0, 156),\n",
       " (0, 159),\n",
       " (0, 162),\n",
       " (0, 170),\n",
       " (0, 174),\n",
       " (0, 176),\n",
       " (0, 185),\n",
       " (0, 189),\n",
       " (0, 192),\n",
       " (0, 195),\n",
       " (0, 196),\n",
       " (0, 198),\n",
       " (0, 200),\n",
       " (0, 202),\n",
       " (0, 203),\n",
       " (0, 208),\n",
       " (0, 211),\n",
       " (0, 216),\n",
       " (2, 1),\n",
       " (2, 5),\n",
       " (2, 6),\n",
       " (2, 7),\n",
       " (2, 8),\n",
       " (2, 9),\n",
       " (2, 10),\n",
       " (2, 11),\n",
       " (2, 12),\n",
       " (2, 13),\n",
       " (2, 16),\n",
       " (2, 17),\n",
       " (2, 18),\n",
       " (2, 19),\n",
       " (2, 22),\n",
       " (2, 23),\n",
       " (2, 24),\n",
       " (2, 25),\n",
       " (2, 26),\n",
       " (2, 27),\n",
       " (2, 28),\n",
       " (2, 29),\n",
       " (2, 30),\n",
       " (2, 31),\n",
       " (2, 32),\n",
       " (2, 34),\n",
       " (2, 36),\n",
       " (2, 38),\n",
       " (2, 40),\n",
       " (2, 41),\n",
       " (2, 42),\n",
       " (2, 43),\n",
       " (2, 44),\n",
       " (2, 45),\n",
       " (2, 46),\n",
       " (2, 48),\n",
       " (2, 52),\n",
       " (2, 53),\n",
       " (2, 54),\n",
       " (2, 55),\n",
       " (2, 56),\n",
       " (2, 59),\n",
       " (2, 60),\n",
       " (2, 61),\n",
       " (2, 62),\n",
       " (2, 63),\n",
       " (2, 64),\n",
       " (2, 65),\n",
       " (2, 66),\n",
       " (2, 67),\n",
       " (2, 68),\n",
       " (2, 69),\n",
       " (2, 71),\n",
       " (2, 72),\n",
       " (2, 73),\n",
       " (2, 74),\n",
       " (2, 75),\n",
       " (2, 76),\n",
       " (2, 78),\n",
       " (2, 79),\n",
       " (2, 80),\n",
       " (2, 81),\n",
       " (2, 82),\n",
       " (2, 85),\n",
       " (2, 86),\n",
       " (2, 87),\n",
       " (2, 89),\n",
       " (2, 90),\n",
       " (2, 92),\n",
       " (2, 93),\n",
       " (2, 95),\n",
       " (2, 96),\n",
       " (2, 97),\n",
       " (2, 100),\n",
       " (2, 101),\n",
       " (2, 103),\n",
       " (2, 104),\n",
       " (2, 105),\n",
       " (2, 106),\n",
       " (2, 107),\n",
       " (2, 109),\n",
       " (2, 114),\n",
       " (2, 115),\n",
       " (2, 116),\n",
       " (2, 117),\n",
       " (2, 118),\n",
       " (2, 120),\n",
       " (2, 121),\n",
       " (2, 122),\n",
       " (2, 123),\n",
       " (2, 124),\n",
       " (2, 126),\n",
       " (2, 127),\n",
       " (2, 129),\n",
       " (2, 130),\n",
       " (2, 132),\n",
       " (2, 134),\n",
       " (2, 136),\n",
       " (2, 138),\n",
       " (2, 140),\n",
       " (2, 143),\n",
       " (2, 144),\n",
       " (2, 145),\n",
       " (2, 146),\n",
       " (2, 147),\n",
       " (2, 148),\n",
       " (2, 149),\n",
       " (2, 150),\n",
       " (2, 151),\n",
       " (2, 152),\n",
       " (2, 153),\n",
       " (2, 155),\n",
       " (2, 157),\n",
       " (2, 158),\n",
       " (2, 160),\n",
       " (2, 161),\n",
       " (2, 163),\n",
       " (2, 164),\n",
       " (2, 165),\n",
       " (2, 166),\n",
       " (2, 167),\n",
       " (2, 168),\n",
       " (2, 169),\n",
       " (2, 171),\n",
       " (2, 172),\n",
       " (2, 173),\n",
       " (2, 175),\n",
       " (2, 177),\n",
       " (2, 178),\n",
       " (2, 179),\n",
       " (2, 180),\n",
       " (2, 181),\n",
       " (2, 182),\n",
       " (2, 183),\n",
       " (2, 184),\n",
       " (2, 186),\n",
       " (2, 187),\n",
       " (2, 188),\n",
       " (2, 190),\n",
       " (2, 191),\n",
       " (2, 193),\n",
       " (2, 194),\n",
       " (2, 197),\n",
       " (2, 199),\n",
       " (2, 201),\n",
       " (2, 204),\n",
       " (2, 205),\n",
       " (2, 206),\n",
       " (2, 207),\n",
       " (2, 209),\n",
       " (2, 210),\n",
       " (2, 212),\n",
       " (2, 213),\n",
       " (2, 214),\n",
       " (2, 215)]"
      ]
     },
     "execution_count": 35,
     "metadata": {},
     "output_type": "execute_result"
    }
   ],
   "source": [
    "# All edges visited by BFS method starting from a source node\n",
    "BFS_edges = []\n",
    "unexplored_list = list(range(A_feature.shape[0]))\n",
    "source_node = 0\n",
    "source_set = [source_node]\n",
    "unexplored_list.remove(source_node) \n",
    "stop_finding = 0\n",
    "while stop_finding == 0:\n",
    "    source_set_new = []\n",
    "    for n in source_set:\n",
    "        neighbors = find_neighbors(n)\n",
    "        for nn in neighbors:\n",
    "            if nn in unexplored_list:\n",
    "                unexplored_list.remove(nn) \n",
    "                BFS_edges.append((n,nn))\n",
    "                source_set_new.append(nn)\n",
    "    if not source_set_new:\n",
    "        stop_finding = 1      \n",
    "    else:\n",
    "        source_set = source_set_new.copy()\n",
    "print(f\"Edges visited by Breadth-First Search method starting from node {source_node}:\")\n",
    "list(BFS_edges)"
   ]
  },
  {
   "cell_type": "markdown",
   "metadata": {
    "id": "PgJHYISppA2j"
   },
   "source": [
    "Question: What is the difference between BFS algorithm and the Dijkstra's algorithm?"
   ]
  },
  {
   "cell_type": "markdown",
   "metadata": {
    "id": "MXAxJv83pA2j"
   },
   "source": [
    "Your answer here: Dijkstra's algorithm is an extension of the BFS algorithm from unweighted networks to the weighted networks. "
   ]
  },
  {
   "cell_type": "markdown",
   "metadata": {
    "id": "uhAredjwpA2j"
   },
   "source": [
    "Check if your guess was correct using [NetworkX](https://networkx.github.io/documentation/stable/reference/algorithms/generated/networkx.algorithms.distance_measures.diameter.html).\n",
    "Note: usage of NetworkX is only allowed in this part of Section 1."
   ]
  },
  {
   "cell_type": "code",
   "execution_count": 36,
   "metadata": {
    "id": "ku24S_06pA2j"
   },
   "outputs": [
    {
     "name": "stdout",
     "output_type": "stream",
     "text": [
      "Diameter according to networkx: 2\n"
     ]
    }
   ],
   "source": [
    "import networkx as nx\n",
    "feature_graph = nx.from_numpy_matrix(A_feature)\n",
    "print(f\"Diameter according to networkx: {nx.diameter(feature_graph)}\")"
   ]
  },
  {
   "cell_type": "markdown",
   "metadata": {
    "id": "am0CrxROpA2j"
   },
   "source": [
    "Let us now check our results of BFS method using NetworkX."
   ]
  },
  {
   "cell_type": "code",
   "execution_count": 37,
   "metadata": {
    "id": "SnT56smypA2j"
   },
   "outputs": [
    {
     "data": {
      "text/plain": [
       "[(0, 2),\n",
       " (0, 3),\n",
       " (0, 4),\n",
       " (0, 14),\n",
       " (0, 15),\n",
       " (0, 20),\n",
       " (0, 21),\n",
       " (0, 33),\n",
       " (0, 35),\n",
       " (0, 37),\n",
       " (0, 39),\n",
       " (0, 47),\n",
       " (0, 49),\n",
       " (0, 50),\n",
       " (0, 51),\n",
       " (0, 57),\n",
       " (0, 58),\n",
       " (0, 70),\n",
       " (0, 77),\n",
       " (0, 83),\n",
       " (0, 84),\n",
       " (0, 88),\n",
       " (0, 91),\n",
       " (0, 94),\n",
       " (0, 98),\n",
       " (0, 99),\n",
       " (0, 102),\n",
       " (0, 108),\n",
       " (0, 110),\n",
       " (0, 111),\n",
       " (0, 112),\n",
       " (0, 113),\n",
       " (0, 119),\n",
       " (0, 125),\n",
       " (0, 128),\n",
       " (0, 131),\n",
       " (0, 133),\n",
       " (0, 135),\n",
       " (0, 137),\n",
       " (0, 139),\n",
       " (0, 141),\n",
       " (0, 142),\n",
       " (0, 154),\n",
       " (0, 156),\n",
       " (0, 159),\n",
       " (0, 162),\n",
       " (0, 170),\n",
       " (0, 174),\n",
       " (0, 176),\n",
       " (0, 185),\n",
       " (0, 189),\n",
       " (0, 192),\n",
       " (0, 195),\n",
       " (0, 196),\n",
       " (0, 198),\n",
       " (0, 200),\n",
       " (0, 202),\n",
       " (0, 203),\n",
       " (0, 208),\n",
       " (0, 211),\n",
       " (0, 216),\n",
       " (2, 1),\n",
       " (2, 5),\n",
       " (2, 6),\n",
       " (2, 7),\n",
       " (2, 8),\n",
       " (2, 9),\n",
       " (2, 10),\n",
       " (2, 11),\n",
       " (2, 12),\n",
       " (2, 13),\n",
       " (2, 16),\n",
       " (2, 17),\n",
       " (2, 18),\n",
       " (2, 19),\n",
       " (2, 22),\n",
       " (2, 23),\n",
       " (2, 24),\n",
       " (2, 25),\n",
       " (2, 26),\n",
       " (2, 27),\n",
       " (2, 28),\n",
       " (2, 29),\n",
       " (2, 30),\n",
       " (2, 31),\n",
       " (2, 32),\n",
       " (2, 34),\n",
       " (2, 36),\n",
       " (2, 38),\n",
       " (2, 40),\n",
       " (2, 41),\n",
       " (2, 42),\n",
       " (2, 43),\n",
       " (2, 44),\n",
       " (2, 45),\n",
       " (2, 46),\n",
       " (2, 48),\n",
       " (2, 52),\n",
       " (2, 53),\n",
       " (2, 54),\n",
       " (2, 55),\n",
       " (2, 56),\n",
       " (2, 59),\n",
       " (2, 60),\n",
       " (2, 61),\n",
       " (2, 62),\n",
       " (2, 63),\n",
       " (2, 64),\n",
       " (2, 65),\n",
       " (2, 66),\n",
       " (2, 67),\n",
       " (2, 68),\n",
       " (2, 69),\n",
       " (2, 71),\n",
       " (2, 72),\n",
       " (2, 73),\n",
       " (2, 74),\n",
       " (2, 75),\n",
       " (2, 76),\n",
       " (2, 78),\n",
       " (2, 79),\n",
       " (2, 80),\n",
       " (2, 81),\n",
       " (2, 82),\n",
       " (2, 85),\n",
       " (2, 86),\n",
       " (2, 87),\n",
       " (2, 89),\n",
       " (2, 90),\n",
       " (2, 92),\n",
       " (2, 93),\n",
       " (2, 95),\n",
       " (2, 96),\n",
       " (2, 97),\n",
       " (2, 100),\n",
       " (2, 101),\n",
       " (2, 103),\n",
       " (2, 104),\n",
       " (2, 105),\n",
       " (2, 106),\n",
       " (2, 107),\n",
       " (2, 109),\n",
       " (2, 114),\n",
       " (2, 115),\n",
       " (2, 116),\n",
       " (2, 117),\n",
       " (2, 118),\n",
       " (2, 120),\n",
       " (2, 121),\n",
       " (2, 122),\n",
       " (2, 123),\n",
       " (2, 124),\n",
       " (2, 126),\n",
       " (2, 127),\n",
       " (2, 129),\n",
       " (2, 130),\n",
       " (2, 132),\n",
       " (2, 134),\n",
       " (2, 136),\n",
       " (2, 138),\n",
       " (2, 140),\n",
       " (2, 143),\n",
       " (2, 144),\n",
       " (2, 145),\n",
       " (2, 146),\n",
       " (2, 147),\n",
       " (2, 148),\n",
       " (2, 149),\n",
       " (2, 150),\n",
       " (2, 151),\n",
       " (2, 152),\n",
       " (2, 153),\n",
       " (2, 155),\n",
       " (2, 157),\n",
       " (2, 158),\n",
       " (2, 160),\n",
       " (2, 161),\n",
       " (2, 163),\n",
       " (2, 164),\n",
       " (2, 165),\n",
       " (2, 166),\n",
       " (2, 167),\n",
       " (2, 168),\n",
       " (2, 169),\n",
       " (2, 171),\n",
       " (2, 172),\n",
       " (2, 173),\n",
       " (2, 175),\n",
       " (2, 177),\n",
       " (2, 178),\n",
       " (2, 179),\n",
       " (2, 180),\n",
       " (2, 181),\n",
       " (2, 182),\n",
       " (2, 183),\n",
       " (2, 184),\n",
       " (2, 186),\n",
       " (2, 187),\n",
       " (2, 188),\n",
       " (2, 190),\n",
       " (2, 191),\n",
       " (2, 193),\n",
       " (2, 194),\n",
       " (2, 197),\n",
       " (2, 199),\n",
       " (2, 201),\n",
       " (2, 204),\n",
       " (2, 205),\n",
       " (2, 206),\n",
       " (2, 207),\n",
       " (2, 209),\n",
       " (2, 210),\n",
       " (2, 212),\n",
       " (2, 213),\n",
       " (2, 214),\n",
       " (2, 215)]"
      ]
     },
     "execution_count": 37,
     "metadata": {},
     "output_type": "execute_result"
    }
   ],
   "source": [
    "list(nx.bfs_edges(feature_graph, source_node))"
   ]
  },
  {
   "cell_type": "code",
   "execution_count": 38,
   "metadata": {
    "id": "t1Dam2xOpA2j"
   },
   "outputs": [
    {
     "name": "stdout",
     "output_type": "stream",
     "text": [
      "[0, 2, 10]\n"
     ]
    }
   ],
   "source": [
    "print(nx.shortest_path(feature_graph, source_node, target_node))"
   ]
  },
  {
   "cell_type": "markdown",
   "metadata": {
    "id": "ypqiZkDqpA2j"
   },
   "source": [
    "## Section 2: Network Models"
   ]
  },
  {
   "cell_type": "markdown",
   "metadata": {
    "id": "Ngj15heQpA2k"
   },
   "source": [
    "In this section, you will analyze the feature and citation graphs you constructed in the previous section in terms of the network model types.\n",
    "For this purpose, you can use the NetworkX libary imported below."
   ]
  },
  {
   "cell_type": "code",
   "execution_count": 39,
   "metadata": {
    "id": "JmopO_ynpA2k"
   },
   "outputs": [],
   "source": [
    "import networkx as nx"
   ]
  },
  {
   "cell_type": "markdown",
   "metadata": {
    "id": "_S4Tfk9LpA2k"
   },
   "source": [
    "Let us create NetworkX graph objects from the adjacency matrices computed in the previous section. "
   ]
  },
  {
   "cell_type": "code",
   "execution_count": 40,
   "metadata": {
    "id": "qEtZo52kpA2k"
   },
   "outputs": [
    {
     "name": "stdout",
     "output_type": "stream",
     "text": [
      "Number of nodes: 217, Number of edges: 409\n",
      "Number of self-loops: 0, Number of connected components: 28\n"
     ]
    }
   ],
   "source": [
    "G_citation = nx.from_numpy_matrix(A_citation)\n",
    "print('Number of nodes: {}, Number of edges: {}'. format(G_citation.number_of_nodes(), G_citation.number_of_edges()))\n",
    "print('Number of self-loops: {}, Number of connected components: {}'. format(nx.number_of_selfloops(G_citation), nx.number_connected_components(G_citation)))"
   ]
  },
  {
   "cell_type": "markdown",
   "metadata": {
    "id": "DLvCF7PupA2k"
   },
   "source": [
    "In the rest of this assignment, we will consider the pruned feature graph as the feature network."
   ]
  },
  {
   "cell_type": "code",
   "execution_count": 41,
   "metadata": {
    "id": "otYyMSyrpA2k"
   },
   "outputs": [
    {
     "name": "stdout",
     "output_type": "stream",
     "text": [
      "Number of nodes: 217, Number of edges: 461\n",
      "Number of self-loops: 0, Number of connected components: 136\n"
     ]
    }
   ],
   "source": [
    "G_feature = nx.from_numpy_matrix(A_feature_pruned)\n",
    "print('Number of nodes: {}, Number of edges: {}'. format(G_feature.number_of_nodes(), G_feature.number_of_edges()))\n",
    "print('Number of self-loops: {}, Number of connected components: {}'. format(nx.number_of_selfloops(G_feature), nx.number_connected_components(G_feature)))"
   ]
  },
  {
   "cell_type": "markdown",
   "metadata": {
    "id": "5Q4SfbR5pA2k"
   },
   "source": [
    "### Question 5: Simulation with Erdős–Rényi and Barabási–Albert models"
   ]
  },
  {
   "cell_type": "markdown",
   "metadata": {
    "id": "2u4zGEMrpA2k"
   },
   "source": [
    "Create an Erdős–Rényi and a Barabási–Albert graph using NetworkX to simulate the citation graph and the feature graph you have. When choosing parameters for the networks, take into account the number of vertices and edges of the original networks."
   ]
  },
  {
   "cell_type": "markdown",
   "metadata": {
    "id": "0cbkR-qHpA2k"
   },
   "source": [
    "The number of nodes should exactly match the number of nodes in the original citation and feature graphs."
   ]
  },
  {
   "cell_type": "code",
   "execution_count": 50,
   "metadata": {
    "id": "xJgO2LHYpA2k"
   },
   "outputs": [
    {
     "data": {
      "text/plain": [
       "217"
      ]
     },
     "execution_count": 50,
     "metadata": {},
     "output_type": "execute_result"
    }
   ],
   "source": [
    "assert len(G_citation.nodes()) == len(G_feature.nodes())\n",
    "n = len(G_citation.nodes())\n",
    "n"
   ]
  },
  {
   "cell_type": "markdown",
   "metadata": {
    "id": "t8YP2dyApA2k"
   },
   "source": [
    "The number of match shall fit the average of the number of edges in the citation and the feature graph."
   ]
  },
  {
   "cell_type": "code",
   "execution_count": 51,
   "metadata": {
    "id": "iOp0dHljpA2k"
   },
   "outputs": [
    {
     "data": {
      "text/plain": [
       "435.0"
      ]
     },
     "execution_count": 51,
     "metadata": {},
     "output_type": "execute_result"
    }
   ],
   "source": [
    "m = np.round((G_citation.size() + G_feature.size()) / 2)\n",
    "m"
   ]
  },
  {
   "cell_type": "markdown",
   "metadata": {
    "id": "1cwoXtUZpA2k"
   },
   "source": [
    "How do you determine the probability parameter for the Erdős–Rényi graph?"
   ]
  },
  {
   "cell_type": "markdown",
   "metadata": {
    "id": "sn8cz-vLpA2l"
   },
   "source": [
    "**Your answer here:** For a Erdös-Rényi model, we know that $<k> = \\frac{2 m}{n} = p(n-1)$ with m the number of edges and n the number of nodes. Thus we get $p = \\frac{2m}{n(n-1)}$"
   ]
  },
  {
   "cell_type": "code",
   "execution_count": 52,
   "metadata": {
    "id": "k8Bi6TJ1pA2l"
   },
   "outputs": [],
   "source": [
    "p = 2*m/(n*(n-1))\n",
    "G_er = nx.erdos_renyi_graph(n, p)"
   ]
  },
  {
   "cell_type": "markdown",
   "metadata": {
    "id": "BHdnG-B3pA2l"
   },
   "source": [
    "Check the number of edges in the Erdős–Rényi graph."
   ]
  },
  {
   "cell_type": "code",
   "execution_count": 53,
   "metadata": {
    "id": "8Cqtu5RdpA2l"
   },
   "outputs": [
    {
     "name": "stdout",
     "output_type": "stream",
     "text": [
      "The Erdos-Rényi model has 436 edges.\n"
     ]
    }
   ],
   "source": [
    "print('The Erdos-Rényi model has {} edges.'.format(G_er.size()))"
   ]
  },
  {
   "cell_type": "markdown",
   "metadata": {
    "id": "K1AZ_mzApA2l"
   },
   "source": [
    "How do you determine the preferential attachment parameter for Barabási–Albert graphs?"
   ]
  },
  {
   "cell_type": "markdown",
   "metadata": {
    "id": "0WHkOrSnpA2l"
   },
   "source": [
    "**Your answer here:** For a Barabasi-Albert graph, we know that m = q(n-q) with q being the preferential attachment parameter. We get that $q^2 - nq + m = 0$. We solve this quadratic equation and get that q can be equal to 215 or 2."
   ]
  },
  {
   "cell_type": "code",
   "execution_count": 54,
   "metadata": {
    "id": "bI-ZNkaTpA2l"
   },
   "outputs": [],
   "source": [
    "q = 2\n",
    "G_ba = nx.barabasi_albert_graph(n, q)"
   ]
  },
  {
   "cell_type": "markdown",
   "metadata": {
    "id": "07jvDxU4pA2l"
   },
   "source": [
    "Check the number of edges in the Barabási–Albert graph."
   ]
  },
  {
   "cell_type": "code",
   "execution_count": 55,
   "metadata": {
    "id": "t5y-GHNRpA2l"
   },
   "outputs": [
    {
     "name": "stdout",
     "output_type": "stream",
     "text": [
      "The Barabási-Albert model has 430 edges.\n"
     ]
    }
   ],
   "source": [
    "print('The Barabási-Albert model has {} edges.'.format(G_ba.size()))"
   ]
  },
  {
   "cell_type": "markdown",
   "metadata": {
    "id": "5krSL-txpA2l"
   },
   "source": [
    "### Question 6: Giant Component"
   ]
  },
  {
   "cell_type": "markdown",
   "metadata": {
    "id": "G-g_5krspA2l"
   },
   "source": [
    "Check the size of the largest connected component in the citation and feature graphs."
   ]
  },
  {
   "cell_type": "code",
   "execution_count": 56,
   "metadata": {
    "id": "ofef85F8pA2l"
   },
   "outputs": [
    {
     "name": "stdout",
     "output_type": "stream",
     "text": [
      "The giant component of the citation graph has 177 nodes and 394 edges.\n"
     ]
    }
   ],
   "source": [
    "giant_citation = G_citation.subgraph(max(nx.connected_components(G_citation), key=len))\n",
    "print('The giant component of the citation graph has {} nodes and {} edges.'.format(giant_citation.number_of_nodes(), giant_citation.size()))"
   ]
  },
  {
   "cell_type": "code",
   "execution_count": 57,
   "metadata": {
    "id": "tiNJQb1kpA2m"
   },
   "outputs": [
    {
     "name": "stdout",
     "output_type": "stream",
     "text": [
      "The giant component of the feature graph has 74 nodes and 450 edges.\n"
     ]
    }
   ],
   "source": [
    "giant_feature = G_feature.subgraph(max(nx.connected_components(G_feature), key=len))\n",
    "print('The giant component of the feature graph has {} nodes and {} edges.'.format(giant_feature.number_of_nodes(), giant_feature.size()))"
   ]
  },
  {
   "cell_type": "markdown",
   "metadata": {
    "id": "IOQSufX6pA2m"
   },
   "source": [
    "Check the size of the giant components in the generated Erdős–Rényi graph."
   ]
  },
  {
   "cell_type": "code",
   "execution_count": 58,
   "metadata": {
    "id": "KvkpaVojpA2m"
   },
   "outputs": [
    {
     "name": "stdout",
     "output_type": "stream",
     "text": [
      "The giant component of the Erdos-Rényi network has 216 nodes and 436 edges.\n"
     ]
    }
   ],
   "source": [
    "giant_er = G_er.subgraph(max(nx.connected_components(G_er), key=len))\n",
    "print('The giant component of the Erdos-Rényi network has {} nodes and {} edges.'.format(giant_er.number_of_nodes(), giant_er.size()))"
   ]
  },
  {
   "cell_type": "markdown",
   "metadata": {
    "id": "bmHH4qkQpA2m"
   },
   "source": [
    "Let us match the number of nodes in the giant component of the feature graph by simulating a new Erdős–Rényi network.\n",
    "How do you choose the probability parameter this time? \n",
    "\n",
    "**Hint:** Recall the expected giant component size from the lectures."
   ]
  },
  {
   "cell_type": "markdown",
   "metadata": {
    "id": "PdL0Bo4jpA2m"
   },
   "source": [
    "**Your answer here:**  We previously saw that $<k> = p(N-1)$. We also know from the lecture that the fraction of nodes in the Giant Component is $S = \\frac{N_G}{N} = 1 - e^{-<k> S}$. Thus $p = - ln(1-\\frac{N_G}{N}) \\frac{N}{(N-1)N_G}$"
   ]
  },
  {
   "cell_type": "code",
   "execution_count": 59,
   "metadata": {
    "id": "s-rhxehnpA2m"
   },
   "outputs": [],
   "source": [
    "Ng = giant_feature.number_of_nodes()\n",
    "p_new = -np.log(1-Ng/n)*(n/(Ng*(n-1)))\n",
    "G_er_new = nx.erdos_renyi_graph(n, p_new)"
   ]
  },
  {
   "cell_type": "markdown",
   "metadata": {
    "id": "FKGFC_gTpA2m"
   },
   "source": [
    "Check the size of the new Erdős–Rényi network and its giant component."
   ]
  },
  {
   "cell_type": "code",
   "execution_count": 60,
   "metadata": {
    "id": "XyTfZXOXpA2m"
   },
   "outputs": [
    {
     "name": "stdout",
     "output_type": "stream",
     "text": [
      "The new Erdos Renyi model has 120 edges.\n",
      "The giant component of the new Erdos-Rényi network has 32 nodes and 31 edges.\n"
     ]
    }
   ],
   "source": [
    "print('The new Erdos Renyi model has {} edges.'.format(G_er_new.size()))\n",
    "giant_er_new = G_er_new.subgraph(max(nx.connected_components(G_er_new), key=len)) # Your code here.\n",
    "print('The giant component of the new Erdos-Rényi network has {} nodes and {} edges.'.format(giant_er_new.number_of_nodes(), giant_er_new.size()))"
   ]
  },
  {
   "cell_type": "markdown",
   "metadata": {
    "id": "7WXWixudpA2m"
   },
   "source": [
    "### Question 7: Degree Distributions"
   ]
  },
  {
   "cell_type": "markdown",
   "metadata": {
    "id": "XEgOCcIIpA2m"
   },
   "source": [
    "Recall the degree distribution of the citation and the feature graph."
   ]
  },
  {
   "cell_type": "code",
   "execution_count": 61,
   "metadata": {
    "id": "kRfZklhepA2n"
   },
   "outputs": [
    {
     "data": {
      "image/png": "[encoded data removed]",
      "text/plain": [
       "<Figure size 1080x432 with 2 Axes>"
      ]
     },
     "metadata": {
      "needs_background": "light"
     },
     "output_type": "display_data"
    }
   ],
   "source": [
    "fig, axes = plt.subplots(1, 2, figsize=(15, 6))\n",
    "axes[0].set_title('Citation graph')\n",
    "citation_degrees = [G_citation.degree(n) for n in G_citation.nodes()]\n",
    "axes[0].hist(citation_degrees, bins=30)\n",
    "axes[1].set_title('Feature graph')\n",
    "feature_degrees = [G_feature.degree(n) for n in G_feature.nodes()]\n",
    "axes[1].hist(feature_degrees, bins=30);"
   ]
  },
  {
   "cell_type": "markdown",
   "metadata": {
    "id": "lpeoy65GpA2n"
   },
   "source": [
    "What does the degree distribution tell us about a network? Can you make a prediction on the network model type of the citation and the feature graph by looking at their degree distributions? "
   ]
  },
  {
   "cell_type": "markdown",
   "metadata": {
    "id": "uaV76WGzpA2n"
   },
   "source": [
    "**Your answe here:** The degree distribution tells us if there are big hubs in the network and what type of network we are dealing with (scale-free, random...). Looking at the distributions, we notice that there are lot of nodes with small degrees (less than 10) while there are a few big hubs with nodes with more than 40 edges. Hence we can say that these 2 networks might be scale free networks."
   ]
  },
  {
   "cell_type": "markdown",
   "metadata": {
    "id": "Y4nMCUM_pA2n"
   },
   "source": [
    "Now, plot the degree distribution historgrams for the simulated networks."
   ]
  },
  {
   "cell_type": "code",
   "execution_count": 62,
   "metadata": {
    "id": "5kyRcEoPpA2n"
   },
   "outputs": [
    {
     "data": {
      "image/png": "[encoded data removed]",
      "text/plain": [
       "<Figure size 1440x432 with 3 Axes>"
      ]
     },
     "metadata": {
      "needs_background": "light"
     },
     "output_type": "display_data"
    }
   ],
   "source": [
    "fig, axes = plt.subplots(1, 3, figsize=(20, 6))\n",
    "axes[0].set_title('Erdos-Rényi network')\n",
    "er_degrees = [G_er.degree(n) for n in G_er.nodes()]\n",
    "axes[0].hist(er_degrees, bins=30);\n",
    "axes[1].set_title('Barabási-Albert network')\n",
    "ba_degrees = [G_ba.degree(n) for n in G_ba.nodes()]\n",
    "axes[1].hist(ba_degrees, bins=30);\n",
    "axes[2].set_title('new Erdos-Rényi network')\n",
    "er_new_degrees = [G_er_new.degree(n) for n in G_er_new.nodes()]\n",
    "axes[2].hist(er_new_degrees, bins=30);"
   ]
  },
  {
   "cell_type": "markdown",
   "metadata": {
    "id": "zZbW6TU2pA2n"
   },
   "source": [
    "In terms of the degree distribution, is there a good match between the citation and feature graphs and the simulated networks?\n",
    "For the citation graph, choose one of the simulated networks above that match its degree distribution best. Indicate your preference below."
   ]
  },
  {
   "cell_type": "markdown",
   "metadata": {
    "id": "jIxYNX4FpA2n"
   },
   "source": [
    "**Your answer here:** Both Erdos-Rényi graphs don't seem to represent correctly the feature and citation graphs. However the Barabasi-Albert graph does seem to properly represent the degree distribution of the 2 original graphs. It is the degree distribution of the Barabási-Albert network that matches best the degree distribution of the citation graph."
   ]
  },
  {
   "cell_type": "markdown",
   "metadata": {
    "id": "jDYpjrhFpA2n"
   },
   "source": [
    "You can also simulate a network using the configuration model to match its degree disctribution exactly. Refer to [Configuration model](https://networkx.github.io/documentation/stable/reference/generated/networkx.generators.degree_seq.configuration_model.html#networkx.generators.degree_seq.configuration_model).\n",
    "\n",
    "Let us create another network to match the degree distribution of the feature graph. "
   ]
  },
  {
   "cell_type": "code",
   "execution_count": 63,
   "metadata": {
    "id": "FS_SUGS_pA2n"
   },
   "outputs": [
    {
     "name": "stdout",
     "output_type": "stream",
     "text": [
      "Configuration model has 217 nodes and 461 edges.\n"
     ]
    }
   ],
   "source": [
    "G_config = nx.configuration_model(feature_degrees) \n",
    "print('Configuration model has {} nodes and {} edges.'.format(G_config.number_of_nodes(), G_config.size()))"
   ]
  },
  {
   "cell_type": "markdown",
   "metadata": {
    "id": "q086WrWlpA2n"
   },
   "source": [
    "Does it mean that we create the same graph with the feature graph by the configuration model? If not, how do you understand that they are not the same?"
   ]
  },
  {
   "cell_type": "markdown",
   "metadata": {
    "id": "TbpsBkzBpA2n"
   },
   "source": [
    "**Your answer here:** The informations in the new graph might not be the same as the feature graph. We might get the same degree distribution as the feature graph with the same number of giant component etc but this does not mean that it is that particular feature that has such a big number of edges. "
   ]
  },
  {
   "cell_type": "code",
   "execution_count": 64,
   "metadata": {
    "id": "mr14REEkpA2n"
   },
   "outputs": [
    {
     "data": {
      "text/plain": [
       "131"
      ]
     },
     "execution_count": 64,
     "metadata": {},
     "output_type": "execute_result"
    }
   ],
   "source": [
    "nx.number_connected_components(G_config)"
   ]
  },
  {
   "cell_type": "markdown",
   "metadata": {
    "id": "xWBVAfiFpA2n"
   },
   "source": [
    "### Question 8: Clustering Coefficient"
   ]
  },
  {
   "cell_type": "markdown",
   "metadata": {
    "id": "zo5Xsa82pA2n"
   },
   "source": [
    "Let us check the average clustering coefficient of the original citation and feature graphs. "
   ]
  },
  {
   "cell_type": "code",
   "execution_count": 65,
   "metadata": {
    "id": "G9fG1MVvpA2o"
   },
   "outputs": [
    {
     "data": {
      "text/plain": [
       "0.2653995547704223"
      ]
     },
     "execution_count": 65,
     "metadata": {},
     "output_type": "execute_result"
    }
   ],
   "source": [
    "nx.average_clustering(G_citation)"
   ]
  },
  {
   "cell_type": "code",
   "execution_count": 66,
   "metadata": {
    "id": "fxFFEUa_pA2o"
   },
   "outputs": [
    {
     "data": {
      "text/plain": [
       "0.24478719794037188"
      ]
     },
     "execution_count": 66,
     "metadata": {},
     "output_type": "execute_result"
    }
   ],
   "source": [
    "nx.average_clustering(G_feature)"
   ]
  },
  {
   "cell_type": "markdown",
   "metadata": {
    "id": "qSbqq7zkpA2o"
   },
   "source": [
    "What does the clustering coefficient tell us about a network? Comment on the values you obtain for the citation and feature graph."
   ]
  },
  {
   "cell_type": "markdown",
   "metadata": {
    "id": "RaaT0m6npA2o"
   },
   "source": [
    "**Your answer here:** The clustering coefficient is an indication about the fraction of the \n",
    "node’s neighbors that are connected (probability that two neighbors of a node, are linked to each other). We get quite similar values for the citation and feature graphs at around $\\frac{1}{4}$. Since the degree distributions of both graph are quite similar, it is logical to have values close to each others."
   ]
  },
  {
   "cell_type": "markdown",
   "metadata": {
    "id": "-kLiLm9kpA2o"
   },
   "source": [
    "Now, let us check the average clustering coefficient for the simulated networks."
   ]
  },
  {
   "cell_type": "code",
   "execution_count": 67,
   "metadata": {
    "id": "a3eyBdOzpA2o"
   },
   "outputs": [
    {
     "data": {
      "text/plain": [
       "0.01375905200789993"
      ]
     },
     "execution_count": 67,
     "metadata": {},
     "output_type": "execute_result"
    }
   ],
   "source": [
    "nx.average_clustering(G_er)"
   ]
  },
  {
   "cell_type": "code",
   "execution_count": 68,
   "metadata": {
    "id": "2D1FwN4tpA2o"
   },
   "outputs": [
    {
     "data": {
      "text/plain": [
       "0.05572120854914457"
      ]
     },
     "execution_count": 68,
     "metadata": {},
     "output_type": "execute_result"
    }
   ],
   "source": [
    "nx.average_clustering(G_ba)"
   ]
  },
  {
   "cell_type": "code",
   "execution_count": 69,
   "metadata": {
    "id": "zwCGf7D4pA2o"
   },
   "outputs": [
    {
     "data": {
      "text/plain": [
       "0.12267146772302726"
      ]
     },
     "execution_count": 69,
     "metadata": {},
     "output_type": "execute_result"
    }
   ],
   "source": [
    "nx.average_clustering(nx.Graph(G_config))"
   ]
  },
  {
   "cell_type": "markdown",
   "metadata": {
    "id": "m3tQ2KllpA2o"
   },
   "source": [
    "Comment on the values you obtain for the simulated networks. Is there any good match to the citation or feature graph in terms of clustering coefficient?"
   ]
  },
  {
   "cell_type": "markdown",
   "metadata": {
    "id": "usIF1fXopA2o"
   },
   "source": [
    "**Your answer here:** The new clustering coefficients are quite off compared to what the real feature and citation graphs have. The values are way smaller (even for the BA graph that had a pretty good representation of the degree distribution of the citation graph). This was expected for the Erdos-Renyi graph as it is a completely random network and has a degree distribution completely different from the feature graph. We notice that there is a small improvement for the new feature graph that follows the feature graph distribution, however its clustering coefficient is still way below the feature graph's."
   ]
  },
  {
   "cell_type": "markdown",
   "metadata": {
    "id": "4ziCDLjopA2o"
   },
   "source": [
    "Check the other [network model generators](https://networkx.github.io/documentation/networkx-1.10/reference/generators.html) provided by NetworkX. Which one do you predict to have a better match to the citation graph or the feature graph in terms of degree distribution and clustering coefficient at the same time? Justify your answer."
   ]
  },
  {
   "cell_type": "markdown",
   "metadata": {
    "id": "gto5Q7MwpA2o"
   },
   "source": [
    "**Your answer here:** The power_cluster_graph seems interesting as we know that the feature and citation graphs follow a powerlaw degree distribution (from the histograms previously plotted) and we can now control the average clustering coefficient in order to have one similar to the ones of the feature and citation graphs (around 0.25)."
   ]
  },
  {
   "cell_type": "markdown",
   "metadata": {
    "id": "eda4WbtJpA2o"
   },
   "source": [
    "If you find a better fit, create a graph object below for that network model. Print the number of edges and the average clustering coefficient. Plot the histogram of the degree distribution."
   ]
  },
  {
   "cell_type": "code",
   "execution_count": 70,
   "metadata": {
    "id": "ygkpPmKhpA2o"
   },
   "outputs": [
    {
     "name": "stdout",
     "output_type": "stream",
     "text": [
      "There are 430 edges in this new powerlaw graph\n",
      "The average clustering coefficient is 0.24756826728852677\n"
     ]
    },
    {
     "data": {
      "image/png": "[encoded data removed]",
      "text/plain": [
       "<Figure size 432x288 with 1 Axes>"
      ]
     },
     "metadata": {
      "needs_background": "light"
     },
     "output_type": "display_data"
    }
   ],
   "source": [
    "# Your code here.\n",
    "\n",
    "q = 2\n",
    "p = 0.25  # Probability of adding a triangle after adding a random edge : value chosen experimentally\n",
    "G_powerlaw = nx.powerlaw_cluster_graph(n, q, p)\n",
    "\n",
    "print(f\"There are {G_powerlaw.size()} edges in this new powerlaw graph\")\n",
    "print(f\"The average clustering coefficient is {nx.average_clustering(G_powerlaw)}\")\n",
    "\n",
    "plt.figure()\n",
    "plt.title(\"Powerlaw graph\")\n",
    "plt.hist([degree for node, degree in G_powerlaw.degree()], bins=30);\n"
   ]
  },
  {
   "cell_type": "markdown",
   "metadata": {
    "id": "3e8HvYHopA2p"
   },
   "source": [
    "Comment on the similarities of your match."
   ]
  },
  {
   "cell_type": "markdown",
   "metadata": {
    "id": "Vb2qalrApA2p"
   },
   "source": [
    "**Your answer here:** We previously saw that the average number of edges between the feature and citation graphs is 435 edges. We now have a quite similar number : 430. For the clustering coefficient, we now have a much better value as we are in a range between 0.2 and 0.3 and we originally wanted 0.25. Finally the degree distribution matches the ones of the feature and citation graphs. To conclude, we can say that this new model is an extension to the Barabasi Albert graph as the degree distribution follows a power law, it has a good number of edges and on top of that we obtain a correct average clustering coefficient."
   ]
  },
  {
   "cell_type": "code",
   "execution_count": null,
   "metadata": {},
   "outputs": [],
   "source": []
  }
 ],
 "metadata": {
  "colab": {
   "collapsed_sections": [],
   "name": "1_graph_theory_basics.ipynb",
   "provenance": [],
   "toc_visible": true
  },
  "kernelspec": {
   "display_name": "Python 3 (ipykernel)",
   "language": "python",
   "name": "python3"
  },
  "language_info": {
   "codemirror_mode": {
    "name": "ipython",
    "version": 3
   },
   "file_extension": ".py",
   "mimetype": "text/x-python",
   "name": "python",
   "nbconvert_exporter": "python",
   "pygments_lexer": "ipython3",
   "version": "3.8.8"
  }
 },
 "nbformat": 4,
 "nbformat_minor": 4
}
