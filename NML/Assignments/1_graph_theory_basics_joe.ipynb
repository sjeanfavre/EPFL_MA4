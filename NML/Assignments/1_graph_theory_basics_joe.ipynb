{
 "cells": [
  {
   "cell_type": "markdown",
   "metadata": {
    "id": "8S5mo9I3pA2Q"
   },
   "source": [
    "# [NML'22] assignment 1: Graph theory basics\n",
    "\n",
    "[Ping Hu, EPFL, ASL](https://people.epfl.ch/ping.hu?lang=en) and [Arun Venkitaraman, EPFL, LTS4.](https://people.epfl.ch/arun.venkitaraman/)"
   ]
  },
  {
   "cell_type": "markdown",
   "metadata": {
    "id": "5fKV_i9ZpA2U"
   },
   "source": [
    "## Students\n",
    "\n",
    "* Team: `3`\n",
    "* Students: `Joe Najm, Sébastien Jeanfavre`"
   ]
  },
  {
   "cell_type": "markdown",
   "metadata": {
    "id": "FR-x5fizpA2U"
   },
   "source": [
    "## Rules\n",
    "\n",
    "Grading:\n",
    "* All team members will receive the same grade based on the team solution.\n",
    "* Collaboration between team members is encouraged. No collaboration between teams is allowed.\n",
    "\n",
    "Submission:\n",
    "* Textual answers shall be short. Typically one to two sentences.\n",
    "* Code has to be clean.\n",
    "* You cannot import any other library than we imported.\n",
    "  Note that Networkx is imported in the second section and cannot be used in the first except for the Question 4 of Section 1 (at the indicated portion only).\n",
    "* When submitting, the notebook is executed and the results are stored. I.e., if you open the notebook again it should show numerical results and plots. We won't be able to execute your notebooks.\n",
    "* The notebook is re-executed from a blank state before submission. That is to be sure it is reproducible. You can click \"Kernel\" then \"Restart Kernel and Run All Cells\" in Jupyter."
   ]
  },
  {
   "cell_type": "markdown",
   "metadata": {
    "id": "cmp4-YzspA2V"
   },
   "source": [
    "## Objective\n",
    "\n",
    "The purpose of this assignment is to explore a given dataset, represent it by network by constructing different graphs. In the first section, you will analyze the network properties. In the second section, you will explore various network models and find out the network model fitting the ones you construct from the dataset."
   ]
  },
  {
   "cell_type": "markdown",
   "metadata": {
    "id": "6UrAgd4QpA2W"
   },
   "source": [
    "## Cora Dataset\n",
    "\n",
    "The [Cora dataset](https://linqs.soe.ucsc.edu/node/236) consists of scientific publications classified into one of seven research fields. \n",
    "\n",
    "* **Citation graph:** the citation network can be constructed from the connections given in the `cora.cites` file.\n",
    "* **Feature graph:** each publication in the dataset is described by a 0/1-valued word vector indicating the absence/presence of the corresponding word from the dictionary and its research field, given in the `cora.content` file. The dictionary consists of 1433 unique words. A feature graph can be constructed using the Euclidean distance between the feature vector of the publications.\n",
    "\n",
    "The [`README`](data/cora/README) provides details about the content of [`cora.cites`](data/cora/cora.cites) and [`cora.content`](data/cora/cora.content).\n",
    "\n",
    "Let us first download the cora dataset:"
   ]
  },
  {
   "cell_type": "code",
   "execution_count": 1,
   "metadata": {
    "id": "cve__kFpKJPB"
   },
   "outputs": [
    {
     "name": "stderr",
     "output_type": "stream",
     "text": [
      "x cora/\n",
      "x cora/README\n",
      "x cora/cora.cites\n",
      "x cora/cora.content\n"
     ]
    }
   ],
   "source": [
    "#!wget https://linqs-data.soe.ucsc.edu/public/lbc/cora.tgz\n",
    "!tar -xvf cora.tgz"
   ]
  },
  {
   "cell_type": "markdown",
   "metadata": {
    "id": "p-klVToLpA2W"
   },
   "source": [
    "## Section 1: Network Properties"
   ]
  },
  {
   "cell_type": "code",
   "execution_count": 2,
   "metadata": {
    "id": "D36pWRXdpA2X"
   },
   "outputs": [],
   "source": [
    "import numpy as np\n",
    "import pandas as pd\n",
    "from matplotlib import pyplot as plt\n",
    "\n",
    "%matplotlib inline"
   ]
  },
  {
   "cell_type": "markdown",
   "metadata": {
    "id": "Bi0LL266pA2Y"
   },
   "source": [
    "### Question 1: Construct a Citation Graph and a Feature Graph"
   ]
  },
  {
   "cell_type": "markdown",
   "metadata": {
    "id": "8b60gJqCpA2Z"
   },
   "source": [
    "Read the `cora.content` file into a Pandas DataFrame by setting a header for the column names. Check the `README` file."
   ]
  },
  {
   "cell_type": "markdown",
   "metadata": {
    "id": "o2H8uoc6pA2a"
   },
   "source": [
    "Print out the number of papers contained in each of the reasearch fields.\n",
    "\n",
    "**Hint:** You can use the `value_counts()` function."
   ]
  },
  {
   "cell_type": "code",
   "execution_count": 20,
   "metadata": {
    "id": "iKhgUHzqpA2a",
    "tags": []
   },
   "outputs": [
    {
     "data": {
      "text/html": [
       "<div>\n",
       "<style scoped>\n",
       "    .dataframe tbody tr th:only-of-type {\n",
       "        vertical-align: middle;\n",
       "    }\n",
       "\n",
       "    .dataframe tbody tr th {\n",
       "        vertical-align: top;\n",
       "    }\n",
       "\n",
       "    .dataframe thead th {\n",
       "        text-align: right;\n",
       "    }\n",
       "</style>\n",
       "<table border=\"1\" class=\"dataframe\">\n",
       "  <thead>\n",
       "    <tr style=\"text-align: right;\">\n",
       "      <th></th>\n",
       "      <th>1</th>\n",
       "      <th>2</th>\n",
       "      <th>3</th>\n",
       "      <th>4</th>\n",
       "      <th>5</th>\n",
       "      <th>6</th>\n",
       "      <th>7</th>\n",
       "      <th>8</th>\n",
       "      <th>9</th>\n",
       "      <th>10</th>\n",
       "      <th>...</th>\n",
       "      <th>1425</th>\n",
       "      <th>1426</th>\n",
       "      <th>1427</th>\n",
       "      <th>1428</th>\n",
       "      <th>1429</th>\n",
       "      <th>1430</th>\n",
       "      <th>1431</th>\n",
       "      <th>1432</th>\n",
       "      <th>1433</th>\n",
       "      <th>label</th>\n",
       "    </tr>\n",
       "    <tr>\n",
       "      <th>0</th>\n",
       "      <th></th>\n",
       "      <th></th>\n",
       "      <th></th>\n",
       "      <th></th>\n",
       "      <th></th>\n",
       "      <th></th>\n",
       "      <th></th>\n",
       "      <th></th>\n",
       "      <th></th>\n",
       "      <th></th>\n",
       "      <th></th>\n",
       "      <th></th>\n",
       "      <th></th>\n",
       "      <th></th>\n",
       "      <th></th>\n",
       "      <th></th>\n",
       "      <th></th>\n",
       "      <th></th>\n",
       "      <th></th>\n",
       "      <th></th>\n",
       "      <th></th>\n",
       "    </tr>\n",
       "  </thead>\n",
       "  <tbody>\n",
       "    <tr>\n",
       "      <th>31336</th>\n",
       "      <td>0</td>\n",
       "      <td>0</td>\n",
       "      <td>0</td>\n",
       "      <td>0</td>\n",
       "      <td>0</td>\n",
       "      <td>0</td>\n",
       "      <td>0</td>\n",
       "      <td>0</td>\n",
       "      <td>0</td>\n",
       "      <td>0</td>\n",
       "      <td>...</td>\n",
       "      <td>0</td>\n",
       "      <td>0</td>\n",
       "      <td>1</td>\n",
       "      <td>0</td>\n",
       "      <td>0</td>\n",
       "      <td>0</td>\n",
       "      <td>0</td>\n",
       "      <td>0</td>\n",
       "      <td>0</td>\n",
       "      <td>Neural_Networks</td>\n",
       "    </tr>\n",
       "    <tr>\n",
       "      <th>1061127</th>\n",
       "      <td>0</td>\n",
       "      <td>0</td>\n",
       "      <td>0</td>\n",
       "      <td>0</td>\n",
       "      <td>0</td>\n",
       "      <td>0</td>\n",
       "      <td>0</td>\n",
       "      <td>0</td>\n",
       "      <td>0</td>\n",
       "      <td>0</td>\n",
       "      <td>...</td>\n",
       "      <td>0</td>\n",
       "      <td>1</td>\n",
       "      <td>0</td>\n",
       "      <td>0</td>\n",
       "      <td>0</td>\n",
       "      <td>0</td>\n",
       "      <td>0</td>\n",
       "      <td>0</td>\n",
       "      <td>0</td>\n",
       "      <td>Rule_Learning</td>\n",
       "    </tr>\n",
       "    <tr>\n",
       "      <th>1106406</th>\n",
       "      <td>0</td>\n",
       "      <td>0</td>\n",
       "      <td>0</td>\n",
       "      <td>0</td>\n",
       "      <td>0</td>\n",
       "      <td>0</td>\n",
       "      <td>0</td>\n",
       "      <td>0</td>\n",
       "      <td>0</td>\n",
       "      <td>0</td>\n",
       "      <td>...</td>\n",
       "      <td>0</td>\n",
       "      <td>0</td>\n",
       "      <td>0</td>\n",
       "      <td>0</td>\n",
       "      <td>0</td>\n",
       "      <td>0</td>\n",
       "      <td>0</td>\n",
       "      <td>0</td>\n",
       "      <td>0</td>\n",
       "      <td>Reinforcement_Learning</td>\n",
       "    </tr>\n",
       "    <tr>\n",
       "      <th>13195</th>\n",
       "      <td>0</td>\n",
       "      <td>0</td>\n",
       "      <td>0</td>\n",
       "      <td>0</td>\n",
       "      <td>0</td>\n",
       "      <td>0</td>\n",
       "      <td>0</td>\n",
       "      <td>0</td>\n",
       "      <td>0</td>\n",
       "      <td>0</td>\n",
       "      <td>...</td>\n",
       "      <td>0</td>\n",
       "      <td>0</td>\n",
       "      <td>0</td>\n",
       "      <td>0</td>\n",
       "      <td>0</td>\n",
       "      <td>0</td>\n",
       "      <td>0</td>\n",
       "      <td>0</td>\n",
       "      <td>0</td>\n",
       "      <td>Reinforcement_Learning</td>\n",
       "    </tr>\n",
       "    <tr>\n",
       "      <th>37879</th>\n",
       "      <td>0</td>\n",
       "      <td>0</td>\n",
       "      <td>0</td>\n",
       "      <td>0</td>\n",
       "      <td>0</td>\n",
       "      <td>0</td>\n",
       "      <td>0</td>\n",
       "      <td>0</td>\n",
       "      <td>0</td>\n",
       "      <td>0</td>\n",
       "      <td>...</td>\n",
       "      <td>0</td>\n",
       "      <td>0</td>\n",
       "      <td>0</td>\n",
       "      <td>0</td>\n",
       "      <td>0</td>\n",
       "      <td>0</td>\n",
       "      <td>0</td>\n",
       "      <td>0</td>\n",
       "      <td>0</td>\n",
       "      <td>Probabilistic_Methods</td>\n",
       "    </tr>\n",
       "  </tbody>\n",
       "</table>\n",
       "<p>5 rows × 1434 columns</p>\n",
       "</div>"
      ],
      "text/plain": [
       "         1  2  3  4  5  6  7  8  9  10  ...  1425  1426  1427  1428  1429  \\\n",
       "0                                       ...                                 \n",
       "31336    0  0  0  0  0  0  0  0  0   0  ...     0     0     1     0     0   \n",
       "1061127  0  0  0  0  0  0  0  0  0   0  ...     0     1     0     0     0   \n",
       "1106406  0  0  0  0  0  0  0  0  0   0  ...     0     0     0     0     0   \n",
       "13195    0  0  0  0  0  0  0  0  0   0  ...     0     0     0     0     0   \n",
       "37879    0  0  0  0  0  0  0  0  0   0  ...     0     0     0     0     0   \n",
       "\n",
       "         1430  1431  1432  1433                   label  \n",
       "0                                                        \n",
       "31336       0     0     0     0         Neural_Networks  \n",
       "1061127     0     0     0     0           Rule_Learning  \n",
       "1106406     0     0     0     0  Reinforcement_Learning  \n",
       "13195       0     0     0     0  Reinforcement_Learning  \n",
       "37879       0     0     0     0   Probabilistic_Methods  \n",
       "\n",
       "[5 rows x 1434 columns]"
      ]
     },
     "execution_count": 20,
     "metadata": {},
     "output_type": "execute_result"
    }
   ],
   "source": [
    "df = pd.read_csv('./cora/cora.content', sep='\\t', header=None, index_col=0)\n",
    "df = df.rename(columns={1434: 'label'})\n",
    "df.head()"
   ]
  },
  {
   "cell_type": "code",
   "execution_count": 4,
   "metadata": {},
   "outputs": [
    {
     "data": {
      "text/plain": [
       "Neural_Networks           818\n",
       "Probabilistic_Methods     426\n",
       "Genetic_Algorithms        418\n",
       "Theory                    351\n",
       "Case_Based                298\n",
       "Reinforcement_Learning    217\n",
       "Rule_Learning             180\n",
       "Name: label, dtype: int64"
      ]
     },
     "execution_count": 4,
     "metadata": {},
     "output_type": "execute_result"
    }
   ],
   "source": [
    "df.loc[:,'label'].value_counts()"
   ]
  },
  {
   "cell_type": "markdown",
   "metadata": {
    "id": "ccwo_y06pA2b"
   },
   "source": [
    "Select all papers from a field of your choice and store their feature vectors into a NumPy array.\n",
    "Check its shape."
   ]
  },
  {
   "cell_type": "code",
   "execution_count": 5,
   "metadata": {
    "id": "mVz-uLHBpA2b"
   },
   "outputs": [
    {
     "data": {
      "text/plain": [
       "(217, 1433)"
      ]
     },
     "execution_count": 5,
     "metadata": {},
     "output_type": "execute_result"
    }
   ],
   "source": [
    "my_field = 'Reinforcement_Learning'\n",
    "features = df[df['label']==my_field].drop(columns='label').to_numpy()\n",
    "features.shape"
   ]
  },
  {
   "cell_type": "markdown",
   "metadata": {
    "id": "vbl8pl59pA2b"
   },
   "source": [
    "Let $D$ be the Euclidean distance matrix whose $(i,j)$ entry corresponds to the Euclidean distance between feature vectors $i$ and $j$.\n",
    "Using the feature vectors of the papers from the field which you have selected, construct $D$ as a Numpy array. (Needs to modify!!!)"
   ]
  },
  {
   "cell_type": "code",
   "execution_count": 6,
   "metadata": {
    "id": "kOCfPA5fpA2c"
   },
   "outputs": [
    {
     "data": {
      "text/plain": [
       "(217, 217)"
      ]
     },
     "execution_count": 6,
     "metadata": {},
     "output_type": "execute_result"
    }
   ],
   "source": [
    "distance = np.zeros((features.shape[0],features.shape[0]))\n",
    "\n",
    "for i in range(features.shape[0]):\n",
    "    for j in range(features.shape[0]):\n",
    "        distance[i,j] = np.linalg.norm(features[i,:] - features[j,:])\n",
    "\n",
    "distance.shape"
   ]
  },
  {
   "cell_type": "markdown",
   "metadata": {
    "id": "pnXOCKyfpA2c"
   },
   "source": [
    "Check the mean pairwise distance $\\mathbb{E}[D]$."
   ]
  },
  {
   "cell_type": "code",
   "execution_count": 7,
   "metadata": {
    "id": "tOT3aX0apA2c"
   },
   "outputs": [
    {
     "data": {
      "text/plain": [
       "5.781074820974051"
      ]
     },
     "execution_count": 7,
     "metadata": {},
     "output_type": "execute_result"
    }
   ],
   "source": [
    "mean_distance = distance.mean()\n",
    "mean_distance"
   ]
  },
  {
   "cell_type": "markdown",
   "metadata": {
    "id": "j64EM0FPpA2c"
   },
   "source": [
    "Plot an histogram of the euclidean distances."
   ]
  },
  {
   "cell_type": "code",
   "execution_count": 8,
   "metadata": {
    "id": "smoYOJdlpA2c"
   },
   "outputs": [
    {
     "data": {
      "image/png": "[encoded data removed]",
      "text/plain": [
       "<Figure size 576x288 with 1 Axes>"
      ]
     },
     "metadata": {
      "needs_background": "light"
     },
     "output_type": "display_data"
    }
   ],
   "source": [
    "plt.figure(1, figsize=(8, 4))\n",
    "plt.title(\"Histogram of Euclidean distances between papers\")\n",
    "plt.hist(distance.flatten());"
   ]
  },
  {
   "cell_type": "markdown",
   "metadata": {
    "id": "CSJ72nWYpA2d"
   },
   "source": [
    "Now create an adjacency matrix for the papers by thresholding the Euclidean distance matrix.\n",
    "The resulting (unweighted) adjacency matrix should have entries\n",
    "$$ A_{ij} = \\begin{cases} 1, \\; \\text{if} \\; d(i,j)< \\mathbb{E}[D], \\; i \\neq j, \\\\ 0, \\; \\text{otherwise.} \\end{cases} $$\n",
    "\n",
    "First, let us choose the mean distance as the threshold.\n",
    "\n",
    "Remember that we are going to use adjacency without self-loops"
   ]
  },
  {
   "cell_type": "code",
   "execution_count": 9,
   "metadata": {
    "id": "d35fo9IlpA2d"
   },
   "outputs": [],
   "source": [
    "threshold = mean_distance\n",
    "A_feature = distance.copy()\n",
    "A_feature[distance>=threshold] = 0\n",
    "A_feature[distance<threshold] = 1\n",
    "A_feature -= np.eye(A_feature.shape[0])"
   ]
  },
  {
   "cell_type": "code",
   "execution_count": 10,
   "metadata": {},
   "outputs": [
    {
     "data": {
      "text/plain": [
       "array([[0., 0., 1., ..., 0., 0., 1.],\n",
       "       [0., 0., 1., ..., 0., 0., 1.],\n",
       "       [1., 1., 0., ..., 1., 1., 1.],\n",
       "       ...,\n",
       "       [0., 0., 1., ..., 0., 0., 1.],\n",
       "       [0., 0., 1., ..., 0., 0., 1.],\n",
       "       [1., 1., 1., ..., 1., 1., 0.]])"
      ]
     },
     "execution_count": 10,
     "metadata": {},
     "output_type": "execute_result"
    }
   ],
   "source": [
    "A_feature"
   ]
  },
  {
   "cell_type": "markdown",
   "metadata": {
    "id": "MteCG9NOpA2d"
   },
   "source": [
    "Now read the `cora.cites` file and construct the citation graph by converting the given citation connections into an adjacency matrix."
   ]
  },
  {
   "cell_type": "code",
   "execution_count": 13,
   "metadata": {
    "id": "QAGhbQtEpA2d"
   },
   "outputs": [
    {
     "name": "stdout",
     "output_type": "stream",
     "text": [
      "       cited   citing\n",
      "0         35     1033\n",
      "1         35   103482\n",
      "2         35   103515\n",
      "3         35  1050679\n",
      "4         35  1103960\n",
      "...      ...      ...\n",
      "5424  853116    19621\n",
      "5425  853116   853155\n",
      "5426  853118  1140289\n",
      "5427  853155   853118\n",
      "5428  954315  1155073\n",
      "\n",
      "[5429 rows x 2 columns]\n"
     ]
    }
   ],
   "source": [
    "cora_cites = np.genfromtxt('cora/cora.cites', delimiter='\\t').astype(int)\n",
    "# get graph edges and flatten them for processing\n",
    "\n",
    "cites = pd.DataFrame(cora_cites).astype(int)\n",
    "cites.columns = ['cited', 'citing']\n",
    "\n",
    "print(cites)"
   ]
  },
  {
   "cell_type": "code",
   "execution_count": 50,
   "metadata": {},
   "outputs": [
    {
     "data": {
      "text/plain": [
       "(2708, 2708)"
      ]
     },
     "execution_count": 50,
     "metadata": {},
     "output_type": "execute_result"
    }
   ],
   "source": [
    "nb_papers = df.shape[0]\n",
    "\n",
    "adj = pd.DataFrame(np.zeros((nb_papers,nb_papers))).astype(int)\n",
    "adj.index = df.index\n",
    "adj.columns = df.index\n",
    "\n",
    "for i in range(cora_cites.shape[0]):\n",
    "    adj.loc[cora_cites[i,1], cora_cites[i,0]] = 1\n",
    "\n",
    "# adj is the adjacency matrix. Citing paper on rows and cited papers on columns\n",
    "adj.shape"
   ]
  },
  {
   "cell_type": "code",
   "execution_count": 51,
   "metadata": {},
   "outputs": [
    {
     "data": {
      "text/plain": [
       "(2708, 2708)"
      ]
     },
     "execution_count": 51,
     "metadata": {},
     "output_type": "execute_result"
    }
   ],
   "source": [
    "# caution, we will first use the directed citation graph\n",
    "A_citation = adj.to_numpy()\n",
    "A_citation.shape"
   ]
  },
  {
   "cell_type": "markdown",
   "metadata": {
    "id": "Kf0vts9ZpA2e"
   },
   "source": [
    "Get the adjacency matrix of the citation graph for the field that you chose.\n",
    "You have to appropriately reduce the adjacency matrix of the citation graph."
   ]
  },
  {
   "cell_type": "code",
   "execution_count": 52,
   "metadata": {},
   "outputs": [],
   "source": [
    "adj_RL = adj.loc[adj.index.isin(df[df['label']==my_field].index)]\n",
    "adj_RL = adj_RL[df[df['label']==my_field].index]\n",
    "adj_RL = adj_RL.sort_index(0).sort_index(1)"
   ]
  },
  {
   "cell_type": "code",
   "execution_count": 37,
   "metadata": {},
   "outputs": [],
   "source": [
    "# #remove columns of not cited papers\n",
    "# adj_RL = adj_RL.loc[:, (adj_RL != 0).any(0)]\n",
    "# #remove columns of who don't cite\n",
    "# adj_RL = adj_RL.loc[(adj_RL != 0).any(1), :]"
   ]
  },
  {
   "cell_type": "markdown",
   "metadata": {
    "id": "cbx0kjhNpA2e"
   },
   "source": [
    "Is the citation graph directed or undirected? In other words, is your adjacency matrix is symmetric or asymmetric? "
   ]
  },
  {
   "cell_type": "code",
   "execution_count": 53,
   "metadata": {
    "id": "6aYGkLzFpA2e"
   },
   "outputs": [
    {
     "data": {
      "text/plain": [
       "(217, 217)"
      ]
     },
     "execution_count": 53,
     "metadata": {},
     "output_type": "execute_result"
    }
   ],
   "source": [
    "adj_RL.shape  #LA MATRICE DOIT ETRE CARREE"
   ]
  },
  {
   "cell_type": "code",
   "execution_count": 54,
   "metadata": {},
   "outputs": [],
   "source": [
    "adj_RL_np = adj_RL.to_numpy()"
   ]
  },
  {
   "cell_type": "code",
   "execution_count": 59,
   "metadata": {},
   "outputs": [
    {
     "name": "stdout",
     "output_type": "stream",
     "text": [
      "(217, 217)\n"
     ]
    }
   ],
   "source": [
    "print(adj_RL_np.shape)"
   ]
  },
  {
   "cell_type": "markdown",
   "metadata": {},
   "source": [
    "After removing all zero columns and rows, the adjacency matrix turns out to be non-square. Therefore, it is directed since the adjacency matrix is not symmetric."
   ]
  },
  {
   "cell_type": "markdown",
   "metadata": {
    "id": "OOw4gmxLpA2e"
   },
   "source": [
    "### Question 2: Degree Distribution and Moments"
   ]
  },
  {
   "cell_type": "markdown",
   "metadata": {
    "id": "SZ2b-5LupA2e"
   },
   "source": [
    "What is the total number of edges in each graph?"
   ]
  },
  {
   "cell_type": "code",
   "execution_count": 56,
   "metadata": {
    "id": "IbrqF06lpA2e"
   },
   "outputs": [
    {
     "name": "stdout",
     "output_type": "stream",
     "text": [
      "Number of edges in the feature graph: 8945.0\n",
      "Number of edges in the citation graph: 414\n"
     ]
    }
   ],
   "source": [
    "num_edges_feature = np.sum(A_feature)/2\n",
    "num_edges_citation = np.sum(adj_RL_np)\n",
    "print(f\"Number of edges in the feature graph: {num_edges_feature}\")\n",
    "print(f\"Number of edges in the citation graph: {num_edges_citation}\")"
   ]
  },
  {
   "cell_type": "markdown",
   "metadata": {
    "id": "nhWDPS0fpA2f"
   },
   "source": [
    "Plot the degree distribution histogram for each of the graphs.\n",
    "If your graph is undirected, plot both in-degree and out-degree distributions."
   ]
  },
  {
   "cell_type": "code",
   "execution_count": 57,
   "metadata": {
    "id": "VW9NV8D3pA2f"
   },
   "outputs": [
    {
     "data": {
      "image/png": "[encoded data removed]",
      "text/plain": [
       "<Figure size 1152x288 with 3 Axes>"
      ]
     },
     "metadata": {
      "needs_background": "light"
     },
     "output_type": "display_data"
    }
   ],
   "source": [
    "degrees_feature = np.sum(A_feature, axis=1)\n",
    "degrees_citation_in = np.sum(adj_RL_np.T, axis=1)\n",
    "degrees_citation_out = np.sum(adj_RL_np, axis=1)\n",
    "\n",
    "deg_hist_normalization = np.ones(degrees_citation_in.shape[0]) / degrees_citation_in.shape[0]\n",
    "fig, axes = plt.subplots(1, 3, figsize=(16, 4))\n",
    "axes[0].set_title('Citation graph in-degree distribution')\n",
    "axes[0].hist(degrees_citation_in, weights=deg_hist_normalization);\n",
    "axes[1].set_title('Citation graph out-degree distribution')\n",
    "axes[1].hist(degrees_citation_out, weights=deg_hist_normalization);\n",
    "axes[2].set_title('Feature graph degree distribution')\n",
    "axes[2].hist(degrees_feature, weights=deg_hist_normalization);"
   ]
  },
  {
   "cell_type": "markdown",
   "metadata": {
    "id": "tg7ttVP8M6x7"
   },
   "source": [
    "From here onwards, we will conisider only undirected graphs.\n",
    "Make the adjacency matrix symmetric for the citation graph and compute the degree distribution of the undirected citation graph."
   ]
  },
  {
   "cell_type": "code",
   "execution_count": 63,
   "metadata": {
    "id": "oLiSTB6jM5tD"
   },
   "outputs": [
    {
     "data": {
      "image/png": "[encoded data removed]",
      "text/plain": [
       "<Figure size 432x288 with 1 Axes>"
      ]
     },
     "metadata": {
      "needs_background": "light"
     },
     "output_type": "display_data"
    }
   ],
   "source": [
    "A_citation = np.maximum(adj_RL_np, adj_RL_np.transpose())\n",
    "degrees_citation = np.sum(A_citation, axis=1)\n",
    "plt.hist(degrees_citation, weights=deg_hist_normalization);\n"
   ]
  },
  {
   "cell_type": "markdown",
   "metadata": {
    "id": "frDhu4aQpA2f"
   },
   "source": [
    " Calculate the first and second moments of the degree distribution of each graph."
   ]
  },
  {
   "cell_type": "code",
   "execution_count": 66,
   "metadata": {
    "id": "6XT2TaV5pA2f"
   },
   "outputs": [
    {
     "name": "stdout",
     "output_type": "stream",
     "text": [
      "1st moment of citation graph: 1.8847926267281105\n",
      "2nd moment of citation graph: 1.8847926267281105\n",
      "1st moment of feature graph: 41.22119815668203\n",
      "2nd moment of feature graph: 41.22119815668203\n"
     ]
    }
   ],
   "source": [
    "cit_moment_1 = 1/A_citation.shape[0] * np.sum(A_citation)/2\n",
    "cit_moment_2 = 1/A_citation.shape[0] * np.sum(A_citation*A_citation)/2\n",
    "\n",
    "feat_moment_1 = 1/A_feature.shape[0] * np.sum(A_feature)/2\n",
    "feat_moment_2 = 1/A_feature.shape[0] * np.sum(A_feature*A_feature)/2\n",
    "\n",
    "print(f\"1st moment of citation graph: {cit_moment_1}\")\n",
    "print(f\"2nd moment of citation graph: {cit_moment_2}\")\n",
    "print(f\"1st moment of feature graph: {feat_moment_1}\")\n",
    "print(f\"2nd moment of feature graph: {feat_moment_2}\")"
   ]
  },
  {
   "cell_type": "markdown",
   "metadata": {
    "id": "F4DneNxEpA2f"
   },
   "source": [
    "What information do the moments provide you about the graphs?\n",
    "Explain the differences in moments between graphs by comparing their degree distributions."
   ]
  },
  {
   "cell_type": "markdown",
   "metadata": {
    "id": "UvR1k4Y0pA2f"
   },
   "source": [
    "**Your answer here:** \n"
   ]
  },
  {
   "cell_type": "markdown",
   "metadata": {
    "id": "YZMRp0DLpA2g"
   },
   "source": [
    "Select the 20 largest hubs for each of the graphs and remove them. Observe the sparsity pattern of the adjacency matrices of the citation and feature graphs before and after such a reduction."
   ]
  },
  {
   "cell_type": "code",
   "execution_count": 82,
   "metadata": {
    "id": "mzggzZ79pA2g"
   },
   "outputs": [
    {
     "data": {
      "image/png": "[encoded data removed]",
      "text/plain": [
       "<Figure size 1152x1152 with 4 Axes>"
      ]
     },
     "metadata": {
      "needs_background": "light"
     },
     "output_type": "display_data"
    }
   ],
   "source": [
    "# get degrees of the new unordered one\n",
    "\n",
    "sorted_deg_feature = (-degrees_feature).argsort()[:20]\n",
    "del_feature = np.delete(A_feature,sorted_deg_feature,0)\n",
    "reduced_A_feature = np.delete(del_feature,sorted_deg_feature,1)\n",
    "\n",
    "sorted_deg_citation = (-degrees_citation).argsort()[:20]\n",
    "del_citation = np.delete(A_citation,sorted_deg_citation,0)\n",
    "reduced_A_citation = np.delete(del_citation,sorted_deg_citation,1)\n",
    "\n",
    "fig, axes = plt.subplots(2, 2, figsize=(16, 16))\n",
    "axes[0, 0].set_title('Feature graph: adjacency matrix sparsity pattern')\n",
    "axes[0, 0].spy(A_feature);\n",
    "axes[0, 1].set_title('Feature graph without top 20 hubs: adjacency matrix sparsity pattern')\n",
    "axes[0, 1].spy(reduced_A_feature);\n",
    "axes[1, 0].set_title('Citation graph: adjacency matrix sparsity pattern')\n",
    "axes[1, 0].spy(A_citation);\n",
    "axes[1, 1].set_title('Citation graph without top 20 hubs: adjacency matrix sparsity pattern')\n",
    "axes[1, 1].spy(reduced_A_citation);\n"
   ]
  },
  {
   "cell_type": "markdown",
   "metadata": {
    "id": "71DYW-kjpA2g"
   },
   "source": [
    "Plot the new degree distribution histograms."
   ]
  },
  {
   "cell_type": "code",
   "execution_count": 83,
   "metadata": {
    "id": "-Jg7fH-RpA2g"
   },
   "outputs": [
    {
     "data": {
      "image/png": "[encoded data removed]",
      "text/plain": [
       "<Figure size 1152x288 with 2 Axes>"
      ]
     },
     "metadata": {
      "needs_background": "light"
     },
     "output_type": "display_data"
    }
   ],
   "source": [
    "reduced_degrees_feat = np.sum(reduced_A_feature, axis=1)\n",
    "reduced_degrees_cit = np.sum(reduced_A_citation, axis=1)\n",
    "\n",
    "deg_hist_normalization = np.ones(reduced_degrees_feat.shape[0]) / reduced_degrees_feat.shape[0]\n",
    "\n",
    "fig, axes = plt.subplots(1, 2, figsize=(16, 4))\n",
    "axes[0].set_title('Citation graph degree distribution')\n",
    "axes[0].hist(reduced_degrees_cit, weights=deg_hist_normalization);\n",
    "axes[1].set_title('Feature graph degree distribution')\n",
    "axes[1].hist(reduced_degrees_feat, weights=deg_hist_normalization);"
   ]
  },
  {
   "cell_type": "markdown",
   "metadata": {
    "id": "chqcaWv6pA2g"
   },
   "source": [
    "Compute the first and second moments for the new graphs."
   ]
  },
  {
   "cell_type": "code",
   "execution_count": 84,
   "metadata": {
    "id": "pYFLFVcepA2g"
   },
   "outputs": [
    {
     "name": "stdout",
     "output_type": "stream",
     "text": [
      "Citation graph first moment: 0.766497461928934\n",
      "Citation graph second moment: 0.766497461928934\n",
      "Feature graph first moment:  24.578680203045682\n",
      "Feature graph second moment:  24.578680203045682\n"
     ]
    }
   ],
   "source": [
    "\n",
    "reduced_cit_moment_1 = 1/reduced_A_citation.shape[0] * np.sum(reduced_A_citation)/2\n",
    "reduced_cit_moment_2 = 1/reduced_A_citation.shape[0] * np.sum(reduced_A_citation*reduced_A_citation)/2\n",
    "\n",
    "reduced_feat_moment_1 = 1/reduced_A_feature.shape[0] * np.sum(reduced_A_feature)/2\n",
    "reduced_feat_moment_2 = 1/reduced_A_feature.shape[0] * np.sum(reduced_A_feature*reduced_A_feature)/2\n",
    "\n",
    "print(\"Citation graph first moment:\", reduced_cit_moment_1)\n",
    "print(\"Citation graph second moment:\", reduced_cit_moment_2)\n",
    "print(\"Feature graph first moment: \", reduced_feat_moment_1)\n",
    "print(\"Feature graph second moment: \", reduced_feat_moment_2)"
   ]
  },
  {
   "cell_type": "markdown",
   "metadata": {
    "id": "eE970zUMpA2g"
   },
   "source": [
    "Print the number of edges in the reduced graphs."
   ]
  },
  {
   "cell_type": "code",
   "execution_count": 85,
   "metadata": {
    "id": "Xfkyt_OhpA2g"
   },
   "outputs": [
    {
     "name": "stdout",
     "output_type": "stream",
     "text": [
      "Citation graph number of edges: 151.0\n",
      "Feature graph number of edges: 4842.0\n"
     ]
    }
   ],
   "source": [
    "nb_edges_cit = np.sum(reduced_A_citation)/2\n",
    "nb_edges_feat = np.sum(reduced_A_feature)/2\n",
    "print(\"Citation graph number of edges:\", nb_edges_cit)\n",
    "print(\"Feature graph number of edges:\", nb_edges_feat)"
   ]
  },
  {
   "cell_type": "markdown",
   "metadata": {
    "id": "WB8GTvkopA2h"
   },
   "source": [
    "Is the effect of removing the hubs the same for both networks? Look at the percentage changes for each moment. Which of the moments is affected the most and in which graph? Explain why.  \n",
    "\n",
    "**Hint:** Examine the degree distributions."
   ]
  },
  {
   "cell_type": "markdown",
   "metadata": {
    "id": "zcdH4cDJpA2h"
   },
   "source": [
    "**Your answer here:** "
   ]
  },
  {
   "cell_type": "markdown",
   "metadata": {
    "id": "kS2Da0d6pA2h"
   },
   "source": [
    "### Question 3: Pruning, sparsity, paths"
   ]
  },
  {
   "cell_type": "markdown",
   "metadata": {
    "id": "a_GR0hJmpA2h"
   },
   "source": [
    "By adjusting the threshold of the euclidean distance matrix, prune the feature graph so that its number of edges is roughly close (within a hundred edges) to the number of edges in the citation graph."
   ]
  },
  {
   "cell_type": "code",
   "execution_count": null,
   "metadata": {
    "id": "DK9TUUIOpA2h"
   },
   "outputs": [],
   "source": [
    "threshold =# Your code here.\n",
    "\n",
    "A_feature_pruned = # Your code here.\n",
    "num_edges_feature_pruned = # Your code here.\n",
    "\n",
    "print(f\"Number of edges in the feature graph: {num_edges_feature}\")\n",
    "print(f\"Number of edges in the feature graph after pruning: {num_edges_feature_pruned}\")\n",
    "print(f\"Number of edges in the citation graph: {num_edges_citation}\")"
   ]
  },
  {
   "cell_type": "markdown",
   "metadata": {
    "id": "BQIEJAsJpA2h"
   },
   "source": [
    "Check your results by comparing the sparsity patterns and total number of edges between the graphs."
   ]
  },
  {
   "cell_type": "code",
   "execution_count": null,
   "metadata": {
    "id": "urkjuDimpA2h"
   },
   "outputs": [],
   "source": [
    "fig, axes = plt.subplots(1, 2, figsize=(12, 6))\n",
    "axes[0].set_title('Citation graph sparsity')\n",
    "axes[0].spy(A_citation);\n",
    "axes[1].set_title('Feature graph sparsity')\n",
    "axes[1].spy(A_feature_pruned);"
   ]
  },
  {
   "cell_type": "markdown",
   "metadata": {
    "id": "2KYNw1cupA2h"
   },
   "source": [
    "Let $C_{k}(i,j)$ denote the number of paths of length $k$ from node $i$ to node $j$. \n",
    "\n",
    "We define the path matrix $P$, with entries\n",
    "$ P_{ij} = \\displaystyle\\sum_{k=0}^{N}C_{k}(i,j). $"
   ]
  },
  {
   "cell_type": "markdown",
   "metadata": {
    "id": "EoOwMmDspA2h"
   },
   "source": [
    "Calculate the path matrices for both the citation and the unpruned feature graphs for $N =10$.  \n",
    "\n",
    "**Hint:** Use [powers of the adjacency matrix](https://en.wikipedia.org/wiki/Adjacency_matrix#Matrix_powers)."
   ]
  },
  {
   "cell_type": "code",
   "execution_count": null,
   "metadata": {
    "id": "wn6DdZ8KpA2h"
   },
   "outputs": [],
   "source": [
    "path_matrix_citation = # Your code here.\n",
    "path_matrix_feature = # Your code here."
   ]
  },
  {
   "cell_type": "markdown",
   "metadata": {
    "id": "9wUBT7jppA2h"
   },
   "source": [
    "Check the sparsity pattern for both of path matrices."
   ]
  },
  {
   "cell_type": "code",
   "execution_count": null,
   "metadata": {
    "id": "451MukqSpA2i"
   },
   "outputs": [],
   "source": [
    "fig, axes = plt.subplots(1, 2, figsize=(16, 9))\n",
    "axes[0].set_title('Citation Path matrix sparsity')\n",
    "axes[0].spy(path_matrix_citation);\n",
    "axes[1].set_title('Feature Path matrix sparsity')\n",
    "axes[1].spy(path_matrix_feature);"
   ]
  },
  {
   "cell_type": "markdown",
   "metadata": {
    "id": "MJxrbQojpA2i"
   },
   "source": [
    "Now calculate the path matrix of the pruned feature graph for $N=10$. Plot the corresponding sparsity pattern. Is there any difference?"
   ]
  },
  {
   "cell_type": "code",
   "execution_count": null,
   "metadata": {
    "id": "jpT6ez3ypA2i"
   },
   "outputs": [],
   "source": [
    "path_matrix_pruned = # Your code here.\n",
    "\n",
    "plt.figure(figsize=(12, 6))\n",
    "plt.title('Feature Path matrix sparsity')\n",
    "plt.spy(path_matrix_pruned);"
   ]
  },
  {
   "cell_type": "markdown",
   "metadata": {
    "id": "v9UlGOlGpA2i"
   },
   "source": [
    "**Your answer here:** \n"
   ]
  },
  {
   "cell_type": "markdown",
   "metadata": {
    "id": "UAZYqiSNpA2i"
   },
   "source": [
    "Describe how you can use the above process of counting paths to determine whether a graph is connected or not. Is the original (unpruned) feature graph connected?"
   ]
  },
  {
   "cell_type": "markdown",
   "metadata": {
    "id": "_F6UQ-AfpA2i"
   },
   "source": [
    "**Your answer here:** "
   ]
  },
  {
   "cell_type": "markdown",
   "metadata": {
    "id": "8y0YME35pA2i"
   },
   "source": [
    "If the graph is connected, how can you guess its diameter using the path matrix?"
   ]
  },
  {
   "cell_type": "markdown",
   "metadata": {
    "id": "Y85oLgVxpA2i"
   },
   "source": [
    "**Your answer here:** "
   ]
  },
  {
   "cell_type": "markdown",
   "metadata": {
    "id": "BM8hsuY6pA2i"
   },
   "source": [
    "If any of your graphs is connected, calculate the diameter using that process."
   ]
  },
  {
   "cell_type": "code",
   "execution_count": null,
   "metadata": {
    "id": "BsMCLo4kpA2i"
   },
   "outputs": [],
   "source": [
    "diameter = # Your code here.\n",
    "print(f\"The diameter is: {diameter}\")"
   ]
  },
  {
   "cell_type": "markdown",
   "metadata": {
    "id": "_GFKkTx6QRh_"
   },
   "source": [
    "### Question 4: Shortest path"
   ]
  },
  {
   "cell_type": "markdown",
   "metadata": {
    "id": "_1yMVlVhpA2i"
   },
   "source": [
    " Finding the shortest paths between agents"
   ]
  },
  {
   "cell_type": "markdown",
   "metadata": {
    "id": "qZ7PgQrgpA2i"
   },
   "source": [
    "Here, we calculate the shortest path from a source node to a target node. A classic method for finding the shortest path on unweighted networks is Breadth-First Search (BFS) method. Check the BFS steps in the Lecture 'Graph Theory Basis'."
   ]
  },
  {
   "cell_type": "markdown",
   "metadata": {
    "id": "ZDXS8m0ppA2i"
   },
   "source": [
    "To this end, we first define a function for finding the neighboring nodes of a specified node x. "
   ]
  },
  {
   "cell_type": "code",
   "execution_count": null,
   "metadata": {
    "id": "uQpEv_qLpA2j"
   },
   "outputs": [],
   "source": [
    "### Get the neighboring set of node x\n",
    "def find_neighbors(x):\n",
    "    return [i for i in range(A_feature.shape[0]) if A_feature[x][i]>0]"
   ]
  },
  {
   "cell_type": "markdown",
   "metadata": {
    "id": "P2mKlYSXpA2j"
   },
   "source": [
    "Calculate the path length from the source node to the target node by filling the missing code in the algorithm: "
   ]
  },
  {
   "cell_type": "code",
   "execution_count": null,
   "metadata": {
    "id": "DeE1KQ9epA2j"
   },
   "outputs": [],
   "source": [
    "### Find the shortest path from the source node to the target node:\n",
    "source_node, target_node, path_length = 0, 10, 0\n",
    "source_set = [source_node]\n",
    "path = []\n",
    "stop_finding = 0\n",
    "iteration_number = A_feature.shape[0]\n",
    "i = 0\n",
    "if source_node==target_node:\n",
    "    stop_finding = 1\n",
    "    path.append([source_node,target_node,path_length])\n",
    "while stop_finding == 0 and i < iteration_number:\n",
    "    source_set_new = []\n",
    "    for n in source_set:\n",
    "        neighbors = find_neighbors(n)\n",
    "        if target_node in neighbors:\n",
    "             # Code to be filled\n",
    "            stop_finding = 1\n",
    "            break\n",
    "        else:\n",
    "            for nn in neighbors:\n",
    "               # Code to be filled\n",
    "            source_set_new += neighbors\n",
    "    path_length += 1\n",
    "    source_set = source_set_new.copy()\n",
    "    i += 1\n",
    "if stop_finding == 0:\n",
    "    path_length = ['Infinity']\n",
    "    shortest_path = ['None']\n",
    "else:\n",
    "    child_node = target_node\n",
    "    shortest_path = [target_node]\n",
    "    for i in range(path_length-1,-1,-1):\n",
    "        parent_node = [x for [x, y, z] in path if y==child_node and z==i]\n",
    "        shortest_path.append(parent_node[0])\n",
    "        child_node = parent_node[0] #Select one of the parent nodes as the child node in previous round\n",
    "    shortest_path.reverse()\n",
    "\n",
    "print(f\"The shortest path length from node {source_node} to node {target_node} is: {path_length}\")\n",
    "print(f\"One shortest path is: {shortest_path}\")"
   ]
  },
  {
   "cell_type": "markdown",
   "metadata": {
    "id": "N-YHblhBpA2j"
   },
   "source": [
    "Get all edges visited by BFS starting from a source node by filling the missing lines in the following code: "
   ]
  },
  {
   "cell_type": "code",
   "execution_count": null,
   "metadata": {
    "id": "OmgJLVvDpA2j"
   },
   "outputs": [],
   "source": [
    "# All edges visited by BFS method starting from a source node\n",
    "# All edges visited by BFS method starting from a source node\n",
    "BFS_edges = []\n",
    "unexplored_list = list(range(A_feature.shape[0]))\n",
    "source_node = 0\n",
    "source_set = [source_node]\n",
    "unexplored_list.remove(source_node) \n",
    "stop_finding = 0\n",
    "while stop_finding == 0:\n",
    "    source_set_new = []\n",
    "    for n in source_set:\n",
    "        neighbors = find_neighbors(n)\n",
    "        for nn in neighbors:\n",
    "            if nn in unexplored_list:\n",
    "                # Code to be filled\n",
    "                # Code to be filled\n",
    "                source_set_new.append(nn)\n",
    "    if not source_set_new:\n",
    "        stop_finding = 1      \n",
    "    else:\n",
    "        source_set = source_set_new.copy()\n",
    "print(f\"Edges visited by Breadth-First Search method starting from node {source_node}:\")\n",
    "list(BFS_edges)"
   ]
  },
  {
   "cell_type": "markdown",
   "metadata": {
    "id": "PgJHYISppA2j"
   },
   "source": [
    "Question: What is the difference between BFS algorithm and the Dijkstra's algorithm?"
   ]
  },
  {
   "cell_type": "markdown",
   "metadata": {
    "id": "MXAxJv83pA2j"
   },
   "source": [
    "Your answer here: Dijkstra's algorithm is an extension of the BFS algorithm from unweighted networks to the weighted networks. "
   ]
  },
  {
   "cell_type": "markdown",
   "metadata": {
    "id": "uhAredjwpA2j"
   },
   "source": [
    "Check if your guess was correct using [NetworkX](https://networkx.github.io/documentation/stable/reference/algorithms/generated/networkx.algorithms.distance_measures.diameter.html).\n",
    "Note: usage of NetworkX is only allowed in this part of Section 1."
   ]
  },
  {
   "cell_type": "code",
   "execution_count": null,
   "metadata": {
    "id": "ku24S_06pA2j"
   },
   "outputs": [],
   "source": [
    "import networkx as nx\n",
    "feature_graph = nx.from_numpy_matrix(A_feature)\n",
    "print(f\"Diameter according to networkx: {nx.diameter(feature_graph)}\")"
   ]
  },
  {
   "cell_type": "markdown",
   "metadata": {
    "id": "am0CrxROpA2j"
   },
   "source": [
    "Let us now check our results of BFS method using NetworkX."
   ]
  },
  {
   "cell_type": "code",
   "execution_count": null,
   "metadata": {
    "id": "SnT56smypA2j"
   },
   "outputs": [],
   "source": [
    "list(nx.bfs_edges(feature_graph, source_node))"
   ]
  },
  {
   "cell_type": "code",
   "execution_count": null,
   "metadata": {
    "id": "t1Dam2xOpA2j"
   },
   "outputs": [],
   "source": [
    "print(nx.shortest_path(feature_graph, source_node, target_node))"
   ]
  },
  {
   "cell_type": "markdown",
   "metadata": {
    "id": "ypqiZkDqpA2j"
   },
   "source": [
    "## Section 2: Network Models"
   ]
  },
  {
   "cell_type": "markdown",
   "metadata": {
    "id": "Ngj15heQpA2k"
   },
   "source": [
    "In this section, you will analyze the feature and citation graphs you constructed in the previous section in terms of the network model types.\n",
    "For this purpose, you can use the NetworkX libary imported below."
   ]
  },
  {
   "cell_type": "code",
   "execution_count": null,
   "metadata": {
    "id": "JmopO_ynpA2k"
   },
   "outputs": [],
   "source": [
    "import networkx as nx"
   ]
  },
  {
   "cell_type": "markdown",
   "metadata": {
    "id": "_S4Tfk9LpA2k"
   },
   "source": [
    "Let us create NetworkX graph objects from the adjacency matrices computed in the previous section. "
   ]
  },
  {
   "cell_type": "code",
   "execution_count": null,
   "metadata": {
    "id": "qEtZo52kpA2k"
   },
   "outputs": [],
   "source": [
    "\n",
    "G_citation = nx.from_numpy_matrix(A_citation)\n",
    "print('Number of nodes: {}, Number of edges: {}'. format(G_citation.number_of_nodes(), G_citation.number_of_edges()))\n",
    "print('Number of self-loops: {}, Number of connected components: {}'. format(nx.number_of_selfloops(G_citation), nx.number_connected_components(G_citation)))"
   ]
  },
  {
   "cell_type": "markdown",
   "metadata": {
    "id": "DLvCF7PupA2k"
   },
   "source": [
    "In the rest of this assignment, we will consider the pruned feature graph as the feature network."
   ]
  },
  {
   "cell_type": "code",
   "execution_count": null,
   "metadata": {
    "id": "otYyMSyrpA2k"
   },
   "outputs": [],
   "source": [
    "G_feature = nx.from_numpy_matrix(A_feature_pruned)\n",
    "print('Number of nodes: {}, Number of edges: {}'. format(G_feature.number_of_nodes(), G_feature.number_of_edges()))\n",
    "print('Number of self-loops: {}, Number of connected components: {}'. format(nx.number_of_selfloops(G_feature), nx.number_connected_components(G_feature)))"
   ]
  },
  {
   "cell_type": "markdown",
   "metadata": {
    "id": "5Q4SfbR5pA2k"
   },
   "source": [
    "### Question 5: Simulation with Erdős–Rényi and Barabási–Albert models"
   ]
  },
  {
   "cell_type": "markdown",
   "metadata": {
    "id": "2u4zGEMrpA2k"
   },
   "source": [
    "Create an Erdős–Rényi and a Barabási–Albert graph using NetworkX to simulate the citation graph and the feature graph you have. When choosing parameters for the networks, take into account the number of vertices and edges of the original networks."
   ]
  },
  {
   "cell_type": "markdown",
   "metadata": {
    "id": "0cbkR-qHpA2k"
   },
   "source": [
    "The number of nodes should exactly match the number of nodes in the original citation and feature graphs."
   ]
  },
  {
   "cell_type": "code",
   "execution_count": null,
   "metadata": {
    "id": "xJgO2LHYpA2k"
   },
   "outputs": [],
   "source": [
    "assert len(G_citation.nodes()) == len(G_feature.nodes())\n",
    "n = len(G_citation.nodes())\n",
    "n"
   ]
  },
  {
   "cell_type": "markdown",
   "metadata": {
    "id": "t8YP2dyApA2k"
   },
   "source": [
    "The number of match shall fit the average of the number of edges in the citation and the feature graph."
   ]
  },
  {
   "cell_type": "code",
   "execution_count": null,
   "metadata": {
    "id": "iOp0dHljpA2k"
   },
   "outputs": [],
   "source": [
    "m = np.round((G_citation.size() + G_feature.size()) / 2)\n",
    "m"
   ]
  },
  {
   "cell_type": "markdown",
   "metadata": {
    "id": "1cwoXtUZpA2k"
   },
   "source": [
    "How do you determine the probability parameter for the Erdős–Rényi graph?"
   ]
  },
  {
   "cell_type": "markdown",
   "metadata": {
    "id": "sn8cz-vLpA2l"
   },
   "source": [
    "**Your answer here:** "
   ]
  },
  {
   "cell_type": "code",
   "execution_count": null,
   "metadata": {
    "id": "k8Bi6TJ1pA2l"
   },
   "outputs": [],
   "source": [
    "p = # Your code here.\n",
    "G_er = nx.erdos_renyi_graph(n, p)"
   ]
  },
  {
   "cell_type": "markdown",
   "metadata": {
    "id": "BHdnG-B3pA2l"
   },
   "source": [
    "Check the number of edges in the Erdős–Rényi graph."
   ]
  },
  {
   "cell_type": "code",
   "execution_count": null,
   "metadata": {
    "id": "8Cqtu5RdpA2l"
   },
   "outputs": [],
   "source": [
    "print('My Erdos-Rényi network that simulates the citation graph has {} edges.'.format(G_er.size()))"
   ]
  },
  {
   "cell_type": "markdown",
   "metadata": {
    "id": "K1AZ_mzApA2l"
   },
   "source": [
    "How do you determine the preferential attachment parameter for Barabási–Albert graphs?"
   ]
  },
  {
   "cell_type": "markdown",
   "metadata": {
    "id": "0WHkOrSnpA2l"
   },
   "source": [
    "**Your answer here:** "
   ]
  },
  {
   "cell_type": "code",
   "execution_count": null,
   "metadata": {
    "id": "bI-ZNkaTpA2l"
   },
   "outputs": [],
   "source": [
    "q = # Your code here.\n",
    "G_ba = nx.barabasi_albert_graph(n, q)"
   ]
  },
  {
   "cell_type": "markdown",
   "metadata": {
    "id": "07jvDxU4pA2l"
   },
   "source": [
    "Check the number of edges in the Barabási–Albert graph."
   ]
  },
  {
   "cell_type": "code",
   "execution_count": null,
   "metadata": {
    "id": "t5y-GHNRpA2l"
   },
   "outputs": [],
   "source": [
    "print('My Barabási-Albert network that simulates the citation graph has {} edges.'.format(G_ba.size()))"
   ]
  },
  {
   "cell_type": "markdown",
   "metadata": {
    "id": "5krSL-txpA2l"
   },
   "source": [
    "### Question 6: Giant Component"
   ]
  },
  {
   "cell_type": "markdown",
   "metadata": {
    "id": "G-g_5krspA2l"
   },
   "source": [
    "Check the size of the largest connected component in the citation and feature graphs."
   ]
  },
  {
   "cell_type": "code",
   "execution_count": null,
   "metadata": {
    "id": "ofef85F8pA2l"
   },
   "outputs": [],
   "source": [
    "giant_citation = # Your code here.\n",
    "print('The giant component of the citation graph has {} nodes and {} edges.'.format(giant_citation.number_of_nodes(), giant_citation.size()))"
   ]
  },
  {
   "cell_type": "code",
   "execution_count": null,
   "metadata": {
    "id": "tiNJQb1kpA2m"
   },
   "outputs": [],
   "source": [
    "giant_feature = # Your code here.\n",
    "print('The giant component of the feature graph has {} nodes and {} edges.'.format(giant_feature.number_of_nodes(), giant_feature.size()))"
   ]
  },
  {
   "cell_type": "markdown",
   "metadata": {
    "id": "IOQSufX6pA2m"
   },
   "source": [
    "Check the size of the giant components in the generated Erdős–Rényi graph."
   ]
  },
  {
   "cell_type": "code",
   "execution_count": null,
   "metadata": {
    "id": "KvkpaVojpA2m"
   },
   "outputs": [],
   "source": [
    "giant_er = G_er.subgraph(max(nx.connected_components(G_er), key=len))\n",
    "print('The giant component of the Erdos-Rényi network has {} nodes and {} edges.'.format(giant_er.number_of_nodes(), giant_er.size()))"
   ]
  },
  {
   "cell_type": "markdown",
   "metadata": {
    "id": "bmHH4qkQpA2m"
   },
   "source": [
    "Let us match the number of nodes in the giant component of the feature graph by simulating a new Erdős–Rényi network.\n",
    "How do you choose the probability parameter this time? \n",
    "\n",
    "**Hint:** Recall the expected giant component size from the lectures."
   ]
  },
  {
   "cell_type": "markdown",
   "metadata": {
    "id": "PdL0Bo4jpA2m"
   },
   "source": [
    "**Your answer here:**  "
   ]
  },
  {
   "cell_type": "code",
   "execution_count": null,
   "metadata": {
    "id": "s-rhxehnpA2m"
   },
   "outputs": [],
   "source": [
    "\n",
    "p_new = # Your code here.\n",
    "G_er_new = nx.erdos_renyi_graph(n, p_new)"
   ]
  },
  {
   "cell_type": "markdown",
   "metadata": {
    "id": "FKGFC_gTpA2m"
   },
   "source": [
    "Check the size of the new Erdős–Rényi network and its giant component."
   ]
  },
  {
   "cell_type": "code",
   "execution_count": null,
   "metadata": {
    "id": "XyTfZXOXpA2m"
   },
   "outputs": [],
   "source": [
    "print('My new Erdos Renyi network that simulates the citation graph has {} edges.'.format(G_er_new.size()))\n",
    "giant_er_new = G_er_new.subgraph(max(nx.connected_components(G_er_new), key=len)) # Your code here.\n",
    "print('The giant component of the new Erdos-Rényi network has {} nodes and {} edges.'.format(giant_er_new.number_of_nodes(), giant_er_new.size()))"
   ]
  },
  {
   "cell_type": "markdown",
   "metadata": {
    "id": "7WXWixudpA2m"
   },
   "source": [
    "### Question 7: Degree Distributions"
   ]
  },
  {
   "cell_type": "markdown",
   "metadata": {
    "id": "XEgOCcIIpA2m"
   },
   "source": [
    "Recall the degree distribution of the citation and the feature graph."
   ]
  },
  {
   "cell_type": "code",
   "execution_count": null,
   "metadata": {
    "id": "kRfZklhepA2n"
   },
   "outputs": [],
   "source": [
    "fig, axes = plt.subplots(1, 2, figsize=(15, 6))\n",
    "axes[0].set_title('Citation graph')\n",
    "citation_degrees = # Your code here.\n",
    "axes[0].hist(citation_degrees);\n",
    "axes[1].set_title('Feature graph')\n",
    "feature_degrees = # Your code here.\n",
    "axes[1].hist(feature_degrees);"
   ]
  },
  {
   "cell_type": "markdown",
   "metadata": {
    "id": "lpeoy65GpA2n"
   },
   "source": [
    "What does the degree distribution tell us about a network? Can you make a prediction on the network model type of the citation and the feature graph by looking at their degree distributions?"
   ]
  },
  {
   "cell_type": "markdown",
   "metadata": {
    "id": "uaV76WGzpA2n"
   },
   "source": [
    "**Your answe here:** "
   ]
  },
  {
   "cell_type": "markdown",
   "metadata": {
    "id": "Y4nMCUM_pA2n"
   },
   "source": [
    "Now, plot the degree distribution historgrams for the simulated networks."
   ]
  },
  {
   "cell_type": "code",
   "execution_count": null,
   "metadata": {
    "id": "5kyRcEoPpA2n"
   },
   "outputs": [],
   "source": [
    "fig, axes = plt.subplots(1, 3, figsize=(20, 6))\n",
    "axes[0].set_title('Erdos-Rényi network')\n",
    "er_degrees = # Your code here.\n",
    "axes[0].hist(er_degrees);\n",
    "axes[1].set_title('Barabási-Albert network')\n",
    "ba_degrees = # Your code here.\n",
    "axes[1].hist(ba_degrees);\n",
    "axes[2].set_title('new Erdos-Rényi network')\n",
    "er_new_degrees = # Your code here.\n",
    "axes[2].hist(er_new_degrees);"
   ]
  },
  {
   "cell_type": "markdown",
   "metadata": {
    "id": "zZbW6TU2pA2n"
   },
   "source": [
    "In terms of the degree distribution, is there a good match between the citation and feature graphs and the simulated networks?\n",
    "For the citation graph, choose one of the simulated networks above that match its degree distribution best. Indicate your preference below."
   ]
  },
  {
   "cell_type": "markdown",
   "metadata": {
    "id": "jIxYNX4FpA2n"
   },
   "source": [
    "**Your answer here:** Degree distribution of the citation graph matches that of the Barabási-Albert network best."
   ]
  },
  {
   "cell_type": "markdown",
   "metadata": {
    "id": "jDYpjrhFpA2n"
   },
   "source": [
    "You can also simulate a network using the configuration model to match its degree disctribution exactly. Refer to [Configuration model](https://networkx.github.io/documentation/stable/reference/generated/networkx.generators.degree_seq.configuration_model.html#networkx.generators.degree_seq.configuration_model).\n",
    "\n",
    "Let us create another network to match the degree distribution of the feature graph. "
   ]
  },
  {
   "cell_type": "code",
   "execution_count": null,
   "metadata": {
    "id": "FS_SUGS_pA2n"
   },
   "outputs": [],
   "source": [
    "G_config = nx.configuration_model(feature_degrees) \n",
    "print('Configuration model has {} nodes and {} edges.'.format(G_config.number_of_nodes(), G_config.size()))"
   ]
  },
  {
   "cell_type": "markdown",
   "metadata": {
    "id": "q086WrWlpA2n"
   },
   "source": [
    "Does it mean that we create the same graph with the feature graph by the configuration model? If not, how do you understand that they are not the same?"
   ]
  },
  {
   "cell_type": "markdown",
   "metadata": {
    "id": "TbpsBkzBpA2n"
   },
   "source": [
    "**Your answer here:** "
   ]
  },
  {
   "cell_type": "code",
   "execution_count": null,
   "metadata": {
    "id": "mr14REEkpA2n"
   },
   "outputs": [],
   "source": [
    "nx.number_connected_components(G_config)"
   ]
  },
  {
   "cell_type": "markdown",
   "metadata": {
    "id": "xWBVAfiFpA2n"
   },
   "source": [
    "### Question 8: Clustering Coefficient"
   ]
  },
  {
   "cell_type": "markdown",
   "metadata": {
    "id": "zo5Xsa82pA2n"
   },
   "source": [
    "Let us check the average clustering coefficient of the original citation and feature graphs. "
   ]
  },
  {
   "cell_type": "code",
   "execution_count": null,
   "metadata": {
    "id": "G9fG1MVvpA2o"
   },
   "outputs": [],
   "source": [
    "nx.average_clustering(G_citation)"
   ]
  },
  {
   "cell_type": "code",
   "execution_count": null,
   "metadata": {
    "id": "fxFFEUa_pA2o"
   },
   "outputs": [],
   "source": [
    "nx.average_clustering(G_feature)"
   ]
  },
  {
   "cell_type": "markdown",
   "metadata": {
    "id": "qSbqq7zkpA2o"
   },
   "source": [
    "What does the clustering coefficient tell us about a network? Comment on the values you obtain for the citation and feature graph."
   ]
  },
  {
   "cell_type": "markdown",
   "metadata": {
    "id": "RaaT0m6npA2o"
   },
   "source": [
    "**Your answer here:** "
   ]
  },
  {
   "cell_type": "markdown",
   "metadata": {
    "id": "-kLiLm9kpA2o"
   },
   "source": [
    "Now, let us check the average clustering coefficient for the simulated networks."
   ]
  },
  {
   "cell_type": "code",
   "execution_count": null,
   "metadata": {
    "id": "a3eyBdOzpA2o"
   },
   "outputs": [],
   "source": [
    "nx.average_clustering(G_er)"
   ]
  },
  {
   "cell_type": "code",
   "execution_count": null,
   "metadata": {
    "id": "2D1FwN4tpA2o"
   },
   "outputs": [],
   "source": [
    "nx.average_clustering(G_ba)"
   ]
  },
  {
   "cell_type": "code",
   "execution_count": null,
   "metadata": {
    "id": "zwCGf7D4pA2o"
   },
   "outputs": [],
   "source": [
    "nx.average_clustering(nx.Graph(G_config))"
   ]
  },
  {
   "cell_type": "markdown",
   "metadata": {
    "id": "m3tQ2KllpA2o"
   },
   "source": [
    "Comment on the values you obtain for the simulated networks. Is there any good match to the citation or feature graph in terms of clustering coefficient?"
   ]
  },
  {
   "cell_type": "markdown",
   "metadata": {
    "id": "usIF1fXopA2o"
   },
   "source": [
    "**Your answer here:**"
   ]
  },
  {
   "cell_type": "markdown",
   "metadata": {
    "id": "4ziCDLjopA2o"
   },
   "source": [
    "Check the other [network model generators](https://networkx.github.io/documentation/networkx-1.10/reference/generators.html) provided by NetworkX. Which one do you predict to have a better match to the citation graph or the feature graph in terms of degree distribution and clustering coefficient at the same time? Justify your answer."
   ]
  },
  {
   "cell_type": "markdown",
   "metadata": {
    "id": "gto5Q7MwpA2o"
   },
   "source": [
    "**Your answer here:** Our graphs display more regular patterns than a BA network considering the clustering coefficient, but still seem to have a power-law degree distribution considering the degree distributions. We can try clustered power-law graph, considering the sparsity pattern in the previous section."
   ]
  },
  {
   "cell_type": "markdown",
   "metadata": {
    "id": "eda4WbtJpA2o"
   },
   "source": [
    "If you find a better fit, create a graph object below for that network model. Print the number of edges and the average clustering coefficient. Plot the histogram of the degree distribution."
   ]
  },
  {
   "cell_type": "code",
   "execution_count": null,
   "metadata": {
    "id": "ygkpPmKhpA2o"
   },
   "outputs": [],
   "source": [
    "# Your code here."
   ]
  },
  {
   "cell_type": "markdown",
   "metadata": {
    "id": "3e8HvYHopA2p"
   },
   "source": [
    "Comment on the similarities of your match."
   ]
  },
  {
   "cell_type": "markdown",
   "metadata": {
    "id": "Vb2qalrApA2p"
   },
   "source": [
    "**Your answer here:** "
   ]
  }
 ],
 "metadata": {
  "colab": {
   "collapsed_sections": [],
   "name": "1_graph_theory_basics.ipynb",
   "provenance": [],
   "toc_visible": true
  },
  "kernelspec": {
   "display_name": "Python 3",
   "language": "python",
   "name": "python3"
  },
  "language_info": {
   "codemirror_mode": {
    "name": "ipython",
    "version": 3
   },
   "file_extension": ".py",
   "mimetype": "text/x-python",
   "name": "python",
   "nbconvert_exporter": "python",
   "pygments_lexer": "ipython3",
   "version": "3.8.5"
  }
 },
 "nbformat": 4,
 "nbformat_minor": 4
}
